{
 "cells": [
  {
   "cell_type": "code",
   "execution_count": 1,
   "metadata": {
    "collapsed": true,
    "pycharm": {
     "name": "#%%\n"
    }
   },
   "outputs": [],
   "source": [
    "import pandas as pd\n",
    "import numpy as np\n",
    "import os\n",
    "%load_ext autoreload\n",
    "%autoreload 2\n",
    "from src.model.one_class import DeepSVDD\n",
    "from src.model.reconstruction import DAGMM\n",
    "from src.trainer.ids import DeepSVDDIDSTrainer, DAGMMIDSTrainer\n",
    "from src.utils import metrics\n",
    "from src.utils.utils import ids_misclf_per_label\n",
    "from src.datamanager.dataset import IDS2017Dataset\n",
    "from src.bootstrap import store_results, load_from_ckpt\n",
    "from datetime import datetime as dt"
   ]
  },
  {
   "cell_type": "code",
   "execution_count": 6,
   "outputs": [
    {
     "name": "stdout",
     "output_type": "stream",
     "text": [
      "arguments set\n"
     ]
    }
   ],
   "source": [
    "# Setup base folder structure\n",
    "dataset_path = \"../data/IDS2017/ids2017.csv\"\n",
    "export_path = \"./%s\" % dt.now().strftime(\"%m-%d-%Y_%H-%M-%S\")\n",
    "if not os.path.exists(export_path):\n",
    "    os.mkdir(export_path)\n",
    "\n",
    "# General arguments\n",
    "batch_size = 1024\n",
    "device = \"cuda\"\n",
    "act_fn = \"relu\"\n",
    "n_layers = 4\n",
    "compression_factor = 2\n",
    "lr = 1e-4\n",
    "n_epochs = 200\n",
    "\n",
    "# DeepSVDD-specific arguments\n",
    "dsvdd_best_epoch = 106\n",
    "\n",
    "# DAGMM-specific arguments\n",
    "n_mixtures = 4\n",
    "latent_dim = 1\n",
    "lambda_1 = 0.005\n",
    "lambda_2 = 0.1\n",
    "reg_covar=1e-6\n",
    "dagmm_best_epoch = 11\n",
    "\n",
    "print(\"arguments set\")"
   ],
   "metadata": {
    "collapsed": false,
    "pycharm": {
     "name": "#%%\n"
    }
   }
  },
  {
   "cell_type": "code",
   "execution_count": 3,
   "outputs": [
    {
     "name": "stdout",
     "output_type": "stream",
     "text": [
      "data loaded\n"
     ]
    }
   ],
   "source": [
    "dataset = IDS2017Dataset(path=dataset_path)\n",
    "train_ldr, test_ldr = dataset.loaders(batch_size=batch_size, seed=42)\n",
    "print(\"data loaded\")"
   ],
   "metadata": {
    "collapsed": false,
    "pycharm": {
     "name": "#%%\n"
    }
   }
  },
  {
   "cell_type": "markdown",
   "source": [
    "## DeepSVDD Training"
   ],
   "metadata": {
    "collapsed": false,
    "pycharm": {
     "name": "#%% md\n"
    }
   }
  },
  {
   "cell_type": "code",
   "execution_count": 4,
   "outputs": [
    {
     "name": "stdout",
     "output_type": "stream",
     "text": [
      "DeepSVDD model and trainer ready\n"
     ]
    }
   ],
   "source": [
    "dsvdd_model = DeepSVDD(\n",
    "    in_features=dataset.in_features,\n",
    "    n_instances=dataset.n_instances,\n",
    "    device=device,\n",
    "    n_layers=n_layers,\n",
    "    compression_factor=compression_factor,\n",
    "    act_fn=act_fn,\n",
    ")\n",
    "dsvdd_trainer = DeepSVDDIDSTrainer(\n",
    "    train_ldr=train_ldr,\n",
    "    test_ldr=test_ldr,\n",
    "    model=dsvdd_model,\n",
    "    batch_size=batch_size,\n",
    "    lr=lr,\n",
    "    n_epochs=n_epochs,\n",
    "    device=device,\n",
    "    ckpt_fname=os.path.join(export_path, \"deepsvdd\")\n",
    ")\n",
    "print(\"DeepSVDD model and trainer ready\")"
   ],
   "metadata": {
    "collapsed": false,
    "pycharm": {
     "name": "#%%\n"
    }
   }
  },
  {
   "cell_type": "code",
   "execution_count": 5,
   "outputs": [
    {
     "name": "stderr",
     "output_type": "stream",
     "text": [
      "  1%|          | 6/1110 [00:00<00:34, 32.00it/s, epoch=1, loss=0.000]"
     ]
    },
    {
     "name": "stdout",
     "output_type": "stream",
     "text": [
      "Started training\n"
     ]
    },
    {
     "name": "stderr",
     "output_type": "stream",
     "text": [
      "100%|██████████| 1110/1110 [00:24<00:00, 45.71it/s, epoch=1, loss=0.001]\n",
      "100%|██████████| 1110/1110 [00:23<00:00, 47.20it/s, epoch=2, loss=0.000]\n",
      "100%|██████████| 1110/1110 [00:23<00:00, 48.17it/s, epoch=3, loss=0.000]\n",
      "100%|██████████| 1110/1110 [00:23<00:00, 47.95it/s, epoch=4, loss=0.000]\n",
      "100%|██████████| 1110/1110 [00:24<00:00, 45.90it/s, epoch=5, loss=0.000]\n",
      "100%|██████████| 1110/1110 [00:23<00:00, 46.94it/s, epoch=6, loss=0.000]\n",
      "100%|██████████| 1110/1110 [00:26<00:00, 42.08it/s, epoch=7, loss=0.000]\n",
      "100%|██████████| 1110/1110 [00:26<00:00, 42.00it/s, epoch=8, loss=0.000]\n",
      "100%|██████████| 1110/1110 [00:26<00:00, 42.12it/s, epoch=9, loss=0.000]\n",
      "100%|██████████| 1110/1110 [00:25<00:00, 43.23it/s, epoch=10, loss=0.000]\n",
      "100%|██████████| 1110/1110 [00:24<00:00, 45.87it/s, epoch=11, loss=0.000]\n",
      "100%|██████████| 1110/1110 [00:24<00:00, 44.56it/s, epoch=12, loss=0.000]\n",
      "100%|██████████| 1110/1110 [00:24<00:00, 44.62it/s, epoch=13, loss=0.000]\n",
      "100%|██████████| 1110/1110 [00:25<00:00, 44.27it/s, epoch=14, loss=0.000]\n",
      "100%|██████████| 1110/1110 [00:25<00:00, 44.29it/s, epoch=15, loss=0.000]\n",
      "100%|██████████| 1110/1110 [00:25<00:00, 44.24it/s, epoch=16, loss=0.000]\n",
      "100%|██████████| 1110/1110 [00:43<00:00, 25.65it/s, epoch=17, loss=0.000]\n",
      "100%|██████████| 1110/1110 [00:42<00:00, 25.82it/s, epoch=18, loss=0.000]\n",
      "100%|██████████| 1110/1110 [00:42<00:00, 26.35it/s, epoch=19, loss=0.000]\n",
      "100%|██████████| 1110/1110 [00:43<00:00, 25.74it/s, epoch=20, loss=0.000]\n",
      "100%|██████████| 1110/1110 [00:42<00:00, 26.00it/s, epoch=21, loss=0.000]\n",
      "100%|██████████| 1110/1110 [00:45<00:00, 24.58it/s, epoch=22, loss=0.000]\n",
      "100%|██████████| 1110/1110 [00:45<00:00, 24.44it/s, epoch=23, loss=0.000]\n",
      "100%|██████████| 1110/1110 [00:46<00:00, 24.01it/s, epoch=24, loss=0.000]\n",
      "100%|██████████| 1110/1110 [00:45<00:00, 24.65it/s, epoch=25, loss=0.000]\n",
      "100%|██████████| 1110/1110 [00:42<00:00, 26.05it/s, epoch=26, loss=0.000]\n",
      "100%|██████████| 1110/1110 [00:43<00:00, 25.60it/s, epoch=27, loss=0.000]\n",
      "100%|██████████| 1110/1110 [00:42<00:00, 26.35it/s, epoch=28, loss=0.000]\n",
      "100%|██████████| 1110/1110 [00:43<00:00, 25.80it/s, epoch=29, loss=0.000]\n",
      "100%|██████████| 1110/1110 [00:43<00:00, 25.57it/s, epoch=30, loss=0.000]\n",
      "100%|██████████| 1110/1110 [00:41<00:00, 26.50it/s, epoch=31, loss=0.000]\n",
      "100%|██████████| 1110/1110 [00:31<00:00, 35.66it/s, epoch=32, loss=0.000]\n",
      "100%|██████████| 1110/1110 [00:42<00:00, 25.87it/s, epoch=33, loss=0.000]\n",
      "100%|██████████| 1110/1110 [00:39<00:00, 28.29it/s, epoch=34, loss=0.000]\n",
      "100%|██████████| 1110/1110 [00:39<00:00, 28.09it/s, epoch=35, loss=0.000]\n",
      "100%|██████████| 1110/1110 [00:38<00:00, 28.83it/s, epoch=36, loss=0.000]\n",
      "100%|██████████| 1110/1110 [00:39<00:00, 27.79it/s, epoch=37, loss=0.000]\n",
      "100%|██████████| 1110/1110 [00:41<00:00, 26.84it/s, epoch=38, loss=0.000]\n",
      "100%|██████████| 1110/1110 [00:39<00:00, 28.07it/s, epoch=39, loss=0.000]\n",
      "100%|██████████| 1110/1110 [00:42<00:00, 26.35it/s, epoch=40, loss=0.000]\n",
      "100%|██████████| 1110/1110 [00:42<00:00, 26.42it/s, epoch=41, loss=0.000]\n",
      "100%|██████████| 1110/1110 [00:43<00:00, 25.69it/s, epoch=42, loss=0.000]\n",
      "100%|██████████| 1110/1110 [00:41<00:00, 26.66it/s, epoch=43, loss=0.000]\n",
      "100%|██████████| 1110/1110 [00:41<00:00, 26.84it/s, epoch=44, loss=0.000]\n",
      "100%|██████████| 1110/1110 [00:41<00:00, 26.86it/s, epoch=45, loss=0.000]\n",
      "100%|██████████| 1110/1110 [00:42<00:00, 26.22it/s, epoch=46, loss=0.000]\n",
      "100%|██████████| 1110/1110 [00:42<00:00, 25.98it/s, epoch=47, loss=0.000]\n",
      "100%|██████████| 1110/1110 [00:43<00:00, 25.33it/s, epoch=48, loss=0.000]\n",
      "100%|██████████| 1110/1110 [00:43<00:00, 25.40it/s, epoch=49, loss=0.000]\n",
      "100%|██████████| 1110/1110 [00:44<00:00, 25.01it/s, epoch=50, loss=0.000]\n",
      "100%|██████████| 1110/1110 [00:43<00:00, 25.69it/s, epoch=51, loss=0.000]\n",
      "100%|██████████| 1110/1110 [00:37<00:00, 29.59it/s, epoch=52, loss=0.000]\n",
      "100%|██████████| 1110/1110 [00:37<00:00, 29.80it/s, epoch=53, loss=0.000]\n",
      "100%|██████████| 1110/1110 [00:37<00:00, 29.74it/s, epoch=54, loss=0.000]\n",
      "100%|██████████| 1110/1110 [00:38<00:00, 28.76it/s, epoch=55, loss=0.000]\n",
      "100%|██████████| 1110/1110 [00:36<00:00, 30.58it/s, epoch=56, loss=0.000]\n",
      "100%|██████████| 1110/1110 [00:38<00:00, 28.83it/s, epoch=57, loss=0.000]\n",
      "100%|██████████| 1110/1110 [00:39<00:00, 28.08it/s, epoch=58, loss=0.000]\n",
      "100%|██████████| 1110/1110 [00:39<00:00, 28.16it/s, epoch=59, loss=0.000]\n",
      "100%|██████████| 1110/1110 [00:32<00:00, 34.63it/s, epoch=60, loss=0.000]\n",
      "100%|██████████| 1110/1110 [00:24<00:00, 44.43it/s, epoch=61, loss=0.000]\n",
      "100%|██████████| 1110/1110 [00:41<00:00, 26.48it/s, epoch=62, loss=0.000]\n",
      "100%|██████████| 1110/1110 [00:41<00:00, 26.54it/s, epoch=63, loss=0.000]\n",
      "100%|██████████| 1110/1110 [00:42<00:00, 26.18it/s, epoch=64, loss=0.000]\n",
      "100%|██████████| 1110/1110 [00:42<00:00, 26.16it/s, epoch=65, loss=0.000]\n",
      "100%|██████████| 1110/1110 [00:44<00:00, 25.22it/s, epoch=66, loss=0.000]\n",
      "100%|██████████| 1110/1110 [00:46<00:00, 23.81it/s, epoch=67, loss=0.000]\n",
      "100%|██████████| 1110/1110 [00:46<00:00, 23.84it/s, epoch=68, loss=0.000]\n",
      "100%|██████████| 1110/1110 [00:45<00:00, 24.60it/s, epoch=69, loss=0.000]\n",
      "100%|██████████| 1110/1110 [00:44<00:00, 24.95it/s, epoch=70, loss=0.000]\n",
      "100%|██████████| 1110/1110 [00:44<00:00, 24.77it/s, epoch=71, loss=0.000]\n",
      "100%|██████████| 1110/1110 [00:42<00:00, 26.15it/s, epoch=72, loss=0.000]\n",
      "100%|██████████| 1110/1110 [00:43<00:00, 25.43it/s, epoch=73, loss=0.000]\n",
      "100%|██████████| 1110/1110 [00:42<00:00, 26.05it/s, epoch=74, loss=0.000]\n",
      "100%|██████████| 1110/1110 [00:44<00:00, 25.07it/s, epoch=75, loss=0.000]\n",
      "100%|██████████| 1110/1110 [00:43<00:00, 25.75it/s, epoch=76, loss=0.000]\n",
      "100%|██████████| 1110/1110 [00:42<00:00, 25.94it/s, epoch=77, loss=0.000]\n",
      "100%|██████████| 1110/1110 [00:44<00:00, 25.01it/s, epoch=78, loss=0.000]\n",
      "100%|██████████| 1110/1110 [00:26<00:00, 42.29it/s, epoch=79, loss=0.000]\n",
      "100%|██████████| 1110/1110 [00:30<00:00, 35.86it/s, epoch=80, loss=0.000]\n",
      "100%|██████████| 1110/1110 [00:43<00:00, 25.30it/s, epoch=81, loss=0.000]\n",
      "100%|██████████| 1110/1110 [00:39<00:00, 28.41it/s, epoch=82, loss=0.000]\n",
      "100%|██████████| 1110/1110 [00:36<00:00, 30.47it/s, epoch=83, loss=0.000]\n",
      "100%|██████████| 1110/1110 [00:37<00:00, 29.86it/s, epoch=84, loss=0.000]\n",
      "100%|██████████| 1110/1110 [00:40<00:00, 27.70it/s, epoch=85, loss=0.000]\n",
      "100%|██████████| 1110/1110 [00:38<00:00, 28.58it/s, epoch=86, loss=0.000]\n",
      "100%|██████████| 1110/1110 [00:38<00:00, 28.62it/s, epoch=87, loss=0.000]\n",
      "100%|██████████| 1110/1110 [00:40<00:00, 27.18it/s, epoch=88, loss=0.000]\n",
      "100%|██████████| 1110/1110 [00:40<00:00, 27.12it/s, epoch=89, loss=0.000]\n",
      "100%|██████████| 1110/1110 [00:43<00:00, 25.46it/s, epoch=90, loss=0.000]\n",
      "100%|██████████| 1110/1110 [00:30<00:00, 36.50it/s, epoch=91, loss=0.000]\n",
      "100%|██████████| 1110/1110 [00:40<00:00, 27.25it/s, epoch=92, loss=0.000]\n",
      "100%|██████████| 1110/1110 [00:42<00:00, 26.17it/s, epoch=93, loss=0.000]\n",
      "100%|██████████| 1110/1110 [00:40<00:00, 27.10it/s, epoch=94, loss=0.000]\n",
      "100%|██████████| 1110/1110 [00:40<00:00, 27.33it/s, epoch=95, loss=0.000]\n",
      "100%|██████████| 1110/1110 [00:43<00:00, 25.80it/s, epoch=96, loss=0.000]\n",
      "100%|██████████| 1110/1110 [00:42<00:00, 26.14it/s, epoch=97, loss=0.000]\n",
      "100%|██████████| 1110/1110 [00:45<00:00, 24.46it/s, epoch=98, loss=0.000]\n",
      "100%|██████████| 1110/1110 [00:44<00:00, 24.99it/s, epoch=99, loss=0.000]\n",
      "100%|██████████| 1110/1110 [00:45<00:00, 24.31it/s, epoch=100, loss=0.000]\n",
      "100%|██████████| 1110/1110 [00:41<00:00, 26.74it/s, epoch=101, loss=0.000]\n",
      "100%|██████████| 1110/1110 [00:42<00:00, 26.26it/s, epoch=102, loss=0.000]\n",
      "100%|██████████| 1110/1110 [00:42<00:00, 26.20it/s, epoch=103, loss=0.000]\n",
      "100%|██████████| 1110/1110 [00:43<00:00, 25.79it/s, epoch=104, loss=0.000]\n",
      "100%|██████████| 1110/1110 [00:41<00:00, 26.57it/s, epoch=105, loss=0.000]\n",
      "100%|██████████| 1110/1110 [00:39<00:00, 27.86it/s, epoch=106, loss=0.000]\n",
      "100%|██████████| 1110/1110 [00:43<00:00, 25.35it/s, epoch=107, loss=0.000]\n",
      "100%|██████████| 1110/1110 [00:42<00:00, 26.04it/s, epoch=108, loss=0.000]\n",
      "100%|██████████| 1110/1110 [00:41<00:00, 26.66it/s, epoch=109, loss=0.000]\n",
      "100%|██████████| 1110/1110 [00:40<00:00, 27.16it/s, epoch=110, loss=0.000]\n",
      "100%|██████████| 1110/1110 [00:42<00:00, 26.00it/s, epoch=111, loss=0.000]\n",
      "100%|██████████| 1110/1110 [00:40<00:00, 27.58it/s, epoch=112, loss=0.000]\n",
      "100%|██████████| 1110/1110 [00:27<00:00, 40.06it/s, epoch=113, loss=0.000]\n",
      "100%|██████████| 1110/1110 [00:34<00:00, 31.87it/s, epoch=114, loss=0.000]\n",
      "100%|██████████| 1110/1110 [00:43<00:00, 25.34it/s, epoch=115, loss=0.000]\n",
      "100%|██████████| 1110/1110 [00:41<00:00, 26.97it/s, epoch=116, loss=0.000]\n",
      "100%|██████████| 1110/1110 [00:39<00:00, 28.24it/s, epoch=117, loss=0.000]\n",
      "100%|██████████| 1110/1110 [00:43<00:00, 25.59it/s, epoch=118, loss=0.000]\n",
      "100%|██████████| 1110/1110 [00:45<00:00, 24.37it/s, epoch=119, loss=0.000]\n",
      "100%|██████████| 1110/1110 [00:42<00:00, 26.33it/s, epoch=120, loss=0.000]\n",
      "100%|██████████| 1110/1110 [00:45<00:00, 24.53it/s, epoch=121, loss=0.000]\n",
      "100%|██████████| 1110/1110 [00:43<00:00, 25.51it/s, epoch=122, loss=0.000]\n",
      "100%|██████████| 1110/1110 [00:31<00:00, 34.69it/s, epoch=123, loss=0.000]\n",
      "100%|██████████| 1110/1110 [00:28<00:00, 38.73it/s, epoch=124, loss=0.000]\n",
      "100%|██████████| 1110/1110 [00:27<00:00, 40.94it/s, epoch=125, loss=0.000]\n",
      "100%|██████████| 1110/1110 [00:32<00:00, 34.00it/s, epoch=126, loss=0.000]\n",
      "100%|██████████| 1110/1110 [00:36<00:00, 30.48it/s, epoch=127, loss=0.000]\n",
      "100%|██████████| 1110/1110 [00:36<00:00, 30.44it/s, epoch=128, loss=0.000]\n",
      "100%|██████████| 1110/1110 [00:35<00:00, 30.99it/s, epoch=129, loss=0.000]\n",
      "100%|██████████| 1110/1110 [00:43<00:00, 25.76it/s, epoch=130, loss=0.000]\n",
      "100%|██████████| 1110/1110 [00:46<00:00, 23.84it/s, epoch=131, loss=0.000]\n",
      "100%|██████████| 1110/1110 [00:46<00:00, 24.09it/s, epoch=132, loss=0.000]\n",
      "100%|██████████| 1110/1110 [00:45<00:00, 24.58it/s, epoch=133, loss=0.000]\n",
      "100%|██████████| 1110/1110 [00:44<00:00, 25.17it/s, epoch=134, loss=0.000]\n",
      "100%|██████████| 1110/1110 [00:45<00:00, 24.15it/s, epoch=135, loss=0.000]\n",
      "100%|██████████| 1110/1110 [00:44<00:00, 24.67it/s, epoch=136, loss=0.000]\n",
      "100%|██████████| 1110/1110 [00:46<00:00, 24.12it/s, epoch=137, loss=0.000]\n",
      "100%|██████████| 1110/1110 [00:44<00:00, 25.03it/s, epoch=138, loss=0.000]\n",
      "100%|██████████| 1110/1110 [00:45<00:00, 24.27it/s, epoch=139, loss=0.000]\n",
      "100%|██████████| 1110/1110 [00:34<00:00, 32.23it/s, epoch=140, loss=0.000]\n",
      "100%|██████████| 1110/1110 [00:32<00:00, 34.30it/s, epoch=141, loss=0.000]\n",
      "100%|██████████| 1110/1110 [00:39<00:00, 28.20it/s, epoch=142, loss=0.000]\n",
      "100%|██████████| 1110/1110 [00:41<00:00, 26.99it/s, epoch=143, loss=0.000]\n",
      "100%|██████████| 1110/1110 [00:33<00:00, 33.10it/s, epoch=144, loss=0.000]\n",
      "100%|██████████| 1110/1110 [00:30<00:00, 36.71it/s, epoch=145, loss=0.000]\n",
      "100%|██████████| 1110/1110 [00:41<00:00, 26.80it/s, epoch=146, loss=0.000]\n",
      "100%|██████████| 1110/1110 [00:43<00:00, 25.25it/s, epoch=147, loss=0.000]\n",
      "100%|██████████| 1110/1110 [00:41<00:00, 26.86it/s, epoch=148, loss=0.000]\n",
      "100%|██████████| 1110/1110 [00:43<00:00, 25.25it/s, epoch=149, loss=0.000]\n",
      "100%|██████████| 1110/1110 [00:43<00:00, 25.54it/s, epoch=150, loss=0.000]\n",
      "100%|██████████| 1110/1110 [00:32<00:00, 33.88it/s, epoch=151, loss=0.000]\n",
      "100%|██████████| 1110/1110 [00:44<00:00, 24.76it/s, epoch=152, loss=0.000]\n",
      "100%|██████████| 1110/1110 [00:45<00:00, 24.36it/s, epoch=153, loss=0.000]\n",
      "100%|██████████| 1110/1110 [00:43<00:00, 25.47it/s, epoch=154, loss=0.000]\n",
      "100%|██████████| 1110/1110 [00:44<00:00, 24.68it/s, epoch=155, loss=0.000]\n",
      "100%|██████████| 1110/1110 [00:44<00:00, 24.93it/s, epoch=156, loss=0.000]\n",
      "100%|██████████| 1110/1110 [00:31<00:00, 35.52it/s, epoch=157, loss=0.000]\n",
      "100%|██████████| 1110/1110 [00:31<00:00, 35.40it/s, epoch=158, loss=0.000]\n",
      "100%|██████████| 1110/1110 [00:29<00:00, 37.70it/s, epoch=159, loss=0.000]\n",
      "100%|██████████| 1110/1110 [00:41<00:00, 27.05it/s, epoch=160, loss=0.000]\n",
      "100%|██████████| 1110/1110 [00:41<00:00, 26.64it/s, epoch=161, loss=0.000]\n",
      "100%|██████████| 1110/1110 [00:41<00:00, 26.80it/s, epoch=162, loss=0.000]\n",
      "100%|██████████| 1110/1110 [00:44<00:00, 25.05it/s, epoch=163, loss=0.000]\n",
      "100%|██████████| 1110/1110 [00:43<00:00, 25.23it/s, epoch=164, loss=0.000]\n",
      "100%|██████████| 1110/1110 [00:40<00:00, 27.40it/s, epoch=165, loss=0.000]\n",
      "100%|██████████| 1110/1110 [00:39<00:00, 28.37it/s, epoch=166, loss=0.000]\n",
      "100%|██████████| 1110/1110 [00:39<00:00, 27.83it/s, epoch=167, loss=0.000]\n",
      "100%|██████████| 1110/1110 [00:39<00:00, 28.02it/s, epoch=168, loss=0.000]\n",
      "100%|██████████| 1110/1110 [00:37<00:00, 29.49it/s, epoch=169, loss=0.000]\n",
      "100%|██████████| 1110/1110 [00:38<00:00, 28.69it/s, epoch=170, loss=0.000]\n",
      "100%|██████████| 1110/1110 [00:39<00:00, 28.37it/s, epoch=171, loss=0.000]\n",
      "100%|██████████| 1110/1110 [00:42<00:00, 25.99it/s, epoch=172, loss=0.000]\n",
      "100%|██████████| 1110/1110 [00:42<00:00, 25.84it/s, epoch=173, loss=0.000]\n",
      "100%|██████████| 1110/1110 [00:41<00:00, 26.55it/s, epoch=174, loss=0.000]\n",
      "100%|██████████| 1110/1110 [00:41<00:00, 26.70it/s, epoch=175, loss=0.000]\n",
      "100%|██████████| 1110/1110 [00:42<00:00, 26.19it/s, epoch=176, loss=0.000]\n",
      "100%|██████████| 1110/1110 [00:25<00:00, 43.92it/s, epoch=177, loss=0.000]\n",
      "100%|██████████| 1110/1110 [00:25<00:00, 43.89it/s, epoch=178, loss=0.000]\n",
      "100%|██████████| 1110/1110 [00:25<00:00, 43.77it/s, epoch=179, loss=0.000]\n",
      "100%|██████████| 1110/1110 [00:25<00:00, 43.80it/s, epoch=180, loss=0.000]\n",
      "100%|██████████| 1110/1110 [00:25<00:00, 43.80it/s, epoch=181, loss=0.000]\n",
      "100%|██████████| 1110/1110 [00:25<00:00, 43.92it/s, epoch=182, loss=0.000]\n",
      "100%|██████████| 1110/1110 [00:25<00:00, 43.32it/s, epoch=183, loss=0.000]\n",
      "100%|██████████| 1110/1110 [00:25<00:00, 43.67it/s, epoch=184, loss=0.000]\n",
      "100%|██████████| 1110/1110 [00:25<00:00, 43.60it/s, epoch=185, loss=0.000]\n",
      "100%|██████████| 1110/1110 [00:25<00:00, 43.84it/s, epoch=186, loss=0.000]\n",
      "100%|██████████| 1110/1110 [00:25<00:00, 43.99it/s, epoch=187, loss=0.000]\n",
      "100%|██████████| 1110/1110 [00:25<00:00, 44.11it/s, epoch=188, loss=0.000]\n",
      "100%|██████████| 1110/1110 [00:25<00:00, 44.01it/s, epoch=189, loss=0.000]\n",
      "100%|██████████| 1110/1110 [00:25<00:00, 43.95it/s, epoch=190, loss=0.000]\n",
      "100%|██████████| 1110/1110 [00:25<00:00, 43.95it/s, epoch=191, loss=0.000]\n",
      "100%|██████████| 1110/1110 [00:25<00:00, 44.13it/s, epoch=192, loss=0.000]\n",
      "100%|██████████| 1110/1110 [00:25<00:00, 44.09it/s, epoch=193, loss=0.000]\n",
      "100%|██████████| 1110/1110 [00:25<00:00, 44.08it/s, epoch=194, loss=0.000]\n",
      "100%|██████████| 1110/1110 [00:25<00:00, 44.18it/s, epoch=195, loss=0.000]\n",
      "100%|██████████| 1110/1110 [00:25<00:00, 44.10it/s, epoch=196, loss=0.000]\n",
      "100%|██████████| 1110/1110 [00:25<00:00, 44.16it/s, epoch=197, loss=0.000]\n",
      "100%|██████████| 1110/1110 [00:25<00:00, 44.05it/s, epoch=198, loss=0.000]\n",
      "100%|██████████| 1110/1110 [00:25<00:00, 44.13it/s, epoch=199, loss=0.000]\n",
      "100%|██████████| 1110/1110 [00:25<00:00, 43.99it/s, epoch=200, loss=0.000]\n"
     ]
    },
    {
     "data": {
      "text/plain": "{'Precision': 0.5586405396883868,\n 'Recall': 0.6418120553831035,\n 'F1-Score': 0.5973450921256538,\n 'AUPR': 0.7369894596347364,\n 'AUROC': 0.8270542027936876,\n 'Thresh_star': 5.083045095943817e-12,\n 'Quantile_star': 62.18262734570128}"
     },
     "execution_count": 5,
     "metadata": {},
     "output_type": "execute_result"
    }
   ],
   "source": [
    "_ = dsvdd_trainer.train(train_ldr)\n",
    "dsvdd_trainer.save_ckpt(os.path.join(export_path, \"deepsvdd.pt\"))\n",
    "\n",
    "y_test_true, test_scores, test_labels = dsvdd_trainer.test(test_ldr)\n",
    "results = metrics.estimate_optimal_threshold(test_scores, y_test_true)\n",
    "y_pred = (test_scores >= results[\"Thresh_star\"]).astype(int)\n",
    "store_results(\n",
    "    results=results,\n",
    "    params=dict(batch_size=batch_size, lr=lr, n_epochs=n_epochs, **dsvdd_model.get_params()),\n",
    "    model_name=\"DeepSVDD\",\n",
    "    dataset=\"IDS2017\",\n",
    "    dataset_path=dataset_path,\n",
    "    results_path=\"./\"\n",
    ")\n",
    "results"
   ],
   "metadata": {
    "collapsed": false,
    "pycharm": {
     "name": "#%%\n"
    }
   }
  },
  {
   "cell_type": "code",
   "execution_count": 6,
   "outputs": [
    {
     "data": {
      "text/plain": "<Figure size 720x360 with 2 Axes>",
      "image/png": "[encoded data removed]"
     },
     "metadata": {
      "needs_background": "light"
     },
     "output_type": "display_data"
    }
   ],
   "source": [
    "dsvdd_trainer.plot_metrics(export_path)"
   ],
   "metadata": {
    "collapsed": false,
    "pycharm": {
     "name": "#%%\n"
    }
   }
  },
  {
   "cell_type": "code",
   "execution_count": 4,
   "outputs": [
    {
     "data": {
      "text/plain": "{'Precision': 0.6687775990141376,\n 'Recall': 0.7006991928527749,\n 'F1-Score': 0.6843663603651098,\n 'AUPR': 0.7416159701117923,\n 'AUROC': 0.7779861607717227,\n 'Thresh_star': 3.871925002840726e-11,\n 'Quantile_star': 65.5159606790346}"
     },
     "execution_count": 4,
     "metadata": {},
     "output_type": "execute_result"
    }
   ],
   "source": [
    "dsvdd_best_fname = \"04-28-2022_14-59-02/checkpoints/deepsvdd_epoch=106\"\n",
    "dsvdd_trainer, dsvdd_model = DeepSVDDIDSTrainer.load_from_file(dsvdd_best_fname, dsvdd_trainer, dsvdd_model)\n",
    "y_test_true, test_scores, test_labels = dsvdd_trainer.test(test_ldr)\n",
    "results = metrics.estimate_optimal_threshold(test_scores, y_test_true)\n",
    "y_pred = (test_scores >= results[\"Thresh_star\"]).astype(int)\n",
    "store_results(\n",
    "    results=results,\n",
    "    params=dict(batch_size=batch_size, lr=lr, n_epochs=106, **dsvdd_model.get_params()),\n",
    "    model_name=\"DeepSVDD\",\n",
    "    dataset=\"IDS2017\",\n",
    "    dataset_path=dataset_path,\n",
    "    results_path=\"./\"\n",
    ")\n",
    "results"
   ],
   "metadata": {
    "collapsed": false,
    "pycharm": {
     "name": "#%%\n"
    }
   }
  },
  {
   "cell_type": "code",
   "execution_count": 8,
   "outputs": [
    {
     "data": {
      "text/plain": "              # Instances test set  Misclassified count  Misclassified ratio\nBENIGN                     1136374               193520             0.170296\nBot                           1966                 1864             0.948118\nDDoS                        128027                 4381             0.034219\nDoS                         252658                68147             0.269720\nFTP-Patator                   7938                 5419             0.682666\nHeartbleed                      11                    0             0.000000\nInfiltration                    36                    4             0.111111\nPortScan                    158930                79126             0.497867\nSSH-Patator                   5897                 5873             0.995930\nWeb Attack                    2180                 2089             0.958257",
      "text/html": "<div>\n<style scoped>\n    .dataframe tbody tr th:only-of-type {\n        vertical-align: middle;\n    }\n\n    .dataframe tbody tr th {\n        vertical-align: top;\n    }\n\n    .dataframe thead th {\n        text-align: right;\n    }\n</style>\n<table border=\"1\" class=\"dataframe\">\n  <thead>\n    <tr style=\"text-align: right;\">\n      <th></th>\n      <th># Instances test set</th>\n      <th>Misclassified count</th>\n      <th>Misclassified ratio</th>\n    </tr>\n  </thead>\n  <tbody>\n    <tr>\n      <th>BENIGN</th>\n      <td>1136374</td>\n      <td>193520</td>\n      <td>0.170296</td>\n    </tr>\n    <tr>\n      <th>Bot</th>\n      <td>1966</td>\n      <td>1864</td>\n      <td>0.948118</td>\n    </tr>\n    <tr>\n      <th>DDoS</th>\n      <td>128027</td>\n      <td>4381</td>\n      <td>0.034219</td>\n    </tr>\n    <tr>\n      <th>DoS</th>\n      <td>252658</td>\n      <td>68147</td>\n      <td>0.269720</td>\n    </tr>\n    <tr>\n      <th>FTP-Patator</th>\n      <td>7938</td>\n      <td>5419</td>\n      <td>0.682666</td>\n    </tr>\n    <tr>\n      <th>Heartbleed</th>\n      <td>11</td>\n      <td>0</td>\n      <td>0.000000</td>\n    </tr>\n    <tr>\n      <th>Infiltration</th>\n      <td>36</td>\n      <td>4</td>\n      <td>0.111111</td>\n    </tr>\n    <tr>\n      <th>PortScan</th>\n      <td>158930</td>\n      <td>79126</td>\n      <td>0.497867</td>\n    </tr>\n    <tr>\n      <th>SSH-Patator</th>\n      <td>5897</td>\n      <td>5873</td>\n      <td>0.995930</td>\n    </tr>\n    <tr>\n      <th>Web Attack</th>\n      <td>2180</td>\n      <td>2089</td>\n      <td>0.958257</td>\n    </tr>\n  </tbody>\n</table>\n</div>"
     },
     "execution_count": 8,
     "metadata": {},
     "output_type": "execute_result"
    }
   ],
   "source": [
    "# Misclassified instances per label\n",
    "misclf_df = ids_misclf_per_label(y_pred, y_test_true, test_labels)\n",
    "misclf_df.to_csv(export_path + \"/deepsvdd_misclassifications.csv\")\n",
    "misclf_df"
   ],
   "metadata": {
    "collapsed": false,
    "pycharm": {
     "name": "#%%\n"
    }
   }
  },
  {
   "cell_type": "markdown",
   "source": [
    "## DAGMM Training"
   ],
   "metadata": {
    "collapsed": false,
    "pycharm": {
     "name": "#%% md\n"
    }
   }
  },
  {
   "cell_type": "code",
   "execution_count": 11,
   "outputs": [
    {
     "name": "stdout",
     "output_type": "stream",
     "text": [
      "DAGMM model and trainer ready\n"
     ]
    }
   ],
   "source": [
    "dagmm_model = DAGMM(\n",
    "    in_features=dataset.in_features,\n",
    "    n_instances=dataset.n_instances,\n",
    "    device=device,\n",
    "    n_mixtures=n_mixtures,\n",
    "    latent_dim=latent_dim,\n",
    "    lambda_1=lambda_1,\n",
    "    lambda_2=lambda_2,\n",
    "    reg_covar=reg_covar,\n",
    "    n_layers=n_layers,\n",
    "    compression_factor=compression_factor,\n",
    "    ae_act_fn=\"relu\",\n",
    "    gmm_act_fn=\"relu\"\n",
    ")\n",
    "dagmm_trainer = DAGMMIDSTrainer(\n",
    "    train_ldr=train_ldr,\n",
    "    test_ldr=test_ldr,\n",
    "    device=device,\n",
    "    model=dagmm_model,\n",
    "    batch_size=batch_size,\n",
    "    lr=lr,\n",
    "    n_epochs=n_epochs,\n",
    "    ckpt_fname=os.path.join(export_path, \"dagmm\")\n",
    ")\n",
    "print(\"DAGMM model and trainer ready\")"
   ],
   "metadata": {
    "collapsed": false,
    "pycharm": {
     "name": "#%%\n"
    }
   }
  },
  {
   "cell_type": "code",
   "execution_count": 8,
   "outputs": [
    {
     "name": "stderr",
     "output_type": "stream",
     "text": [
      "  0%|          | 1/1110 [00:00<02:37,  7.04it/s, epoch=1, loss=15737.304]"
     ]
    },
    {
     "name": "stdout",
     "output_type": "stream",
     "text": [
      "Started training\n"
     ]
    },
    {
     "name": "stderr",
     "output_type": "stream",
     "text": [
      "100%|██████████| 1110/1110 [01:44<00:00, 10.58it/s, epoch=1, loss=1314455.325]\n",
      "100%|██████████| 1110/1110 [01:53<00:00,  9.82it/s, epoch=2, loss=20616.857]\n",
      "100%|██████████| 1110/1110 [01:52<00:00,  9.82it/s, epoch=3, loss=3062.925]\n",
      "100%|██████████| 1110/1110 [01:52<00:00,  9.82it/s, epoch=4, loss=1022.804]\n",
      "100%|██████████| 1110/1110 [01:53<00:00,  9.81it/s, epoch=5, loss=483.399]\n",
      "100%|██████████| 1110/1110 [01:53<00:00,  9.80it/s, epoch=6, loss=285.264]\n",
      "100%|██████████| 1110/1110 [01:52<00:00,  9.83it/s, epoch=7, loss=193.520]\n",
      "100%|██████████| 1110/1110 [01:52<00:00,  9.83it/s, epoch=8, loss=143.624]\n",
      "100%|██████████| 1110/1110 [01:53<00:00,  9.81it/s, epoch=9, loss=112.215]\n",
      "100%|██████████| 1110/1110 [01:53<00:00,  9.80it/s, epoch=10, loss=91.454]\n",
      "100%|██████████| 1110/1110 [01:53<00:00,  9.79it/s, epoch=11, loss=77.037]\n",
      "100%|██████████| 1110/1110 [01:53<00:00,  9.81it/s, epoch=12, loss=66.539]\n",
      "100%|██████████| 1110/1110 [01:53<00:00,  9.80it/s, epoch=13, loss=58.556]\n",
      "100%|██████████| 1110/1110 [01:53<00:00,  9.79it/s, epoch=14, loss=51.721]\n",
      "100%|██████████| 1110/1110 [01:53<00:00,  9.77it/s, epoch=15, loss=46.395]\n",
      "100%|██████████| 1110/1110 [01:46<00:00, 10.39it/s, epoch=16, loss=39.148]\n",
      "100%|██████████| 1110/1110 [01:53<00:00,  9.80it/s, epoch=17, loss=36.311]\n",
      "100%|██████████| 1110/1110 [01:53<00:00,  9.79it/s, epoch=18, loss=33.982]\n",
      "100%|██████████| 1110/1110 [01:53<00:00,  9.79it/s, epoch=19, loss=31.897]\n",
      "100%|██████████| 1110/1110 [01:53<00:00,  9.79it/s, epoch=20, loss=29.976]\n",
      "100%|██████████| 1110/1110 [01:53<00:00,  9.78it/s, epoch=21, loss=28.266]\n",
      "100%|██████████| 1110/1110 [01:53<00:00,  9.80it/s, epoch=22, loss=26.814]\n",
      "100%|██████████| 1110/1110 [01:53<00:00,  9.76it/s, epoch=23, loss=25.523]\n",
      "100%|██████████| 1110/1110 [01:53<00:00,  9.77it/s, epoch=24, loss=24.349]\n",
      "100%|██████████| 1110/1110 [01:53<00:00,  9.76it/s, epoch=25, loss=23.270]\n",
      "100%|██████████| 1110/1110 [01:53<00:00,  9.76it/s, epoch=26, loss=22.285]\n",
      "100%|██████████| 1110/1110 [01:54<00:00,  9.73it/s, epoch=27, loss=21.386]\n",
      "100%|██████████| 1110/1110 [01:53<00:00,  9.74it/s, epoch=28, loss=20.567]\n",
      "100%|██████████| 1110/1110 [01:53<00:00,  9.75it/s, epoch=29, loss=19.823]\n",
      "100%|██████████| 1110/1110 [01:53<00:00,  9.78it/s, epoch=30, loss=19.133]\n",
      "100%|██████████| 1110/1110 [01:47<00:00, 10.34it/s, epoch=31, loss=18.480]\n",
      "100%|██████████| 1110/1110 [01:55<00:00,  9.64it/s, epoch=32, loss=17.870]\n",
      "100%|██████████| 1110/1110 [01:55<00:00,  9.60it/s, epoch=33, loss=17.315]\n",
      "100%|██████████| 1110/1110 [01:55<00:00,  9.57it/s, epoch=34, loss=16.783]\n",
      "100%|██████████| 1110/1110 [01:56<00:00,  9.56it/s, epoch=35, loss=16.287]\n",
      "100%|██████████| 1110/1110 [01:56<00:00,  9.54it/s, epoch=36, loss=15.823]\n",
      "100%|██████████| 1110/1110 [01:55<00:00,  9.59it/s, epoch=37, loss=15.370]\n",
      "100%|██████████| 1110/1110 [01:55<00:00,  9.57it/s, epoch=38, loss=14.952]\n",
      "100%|██████████| 1110/1110 [01:56<00:00,  9.51it/s, epoch=39, loss=14.555]\n",
      "100%|██████████| 1110/1110 [01:56<00:00,  9.52it/s, epoch=40, loss=14.179]\n",
      "100%|██████████| 1110/1110 [01:56<00:00,  9.51it/s, epoch=41, loss=13.833]\n",
      "100%|██████████| 1110/1110 [01:56<00:00,  9.50it/s, epoch=42, loss=13.495]\n",
      "100%|██████████| 1110/1110 [01:57<00:00,  9.49it/s, epoch=43, loss=13.179]\n",
      "100%|██████████| 1110/1110 [01:55<00:00,  9.59it/s, epoch=44, loss=12.867]\n",
      "100%|██████████| 1110/1110 [01:55<00:00,  9.60it/s, epoch=45, loss=12.572]\n",
      "100%|██████████| 1110/1110 [01:55<00:00,  9.61it/s, epoch=46, loss=12.287]\n",
      "100%|██████████| 1110/1110 [01:55<00:00,  9.58it/s, epoch=47, loss=12.031]\n",
      "100%|██████████| 1110/1110 [01:56<00:00,  9.55it/s, epoch=48, loss=11.774]\n",
      "100%|██████████| 1110/1110 [01:56<00:00,  9.55it/s, epoch=49, loss=11.528]\n",
      "100%|██████████| 1110/1110 [01:56<00:00,  9.52it/s, epoch=50, loss=11.296]\n",
      "100%|██████████| 1110/1110 [01:56<00:00,  9.50it/s, epoch=51, loss=11.072]\n",
      "100%|██████████| 1110/1110 [01:56<00:00,  9.50it/s, epoch=52, loss=10.855]\n",
      "100%|██████████| 1110/1110 [01:57<00:00,  9.47it/s, epoch=53, loss=10.646]\n",
      "100%|██████████| 1110/1110 [01:57<00:00,  9.45it/s, epoch=54, loss=10.454]\n",
      "100%|██████████| 1110/1110 [01:57<00:00,  9.44it/s, epoch=55, loss=10.254]\n",
      "100%|██████████| 1110/1110 [01:57<00:00,  9.44it/s, epoch=56, loss=10.067]\n",
      "100%|██████████| 1110/1110 [01:57<00:00,  9.43it/s, epoch=57, loss=9.891]\n",
      "100%|██████████| 1110/1110 [01:58<00:00,  9.41it/s, epoch=58, loss=9.718]\n",
      "100%|██████████| 1110/1110 [01:58<00:00,  9.40it/s, epoch=59, loss=9.548]\n",
      "100%|██████████| 1110/1110 [01:58<00:00,  9.38it/s, epoch=60, loss=9.393]\n",
      "100%|██████████| 1110/1110 [01:58<00:00,  9.36it/s, epoch=61, loss=9.234]\n",
      "100%|██████████| 1110/1110 [01:58<00:00,  9.37it/s, epoch=62, loss=9.083]\n",
      "100%|██████████| 1110/1110 [01:58<00:00,  9.36it/s, epoch=63, loss=8.941]\n",
      "100%|██████████| 1110/1110 [01:58<00:00,  9.35it/s, epoch=64, loss=8.795]\n",
      "100%|██████████| 1110/1110 [01:58<00:00,  9.34it/s, epoch=65, loss=8.661]\n",
      "100%|██████████| 1110/1110 [01:58<00:00,  9.35it/s, epoch=66, loss=8.531]\n",
      "100%|██████████| 1110/1110 [01:58<00:00,  9.38it/s, epoch=67, loss=8.398]\n",
      "100%|██████████| 1110/1110 [01:58<00:00,  9.37it/s, epoch=68, loss=8.275]\n",
      "100%|██████████| 1110/1110 [01:58<00:00,  9.36it/s, epoch=69, loss=8.155]\n",
      "100%|██████████| 1110/1110 [01:58<00:00,  9.36it/s, epoch=70, loss=8.038]\n",
      "100%|██████████| 1110/1110 [01:58<00:00,  9.38it/s, epoch=71, loss=7.922]\n",
      "100%|██████████| 1110/1110 [01:58<00:00,  9.38it/s, epoch=72, loss=7.812]\n",
      "100%|██████████| 1110/1110 [01:58<00:00,  9.39it/s, epoch=73, loss=7.704]\n",
      "100%|██████████| 1110/1110 [01:57<00:00,  9.42it/s, epoch=74, loss=7.596]\n",
      "100%|██████████| 1110/1110 [01:58<00:00,  9.40it/s, epoch=75, loss=7.497]\n",
      "100%|██████████| 1110/1110 [01:57<00:00,  9.43it/s, epoch=76, loss=7.396]\n",
      "100%|██████████| 1110/1110 [01:57<00:00,  9.44it/s, epoch=77, loss=7.299]\n",
      "100%|██████████| 1110/1110 [01:56<00:00,  9.54it/s, epoch=78, loss=7.206]\n",
      "100%|██████████| 1110/1110 [01:57<00:00,  9.47it/s, epoch=79, loss=7.112]\n",
      "100%|██████████| 1110/1110 [01:56<00:00,  9.50it/s, epoch=80, loss=7.025]\n",
      "100%|██████████| 1110/1110 [01:56<00:00,  9.50it/s, epoch=81, loss=6.937]\n",
      "100%|██████████| 1110/1110 [01:56<00:00,  9.55it/s, epoch=82, loss=6.850]\n",
      "100%|██████████| 1110/1110 [01:56<00:00,  9.50it/s, epoch=83, loss=6.768]\n",
      "100%|██████████| 1110/1110 [01:56<00:00,  9.53it/s, epoch=84, loss=6.688]\n",
      "100%|██████████| 1110/1110 [01:56<00:00,  9.49it/s, epoch=85, loss=6.607]\n",
      "100%|██████████| 1110/1110 [01:56<00:00,  9.50it/s, epoch=86, loss=6.533]\n",
      "100%|██████████| 1110/1110 [01:56<00:00,  9.51it/s, epoch=87, loss=6.460]\n",
      "100%|██████████| 1110/1110 [01:56<00:00,  9.51it/s, epoch=88, loss=6.380]\n",
      "100%|██████████| 1110/1110 [01:57<00:00,  9.46it/s, epoch=89, loss=6.309]\n",
      "100%|██████████| 1110/1110 [01:58<00:00,  9.41it/s, epoch=90, loss=6.236]\n",
      "100%|██████████| 1110/1110 [01:58<00:00,  9.37it/s, epoch=91, loss=6.170]\n",
      "100%|██████████| 1110/1110 [01:58<00:00,  9.37it/s, epoch=92, loss=6.096]\n",
      "100%|██████████| 1110/1110 [01:58<00:00,  9.36it/s, epoch=93, loss=6.038]\n",
      "100%|██████████| 1110/1110 [01:58<00:00,  9.34it/s, epoch=94, loss=5.968]\n",
      "100%|██████████| 1110/1110 [01:59<00:00,  9.30it/s, epoch=95, loss=5.904]\n",
      "100%|██████████| 1110/1110 [01:58<00:00,  9.35it/s, epoch=96, loss=5.846]\n",
      "100%|██████████| 1110/1110 [02:00<00:00,  9.22it/s, epoch=97, loss=5.787]\n",
      "100%|██████████| 1110/1110 [02:00<00:00,  9.24it/s, epoch=98, loss=5.728]\n",
      "100%|██████████| 1110/1110 [01:51<00:00,  9.95it/s, epoch=99, loss=5.667]\n",
      "100%|██████████| 1110/1110 [01:52<00:00,  9.88it/s, epoch=100, loss=5.609]\n",
      "100%|██████████| 1110/1110 [01:51<00:00,  9.98it/s, epoch=101, loss=5.551]\n",
      "100%|██████████| 1110/1110 [02:00<00:00,  9.21it/s, epoch=102, loss=5.500]\n",
      "100%|██████████| 1110/1110 [01:59<00:00,  9.28it/s, epoch=103, loss=5.446]\n",
      "100%|██████████| 1110/1110 [01:59<00:00,  9.30it/s, epoch=104, loss=5.394]\n",
      "100%|██████████| 1110/1110 [02:01<00:00,  9.17it/s, epoch=105, loss=5.340]\n",
      "100%|██████████| 1110/1110 [02:00<00:00,  9.19it/s, epoch=106, loss=5.288]\n",
      "100%|██████████| 1110/1110 [01:59<00:00,  9.26it/s, epoch=107, loss=5.241]\n",
      "100%|██████████| 1110/1110 [02:00<00:00,  9.24it/s, epoch=108, loss=5.191]\n",
      "100%|██████████| 1110/1110 [01:58<00:00,  9.34it/s, epoch=109, loss=5.146]\n",
      "100%|██████████| 1110/1110 [02:01<00:00,  9.15it/s, epoch=110, loss=5.097]\n",
      "100%|██████████| 1110/1110 [02:00<00:00,  9.25it/s, epoch=111, loss=5.052]\n",
      "100%|██████████| 1110/1110 [01:59<00:00,  9.28it/s, epoch=112, loss=5.005]\n",
      "100%|██████████| 1110/1110 [01:59<00:00,  9.25it/s, epoch=113, loss=4.956]\n",
      "100%|██████████| 1110/1110 [02:01<00:00,  9.16it/s, epoch=114, loss=4.915]\n",
      "100%|██████████| 1110/1110 [01:59<00:00,  9.27it/s, epoch=115, loss=4.873]\n",
      "100%|██████████| 1110/1110 [01:59<00:00,  9.32it/s, epoch=116, loss=4.830]\n",
      "100%|██████████| 1110/1110 [01:58<00:00,  9.36it/s, epoch=117, loss=4.788]\n",
      "100%|██████████| 1110/1110 [01:59<00:00,  9.31it/s, epoch=118, loss=4.750]\n",
      "100%|██████████| 1110/1110 [01:58<00:00,  9.35it/s, epoch=119, loss=4.705]\n",
      "100%|██████████| 1110/1110 [01:59<00:00,  9.32it/s, epoch=120, loss=4.669]\n",
      "100%|██████████| 1110/1110 [01:59<00:00,  9.26it/s, epoch=121, loss=4.630]\n",
      "100%|██████████| 1110/1110 [01:59<00:00,  9.33it/s, epoch=122, loss=4.591]\n",
      "100%|██████████| 1110/1110 [02:00<00:00,  9.19it/s, epoch=123, loss=4.553]\n",
      "100%|██████████| 1110/1110 [01:59<00:00,  9.31it/s, epoch=124, loss=4.516]\n",
      "100%|██████████| 1110/1110 [01:59<00:00,  9.26it/s, epoch=125, loss=4.477]\n",
      "100%|██████████| 1110/1110 [02:00<00:00,  9.20it/s, epoch=126, loss=4.438]\n",
      "100%|██████████| 1110/1110 [01:59<00:00,  9.32it/s, epoch=127, loss=4.403]\n",
      "100%|██████████| 1110/1110 [01:58<00:00,  9.34it/s, epoch=128, loss=4.373]\n",
      "100%|██████████| 1110/1110 [02:01<00:00,  9.16it/s, epoch=129, loss=4.333]\n",
      "100%|██████████| 1110/1110 [02:00<00:00,  9.23it/s, epoch=130, loss=4.300]\n",
      "100%|██████████| 1110/1110 [02:01<00:00,  9.15it/s, epoch=131, loss=4.267]\n",
      "100%|██████████| 1110/1110 [02:00<00:00,  9.23it/s, epoch=132, loss=4.234]\n",
      "100%|██████████| 1110/1110 [02:00<00:00,  9.21it/s, epoch=133, loss=4.200]\n",
      "100%|██████████| 1110/1110 [01:59<00:00,  9.27it/s, epoch=134, loss=4.170]\n",
      "100%|██████████| 1110/1110 [01:59<00:00,  9.26it/s, epoch=135, loss=4.137]\n",
      "100%|██████████| 1110/1110 [02:00<00:00,  9.25it/s, epoch=136, loss=4.104]\n",
      "100%|██████████| 1110/1110 [01:59<00:00,  9.32it/s, epoch=137, loss=4.077]\n",
      "100%|██████████| 1110/1110 [01:59<00:00,  9.29it/s, epoch=138, loss=4.047]\n",
      "100%|██████████| 1110/1110 [01:59<00:00,  9.30it/s, epoch=139, loss=4.019]\n",
      "100%|██████████| 1110/1110 [01:59<00:00,  9.31it/s, epoch=140, loss=3.987]\n",
      "100%|██████████| 1110/1110 [02:01<00:00,  9.16it/s, epoch=141, loss=3.960]\n",
      "100%|██████████| 1110/1110 [01:59<00:00,  9.26it/s, epoch=142, loss=3.929]\n",
      "100%|██████████| 1110/1110 [01:59<00:00,  9.30it/s, epoch=143, loss=3.902]\n",
      "100%|██████████| 1110/1110 [01:59<00:00,  9.30it/s, epoch=144, loss=3.875]\n",
      "100%|██████████| 1110/1110 [01:59<00:00,  9.32it/s, epoch=145, loss=3.844]\n",
      "100%|██████████| 1110/1110 [01:58<00:00,  9.33it/s, epoch=146, loss=3.821]\n",
      "100%|██████████| 1110/1110 [02:01<00:00,  9.17it/s, epoch=147, loss=3.792]\n",
      "100%|██████████| 1110/1110 [02:00<00:00,  9.19it/s, epoch=148, loss=3.765]\n",
      "100%|██████████| 1110/1110 [02:02<00:00,  9.08it/s, epoch=149, loss=3.740]\n",
      "100%|██████████| 1110/1110 [01:59<00:00,  9.25it/s, epoch=150, loss=3.718]\n",
      "100%|██████████| 1110/1110 [01:58<00:00,  9.38it/s, epoch=151, loss=3.690]\n",
      "100%|██████████| 1110/1110 [02:00<00:00,  9.18it/s, epoch=152, loss=3.667]\n",
      "100%|██████████| 1110/1110 [02:01<00:00,  9.16it/s, epoch=153, loss=3.638]\n",
      "100%|██████████| 1110/1110 [02:00<00:00,  9.21it/s, epoch=154, loss=3.618]\n",
      "100%|██████████| 1110/1110 [02:02<00:00,  9.07it/s, epoch=155, loss=3.591]\n",
      "100%|██████████| 1110/1110 [01:59<00:00,  9.30it/s, epoch=156, loss=3.567]\n",
      "100%|██████████| 1110/1110 [02:01<00:00,  9.15it/s, epoch=157, loss=3.546]\n",
      "100%|██████████| 1110/1110 [02:01<00:00,  9.17it/s, epoch=158, loss=3.523]\n",
      "100%|██████████| 1110/1110 [02:00<00:00,  9.19it/s, epoch=159, loss=3.479]\n",
      "100%|██████████| 1110/1110 [02:01<00:00,  9.16it/s, epoch=160, loss=3.457]\n",
      "100%|██████████| 1110/1110 [02:00<00:00,  9.21it/s, epoch=161, loss=3.431]\n",
      "100%|██████████| 1110/1110 [01:59<00:00,  9.27it/s, epoch=162, loss=3.409]\n",
      "100%|██████████| 1110/1110 [02:01<00:00,  9.15it/s, epoch=163, loss=3.388]\n",
      "100%|██████████| 1110/1110 [02:00<00:00,  9.19it/s, epoch=164, loss=3.368]\n",
      "100%|██████████| 1110/1110 [02:00<00:00,  9.25it/s, epoch=165, loss=3.342]\n",
      "100%|██████████| 1110/1110 [02:00<00:00,  9.18it/s, epoch=166, loss=3.322]\n",
      "100%|██████████| 1110/1110 [02:01<00:00,  9.13it/s, epoch=167, loss=3.301]\n",
      "100%|██████████| 1110/1110 [02:01<00:00,  9.16it/s, epoch=168, loss=3.280]\n",
      "100%|██████████| 1110/1110 [02:02<00:00,  9.06it/s, epoch=169, loss=3.259]\n",
      "100%|██████████| 1110/1110 [02:01<00:00,  9.16it/s, epoch=170, loss=3.241]\n",
      "100%|██████████| 1110/1110 [02:01<00:00,  9.10it/s, epoch=171, loss=3.220]\n",
      "100%|██████████| 1110/1110 [02:00<00:00,  9.23it/s, epoch=172, loss=3.200]\n",
      "100%|██████████| 1110/1110 [01:59<00:00,  9.29it/s, epoch=173, loss=3.182]\n",
      "100%|██████████| 1110/1110 [02:01<00:00,  9.13it/s, epoch=174, loss=3.162]\n",
      "100%|██████████| 1110/1110 [02:00<00:00,  9.18it/s, epoch=175, loss=3.147]\n",
      "100%|██████████| 1110/1110 [01:58<00:00,  9.39it/s, epoch=176, loss=3.125]\n",
      "100%|██████████| 1110/1110 [01:59<00:00,  9.28it/s, epoch=177, loss=3.107]\n",
      "100%|██████████| 1110/1110 [01:59<00:00,  9.28it/s, epoch=178, loss=3.089]\n",
      "100%|██████████| 1110/1110 [01:58<00:00,  9.34it/s, epoch=179, loss=3.074]\n",
      "100%|██████████| 1110/1110 [02:00<00:00,  9.23it/s, epoch=180, loss=3.055]\n",
      "100%|██████████| 1110/1110 [02:00<00:00,  9.20it/s, epoch=181, loss=3.038]\n",
      "100%|██████████| 1110/1110 [02:00<00:00,  9.19it/s, epoch=182, loss=3.022]\n",
      "100%|██████████| 1110/1110 [02:01<00:00,  9.17it/s, epoch=183, loss=3.006]\n",
      "100%|██████████| 1110/1110 [02:00<00:00,  9.23it/s, epoch=184, loss=2.987]\n",
      "100%|██████████| 1110/1110 [01:58<00:00,  9.38it/s, epoch=185, loss=2.969]\n",
      "100%|██████████| 1110/1110 [02:01<00:00,  9.12it/s, epoch=186, loss=2.955]\n",
      "100%|██████████| 1110/1110 [02:00<00:00,  9.20it/s, epoch=187, loss=2.938]\n",
      "100%|██████████| 1110/1110 [02:00<00:00,  9.22it/s, epoch=188, loss=2.923]\n",
      "100%|██████████| 1110/1110 [01:59<00:00,  9.29it/s, epoch=189, loss=2.909]\n",
      "100%|██████████| 1110/1110 [01:58<00:00,  9.35it/s, epoch=190, loss=2.890]\n",
      "100%|██████████| 1110/1110 [02:00<00:00,  9.25it/s, epoch=191, loss=2.875]\n",
      "100%|██████████| 1110/1110 [01:53<00:00,  9.81it/s, epoch=192, loss=2.859]\n",
      "100%|██████████| 1110/1110 [01:52<00:00,  9.90it/s, epoch=193, loss=2.843]\n",
      "100%|██████████| 1110/1110 [01:51<00:00,  9.94it/s, epoch=194, loss=2.829]\n",
      "100%|██████████| 1110/1110 [01:52<00:00,  9.84it/s, epoch=195, loss=2.814]\n",
      "100%|██████████| 1110/1110 [01:52<00:00,  9.87it/s, epoch=196, loss=2.801]\n",
      "100%|██████████| 1110/1110 [02:01<00:00,  9.17it/s, epoch=197, loss=2.785]\n",
      "100%|██████████| 1110/1110 [02:00<00:00,  9.18it/s, epoch=198, loss=2.772]\n",
      "100%|██████████| 1110/1110 [02:01<00:00,  9.15it/s, epoch=199, loss=2.757]\n",
      "100%|██████████| 1110/1110 [02:00<00:00,  9.21it/s, epoch=200, loss=2.743]\n"
     ]
    },
    {
     "data": {
      "text/plain": "{'Precision': 0.3325707374626279,\n 'Recall': 0.2820585930425021,\n 'F1-Score': 0.3052390429162352,\n 'AUPR': 0.2758507352315302,\n 'AUROC': 0.31253846380984696,\n 'Thresh_star': 7.762237548828125,\n 'Quantile_star': 72.08161724469117}"
     },
     "execution_count": 8,
     "metadata": {},
     "output_type": "execute_result"
    }
   ],
   "source": [
    "train_ldr, test_ldr = dataset.loaders(batch_size=batch_size, seed=42)\n",
    "dagmm_trainer.train(train_ldr)\n",
    "y_test_true, test_scores, test_labels = dagmm_trainer.test(test_ldr)\n",
    "results = metrics.estimate_optimal_threshold(test_scores, y_test_true)\n",
    "y_pred = (test_scores >= results[\"Thresh_star\"]).astype(int)\n",
    "store_results(\n",
    "    results=results,\n",
    "    params=dict(batch_size=batch_size, lr=lr, n_epochs=n_epochs, **dagmm_model.get_params()),\n",
    "    model_name=\"DAGMM\",\n",
    "    dataset=\"IDS2017\",\n",
    "    dataset_path=dataset_path,\n",
    "    results_path=export_path\n",
    ")\n",
    "results"
   ],
   "metadata": {
    "collapsed": false,
    "pycharm": {
     "name": "#%%\n"
    }
   }
  },
  {
   "cell_type": "code",
   "execution_count": 9,
   "outputs": [
    {
     "data": {
      "text/plain": "<Figure size 720x360 with 1 Axes>",
      "image/png": "[encoded data removed]"
     },
     "metadata": {
      "needs_background": "light"
     },
     "output_type": "display_data"
    }
   ],
   "source": [
    "dagmm_trainer.plot_metrics(export_path)"
   ],
   "metadata": {
    "collapsed": false,
    "pycharm": {
     "name": "#%%\n"
    }
   }
  },
  {
   "cell_type": "code",
   "execution_count": 13,
   "outputs": [
    {
     "ename": "TypeError",
     "evalue": "unsupported operand type(s) for +: 'NoneType' and 'Tensor'",
     "output_type": "error",
     "traceback": [
      "\u001B[1;31m---------------------------------------------------------------------------\u001B[0m",
      "\u001B[1;31mTypeError\u001B[0m                                 Traceback (most recent call last)",
      "\u001B[1;32m<ipython-input-13-4388ee848140>\u001B[0m in \u001B[0;36m<module>\u001B[1;34m\u001B[0m\n\u001B[0;32m      3\u001B[0m \u001B[0mdagmm_trainer\u001B[0m\u001B[1;33m,\u001B[0m \u001B[0mdagmm_model\u001B[0m \u001B[1;33m=\u001B[0m \u001B[0mload_from_ckpt\u001B[0m\u001B[1;33m(\u001B[0m\u001B[0mdagmm_best\u001B[0m\u001B[1;33m,\u001B[0m \u001B[0mdagmm_trainer\u001B[0m\u001B[1;33m,\u001B[0m \u001B[0mdagmm_model\u001B[0m\u001B[1;33m)\u001B[0m\u001B[1;33m\u001B[0m\u001B[1;33m\u001B[0m\u001B[0m\n\u001B[0;32m      4\u001B[0m \u001B[0mdagmm_trainer\u001B[0m\u001B[1;33m.\u001B[0m\u001B[0mn_epochs\u001B[0m \u001B[1;33m=\u001B[0m \u001B[0mdagmm_best_epoch\u001B[0m\u001B[1;33m\u001B[0m\u001B[1;33m\u001B[0m\u001B[0m\n\u001B[1;32m----> 5\u001B[1;33m \u001B[0my_test_true\u001B[0m\u001B[1;33m,\u001B[0m \u001B[0mtest_scores\u001B[0m\u001B[1;33m,\u001B[0m \u001B[0mtest_labels\u001B[0m \u001B[1;33m=\u001B[0m \u001B[0mdagmm_trainer\u001B[0m\u001B[1;33m.\u001B[0m\u001B[0mtest\u001B[0m\u001B[1;33m(\u001B[0m\u001B[0mtest_ldr\u001B[0m\u001B[1;33m)\u001B[0m\u001B[1;33m\u001B[0m\u001B[1;33m\u001B[0m\u001B[0m\n\u001B[0m\u001B[0;32m      6\u001B[0m \u001B[0mresults\u001B[0m \u001B[1;33m=\u001B[0m \u001B[0mmetrics\u001B[0m\u001B[1;33m.\u001B[0m\u001B[0mestimate_optimal_threshold\u001B[0m\u001B[1;33m(\u001B[0m\u001B[0mtest_scores\u001B[0m\u001B[1;33m,\u001B[0m \u001B[0my_test_true\u001B[0m\u001B[1;33m)\u001B[0m\u001B[1;33m\u001B[0m\u001B[1;33m\u001B[0m\u001B[0m\n\u001B[0;32m      7\u001B[0m \u001B[0my_pred\u001B[0m \u001B[1;33m=\u001B[0m \u001B[1;33m(\u001B[0m\u001B[0mtest_scores\u001B[0m \u001B[1;33m>=\u001B[0m \u001B[0mresults\u001B[0m\u001B[1;33m[\u001B[0m\u001B[1;34m\"Thresh_star\"\u001B[0m\u001B[1;33m]\u001B[0m\u001B[1;33m)\u001B[0m\u001B[1;33m.\u001B[0m\u001B[0mastype\u001B[0m\u001B[1;33m(\u001B[0m\u001B[0mint\u001B[0m\u001B[1;33m)\u001B[0m\u001B[1;33m\u001B[0m\u001B[1;33m\u001B[0m\u001B[0m\n",
      "\u001B[1;32m~\\NRCAN\\git\\anomaly_detection_NRCAN\\src\\trainer\\ids.py\u001B[0m in \u001B[0;36mtest\u001B[1;34m(self, dataset)\u001B[0m\n\u001B[0;32m    181\u001B[0m                 \u001B[1;31m# forward pass\u001B[0m\u001B[1;33m\u001B[0m\u001B[1;33m\u001B[0m\u001B[1;33m\u001B[0m\u001B[0m\n\u001B[0;32m    182\u001B[0m                 \u001B[0mcode\u001B[0m\u001B[1;33m,\u001B[0m \u001B[0mx_prime\u001B[0m\u001B[1;33m,\u001B[0m \u001B[0mcosim\u001B[0m\u001B[1;33m,\u001B[0m \u001B[0mz\u001B[0m\u001B[1;33m,\u001B[0m \u001B[0mgamma\u001B[0m \u001B[1;33m=\u001B[0m \u001B[0mself\u001B[0m\u001B[1;33m.\u001B[0m\u001B[0mmodel\u001B[0m\u001B[1;33m(\u001B[0m\u001B[0mX\u001B[0m\u001B[1;33m)\u001B[0m\u001B[1;33m\u001B[0m\u001B[1;33m\u001B[0m\u001B[0m\n\u001B[1;32m--> 183\u001B[1;33m                 sample_energy, pen_cov_mat = self.estimate_sample_energy(\n\u001B[0m\u001B[0;32m    184\u001B[0m                     \u001B[0mz\u001B[0m\u001B[1;33m,\u001B[0m \u001B[0mself\u001B[0m\u001B[1;33m.\u001B[0m\u001B[0mphi\u001B[0m\u001B[1;33m,\u001B[0m \u001B[0mself\u001B[0m\u001B[1;33m.\u001B[0m\u001B[0mmu\u001B[0m\u001B[1;33m,\u001B[0m \u001B[0mself\u001B[0m\u001B[1;33m.\u001B[0m\u001B[0mcov_mat\u001B[0m\u001B[1;33m,\u001B[0m \u001B[0maverage_energy\u001B[0m\u001B[1;33m=\u001B[0m\u001B[1;32mFalse\u001B[0m\u001B[1;33m\u001B[0m\u001B[1;33m\u001B[0m\u001B[0m\n\u001B[0;32m    185\u001B[0m                 )\n",
      "\u001B[1;32m~\\NRCAN\\git\\anomaly_detection_NRCAN\\src\\trainer\\reconstruction.py\u001B[0m in \u001B[0;36mestimate_sample_energy\u001B[1;34m(self, z, phi, mu, cov_mat, average_energy)\u001B[0m\n\u001B[0;32m    144\u001B[0m         \u001B[1;31m# Avoid non-invertible covariance matrix by adding small values (self.reg_covar)\u001B[0m\u001B[1;33m\u001B[0m\u001B[1;33m\u001B[0m\u001B[1;33m\u001B[0m\u001B[0m\n\u001B[0;32m    145\u001B[0m         \u001B[0md\u001B[0m \u001B[1;33m=\u001B[0m \u001B[0mz\u001B[0m\u001B[1;33m.\u001B[0m\u001B[0mshape\u001B[0m\u001B[1;33m[\u001B[0m\u001B[1;36m1\u001B[0m\u001B[1;33m]\u001B[0m\u001B[1;33m\u001B[0m\u001B[1;33m\u001B[0m\u001B[0m\n\u001B[1;32m--> 146\u001B[1;33m         \u001B[0mcov_mat\u001B[0m \u001B[1;33m=\u001B[0m \u001B[0mcov_mat\u001B[0m \u001B[1;33m+\u001B[0m \u001B[1;33m(\u001B[0m\u001B[0mtorch\u001B[0m\u001B[1;33m.\u001B[0m\u001B[0meye\u001B[0m\u001B[1;33m(\u001B[0m\u001B[0md\u001B[0m\u001B[1;33m)\u001B[0m\u001B[1;33m)\u001B[0m\u001B[1;33m.\u001B[0m\u001B[0mto\u001B[0m\u001B[1;33m(\u001B[0m\u001B[0mself\u001B[0m\u001B[1;33m.\u001B[0m\u001B[0mdevice\u001B[0m\u001B[1;33m)\u001B[0m \u001B[1;33m*\u001B[0m \u001B[0mself\u001B[0m\u001B[1;33m.\u001B[0m\u001B[0mreg_covar\u001B[0m\u001B[1;33m\u001B[0m\u001B[1;33m\u001B[0m\u001B[0m\n\u001B[0m\u001B[0;32m    147\u001B[0m         \u001B[1;31m# N x K x D\u001B[0m\u001B[1;33m\u001B[0m\u001B[1;33m\u001B[0m\u001B[1;33m\u001B[0m\u001B[0m\n\u001B[0;32m    148\u001B[0m         \u001B[0mmu_z\u001B[0m \u001B[1;33m=\u001B[0m \u001B[0mz\u001B[0m\u001B[1;33m.\u001B[0m\u001B[0munsqueeze\u001B[0m\u001B[1;33m(\u001B[0m\u001B[1;36m1\u001B[0m\u001B[1;33m)\u001B[0m \u001B[1;33m-\u001B[0m \u001B[0mmu\u001B[0m\u001B[1;33m.\u001B[0m\u001B[0munsqueeze\u001B[0m\u001B[1;33m(\u001B[0m\u001B[1;36m0\u001B[0m\u001B[1;33m)\u001B[0m\u001B[1;33m\u001B[0m\u001B[1;33m\u001B[0m\u001B[0m\n",
      "\u001B[1;31mTypeError\u001B[0m: unsupported operand type(s) for +: 'NoneType' and 'Tensor'"
     ]
    }
   ],
   "source": [
    "dagmm_best = \"04-28-2022_20-49-03/checkpoints/dagmm_epoch=11.pt\"\n",
    "dagmm_trainer, dagmm_model = load_from_ckpt(dagmm_best, dagmm_trainer, dagmm_model)\n",
    "dagmm_trainer.n_epochs = dagmm_best_epoch\n",
    "y_test_true, test_scores, test_labels = dagmm_trainer.test(test_ldr)\n",
    "results = metrics.estimate_optimal_threshold(test_scores, y_test_true)\n",
    "y_pred = (test_scores >= results[\"Thresh_star\"]).astype(int)\n",
    "store_results(\n",
    "    results=results,\n",
    "    params=dict(batch_size=batch_size, lr=lr, n_epochs=dagmm_best_epoch, **dagmm_model.get_params()),\n",
    "    model_name=\"DAGMM\",\n",
    "    dataset=\"IDS2017\",\n",
    "    dataset_path=dataset_path,\n",
    "    results_path=\"./\"\n",
    ")\n",
    "results"
   ],
   "metadata": {
    "collapsed": false,
    "pycharm": {
     "name": "#%%\n"
    }
   }
  },
  {
   "cell_type": "code",
   "execution_count": null,
   "outputs": [],
   "source": [
    "dagmm_misclf_df = ids_misclf_per_label(y_pred, y_test_true, test_labels)\n",
    "dagmm_misclf_df.to_csv(export_path + \"/dagmm_misclassifications.csv\")\n",
    "dagmm_misclf_df"
   ],
   "metadata": {
    "collapsed": false,
    "pycharm": {
     "name": "#%%\n"
    }
   }
  }
 ],
 "metadata": {
  "kernelspec": {
   "display_name": "Python 3",
   "language": "python",
   "name": "python3"
  },
  "language_info": {
   "codemirror_mode": {
    "name": "ipython",
    "version": 2
   },
   "file_extension": ".py",
   "mimetype": "text/x-python",
   "name": "python",
   "nbconvert_exporter": "python",
   "pygments_lexer": "ipython2",
   "version": "2.7.6"
  }
 },
 "nbformat": 4,
 "nbformat_minor": 0
}