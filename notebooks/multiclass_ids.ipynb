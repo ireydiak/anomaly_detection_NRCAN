{
 "cells": [
  {
   "cell_type": "code",
   "execution_count": 1,
   "metadata": {
    "collapsed": true,
    "pycharm": {
     "name": "#%%\n"
    }
   },
   "outputs": [],
   "source": [
    "import pandas as pd\n",
    "%load_ext autoreload\n",
    "%autoreload 2\n",
    "from src.model.one_class import DeepSVDD\n",
    "from src.model.reconstruction import DAGMM\n",
    "from src.trainer.ids import DeepSVDDIDSTrainer, DAGMMIDSTrainer\n",
    "from src.utils import metrics\n",
    "from src.datamanager.dataset import IDS2017Dataset\n",
    "\n",
    "dataset_path = \"../data/IDS2017/ids2017.csv\"\n",
    "export_path = \"./\""
   ]
  },
  {
   "cell_type": "code",
   "execution_count": 2,
   "outputs": [
    {
     "name": "stdout",
     "output_type": "stream",
     "text": [
      "data loaded\n"
     ]
    }
   ],
   "source": [
    "dataset = IDS2017Dataset(path=dataset_path)\n",
    "\n",
    "# General arguments\n",
    "batch_size = 1024\n",
    "device = \"cuda\"\n",
    "act_fn = \"relu\"\n",
    "n_layers = 4\n",
    "compression_factor = 2\n",
    "lr = 1e-4\n",
    "n_epochs = 1\n",
    "\n",
    "# DAGMM-specific arguments\n",
    "n_mixtures = 4\n",
    "latent_dim = 1\n",
    "lambda_1 = 0.005\n",
    "lambda_2 = 0.1\n",
    "reg_covar=1e-6\n",
    "\n",
    "print(\"data loaded\")"
   ],
   "metadata": {
    "collapsed": false,
    "pycharm": {
     "name": "#%%\n"
    }
   }
  },
  {
   "cell_type": "markdown",
   "source": [
    "## DeepSVDD Training"
   ],
   "metadata": {
    "collapsed": false,
    "pycharm": {
     "name": "#%% md\n"
    }
   }
  },
  {
   "cell_type": "code",
   "execution_count": 2,
   "outputs": [
    {
     "name": "stdout",
     "output_type": "stream",
     "text": [
      "data loaded, model and trainers are ready\n"
     ]
    }
   ],
   "source": [
    "model = DeepSVDD(\n",
    "    in_features=dataset.in_features,\n",
    "    n_instances=dataset.n_instances,\n",
    "    device=device,\n",
    "    n_layers=n_layers,\n",
    "    compression_factor=compression_factor,\n",
    "    act_fn=act_fn,\n",
    ")\n",
    "trainer = DeepSVDDIDSTrainer(\n",
    "    model=model,\n",
    "    batch_size=batch_size,\n",
    "    lr=lr,\n",
    "    n_epochs=n_epochs,\n",
    "    device=device\n",
    ")\n",
    "print(\"DeepSVDD model and trainer ready\")"
   ],
   "metadata": {
    "collapsed": false,
    "pycharm": {
     "name": "#%%\n"
    }
   }
  },
  {
   "cell_type": "code",
   "execution_count": 3,
   "outputs": [
    {
     "name": "stderr",
     "output_type": "stream",
     "text": [
      "  1%|          | 12/1110 [00:00<00:15, 72.73it/s, epoch=1, loss=0.114]"
     ]
    },
    {
     "name": "stdout",
     "output_type": "stream",
     "text": [
      "Started training\n"
     ]
    },
    {
     "name": "stderr",
     "output_type": "stream",
     "text": [
      "100%|██████████| 1110/1110 [00:10<00:00, 103.00it/s, epoch=1, loss=0.662]\n",
      "100%|██████████| 1110/1110 [00:10<00:00, 104.14it/s, epoch=2, loss=0.001]\n"
     ]
    },
    {
     "data": {
      "text/plain": "{'Precision': 0.661385870748257,\n 'Recall': 0.762798062559738,\n 'F1-Score': 0.7084813260592394,\n 'AUPR': 0.7682288212786377,\n 'AUROC': 0.8381214112711038,\n 'Thresh_star': 6.686015581180982e-07,\n 'Quantile_star': 62.081617244691174}"
     },
     "execution_count": 3,
     "metadata": {},
     "output_type": "execute_result"
    }
   ],
   "source": [
    "train_ldr, test_ldr = dataset.loaders(batch_size=batch_size, seed=42)\n",
    "_ = trainer.train(train_ldr)\n",
    "y_test_true, test_scores, test_labels = trainer.test(test_ldr)\n",
    "results = metrics.estimate_optimal_threshold(test_scores, y_test_true)\n",
    "results"
   ],
   "metadata": {
    "collapsed": false,
    "pycharm": {
     "name": "#%%\n"
    }
   }
  },
  {
   "cell_type": "code",
   "execution_count": 17,
   "outputs": [],
   "source": [
    "y_pred = (test_scores >= results[\"Thresh_star\"]).astype(int)"
   ],
   "metadata": {
    "collapsed": false,
    "pycharm": {
     "name": "#%%\n"
    }
   }
  },
  {
   "cell_type": "code",
   "execution_count": 18,
   "outputs": [
    {
     "data": {
      "text/plain": "1    425369\n0    132274\nName: 0, dtype: int64"
     },
     "execution_count": 18,
     "metadata": {},
     "output_type": "execute_result"
    }
   ],
   "source": [
    "mask = y_test_true == 1.\n",
    "test_labels[mask]\n",
    "df = pd.DataFrame(y_pred[mask])\n",
    "df[0].value_counts()"
   ],
   "metadata": {
    "collapsed": false,
    "pycharm": {
     "name": "#%%\n"
    }
   }
  },
  {
   "cell_type": "markdown",
   "source": [
    "## DAGMM Training"
   ],
   "metadata": {
    "collapsed": false,
    "pycharm": {
     "name": "#%% md\n"
    }
   }
  },
  {
   "cell_type": "code",
   "execution_count": 3,
   "outputs": [
    {
     "name": "stdout",
     "output_type": "stream",
     "text": [
      "DAGMM model and trainer ready\n"
     ]
    }
   ],
   "source": [
    "model = DAGMM(\n",
    "    in_features=dataset.in_features,\n",
    "    n_instances=dataset.n_instances,\n",
    "    device=device,\n",
    "    n_mixtures=n_mixtures,\n",
    "    latent_dim=latent_dim,\n",
    "    lambda_1=lambda_1,\n",
    "    lambda_2=lambda_2,\n",
    "    reg_covar=reg_covar,\n",
    "    n_layers=n_layers,\n",
    "    compression_factor=compression_factor,\n",
    "    ae_act_fn=\"relu\",\n",
    "    gmm_act_fn=\"relu\"\n",
    ")\n",
    "trainer = DAGMMIDSTrainer(\n",
    "    device=device,\n",
    "    model=model,\n",
    "    batch_size=batch_size,\n",
    "    lr=lr,\n",
    "    n_epochs=n_epochs\n",
    ")\n",
    "print(\"DAGMM model and trainer ready\")"
   ],
   "metadata": {
    "collapsed": false,
    "pycharm": {
     "name": "#%%\n"
    }
   }
  },
  {
   "cell_type": "code",
   "execution_count": 5,
   "outputs": [
    {
     "name": "stderr",
     "output_type": "stream",
     "text": [
      "  1%|          | 7/1110 [00:00<00:30, 36.36it/s, epoch=1, loss=202181.664]"
     ]
    },
    {
     "name": "stdout",
     "output_type": "stream",
     "text": [
      "Started training\n"
     ]
    },
    {
     "name": "stderr",
     "output_type": "stream",
     "text": [
      "100%|██████████| 1110/1110 [00:16<00:00, 67.05it/s, epoch=1, loss=1784025.856]\n"
     ]
    },
    {
     "data": {
      "text/plain": "{'Precision': 0.5148341358450046,\n 'Recall': 0.4367794449136813,\n 'F1-Score': 0.4726056303183826,\n 'AUPR': 0.5040549808583397,\n 'AUROC': 0.5553845883742977,\n 'Thresh_star': 0.4080483317375183,\n 'Quantile_star': 72.08161724469117}"
     },
     "execution_count": 5,
     "metadata": {},
     "output_type": "execute_result"
    }
   ],
   "source": [
    "train_ldr, test_ldr = dataset.loaders(batch_size=batch_size, seed=42)\n",
    "trainer.train(train_ldr)\n",
    "y_test_true, test_scores, test_labels = trainer.test(test_ldr)\n",
    "results = metrics.estimate_optimal_threshold(test_scores, y_test_true)\n",
    "results"
   ],
   "metadata": {
    "collapsed": false,
    "pycharm": {
     "name": "#%%\n"
    }
   }
  }
 ],
 "metadata": {
  "kernelspec": {
   "display_name": "Python 3",
   "language": "python",
   "name": "python3"
  },
  "language_info": {
   "codemirror_mode": {
    "name": "ipython",
    "version": 2
   },
   "file_extension": ".py",
   "mimetype": "text/x-python",
   "name": "python",
   "nbconvert_exporter": "python",
   "pygments_lexer": "ipython2",
   "version": "2.7.6"
  }
 },
 "nbformat": 4,
 "nbformat_minor": 0
}