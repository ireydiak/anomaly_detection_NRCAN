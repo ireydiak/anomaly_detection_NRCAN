{
 "cells": [
  {
   "cell_type": "code",
   "execution_count": 1,
   "metadata": {
    "collapsed": true,
    "pycharm": {
     "name": "#%%\n"
    }
   },
   "outputs": [],
   "source": [
    "import pandas as pd\n",
    "import matplotlib.pyplot as plt\n",
    "import numpy as np"
   ]
  },
  {
   "cell_type": "code",
   "execution_count": 11,
   "outputs": [
    {
     "data": {
      "text/plain": "                # Instances test set  Misclassified count  \\\nBenign                       6742346              1167421   \nBot                           286191               145142   \nDDoS                         1263933               559054   \nDoS                           654300                22192   \nFTP-BruteForce                193360                18845   \nInfiltration                  161934               129410   \nSSH-Bruteforce                187589                    2   \nWeb Attack                       928                  383   \n\n                Misclassified ratio  Accuracy  \nBenign                     0.173148  0.826852  \nBot                        0.507151  0.492849  \nDDoS                       0.442313  0.557687  \nDoS                        0.033917  0.966083  \nFTP-BruteForce             0.097461  0.902539  \nInfiltration               0.799153  0.200847  \nSSH-Bruteforce             0.000011  0.999989  \nWeb Attack                 0.412716  0.587284  ",
      "text/html": "<div>\n<style scoped>\n    .dataframe tbody tr th:only-of-type {\n        vertical-align: middle;\n    }\n\n    .dataframe tbody tr th {\n        vertical-align: top;\n    }\n\n    .dataframe thead th {\n        text-align: right;\n    }\n</style>\n<table border=\"1\" class=\"dataframe\">\n  <thead>\n    <tr style=\"text-align: right;\">\n      <th></th>\n      <th># Instances test set</th>\n      <th>Misclassified count</th>\n      <th>Misclassified ratio</th>\n      <th>Accuracy</th>\n    </tr>\n  </thead>\n  <tbody>\n    <tr>\n      <th>Benign</th>\n      <td>6742346</td>\n      <td>1167421</td>\n      <td>0.173148</td>\n      <td>0.826852</td>\n    </tr>\n    <tr>\n      <th>Bot</th>\n      <td>286191</td>\n      <td>145142</td>\n      <td>0.507151</td>\n      <td>0.492849</td>\n    </tr>\n    <tr>\n      <th>DDoS</th>\n      <td>1263933</td>\n      <td>559054</td>\n      <td>0.442313</td>\n      <td>0.557687</td>\n    </tr>\n    <tr>\n      <th>DoS</th>\n      <td>654300</td>\n      <td>22192</td>\n      <td>0.033917</td>\n      <td>0.966083</td>\n    </tr>\n    <tr>\n      <th>FTP-BruteForce</th>\n      <td>193360</td>\n      <td>18845</td>\n      <td>0.097461</td>\n      <td>0.902539</td>\n    </tr>\n    <tr>\n      <th>Infiltration</th>\n      <td>161934</td>\n      <td>129410</td>\n      <td>0.799153</td>\n      <td>0.200847</td>\n    </tr>\n    <tr>\n      <th>SSH-Bruteforce</th>\n      <td>187589</td>\n      <td>2</td>\n      <td>0.000011</td>\n      <td>0.999989</td>\n    </tr>\n    <tr>\n      <th>Web Attack</th>\n      <td>928</td>\n      <td>383</td>\n      <td>0.412716</td>\n      <td>0.587284</td>\n    </tr>\n  </tbody>\n</table>\n</div>"
     },
     "execution_count": 11,
     "metadata": {},
     "output_type": "execute_result"
    }
   ],
   "source": [
    "ids2018_results = pd.read_csv(\n",
    "    \"ids2018/deepsvdd/deepsvdd_misclassifications.csv\",\n",
    "    index_col=0\n",
    ")\n",
    "ids2018_results = ids2018_results.sort_index()\n",
    "ids2018_results"
   ],
   "metadata": {
    "collapsed": false,
    "pycharm": {
     "name": "#%%\n"
    }
   }
  },
  {
   "cell_type": "code",
   "execution_count": 25,
   "outputs": [
    {
     "data": {
      "text/plain": "                # Instances test set  Misclassified count  \\\nBenign                       1136374               172471   \nBot                             1966                 1854   \nDDoS                          128027                 7312   \nDoS                           252658                72053   \nFTP-BruteForce                  7938                 7835   \nInfiltration                      36                    3   \nSSH-Bruteforce                  5897                 5889   \nWeb Attack                      2180                 2075   \n\n                Misclassified ratio  Accuracy  \nBenign                     0.151773  0.848227  \nBot                        0.943032  0.056968  \nDDoS                       0.057113  0.942887  \nDoS                        0.285180  0.714820  \nFTP-BruteForce             0.987024  0.012976  \nInfiltration               0.083333  0.916667  \nSSH-Bruteforce             0.998643  0.001357  \nWeb Attack                 0.951835  0.048165  ",
      "text/html": "<div>\n<style scoped>\n    .dataframe tbody tr th:only-of-type {\n        vertical-align: middle;\n    }\n\n    .dataframe tbody tr th {\n        vertical-align: top;\n    }\n\n    .dataframe thead th {\n        text-align: right;\n    }\n</style>\n<table border=\"1\" class=\"dataframe\">\n  <thead>\n    <tr style=\"text-align: right;\">\n      <th></th>\n      <th># Instances test set</th>\n      <th>Misclassified count</th>\n      <th>Misclassified ratio</th>\n      <th>Accuracy</th>\n    </tr>\n  </thead>\n  <tbody>\n    <tr>\n      <th>Benign</th>\n      <td>1136374</td>\n      <td>172471</td>\n      <td>0.151773</td>\n      <td>0.848227</td>\n    </tr>\n    <tr>\n      <th>Bot</th>\n      <td>1966</td>\n      <td>1854</td>\n      <td>0.943032</td>\n      <td>0.056968</td>\n    </tr>\n    <tr>\n      <th>DDoS</th>\n      <td>128027</td>\n      <td>7312</td>\n      <td>0.057113</td>\n      <td>0.942887</td>\n    </tr>\n    <tr>\n      <th>DoS</th>\n      <td>252658</td>\n      <td>72053</td>\n      <td>0.285180</td>\n      <td>0.714820</td>\n    </tr>\n    <tr>\n      <th>FTP-BruteForce</th>\n      <td>7938</td>\n      <td>7835</td>\n      <td>0.987024</td>\n      <td>0.012976</td>\n    </tr>\n    <tr>\n      <th>Infiltration</th>\n      <td>36</td>\n      <td>3</td>\n      <td>0.083333</td>\n      <td>0.916667</td>\n    </tr>\n    <tr>\n      <th>SSH-Bruteforce</th>\n      <td>5897</td>\n      <td>5889</td>\n      <td>0.998643</td>\n      <td>0.001357</td>\n    </tr>\n    <tr>\n      <th>Web Attack</th>\n      <td>2180</td>\n      <td>2075</td>\n      <td>0.951835</td>\n      <td>0.048165</td>\n    </tr>\n  </tbody>\n</table>\n</div>"
     },
     "execution_count": 25,
     "metadata": {},
     "output_type": "execute_result"
    }
   ],
   "source": [
    "ids2017_results = pd.read_csv(\n",
    "    \"ids2017/deepsvdd_experiments/deepsvdd_misclassifications.csv\",\n",
    "    index_col=0\n",
    ")\n",
    "ids2017_results = ids2017_results.rename(index={\"BENIGN\": \"Benign\", \"SSH-Patator\": \"SSH-Bruteforce\", \"FTP-Patator\": \"FTP-BruteForce\"})\n",
    "\n",
    "ids2017_results = ids2017_results.drop(index=[\"Heartbleed\", \"PortScan\"]).sort_index()\n",
    "ids2017_results"
   ],
   "metadata": {
    "collapsed": false,
    "pycharm": {
     "name": "#%%\n"
    }
   }
  },
  {
   "cell_type": "code",
   "execution_count": 27,
   "outputs": [],
   "source": [
    "# Sanity check\n",
    "for y_ids2018, y_ids2017 in zip(ids2018_results.index, ids2017_results.index):\n",
    "    if y_ids2018 != y_ids2017:\n",
    "        print(\"{} != {}\".format(y_ids2018, y_ids2017))"
   ],
   "metadata": {
    "collapsed": false,
    "pycharm": {
     "name": "#%%\n"
    }
   }
  },
  {
   "cell_type": "code",
   "execution_count": 28,
   "outputs": [
    {
     "data": {
      "text/plain": "<Figure size 1080x576 with 1 Axes>",
      "image/png": "[encoded data removed]"
     },
     "metadata": {},
     "output_type": "display_data"
    }
   ],
   "source": [
    "# create data\n",
    "x = np.arange(len(ids2018_results.index))\n",
    "y1 = ids2017_results[\"Accuracy\"]\n",
    "y2 = ids2018_results[\"Accuracy\"]\n",
    "width = 0.2\n",
    "\n",
    "f, ax = plt.subplots(figsize=(15, 8))\n",
    "# plot data in grouped manner of bar type\n",
    "ax.bar(x - 0.2, y1, width, color=\"blue\")\n",
    "ax.bar(x - 0.4, y2, width, color=\"orange\")\n",
    "\n",
    "plt.xticks(x, ids2018_results.index)\n",
    "plt.xlabel(\"Labels\")\n",
    "plt.ylabel(\"Accuracy\")\n",
    "plt.legend([\"IDS2017\", \"IDS2018\"])\n",
    "plt.show()"
   ],
   "metadata": {
    "collapsed": false,
    "pycharm": {
     "name": "#%%\n"
    }
   }
  }
 ],
 "metadata": {
  "kernelspec": {
   "display_name": "Python 3",
   "language": "python",
   "name": "python3"
  },
  "language_info": {
   "codemirror_mode": {
    "name": "ipython",
    "version": 2
   },
   "file_extension": ".py",
   "mimetype": "text/x-python",
   "name": "python",
   "nbconvert_exporter": "python",
   "pygments_lexer": "ipython2",
   "version": "2.7.6"
  }
 },
 "nbformat": 4,
 "nbformat_minor": 0
}