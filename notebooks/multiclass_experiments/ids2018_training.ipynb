{
 "cells": [
  {
   "cell_type": "code",
   "execution_count": 1,
   "metadata": {
    "collapsed": true,
    "pycharm": {
     "name": "#%%\n"
    }
   },
   "outputs": [],
   "source": [
    "%load_ext autoreload\n",
    "%autoreload 2\n",
    "import numpy as np\n",
    "from src.model.reconstruction import MemAutoEncoder, DAGMM\n",
    "from src.model.one_class import DeepSVDD\n",
    "from src.trainer.ids import MemAEIDSTrainer, DAGMMIDSTrainer, DeepSVDDIDSTrainer\n",
    "from src.datamanager.dataset import IDS2018Dataset\n",
    "from pathlib import Path"
   ]
  },
  {
   "cell_type": "code",
   "execution_count": 2,
   "outputs": [
    {
     "name": "stdout",
     "output_type": "stream",
     "text": [
      "arguments set\n"
     ]
    }
   ],
   "source": [
    "# Setup base folder structure\n",
    "dataset_path = \"../../data/IDS2018/ids2018.csv\"\n",
    "base_path = Path(\"./ids2018\")\n",
    "base_path.mkdir(exist_ok=True)\n",
    "\n",
    "# General arguments\n",
    "batch_size = 1024\n",
    "device = \"cuda\"\n",
    "act_fn = \"relu\"\n",
    "n_layers = 4\n",
    "compression_factor = 2\n",
    "lr = 1e-4\n",
    "n_epochs = 200\n",
    "thresh_mode = \"auto\"\n",
    "\n",
    "print(\"arguments set\")"
   ],
   "metadata": {
    "collapsed": false,
    "pycharm": {
     "name": "#%%\n"
    }
   }
  },
  {
   "cell_type": "markdown",
   "source": [
    "## Load data"
   ],
   "metadata": {
    "collapsed": false,
    "pycharm": {
     "name": "#%% md\n"
    }
   }
  },
  {
   "cell_type": "code",
   "execution_count": 3,
   "outputs": [
    {
     "name": "stdout",
     "output_type": "stream",
     "text": [
      "data loaded with shape (9490582, 66)\n"
     ]
    }
   ],
   "source": [
    "dataset = IDS2018Dataset(path=dataset_path, pct=0.5, seed=42)\n",
    "columns = dataset.columns[:-2]\n",
    "partial_anomaly_labels = np.unique(dataset.labels)\n",
    "train_ldr, test_ldr = dataset.loaders(batch_size=batch_size, seed=42)\n",
    "print(\"data loaded with shape {}\".format(dataset.shape()))\n",
    "\n",
    "# Use Arrhythmia for testing before launching a training session on the much larger IDS2018 dataset\n",
    "# from src.datamanager.dataset import ArrhythmiaDataset\n",
    "# dataset = ArrhythmiaDataset(path=\"C:\\\\Users\\\\verdi\\\\Documents\\\\Datasets\\\\Arrhythmia\\\\3_minified\\\\arrhythmia_normalized.npz\")\n",
    "# batch_size = 8\n",
    "# train_ldr, test_ldr = dataset.loaders(batch_size=batch_size, seed=42)\n",
    "# print(\"data loaded with shape {}\".format(dataset.shape()))"
   ],
   "metadata": {
    "collapsed": false,
    "pycharm": {
     "name": "#%%\n"
    }
   }
  },
  {
   "cell_type": "markdown",
   "source": [
    "## DeepSVDD Training"
   ],
   "metadata": {
    "collapsed": false,
    "pycharm": {
     "name": "#%% md\n"
    }
   }
  },
  {
   "cell_type": "code",
   "execution_count": null,
   "outputs": [
    {
     "name": "stdout",
     "output_type": "stream",
     "text": [
      "Initializing center c...\n"
     ]
    },
    {
     "name": "stderr",
     "output_type": "stream",
     "text": [
      "  0%|          | 12/3293 [00:00<00:50, 64.81it/s, epoch=1, loss=0.095]"
     ]
    },
    {
     "name": "stdout",
     "output_type": "stream",
     "text": [
      "Center c initialized.\n",
      "Started training\n"
     ]
    },
    {
     "name": "stderr",
     "output_type": "stream",
     "text": [
      "100%|██████████| 3293/3293 [00:25<00:00, 128.96it/s, epoch=1, loss=0.527]\n",
      "100%|██████████| 3293/3293 [00:25<00:00, 128.05it/s, epoch=2, loss=0.000]\n",
      "100%|██████████| 3293/3293 [00:25<00:00, 127.97it/s, epoch=3, loss=0.000]\n",
      "100%|██████████| 3293/3293 [00:25<00:00, 128.88it/s, epoch=4, loss=0.000]\n",
      "100%|██████████| 3293/3293 [00:25<00:00, 128.16it/s, epoch=5, loss=0.000]\n",
      "100%|██████████| 3293/3293 [00:25<00:00, 128.56it/s, epoch=6, loss=0.000]\n",
      "100%|██████████| 3293/3293 [00:25<00:00, 127.77it/s, epoch=7, loss=0.000]\n",
      "100%|██████████| 3293/3293 [00:25<00:00, 127.90it/s, epoch=8, loss=0.000]\n",
      "100%|██████████| 3293/3293 [00:25<00:00, 127.39it/s, epoch=9, loss=0.000]\n",
      "100%|██████████| 3293/3293 [00:25<00:00, 127.71it/s, epoch=10, loss=0.000]\n",
      "100%|██████████| 3293/3293 [00:25<00:00, 127.75it/s, epoch=11, loss=0.000]\n",
      "100%|██████████| 3293/3293 [00:26<00:00, 126.39it/s, epoch=12, loss=0.000]\n",
      "100%|██████████| 3293/3293 [00:25<00:00, 127.45it/s, epoch=13, loss=0.000]\n",
      "100%|██████████| 3293/3293 [00:25<00:00, 126.94it/s, epoch=14, loss=0.000]\n",
      "100%|██████████| 3293/3293 [00:25<00:00, 126.84it/s, epoch=15, loss=0.000]\n",
      "100%|██████████| 3293/3293 [00:25<00:00, 126.97it/s, epoch=16, loss=0.000]\n",
      "100%|██████████| 3293/3293 [00:26<00:00, 126.35it/s, epoch=17, loss=0.000]\n",
      "100%|██████████| 3293/3293 [00:25<00:00, 127.00it/s, epoch=18, loss=0.000]\n",
      "100%|██████████| 3293/3293 [00:25<00:00, 126.84it/s, epoch=19, loss=0.000]\n",
      "100%|██████████| 3293/3293 [00:25<00:00, 126.87it/s, epoch=20, loss=0.000]\n",
      "100%|██████████| 3293/3293 [00:26<00:00, 126.61it/s, epoch=21, loss=0.000]\n",
      "100%|██████████| 3293/3293 [00:26<00:00, 126.28it/s, epoch=22, loss=0.000]\n",
      "100%|██████████| 3293/3293 [00:26<00:00, 126.33it/s, epoch=23, loss=0.000]\n",
      "100%|██████████| 3293/3293 [00:25<00:00, 127.28it/s, epoch=24, loss=0.000]\n",
      "100%|██████████| 3293/3293 [00:25<00:00, 127.09it/s, epoch=25, loss=0.000]\n",
      "100%|██████████| 3293/3293 [00:26<00:00, 126.46it/s, epoch=26, loss=0.000]\n",
      "100%|██████████| 3293/3293 [00:26<00:00, 126.31it/s, epoch=27, loss=0.000]\n",
      "100%|██████████| 3293/3293 [00:25<00:00, 127.08it/s, epoch=28, loss=0.000]\n",
      "100%|██████████| 3293/3293 [00:25<00:00, 126.81it/s, epoch=29, loss=0.000]\n",
      "100%|██████████| 3293/3293 [00:26<00:00, 126.50it/s, epoch=30, loss=0.000]\n",
      "100%|██████████| 3293/3293 [00:26<00:00, 126.64it/s, epoch=31, loss=0.000]\n",
      "100%|██████████| 3293/3293 [00:26<00:00, 125.84it/s, epoch=32, loss=0.000]\n",
      "100%|██████████| 3293/3293 [00:26<00:00, 126.34it/s, epoch=33, loss=0.000]\n",
      "100%|██████████| 3293/3293 [00:26<00:00, 126.56it/s, epoch=34, loss=0.000]\n",
      "100%|██████████| 3293/3293 [00:26<00:00, 125.98it/s, epoch=35, loss=0.000]\n",
      "100%|██████████| 3293/3293 [00:26<00:00, 126.22it/s, epoch=36, loss=0.000]\n",
      "100%|██████████| 3293/3293 [00:26<00:00, 125.61it/s, epoch=37, loss=0.000]\n",
      "100%|██████████| 3293/3293 [00:26<00:00, 126.23it/s, epoch=38, loss=0.000]\n",
      "100%|██████████| 3293/3293 [00:26<00:00, 125.40it/s, epoch=39, loss=0.000]\n",
      "100%|██████████| 3293/3293 [00:26<00:00, 126.10it/s, epoch=40, loss=0.000]\n",
      "100%|██████████| 3293/3293 [00:26<00:00, 125.69it/s, epoch=41, loss=0.000]\n",
      "100%|██████████| 3293/3293 [00:26<00:00, 124.99it/s, epoch=42, loss=0.000]\n",
      "100%|██████████| 3293/3293 [00:26<00:00, 125.28it/s, epoch=43, loss=0.000]\n",
      "100%|██████████| 3293/3293 [00:26<00:00, 125.82it/s, epoch=44, loss=0.000]\n",
      "100%|██████████| 3293/3293 [00:26<00:00, 125.50it/s, epoch=45, loss=0.000]\n",
      "100%|██████████| 3293/3293 [00:26<00:00, 125.88it/s, epoch=46, loss=0.000]\n",
      "100%|██████████| 3293/3293 [00:26<00:00, 124.92it/s, epoch=47, loss=0.000]\n",
      "100%|██████████| 3293/3293 [00:26<00:00, 126.08it/s, epoch=48, loss=0.000]\n",
      "100%|██████████| 3293/3293 [00:26<00:00, 125.49it/s, epoch=49, loss=0.000]\n",
      "100%|██████████| 3293/3293 [00:26<00:00, 125.64it/s, epoch=50, loss=0.000]\n",
      "100%|██████████| 3293/3293 [00:26<00:00, 126.51it/s, epoch=51, loss=0.000]\n",
      "100%|██████████| 3293/3293 [00:26<00:00, 125.92it/s, epoch=52, loss=0.000]\n",
      "100%|██████████| 3293/3293 [00:26<00:00, 126.16it/s, epoch=53, loss=0.000]\n",
      "100%|██████████| 3293/3293 [00:26<00:00, 126.57it/s, epoch=54, loss=0.000]\n",
      "100%|██████████| 3293/3293 [00:26<00:00, 126.23it/s, epoch=55, loss=0.000]\n",
      "100%|██████████| 3293/3293 [00:25<00:00, 126.95it/s, epoch=56, loss=0.000]\n",
      "100%|██████████| 3293/3293 [00:26<00:00, 126.13it/s, epoch=57, loss=0.000]\n",
      "100%|██████████| 3293/3293 [00:26<00:00, 126.39it/s, epoch=58, loss=0.000]\n",
      "100%|██████████| 3293/3293 [00:26<00:00, 126.53it/s, epoch=59, loss=0.000]\n",
      "100%|██████████| 3293/3293 [00:26<00:00, 126.47it/s, epoch=60, loss=0.000]\n",
      "100%|██████████| 3293/3293 [00:25<00:00, 126.70it/s, epoch=61, loss=0.000]\n",
      "100%|██████████| 3293/3293 [00:26<00:00, 126.00it/s, epoch=62, loss=0.000]\n",
      "100%|██████████| 3293/3293 [00:26<00:00, 126.43it/s, epoch=63, loss=0.000]\n",
      "100%|██████████| 3293/3293 [00:25<00:00, 127.11it/s, epoch=64, loss=0.000]\n",
      "100%|██████████| 3293/3293 [00:26<00:00, 126.52it/s, epoch=65, loss=0.000]\n",
      "100%|██████████| 3293/3293 [00:25<00:00, 126.73it/s, epoch=66, loss=0.000]\n",
      "100%|██████████| 3293/3293 [00:25<00:00, 126.71it/s, epoch=67, loss=0.000]\n",
      "100%|██████████| 3293/3293 [00:25<00:00, 126.87it/s, epoch=68, loss=0.000]\n",
      "100%|██████████| 3293/3293 [00:25<00:00, 126.78it/s, epoch=69, loss=0.000]\n",
      "100%|██████████| 3293/3293 [00:26<00:00, 126.36it/s, epoch=70, loss=0.000]\n",
      "100%|██████████| 3293/3293 [00:25<00:00, 126.84it/s, epoch=71, loss=0.000]\n",
      "100%|██████████| 3293/3293 [00:26<00:00, 125.80it/s, epoch=72, loss=0.000]\n",
      "100%|██████████| 3293/3293 [00:26<00:00, 126.34it/s, epoch=73, loss=0.000]\n",
      "100%|██████████| 3293/3293 [00:25<00:00, 127.04it/s, epoch=74, loss=0.000]\n",
      "100%|██████████| 3293/3293 [00:25<00:00, 126.83it/s, epoch=75, loss=0.000]\n",
      "100%|██████████| 3293/3293 [00:25<00:00, 127.15it/s, epoch=76, loss=0.000]\n",
      "100%|██████████| 3293/3293 [00:25<00:00, 126.75it/s, epoch=77, loss=0.000]\n",
      "100%|██████████| 3293/3293 [00:25<00:00, 127.44it/s, epoch=78, loss=0.000]\n",
      "100%|██████████| 3293/3293 [00:25<00:00, 127.06it/s, epoch=79, loss=0.000]\n",
      "100%|██████████| 3293/3293 [00:25<00:00, 126.74it/s, epoch=80, loss=0.000]\n",
      "100%|██████████| 3293/3293 [00:25<00:00, 126.80it/s, epoch=81, loss=0.000]\n",
      "100%|██████████| 3293/3293 [00:26<00:00, 126.21it/s, epoch=82, loss=0.000]\n",
      "100%|██████████| 3293/3293 [00:26<00:00, 124.40it/s, epoch=83, loss=0.000]\n",
      "100%|██████████| 3293/3293 [00:26<00:00, 123.42it/s, epoch=84, loss=0.000]\n",
      "100%|██████████| 3293/3293 [00:26<00:00, 124.60it/s, epoch=85, loss=0.000]\n",
      "100%|██████████| 3293/3293 [00:25<00:00, 128.31it/s, epoch=86, loss=0.000]\n",
      "100%|██████████| 3293/3293 [00:26<00:00, 124.57it/s, epoch=87, loss=0.000]\n",
      "100%|██████████| 3293/3293 [00:25<00:00, 130.54it/s, epoch=88, loss=0.000]\n",
      "100%|██████████| 3293/3293 [00:26<00:00, 125.67it/s, epoch=89, loss=0.000]\n",
      "100%|██████████| 3293/3293 [00:25<00:00, 130.12it/s, epoch=90, loss=0.000]\n",
      "100%|██████████| 3293/3293 [00:26<00:00, 122.72it/s, epoch=91, loss=0.000]\n",
      " 11%|█         | 346/3293 [00:02<00:21, 138.22it/s, epoch=92, loss=0.000]"
     ]
    }
   ],
   "source": [
    "# Create folder structure\n",
    "export_path = base_path.joinpath(\"deepsvdd\")\n",
    "ckpt_path = export_path.joinpath(\"checkpoint\")\n",
    "ckpt_path.mkdir(parents=True, exist_ok=True)\n",
    "\n",
    "# Setup model and trainer\n",
    "dsvdd_model = DeepSVDD(\n",
    "    in_features=dataset.in_features,\n",
    "    n_instances=dataset.n_instances,\n",
    "    device=device,\n",
    "    n_layers=n_layers,\n",
    "    compression_factor=compression_factor,\n",
    "    act_fn=act_fn,\n",
    ")\n",
    "dsvdd_trainer = DeepSVDDIDSTrainer(\n",
    "    validation_ldr=test_ldr,\n",
    "    model=dsvdd_model,\n",
    "    batch_size=batch_size,\n",
    "    lr=lr,\n",
    "    n_epochs=n_epochs,\n",
    "    device=device,\n",
    "    ckpt_root=str(ckpt_path.absolute()),\n",
    "    run_test_validation=True,\n",
    "    keep_ckpt=True,\n",
    "    thresh_mode=thresh_mode\n",
    ")\n",
    "# Train and plot validation set\n",
    "dsvdd_trainer.train(train_ldr)\n",
    "figname = str(export_path.absolute()) + \"\\\\IDS2018_thresh-auto.png\"\n",
    "dsvdd_trainer.plot_metrics(figname=figname)"
   ],
   "metadata": {
    "collapsed": false,
    "pycharm": {
     "name": "#%%\n",
     "is_executing": true
    }
   }
  },
  {
   "cell_type": "code",
   "execution_count": null,
   "outputs": [],
   "source": [
    "# Save memory\n",
    "del dsvdd_trainer\n",
    "del dsvdd_model"
   ],
   "metadata": {
    "collapsed": false,
    "pycharm": {
     "name": "#%%\n",
     "is_executing": true
    }
   }
  },
  {
   "cell_type": "markdown",
   "source": [
    "## DAGMM Training"
   ],
   "metadata": {
    "collapsed": false,
    "pycharm": {
     "name": "#%% md\n"
    }
   }
  },
  {
   "cell_type": "code",
   "execution_count": null,
   "outputs": [],
   "source": [
    "# Create folder structure\n",
    "export_path = base_path.joinpath(\"dagmm\")\n",
    "ckpt_path = export_path.joinpath(\"checkpoint\")\n",
    "ckpt_path.mkdir(parents=True, exist_ok=True)\n",
    "\n",
    "# Set DAGMM-specific hyperparameters\n",
    "n_mixtures = 4\n",
    "latent_dim = 1\n",
    "lambda_1 = 0.005\n",
    "lambda_2 = 0.1\n",
    "reg_covar=1e-6\n",
    "dagmm_best_epoch = 11\n",
    "\n",
    "# Setup model and trainers\n",
    "dagmm_model = DAGMM(\n",
    "    in_features=dataset.in_features,\n",
    "    n_instances=dataset.n_instances,\n",
    "    device=device,\n",
    "    n_mixtures=n_mixtures,\n",
    "    latent_dim=latent_dim,\n",
    "    lambda_1=lambda_1,\n",
    "    lambda_2=lambda_2,\n",
    "    reg_covar=reg_covar,\n",
    "    n_layers=n_layers,\n",
    "    compression_factor=compression_factor,\n",
    "    ae_act_fn=\"relu\",\n",
    "    gmm_act_fn=\"relu\"\n",
    ")\n",
    "dagmm_trainer = DAGMMIDSTrainer(\n",
    "    validation_ldr=test_ldr,\n",
    "    device=device,\n",
    "    model=dagmm_model,\n",
    "    batch_size=batch_size,\n",
    "    lr=lr,\n",
    "    n_epochs=n_epochs,\n",
    "    ckpt_root=str(ckpt_path.absolute()),\n",
    "    run_test_validation=True,\n",
    "    thresh_mode=thresh_mode\n",
    ")\n",
    "# Train and plot validation set\n",
    "dagmm_trainer.train(train_ldr)\n",
    "figname = str(export_path.absolute()) + \"\\\\IDS2018_thresh-auto.png\"\n",
    "dagmm_trainer.plot_metrics(figname=figname)"
   ],
   "metadata": {
    "collapsed": false,
    "pycharm": {
     "name": "#%%\n",
     "is_executing": true
    }
   }
  },
  {
   "cell_type": "code",
   "execution_count": null,
   "outputs": [],
   "source": [
    "# Save memory\n",
    "del dagmm_model\n",
    "del dagmm_trainer"
   ],
   "metadata": {
    "collapsed": false,
    "pycharm": {
     "name": "#%%\n",
     "is_executing": true
    }
   }
  },
  {
   "cell_type": "markdown",
   "source": [
    "## MemAE training"
   ],
   "metadata": {
    "collapsed": false,
    "pycharm": {
     "name": "#%% md\n"
    }
   }
  },
  {
   "cell_type": "code",
   "execution_count": null,
   "outputs": [],
   "source": [
    "# Create folder structure\n",
    "export_path = base_path.joinpath(\"memae\")\n",
    "ckpt_path = export_path.joinpath(\"checkpoint\")\n",
    "ckpt_path.mkdir(parents=True, exist_ok=True)\n",
    "\n",
    "# Set MemAE-specific hyperparameters\n",
    "latent_dim = 1\n",
    "mem_dim = 50\n",
    "shrink_thres = 0.0025\n",
    "n_layers = 4\n",
    "compression_factor = 2\n",
    "act_fn = \"relu\"\n",
    "alpha = 2e-4\n",
    "\n",
    "# Setup model and trainers\n",
    "memae_model = MemAutoEncoder(\n",
    "    in_features=dataset.in_features,\n",
    "    n_instances=dataset.n_instances,\n",
    "    device=device,\n",
    "    mem_dim=mem_dim,\n",
    "    latent_dim=latent_dim,\n",
    "    shrink_thres=shrink_thres,\n",
    "    n_layers=n_layers,\n",
    "    compression_factor=2,\n",
    "    alpha=2e-4,\n",
    "    act_fn=\"relu\",\n",
    ")\n",
    "memae_trainer = MemAEIDSTrainer(\n",
    "    validation_ldr=test_ldr,\n",
    "    device=device,\n",
    "    model=memae_model,\n",
    "    batch_size=batch_size,\n",
    "    lr=lr,\n",
    "    n_epochs=n_epochs,\n",
    "    ckpt_root=str(ckpt_path.absolute()),\n",
    "    run_test_validation=True,\n",
    "    keep_ckpt=True,\n",
    "    thresh_mode=thresh_mode\n",
    ")\n",
    "# Train and plot validation set\n",
    "memae_trainer.train(train_ldr)\n",
    "figname = str(export_path.absolute()) + \"\\\\IDS2018_thresh-auto.png\"\n",
    "memae_trainer.plot_metrics(figname=figname)"
   ],
   "metadata": {
    "collapsed": false,
    "pycharm": {
     "name": "#%%\n",
     "is_executing": true
    }
   }
  },
  {
   "cell_type": "code",
   "execution_count": null,
   "outputs": [],
   "source": [
    "del memae_model\n",
    "del memae_trainer"
   ],
   "metadata": {
    "collapsed": false,
    "pycharm": {
     "name": "#%%\n",
     "is_executing": true
    }
   }
  }
 ],
 "metadata": {
  "kernelspec": {
   "display_name": "Python 3",
   "language": "python",
   "name": "python3"
  },
  "language_info": {
   "codemirror_mode": {
    "name": "ipython",
    "version": 2
   },
   "file_extension": ".py",
   "mimetype": "text/x-python",
   "name": "python",
   "nbconvert_exporter": "python",
   "pygments_lexer": "ipython2",
   "version": "2.7.6"
  }
 },
 "nbformat": 4,
 "nbformat_minor": 0
}