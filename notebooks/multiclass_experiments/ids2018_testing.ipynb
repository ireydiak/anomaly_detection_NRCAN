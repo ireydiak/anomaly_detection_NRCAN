{
 "cells": [
  {
   "cell_type": "code",
   "execution_count": 1,
   "metadata": {
    "collapsed": true,
    "pycharm": {
     "name": "#%%\n"
    }
   },
   "outputs": [],
   "source": [
    "%load_ext autoreload\n",
    "%autoreload 2\n",
    "import numpy as np\n",
    "import seaborn as sns\n",
    "import os\n",
    "import matplotlib.pyplot as plt\n",
    "from src.model.reconstruction import MemAutoEncoder, DAGMM\n",
    "from src.model.one_class import DeepSVDD\n",
    "from src.trainer.ids import MemAEIDSTrainer, DAGMMIDSTrainer, DeepSVDDIDSTrainer\n",
    "from src.datamanager.dataset import IDS2018Dataset\n",
    "from src.utils import metrics\n",
    "from src.utils.utils import ids_misclf_per_label\n"
   ]
  },
  {
   "cell_type": "code",
   "execution_count": 2,
   "outputs": [
    {
     "name": "stdout",
     "output_type": "stream",
     "text": [
      "arguments set\n"
     ]
    }
   ],
   "source": [
    "# Setup base folder structure\n",
    "dataset_path = \"../../data/IDS2018/ids2018.csv\"\n",
    "#base_path = \"ids2018/thresh-optim\"\n",
    "\n",
    "# General arguments\n",
    "batch_size = 1024\n",
    "device = \"cuda\"\n",
    "act_fn = \"relu\"\n",
    "n_layers = 4\n",
    "compression_factor = 2\n",
    "lr = 1e-4\n",
    "n_epochs = 200\n",
    "thresh_mode = \"auto\"\n",
    "\n",
    "print(\"arguments set\")"
   ],
   "metadata": {
    "collapsed": false,
    "pycharm": {
     "name": "#%%\n"
    }
   }
  },
  {
   "cell_type": "code",
   "execution_count": 20,
   "outputs": [],
   "source": [
    "def misclf_barplot(\n",
    "        df,\n",
    "        fname\n",
    "):\n",
    "    sns.set_theme(style=\"whitegrid\")\n",
    "\n",
    "    # Initialize the matplotlib figure\n",
    "    f, axs = plt.subplots(figsize=(8, 7))\n",
    "\n",
    "    # Plot correct classification rate\n",
    "    sns.set_color_codes(\"muted\")\n",
    "    sns.barplot(\n",
    "        x=df[\"Accuracy\"] * 100,\n",
    "        y=df.index,\n",
    "        data=df,\n",
    "        label=\"Accuracy\",\n",
    "        color=\"b\",\n",
    "        ax=axs\n",
    "    )\n",
    "\n",
    "    # Add a legend and informative axis label\n",
    "    axs.legend(ncol=2, loc=\"lower right\", frameon=True)\n",
    "    axs.set(xlim=(0, 100), ylabel=\"\")\n",
    "    sns.despine(left=True, bottom=True)\n",
    "    f.savefig(\"{}.png\".format(fname))\n",
    "    f.savefig(\"{}.pdf\".format(fname))"
   ],
   "metadata": {
    "collapsed": false,
    "pycharm": {
     "name": "#%%\n"
    }
   }
  },
  {
   "cell_type": "markdown",
   "source": [
    "## Load data"
   ],
   "metadata": {
    "collapsed": false,
    "pycharm": {
     "name": "#%% md\n"
    }
   }
  },
  {
   "cell_type": "code",
   "execution_count": 4,
   "outputs": [
    {
     "name": "stdout",
     "output_type": "stream",
     "text": [
      "data loaded with shape (16232928, 66)\n"
     ]
    }
   ],
   "source": [
    "dataset = IDS2018Dataset(path=dataset_path, seed=13)\n",
    "columns = dataset.columns[:-2]\n",
    "partial_anomaly_labels = np.unique(dataset.labels)\n",
    "train_ldr, test_ldr = dataset.loaders(batch_size=batch_size, seed=13)\n",
    "print(\"data loaded with shape {}\".format(dataset.shape))\n",
    "\n",
    "# Use Arrhythmia for testing before launching a training session on the much larger IDS2018 dataset\n",
    "# from src.datamanager.dataset import ArrhythmiaDataset\n",
    "# dataset = ArrhythmiaDataset(path=\"C:\\\\Users\\\\verdi\\\\Documents\\\\Datasets\\\\Arrhythmia\\\\3_minified\\\\arrhythmia_normalized.npz\")\n",
    "# batch_size = 8\n",
    "# train_ldr, test_ldr = dataset.loaders(batch_size=batch_size, seed=42)\n",
    "# print(\"data loaded with shape {}\".format(dataset.shape()))"
   ],
   "metadata": {
    "collapsed": false,
    "pycharm": {
     "name": "#%%\n"
    }
   }
  },
  {
   "cell_type": "code",
   "execution_count": 29,
   "outputs": [
    {
     "data": {
      "text/plain": "{'Benign',\n 'Bot',\n 'DDoS',\n 'DoS',\n 'FTP-BruteForce',\n 'Infiltration',\n 'SSH-Bruteforce',\n 'Web Attack'}"
     },
     "execution_count": 29,
     "metadata": {},
     "output_type": "execute_result"
    }
   ],
   "source": [
    "# Check if test set contains the different attack scenarios\n",
    "labels = set()\n",
    "for sample in test_ldr:\n",
    "    X, y, label = sample\n",
    "    for l in label:\n",
    "        labels.add(l)\n",
    "labels"
   ],
   "metadata": {
    "collapsed": false,
    "pycharm": {
     "name": "#%%\n"
    }
   }
  },
  {
   "cell_type": "markdown",
   "source": [
    "## DeepSVDD Testing"
   ],
   "metadata": {
    "collapsed": false,
    "pycharm": {
     "name": "#%% md\n"
    }
   }
  },
  {
   "cell_type": "code",
   "execution_count": 5,
   "outputs": [],
   "source": [
    "# Setup model and trainer\n",
    "dsvdd_model = DeepSVDD(\n",
    "    in_features=dataset.in_features,\n",
    "    n_instances=dataset.n_instances,\n",
    "    device=device,\n",
    "    n_layers=n_layers,\n",
    "    compression_factor=compression_factor,\n",
    "    act_fn=act_fn,\n",
    ")\n",
    "dsvdd_trainer = DeepSVDDIDSTrainer(\n",
    "    validation_ldr=test_ldr,\n",
    "    model=dsvdd_model,\n",
    "    batch_size=batch_size,\n",
    "    lr=lr,\n",
    "    n_epochs=n_epochs,\n",
    "    device=device,\n",
    "    run_test_validation=False,\n",
    "    keep_ckpt=False,\n",
    ")"
   ],
   "metadata": {
    "collapsed": false,
    "pycharm": {
     "name": "#%%\n"
    }
   }
  },
  {
   "cell_type": "code",
   "execution_count": 7,
   "outputs": [
    {
     "name": "stdout",
     "output_type": "stream",
     "text": [
      "Best F1-Score=0.6146 obtained at Epoch=21\n"
     ]
    },
    {
     "data": {
      "text/plain": "21"
     },
     "execution_count": 7,
     "metadata": {},
     "output_type": "execute_result"
    }
   ],
   "source": [
    "dsvdd_last_fname = os.path.abspath(\"ids2018/deepsvdd/checkpoint/deepsvdd_epoch=46.pt\")\n",
    "dsvdd_trainer, dsvdd_model = DeepSVDDIDSTrainer.load_from_file(dsvdd_last_fname, dsvdd_trainer, dsvdd_model)\n",
    "f1_scores = dsvdd_trainer.metric_values[\"f1-score\"]\n",
    "best_f1_deepsvdd, best_epoch_deepsvdd = np.max(f1_scores), np.argmax(f1_scores) * 5 + 1\n",
    "print(\"Best F1-Score={:2.4f} obtained at Epoch={}\".format(best_f1_deepsvdd, best_epoch_deepsvdd))\n",
    "best_epoch_deepsvdd"
   ],
   "metadata": {
    "collapsed": false,
    "pycharm": {
     "name": "#%%\n"
    }
   }
  },
  {
   "cell_type": "code",
   "execution_count": 8,
   "outputs": [
    {
     "data": {
      "text/plain": "{'Precision': 0.6160592482868671,\n 'Recall': 0.6816036474318972,\n 'F1-Score': 0.6471761380429973,\n 'AUPR': 0.6501395124429244,\n 'AUROC': 0.7390802146379644,\n 'Thresh_star': 4.995404090379907e-11,\n 'Quantile_star': 67.96169184622484}"
     },
     "execution_count": 8,
     "metadata": {},
     "output_type": "execute_result"
    }
   ],
   "source": [
    "dsvdd_best_fname = os.path.abspath(\"./ids2018/deepsvdd/checkpoint/deepsvdd_epoch={}.pt\".format(best_epoch_deepsvdd))\n",
    "dsvdd_trainer, dsvdd_model = DeepSVDDIDSTrainer.load_from_file(dsvdd_best_fname, dsvdd_trainer, dsvdd_model)\n",
    "y_test_true, test_scores, test_labels = dsvdd_trainer.test(test_ldr)\n",
    "results = metrics.estimate_optimal_threshold(test_scores, y_test_true)\n",
    "y_pred = (test_scores >= results[\"Thresh_star\"]).astype(int)\n",
    "results"
   ],
   "metadata": {
    "collapsed": false,
    "pycharm": {
     "name": "#%%\n"
    }
   }
  },
  {
   "cell_type": "code",
   "execution_count": 22,
   "outputs": [
    {
     "data": {
      "text/plain": "                # Instances test set  Misclassified count  \\\nInfiltration                  161934               129410   \nBot                           286191               145142   \nDDoS                         1263933               559054   \nWeb Attack                       928                  383   \nBenign                       6742346              1167421   \nFTP-BruteForce                193360                18845   \nDoS                           654300                22192   \nSSH-Bruteforce                187589                    2   \n\n                Misclassified ratio  Accuracy  \nInfiltration               0.799153  0.200847  \nBot                        0.507151  0.492849  \nDDoS                       0.442313  0.557687  \nWeb Attack                 0.412716  0.587284  \nBenign                     0.173148  0.826852  \nFTP-BruteForce             0.097461  0.902539  \nDoS                        0.033917  0.966083  \nSSH-Bruteforce             0.000011  0.999989  ",
      "text/html": "<div>\n<style scoped>\n    .dataframe tbody tr th:only-of-type {\n        vertical-align: middle;\n    }\n\n    .dataframe tbody tr th {\n        vertical-align: top;\n    }\n\n    .dataframe thead th {\n        text-align: right;\n    }\n</style>\n<table border=\"1\" class=\"dataframe\">\n  <thead>\n    <tr style=\"text-align: right;\">\n      <th></th>\n      <th># Instances test set</th>\n      <th>Misclassified count</th>\n      <th>Misclassified ratio</th>\n      <th>Accuracy</th>\n    </tr>\n  </thead>\n  <tbody>\n    <tr>\n      <th>Infiltration</th>\n      <td>161934</td>\n      <td>129410</td>\n      <td>0.799153</td>\n      <td>0.200847</td>\n    </tr>\n    <tr>\n      <th>Bot</th>\n      <td>286191</td>\n      <td>145142</td>\n      <td>0.507151</td>\n      <td>0.492849</td>\n    </tr>\n    <tr>\n      <th>DDoS</th>\n      <td>1263933</td>\n      <td>559054</td>\n      <td>0.442313</td>\n      <td>0.557687</td>\n    </tr>\n    <tr>\n      <th>Web Attack</th>\n      <td>928</td>\n      <td>383</td>\n      <td>0.412716</td>\n      <td>0.587284</td>\n    </tr>\n    <tr>\n      <th>Benign</th>\n      <td>6742346</td>\n      <td>1167421</td>\n      <td>0.173148</td>\n      <td>0.826852</td>\n    </tr>\n    <tr>\n      <th>FTP-BruteForce</th>\n      <td>193360</td>\n      <td>18845</td>\n      <td>0.097461</td>\n      <td>0.902539</td>\n    </tr>\n    <tr>\n      <th>DoS</th>\n      <td>654300</td>\n      <td>22192</td>\n      <td>0.033917</td>\n      <td>0.966083</td>\n    </tr>\n    <tr>\n      <th>SSH-Bruteforce</th>\n      <td>187589</td>\n      <td>2</td>\n      <td>0.000011</td>\n      <td>0.999989</td>\n    </tr>\n  </tbody>\n</table>\n</div>"
     },
     "execution_count": 22,
     "metadata": {},
     "output_type": "execute_result"
    }
   ],
   "source": [
    "# Misclassified instances per label\n",
    "deepsvdd_misclf_df = ids_misclf_per_label(y_pred, y_test_true, test_labels)\n",
    "deepsvdd_misclf_df[\"Accuracy\"] = 1 - deepsvdd_misclf_df[\"Misclassified ratio\"]\n",
    "deepsvdd_misclf_df = deepsvdd_misclf_df.sort_values(\"Misclassified ratio\", ascending=False)\n",
    "deepsvdd_misclf_df.to_csv(\"./ids2018/deepsvdd/deepsvdd_misclassifications.csv\")\n",
    "deepsvdd_misclf_df"
   ],
   "metadata": {
    "collapsed": false,
    "pycharm": {
     "name": "#%%\n"
    }
   }
  },
  {
   "cell_type": "code",
   "execution_count": 21,
   "outputs": [
    {
     "data": {
      "text/plain": "<Figure size 576x504 with 1 Axes>",
      "image/png": "[encoded data removed]"
     },
     "metadata": {},
     "output_type": "display_data"
    }
   ],
   "source": [
    "misclf_barplot(deepsvdd_misclf_df, \"./ids2018/deepsvdd/deepsvdd_classifiation_rates\")"
   ],
   "metadata": {
    "collapsed": false,
    "pycharm": {
     "name": "#%%\n"
    }
   }
  },
  {
   "cell_type": "code",
   "execution_count": 20,
   "outputs": [],
   "source": [
    "# Save memory\n",
    "del dsvdd_trainer\n",
    "del dsvdd_model"
   ],
   "metadata": {
    "collapsed": false,
    "pycharm": {
     "name": "#%%\n"
    }
   }
  },
  {
   "cell_type": "markdown",
   "source": [
    "## DAGMM Testing"
   ],
   "metadata": {
    "collapsed": false,
    "pycharm": {
     "name": "#%% md\n"
    }
   }
  },
  {
   "cell_type": "code",
   "execution_count": 5,
   "outputs": [],
   "source": [
    "# Set DAGMM-specific hyperparameters\n",
    "n_mixtures = 4\n",
    "latent_dim = 1\n",
    "lambda_1 = 0.005\n",
    "lambda_2 = 0.1\n",
    "reg_covar=1e-6\n",
    "\n",
    "# Setup model and trainers\n",
    "dagmm_model = DAGMM(\n",
    "    in_features=dataset.in_features,\n",
    "    n_instances=dataset.n_instances,\n",
    "    device=device,\n",
    "    n_mixtures=n_mixtures,\n",
    "    latent_dim=latent_dim,\n",
    "    lambda_1=lambda_1,\n",
    "    lambda_2=lambda_2,\n",
    "    reg_covar=reg_covar,\n",
    "    n_layers=n_layers,\n",
    "    compression_factor=compression_factor,\n",
    "    ae_act_fn=\"relu\",\n",
    "    gmm_act_fn=\"relu\"\n",
    ")\n",
    "dagmm_trainer = DAGMMIDSTrainer(\n",
    "    validation_ldr=test_ldr,\n",
    "    device=device,\n",
    "    model=dagmm_model,\n",
    "    batch_size=batch_size,\n",
    "    lr=lr,\n",
    "    n_epochs=n_epochs,\n",
    "    run_test_validation=False,\n",
    "    keep_ckpt=False,\n",
    "    thresh_mode=thresh_mode\n",
    ")"
   ],
   "metadata": {
    "collapsed": false,
    "pycharm": {
     "name": "#%%\n"
    }
   }
  },
  {
   "cell_type": "code",
   "execution_count": 22,
   "outputs": [
    {
     "ename": "KeyError",
     "evalue": "'metric_values'",
     "output_type": "error",
     "traceback": [
      "\u001B[1;31m---------------------------------------------------------------------------\u001B[0m",
      "\u001B[1;31mKeyError\u001B[0m                                  Traceback (most recent call last)",
      "\u001B[1;32m<ipython-input-22-8563731b20e4>\u001B[0m in \u001B[0;36m<module>\u001B[1;34m\u001B[0m\n\u001B[0;32m      1\u001B[0m \u001B[0mdagmm_last_fname\u001B[0m \u001B[1;33m=\u001B[0m \u001B[0mos\u001B[0m\u001B[1;33m.\u001B[0m\u001B[0mpath\u001B[0m\u001B[1;33m.\u001B[0m\u001B[0mabspath\u001B[0m\u001B[1;33m(\u001B[0m\u001B[1;34m\"ids2018/dagmm/checkpoint/dagmm_epoch=196.pt\"\u001B[0m\u001B[1;33m)\u001B[0m\u001B[1;33m\u001B[0m\u001B[1;33m\u001B[0m\u001B[0m\n\u001B[1;32m----> 2\u001B[1;33m \u001B[0mdagmm_trainer\u001B[0m\u001B[1;33m,\u001B[0m \u001B[0mdagmm_model\u001B[0m \u001B[1;33m=\u001B[0m \u001B[0mDeepSVDDIDSTrainer\u001B[0m\u001B[1;33m.\u001B[0m\u001B[0mload_from_file\u001B[0m\u001B[1;33m(\u001B[0m\u001B[0mdagmm_last_fname\u001B[0m\u001B[1;33m,\u001B[0m \u001B[0mdagmm_trainer\u001B[0m\u001B[1;33m,\u001B[0m \u001B[0mdagmm_model\u001B[0m\u001B[1;33m)\u001B[0m\u001B[1;33m\u001B[0m\u001B[1;33m\u001B[0m\u001B[0m\n\u001B[0m\u001B[0;32m      3\u001B[0m \u001B[0mf1_scores\u001B[0m \u001B[1;33m=\u001B[0m \u001B[0mdagmm_trainer\u001B[0m\u001B[1;33m.\u001B[0m\u001B[0mmetric_values\u001B[0m\u001B[1;33m[\u001B[0m\u001B[1;34m\"f1-score\"\u001B[0m\u001B[1;33m]\u001B[0m\u001B[1;33m\u001B[0m\u001B[1;33m\u001B[0m\u001B[0m\n\u001B[0;32m      4\u001B[0m \u001B[0mbest_f1_dagmm\u001B[0m\u001B[1;33m,\u001B[0m \u001B[0mbest_epoch_dagmm\u001B[0m \u001B[1;33m=\u001B[0m \u001B[0mnp\u001B[0m\u001B[1;33m.\u001B[0m\u001B[0mmax\u001B[0m\u001B[1;33m(\u001B[0m\u001B[0mf1_scores\u001B[0m\u001B[1;33m)\u001B[0m\u001B[1;33m,\u001B[0m \u001B[0mnp\u001B[0m\u001B[1;33m.\u001B[0m\u001B[0margmax\u001B[0m\u001B[1;33m(\u001B[0m\u001B[0mf1_scores\u001B[0m\u001B[1;33m)\u001B[0m \u001B[1;33m*\u001B[0m \u001B[1;36m5\u001B[0m \u001B[1;33m+\u001B[0m \u001B[1;36m1\u001B[0m\u001B[1;33m\u001B[0m\u001B[1;33m\u001B[0m\u001B[0m\n\u001B[0;32m      5\u001B[0m \u001B[0mprint\u001B[0m\u001B[1;33m(\u001B[0m\u001B[1;34m\"Best F1-Score={:2.4f} obtained at Epoch={}\"\u001B[0m\u001B[1;33m.\u001B[0m\u001B[0mformat\u001B[0m\u001B[1;33m(\u001B[0m\u001B[0mbest_f1_dagmm\u001B[0m\u001B[1;33m,\u001B[0m \u001B[0mbest_epoch_dagmm\u001B[0m\u001B[1;33m)\u001B[0m\u001B[1;33m)\u001B[0m\u001B[1;33m\u001B[0m\u001B[1;33m\u001B[0m\u001B[0m\n",
      "\u001B[1;32m~\\NRCAN\\git\\anomaly_detection_NRCAN\\src\\trainer\\ids.py\u001B[0m in \u001B[0;36mload_from_file\u001B[1;34m(fname, trainer, model, device)\u001B[0m\n\u001B[0;32m    229\u001B[0m         \u001B[0mdevice\u001B[0m \u001B[1;33m=\u001B[0m \u001B[0mdevice\u001B[0m \u001B[1;32mor\u001B[0m \u001B[0mtorch\u001B[0m\u001B[1;33m.\u001B[0m\u001B[0mdevice\u001B[0m\u001B[1;33m(\u001B[0m\u001B[1;34m\"cuda\"\u001B[0m \u001B[1;32mif\u001B[0m \u001B[0mtorch\u001B[0m\u001B[1;33m.\u001B[0m\u001B[0mcuda\u001B[0m\u001B[1;33m.\u001B[0m\u001B[0mis_available\u001B[0m\u001B[1;33m(\u001B[0m\u001B[1;33m)\u001B[0m \u001B[1;32melse\u001B[0m \u001B[1;34m\"cpu\"\u001B[0m\u001B[1;33m)\u001B[0m\u001B[1;33m\u001B[0m\u001B[1;33m\u001B[0m\u001B[0m\n\u001B[0;32m    230\u001B[0m         \u001B[0mckpt\u001B[0m \u001B[1;33m=\u001B[0m \u001B[0mtorch\u001B[0m\u001B[1;33m.\u001B[0m\u001B[0mload\u001B[0m\u001B[1;33m(\u001B[0m\u001B[0mfname\u001B[0m\u001B[1;33m,\u001B[0m \u001B[0mmap_location\u001B[0m\u001B[1;33m=\u001B[0m\u001B[0mdevice\u001B[0m\u001B[1;33m)\u001B[0m\u001B[1;33m\u001B[0m\u001B[1;33m\u001B[0m\u001B[0m\n\u001B[1;32m--> 231\u001B[1;33m         \u001B[0mmetric_values\u001B[0m \u001B[1;33m=\u001B[0m \u001B[0mckpt\u001B[0m\u001B[1;33m[\u001B[0m\u001B[1;34m\"metric_values\"\u001B[0m\u001B[1;33m]\u001B[0m\u001B[1;33m\u001B[0m\u001B[1;33m\u001B[0m\u001B[0m\n\u001B[0m\u001B[0;32m    232\u001B[0m         \u001B[0mmodel\u001B[0m \u001B[1;33m=\u001B[0m \u001B[0mmodel\u001B[0m\u001B[1;33m.\u001B[0m\u001B[0mload_from_ckpt\u001B[0m\u001B[1;33m(\u001B[0m\u001B[0mckpt\u001B[0m\u001B[1;33m,\u001B[0m \u001B[0mmodel\u001B[0m\u001B[1;33m)\u001B[0m\u001B[1;33m\u001B[0m\u001B[1;33m\u001B[0m\u001B[0m\n\u001B[0;32m    233\u001B[0m         \u001B[0mtrainer\u001B[0m\u001B[1;33m.\u001B[0m\u001B[0mmodel\u001B[0m \u001B[1;33m=\u001B[0m \u001B[0mmodel\u001B[0m\u001B[1;33m\u001B[0m\u001B[1;33m\u001B[0m\u001B[0m\n",
      "\u001B[1;31mKeyError\u001B[0m: 'metric_values'"
     ]
    }
   ],
   "source": [
    "dagmm_last_fname = os.path.abspath(\"ids2018/dagmm/checkpoint/dagmm_epoch=196.pt\")\n",
    "dagmm_trainer, dagmm_model = DeepSVDDIDSTrainer.load_from_file(dagmm_last_fname, dagmm_trainer, dagmm_model)\n",
    "f1_scores = dagmm_trainer.metric_values[\"f1-score\"]\n",
    "best_f1_dagmm, best_epoch_dagmm = np.max(f1_scores), np.argmax(f1_scores) * 5 + 1\n",
    "print(\"Best F1-Score={:2.4f} obtained at Epoch={}\".format(best_f1_dagmm, best_epoch_dagmm))"
   ],
   "metadata": {
    "collapsed": false,
    "pycharm": {
     "name": "#%%\n"
    }
   }
  },
  {
   "cell_type": "code",
   "execution_count": 26,
   "outputs": [
    {
     "data": {
      "text/plain": "{'Precision': 0.4652745968263427,\n 'Recall': 0.5170751409541032,\n 'F1-Score': 0.4898091147861934,\n 'AUPR': 0.41165694680098075,\n 'AUROC': 0.4409669947519963,\n 'Thresh_star': 7.017672586012577,\n 'Quantile_star': 50.08985509709436}"
     },
     "execution_count": 26,
     "metadata": {},
     "output_type": "execute_result"
    }
   ],
   "source": [
    "best_epoch_dagmm = 6 * 5 + 1\n",
    "dagmm_best = \"./ids2018/dagmm/checkpoint/dagmm_epoch={}.pt\".format(best_epoch_dagmm)\n",
    "dagmm_trainer, dagmm_model = DAGMMIDSTrainer.load_from_file(dagmm_best, dagmm_trainer, dagmm_model)\n",
    "dagmm_trainer.n_epochs = best_epoch_dagmm\n",
    "y_test_true, test_scores, test_labels = dagmm_trainer.test(test_ldr)\n",
    "results = metrics.estimate_optimal_threshold(test_scores, y_test_true)\n",
    "y_pred = (test_scores >= results[\"Thresh_star\"]).astype(int)\n",
    "results"
   ],
   "metadata": {
    "collapsed": false,
    "pycharm": {
     "name": "#%%\n"
    }
   }
  },
  {
   "cell_type": "code",
   "execution_count": null,
   "outputs": [],
   "source": [
    "dagmm_misclf_df = ids_misclf_per_label(y_pred, y_test_true, test_labels)\n",
    "dagmm_misclf_df = dagmm_misclf_df.sort_values(\"Misclassified ratio\", ascending=False)\n",
    "dagmm_misclf_df.to_csv(\"./ids2018/dagmm/dagmm_misclassifications.csv\")\n",
    "dagmm_misclf_df"
   ],
   "metadata": {
    "collapsed": false,
    "pycharm": {
     "name": "#%%\n"
    }
   }
  },
  {
   "cell_type": "code",
   "execution_count": null,
   "outputs": [],
   "source": [
    "misclf_barplot(dagmm_misclf_df, \"./ids2018/dagmm/dagmm_classification_rates\")"
   ],
   "metadata": {
    "collapsed": false,
    "pycharm": {
     "name": "#%%\n"
    }
   }
  },
  {
   "cell_type": "code",
   "execution_count": null,
   "outputs": [],
   "source": [
    "# Save memory\n",
    "del dagmm_model\n",
    "del dagmm_trainer"
   ],
   "metadata": {
    "collapsed": false,
    "pycharm": {
     "name": "#%%\n"
    }
   }
  },
  {
   "cell_type": "markdown",
   "source": [
    "## MemAE training"
   ],
   "metadata": {
    "collapsed": false,
    "pycharm": {
     "name": "#%% md\n"
    }
   }
  },
  {
   "cell_type": "code",
   "execution_count": null,
   "outputs": [],
   "source": [
    "# Set MemAE-specific hyperparameters\n",
    "latent_dim = 1\n",
    "mem_dim = 50\n",
    "shrink_thres = 0.0025\n",
    "n_layers = 4\n",
    "compression_factor = 2\n",
    "act_fn = \"relu\"\n",
    "alpha = 2e-4\n",
    "\n",
    "# Setup model and trainers\n",
    "memae_model = MemAutoEncoder(\n",
    "    in_features=dataset.in_features,\n",
    "    n_instances=dataset.n_instances,\n",
    "    device=device,\n",
    "    mem_dim=mem_dim,\n",
    "    latent_dim=latent_dim,\n",
    "    shrink_thres=shrink_thres,\n",
    "    n_layers=n_layers,\n",
    "    compression_factor=2,\n",
    "    alpha=2e-4,\n",
    "    act_fn=\"relu\",\n",
    ")\n",
    "memae_trainer = MemAEIDSTrainer(\n",
    "    validation_ldr=test_ldr,\n",
    "    device=device,\n",
    "    model=memae_model,\n",
    "    batch_size=batch_size,\n",
    "    lr=lr,\n",
    "    n_epochs=n_epochs,\n",
    "    run_test_validation=False,\n",
    "    keep_ckpt=False,\n",
    ")"
   ],
   "metadata": {
    "collapsed": false,
    "pycharm": {
     "name": "#%%\n"
    }
   }
  },
  {
   "cell_type": "code",
   "execution_count": null,
   "outputs": [],
   "source": [
    "best_epoch = 38 * 5 + 1\n",
    "best = base_path + \"/memae/checkpoint/memae_epoch={}.pt\".format(best_epoch)\n",
    "trainer, model = MemAEIDSTrainer.load_from_file(best, memae_trainer, memae_model)\n",
    "trainer.n_epochs = best_epoch\n",
    "y_test_true, test_scores, test_labels = trainer.test(test_ldr)\n",
    "results = metrics.estimate_optimal_threshold(test_scores, y_test_true)\n",
    "y_pred = (test_scores >= results[\"Thresh_star\"]).astype(int)\n",
    "results"
   ],
   "metadata": {
    "collapsed": false,
    "pycharm": {
     "name": "#%%\n"
    }
   }
  },
  {
   "cell_type": "code",
   "execution_count": null,
   "outputs": [],
   "source": [
    "memae_misclf_df = ids_misclf_per_label(y_pred, y_test_true, test_labels)\n",
    "memae_misclf_df = memae_misclf_df.sort_values(\"Misclassified ratio\", ascending=False)\n",
    "memae_misclf_df.to_csv(base_path + \"/memae/memae_misclassifications.csv\")\n",
    "memae_misclf_df"
   ],
   "metadata": {
    "collapsed": false,
    "pycharm": {
     "name": "#%%\n"
    }
   }
  },
  {
   "cell_type": "code",
   "execution_count": null,
   "outputs": [],
   "source": [
    "misclf_barplot(memae_misclf_df, base_path + \"/memae/memae_classifiation_rates\")"
   ],
   "metadata": {
    "collapsed": false,
    "pycharm": {
     "name": "#%%\n"
    }
   }
  },
  {
   "cell_type": "code",
   "execution_count": null,
   "outputs": [],
   "source": [
    "del memae_model\n",
    "del memae_trainer"
   ],
   "metadata": {
    "collapsed": false,
    "pycharm": {
     "name": "#%%\n"
    }
   }
  }
 ],
 "metadata": {
  "kernelspec": {
   "display_name": "Python 3",
   "language": "python",
   "name": "python3"
  },
  "language_info": {
   "codemirror_mode": {
    "name": "ipython",
    "version": 2
   },
   "file_extension": ".py",
   "mimetype": "text/x-python",
   "name": "python",
   "nbconvert_exporter": "python",
   "pygments_lexer": "ipython2",
   "version": "2.7.6"
  }
 },
 "nbformat": 4,
 "nbformat_minor": 0
}