{
 "cells": [
  {
   "cell_type": "code",
   "execution_count": 1,
   "metadata": {
    "collapsed": true,
    "pycharm": {
     "name": "#%%\n"
    }
   },
   "outputs": [],
   "source": [
    "%load_ext autoreload\n",
    "%autoreload 2\n",
    "import numpy as np\n",
    "import seaborn as sns\n",
    "import os\n",
    "import matplotlib.pyplot as plt\n",
    "from src.model.reconstruction import MemAutoEncoder, DAGMM\n",
    "from src.model.one_class import DeepSVDD\n",
    "from src.trainer.ids import MemAEIDSTrainer, DAGMMIDSTrainer, DeepSVDDIDSTrainer\n",
    "from src.datamanager.dataset import IDS2018Dataset\n",
    "from src.utils import metrics\n",
    "from src.utils.utils import ids_misclf_per_label\n"
   ]
  },
  {
   "cell_type": "code",
   "execution_count": 2,
   "outputs": [
    {
     "name": "stdout",
     "output_type": "stream",
     "text": [
      "arguments set\n"
     ]
    }
   ],
   "source": [
    "# Setup base folder structure\n",
    "dataset_path = \"../../data/IDS2018/ids2018.csv\"\n",
    "base_path = \"ids2018/thresh-optim\"\n",
    "\n",
    "# General arguments\n",
    "batch_size = 1024\n",
    "device = \"cuda\"\n",
    "act_fn = \"relu\"\n",
    "n_layers = 4\n",
    "compression_factor = 2\n",
    "lr = 1e-4\n",
    "n_epochs = 200\n",
    "thresh_mode = \"auto\"\n",
    "\n",
    "print(\"arguments set\")"
   ],
   "metadata": {
    "collapsed": false,
    "pycharm": {
     "name": "#%%\n"
    }
   }
  },
  {
   "cell_type": "code",
   "execution_count": 25,
   "outputs": [],
   "source": [
    "def misclf_barplot(\n",
    "        df,\n",
    "        fname\n",
    "):\n",
    "    sns.set_theme(style=\"whitegrid\")\n",
    "\n",
    "    # Initialize the matplotlib figure\n",
    "    f, axs = plt.subplots(figsize=(8, 7), ncols=2)\n",
    "\n",
    "    # Plot misclassification rates\n",
    "    sns.set_color_codes(\"pastel\")\n",
    "    sns.barplot(\n",
    "        x=df[\"Misclassified ratio\"] * 100,\n",
    "        y=df.index,\n",
    "        data=df,\n",
    "        label=\"Misclassification ratio\",\n",
    "        color=\"b\",\n",
    "        ax=axs[0]\n",
    "    )\n",
    "\n",
    "    # Plot correct classification rate\n",
    "    sns.set_color_codes(\"muted\")\n",
    "    sns.barplot(\n",
    "        x=(1-df[\"Misclassified ratio\"]) * 100,\n",
    "        y=df.index,\n",
    "        data=df,\n",
    "        label=\"Correctly classified ratio\",\n",
    "        color=\"b\",\n",
    "        ax=axs[1]\n",
    "    )\n",
    "\n",
    "    # Add a legend and informative axis label\n",
    "    for ax in axs:\n",
    "        ax.legend(ncol=2, loc=\"lower right\", frameon=True)\n",
    "        ax.set(xlim=(0, 100), ylabel=\"\", xlabel=\"Classification rate per attack category\")\n",
    "    sns.despine(left=True, bottom=True)\n",
    "    f.savefig(\"{}.png\".format(fname))\n",
    "    f.savefig(\"{}.pdf\".format(fname))"
   ],
   "metadata": {
    "collapsed": false,
    "pycharm": {
     "name": "#%%\n"
    }
   }
  },
  {
   "cell_type": "markdown",
   "source": [
    "## Load data"
   ],
   "metadata": {
    "collapsed": false,
    "pycharm": {
     "name": "#%% md\n"
    }
   }
  },
  {
   "cell_type": "code",
   "execution_count": 31,
   "outputs": [
    {
     "name": "stdout",
     "output_type": "stream",
     "text": [
      "data loaded with shape (9490582, 66)\n"
     ]
    }
   ],
   "source": [
    "dataset = IDS2018Dataset(path=dataset_path, pct=0.5, seed=42)\n",
    "columns = dataset.columns[:-2]\n",
    "partial_anomaly_labels = np.unique(dataset.labels)\n",
    "train_ldr, test_ldr = dataset.loaders(batch_size=batch_size, seed=42)\n",
    "print(\"data loaded with shape {}\".format(dataset.shape()))\n",
    "\n",
    "# Use Arrhythmia for testing before launching a training session on the much larger IDS2018 dataset\n",
    "# from src.datamanager.dataset import ArrhythmiaDataset\n",
    "# dataset = ArrhythmiaDataset(path=\"C:\\\\Users\\\\verdi\\\\Documents\\\\Datasets\\\\Arrhythmia\\\\3_minified\\\\arrhythmia_normalized.npz\")\n",
    "# batch_size = 8\n",
    "# train_ldr, test_ldr = dataset.loaders(batch_size=batch_size, seed=42)\n",
    "# print(\"data loaded with shape {}\".format(dataset.shape()))"
   ],
   "metadata": {
    "collapsed": false,
    "pycharm": {
     "name": "#%%\n"
    }
   }
  },
  {
   "cell_type": "code",
   "execution_count": 32,
   "outputs": [
    {
     "data": {
      "text/plain": "{'Benign', 'Bot', 'DDoS', 'DoS', 'Web Attack'}"
     },
     "execution_count": 32,
     "metadata": {},
     "output_type": "execute_result"
    }
   ],
   "source": [
    "labels = set()\n",
    "for sample in test_ldr:\n",
    "    X, y, label = sample\n",
    "    for l in label:\n",
    "        labels.add(l)\n",
    "labels"
   ],
   "metadata": {
    "collapsed": false,
    "pycharm": {
     "name": "#%%\n"
    }
   }
  },
  {
   "cell_type": "markdown",
   "source": [
    "## DeepSVDD Testing"
   ],
   "metadata": {
    "collapsed": false,
    "pycharm": {
     "name": "#%% md\n"
    }
   }
  },
  {
   "cell_type": "code",
   "execution_count": 5,
   "outputs": [],
   "source": [
    "# Setup model and trainer\n",
    "dsvdd_model = DeepSVDD(\n",
    "    in_features=dataset.in_features,\n",
    "    n_instances=dataset.n_instances,\n",
    "    device=device,\n",
    "    n_layers=n_layers,\n",
    "    compression_factor=compression_factor,\n",
    "    act_fn=act_fn,\n",
    ")\n",
    "dsvdd_trainer = DeepSVDDIDSTrainer(\n",
    "    validation_ldr=test_ldr,\n",
    "    model=dsvdd_model,\n",
    "    batch_size=batch_size,\n",
    "    lr=lr,\n",
    "    n_epochs=n_epochs,\n",
    "    device=device,\n",
    "    run_test_validation=False,\n",
    "    keep_ckpt=False,\n",
    ")"
   ],
   "metadata": {
    "collapsed": false,
    "pycharm": {
     "name": "#%%\n"
    }
   }
  },
  {
   "cell_type": "code",
   "execution_count": 7,
   "outputs": [
    {
     "data": {
      "text/plain": "{'Precision': 0.7893798113478714,\n 'Recall': 0.7014978704513988,\n 'F1-Score': 0.7428486768539803,\n 'AUPR': 0.7802524599563221,\n 'AUROC': 0.7396393809086422,\n 'Thresh_star': 4.334627101698629e-11,\n 'Quantile_star': 60.08985509709436}"
     },
     "execution_count": 7,
     "metadata": {},
     "output_type": "execute_result"
    }
   ],
   "source": [
    "best_epoch = 25 * 5 + 1\n",
    "dsvdd_best_fname = os.path.abspath(base_path + \"/deepsvdd/checkpoint/deepsvdd_epoch={}.pt\".format(best_epoch))\n",
    "dsvdd_trainer, dsvdd_model = DeepSVDDIDSTrainer.load_from_file(dsvdd_best_fname, dsvdd_trainer, dsvdd_model)\n",
    "y_test_true, test_scores, test_labels = dsvdd_trainer.test(test_ldr)\n",
    "results = metrics.estimate_optimal_threshold(test_scores, y_test_true)\n",
    "y_pred = (test_scores >= results[\"Thresh_star\"]).astype(int)\n",
    "results"
   ],
   "metadata": {
    "collapsed": false,
    "pycharm": {
     "name": "#%%\n"
    }
   }
  },
  {
   "cell_type": "code",
   "execution_count": 8,
   "outputs": [
    {
     "data": {
      "text/plain": "            # Instances test set  Misclassified count  Misclassified ratio\nWeb Attack                   566                  283             0.500000\nBot                       286191               114442             0.399880\nBenign                   4943560              1085802             0.219640\nDDoS                      287289                43660             0.151972\nDoS                       601802                90559             0.150480",
      "text/html": "<div>\n<style scoped>\n    .dataframe tbody tr th:only-of-type {\n        vertical-align: middle;\n    }\n\n    .dataframe tbody tr th {\n        vertical-align: top;\n    }\n\n    .dataframe thead th {\n        text-align: right;\n    }\n</style>\n<table border=\"1\" class=\"dataframe\">\n  <thead>\n    <tr style=\"text-align: right;\">\n      <th></th>\n      <th># Instances test set</th>\n      <th>Misclassified count</th>\n      <th>Misclassified ratio</th>\n    </tr>\n  </thead>\n  <tbody>\n    <tr>\n      <th>Web Attack</th>\n      <td>566</td>\n      <td>283</td>\n      <td>0.500000</td>\n    </tr>\n    <tr>\n      <th>Bot</th>\n      <td>286191</td>\n      <td>114442</td>\n      <td>0.399880</td>\n    </tr>\n    <tr>\n      <th>Benign</th>\n      <td>4943560</td>\n      <td>1085802</td>\n      <td>0.219640</td>\n    </tr>\n    <tr>\n      <th>DDoS</th>\n      <td>287289</td>\n      <td>43660</td>\n      <td>0.151972</td>\n    </tr>\n    <tr>\n      <th>DoS</th>\n      <td>601802</td>\n      <td>90559</td>\n      <td>0.150480</td>\n    </tr>\n  </tbody>\n</table>\n</div>"
     },
     "execution_count": 8,
     "metadata": {},
     "output_type": "execute_result"
    }
   ],
   "source": [
    "# Misclassified instances per label\n",
    "deepsvdd_misclf_df = ids_misclf_per_label(y_pred, y_test_true, test_labels)\n",
    "deepsvdd_misclf_df = deepsvdd_misclf_df.sort_values(\"Misclassified ratio\", ascending=False)\n",
    "deepsvdd_misclf_df.to_csv(base_path + \"/deepsvdd/deepsvdd_misclassifications.csv\")\n",
    "deepsvdd_misclf_df"
   ],
   "metadata": {
    "collapsed": false,
    "pycharm": {
     "name": "#%%\n"
    }
   }
  },
  {
   "cell_type": "code",
   "execution_count": 14,
   "outputs": [
    {
     "data": {
      "text/plain": "<Figure size 1152x1080 with 2 Axes>",
      "image/png": "[encoded data removed]"
     },
     "metadata": {},
     "output_type": "display_data"
    }
   ],
   "source": [
    "misclf_barplot(deepsvdd_misclf_df, base_path + \"/deepsvdd/deepsvdd_classifiation_rates\")"
   ],
   "metadata": {
    "collapsed": false,
    "pycharm": {
     "name": "#%%\n"
    }
   }
  },
  {
   "cell_type": "code",
   "execution_count": null,
   "outputs": [],
   "source": [
    "# Save memory\n",
    "del dsvdd_trainer\n",
    "del dsvdd_model"
   ],
   "metadata": {
    "collapsed": false,
    "pycharm": {
     "name": "#%%\n"
    }
   }
  },
  {
   "cell_type": "markdown",
   "source": [
    "## DAGMM Testing"
   ],
   "metadata": {
    "collapsed": false,
    "pycharm": {
     "name": "#%% md\n"
    }
   }
  },
  {
   "cell_type": "code",
   "execution_count": 22,
   "outputs": [
    {
     "ename": "TypeError",
     "evalue": "super(type, obj): obj must be an instance or subtype of type",
     "output_type": "error",
     "traceback": [
      "\u001B[1;31m---------------------------------------------------------------------------\u001B[0m",
      "\u001B[1;31mTypeError\u001B[0m                                 Traceback (most recent call last)",
      "\u001B[1;32m<ipython-input-22-eb4359f7f385>\u001B[0m in \u001B[0;36m<module>\u001B[1;34m\u001B[0m\n\u001B[0;32m     21\u001B[0m     \u001B[0mgmm_act_fn\u001B[0m\u001B[1;33m=\u001B[0m\u001B[1;34m\"relu\"\u001B[0m\u001B[1;33m\u001B[0m\u001B[1;33m\u001B[0m\u001B[0m\n\u001B[0;32m     22\u001B[0m )\n\u001B[1;32m---> 23\u001B[1;33m dagmm_trainer = DAGMMIDSTrainer(\n\u001B[0m\u001B[0;32m     24\u001B[0m     \u001B[0mvalidation_ldr\u001B[0m\u001B[1;33m=\u001B[0m\u001B[0mtest_ldr\u001B[0m\u001B[1;33m,\u001B[0m\u001B[1;33m\u001B[0m\u001B[1;33m\u001B[0m\u001B[0m\n\u001B[0;32m     25\u001B[0m     \u001B[0mdevice\u001B[0m\u001B[1;33m=\u001B[0m\u001B[0mdevice\u001B[0m\u001B[1;33m,\u001B[0m\u001B[1;33m\u001B[0m\u001B[1;33m\u001B[0m\u001B[0m\n",
      "\u001B[1;32m~\\NRCAN\\git\\anomaly_detection_NRCAN\\src\\trainer\\ids.py\u001B[0m in \u001B[0;36m__init__\u001B[1;34m(self, **kwargs)\u001B[0m\n\u001B[0;32m    273\u001B[0m \u001B[1;32mclass\u001B[0m \u001B[0mDAGMMIDSTrainer\u001B[0m\u001B[1;33m(\u001B[0m\u001B[0mIDSTrainer\u001B[0m\u001B[1;33m)\u001B[0m\u001B[1;33m:\u001B[0m\u001B[1;33m\u001B[0m\u001B[1;33m\u001B[0m\u001B[0m\n\u001B[0;32m    274\u001B[0m     \u001B[1;32mdef\u001B[0m \u001B[0m__init__\u001B[0m\u001B[1;33m(\u001B[0m\u001B[0mself\u001B[0m\u001B[1;33m,\u001B[0m \u001B[1;33m**\u001B[0m\u001B[0mkwargs\u001B[0m\u001B[1;33m)\u001B[0m \u001B[1;33m->\u001B[0m \u001B[1;32mNone\u001B[0m\u001B[1;33m:\u001B[0m\u001B[1;33m\u001B[0m\u001B[1;33m\u001B[0m\u001B[0m\n\u001B[1;32m--> 275\u001B[1;33m         \u001B[0msuper\u001B[0m\u001B[1;33m(\u001B[0m\u001B[0mDAGMMIDSTrainer\u001B[0m\u001B[1;33m,\u001B[0m \u001B[0mself\u001B[0m\u001B[1;33m)\u001B[0m\u001B[1;33m.\u001B[0m\u001B[0m__init__\u001B[0m\u001B[1;33m(\u001B[0m\u001B[1;33m**\u001B[0m\u001B[0mkwargs\u001B[0m\u001B[1;33m)\u001B[0m\u001B[1;33m\u001B[0m\u001B[1;33m\u001B[0m\u001B[0m\n\u001B[0m\u001B[0;32m    276\u001B[0m         \u001B[0mself\u001B[0m\u001B[1;33m.\u001B[0m\u001B[0mlamb_1\u001B[0m \u001B[1;33m=\u001B[0m \u001B[0mself\u001B[0m\u001B[1;33m.\u001B[0m\u001B[0mmodel\u001B[0m\u001B[1;33m.\u001B[0m\u001B[0mlambda_1\u001B[0m\u001B[1;33m\u001B[0m\u001B[1;33m\u001B[0m\u001B[0m\n\u001B[0;32m    277\u001B[0m         \u001B[0mself\u001B[0m\u001B[1;33m.\u001B[0m\u001B[0mlamb_2\u001B[0m \u001B[1;33m=\u001B[0m \u001B[0mself\u001B[0m\u001B[1;33m.\u001B[0m\u001B[0mmodel\u001B[0m\u001B[1;33m.\u001B[0m\u001B[0mlambda_2\u001B[0m\u001B[1;33m\u001B[0m\u001B[1;33m\u001B[0m\u001B[0m\n",
      "\u001B[1;31mTypeError\u001B[0m: super(type, obj): obj must be an instance or subtype of type"
     ]
    }
   ],
   "source": [
    "# Set DAGMM-specific hyperparameters\n",
    "n_mixtures = 4\n",
    "latent_dim = 1\n",
    "lambda_1 = 0.005\n",
    "lambda_2 = 0.1\n",
    "reg_covar=1e-6\n",
    "\n",
    "# Setup model and trainers\n",
    "dagmm_model = DAGMM(\n",
    "    in_features=dataset.in_features,\n",
    "    n_instances=dataset.n_instances,\n",
    "    device=device,\n",
    "    n_mixtures=n_mixtures,\n",
    "    latent_dim=latent_dim,\n",
    "    lambda_1=lambda_1,\n",
    "    lambda_2=lambda_2,\n",
    "    reg_covar=reg_covar,\n",
    "    n_layers=n_layers,\n",
    "    compression_factor=compression_factor,\n",
    "    ae_act_fn=\"relu\",\n",
    "    gmm_act_fn=\"relu\"\n",
    ")\n",
    "dagmm_trainer = DAGMMIDSTrainer(\n",
    "    validation_ldr=test_ldr,\n",
    "    device=device,\n",
    "    model=dagmm_model,\n",
    "    batch_size=batch_size,\n",
    "    lr=lr,\n",
    "    n_epochs=n_epochs,\n",
    "    run_test_validation=False,\n",
    "    keep_ckpt=False,\n",
    "    thresh_mode=thresh_mode\n",
    ")"
   ],
   "metadata": {
    "collapsed": false,
    "pycharm": {
     "name": "#%%\n"
    }
   }
  },
  {
   "cell_type": "code",
   "execution_count": null,
   "outputs": [],
   "source": [
    "best_epoch = 1 * 5 + 1\n",
    "dagmm_best = base_path + \"dagmm/checkpoint/dagmm_epoch={}.pt\".format(best_epoch)\n",
    "dagmm_trainer, dagmm_model = DAGMMIDSTrainer.load_from_file(dagmm_best, dagmm_trainer, dagmm_model)\n",
    "dagmm_trainer.n_epochs = best_epoch\n",
    "y_test_true, test_scores, test_labels = dagmm_trainer.test(test_ldr)\n",
    "results = metrics.estimate_optimal_threshold(test_scores, y_test_true)\n",
    "y_pred = (test_scores >= results[\"Thresh_star\"]).astype(int)\n",
    "results"
   ],
   "metadata": {
    "collapsed": false,
    "pycharm": {
     "name": "#%%\n"
    }
   }
  },
  {
   "cell_type": "code",
   "execution_count": null,
   "outputs": [],
   "source": [
    "dagmm_misclf_df = ids_misclf_per_label(y_pred, y_test_true, test_labels)\n",
    "dagmm_misclf_df = dagmm_misclf_df.sort_values(\"Misclassified ratio\", ascending=False)\n",
    "dagmm_misclf_df.to_csv(base_path + \"/dagmm/dagmm_misclassifications.csv\")\n",
    "dagmm_misclf_df"
   ],
   "metadata": {
    "collapsed": false,
    "pycharm": {
     "name": "#%%\n"
    }
   }
  },
  {
   "cell_type": "code",
   "execution_count": null,
   "outputs": [],
   "source": [
    "misclf_barplot(dagmm_misclf_df, base_path + \"/dagmm/dagmm_classification_rates\")"
   ],
   "metadata": {
    "collapsed": false,
    "pycharm": {
     "name": "#%%\n"
    }
   }
  },
  {
   "cell_type": "code",
   "execution_count": null,
   "outputs": [],
   "source": [
    "# Save memory\n",
    "del dagmm_model\n",
    "del dagmm_trainer"
   ],
   "metadata": {
    "collapsed": false,
    "pycharm": {
     "name": "#%%\n"
    }
   }
  },
  {
   "cell_type": "markdown",
   "source": [
    "## MemAE training"
   ],
   "metadata": {
    "collapsed": false,
    "pycharm": {
     "name": "#%% md\n"
    }
   }
  },
  {
   "cell_type": "code",
   "execution_count": null,
   "outputs": [],
   "source": [
    "# Set MemAE-specific hyperparameters\n",
    "latent_dim = 1\n",
    "mem_dim = 50\n",
    "shrink_thres = 0.0025\n",
    "n_layers = 4\n",
    "compression_factor = 2\n",
    "act_fn = \"relu\"\n",
    "alpha = 2e-4\n",
    "\n",
    "# Setup model and trainers\n",
    "memae_model = MemAutoEncoder(\n",
    "    in_features=dataset.in_features,\n",
    "    n_instances=dataset.n_instances,\n",
    "    device=device,\n",
    "    mem_dim=mem_dim,\n",
    "    latent_dim=latent_dim,\n",
    "    shrink_thres=shrink_thres,\n",
    "    n_layers=n_layers,\n",
    "    compression_factor=2,\n",
    "    alpha=2e-4,\n",
    "    act_fn=\"relu\",\n",
    ")\n",
    "memae_trainer = MemAEIDSTrainer(\n",
    "    validation_ldr=test_ldr,\n",
    "    device=device,\n",
    "    model=memae_model,\n",
    "    batch_size=batch_size,\n",
    "    lr=lr,\n",
    "    n_epochs=n_epochs,\n",
    "    run_test_validation=False,\n",
    "    keep_ckpt=False,\n",
    ")"
   ],
   "metadata": {
    "collapsed": false,
    "pycharm": {
     "name": "#%%\n"
    }
   }
  },
  {
   "cell_type": "code",
   "execution_count": null,
   "outputs": [],
   "source": [
    "best_epoch = 38 * 5 + 1\n",
    "best = base_path + \"/memae/checkpoint/memae_epoch={}.pt\".format(best_epoch)\n",
    "trainer, model = MemAEIDSTrainer.load_from_file(best, memae_trainer, memae_model)\n",
    "trainer.n_epochs = best_epoch\n",
    "y_test_true, test_scores, test_labels = trainer.test(test_ldr)\n",
    "results = metrics.estimate_optimal_threshold(test_scores, y_test_true)\n",
    "y_pred = (test_scores >= results[\"Thresh_star\"]).astype(int)\n",
    "results"
   ],
   "metadata": {
    "collapsed": false,
    "pycharm": {
     "name": "#%%\n"
    }
   }
  },
  {
   "cell_type": "code",
   "execution_count": null,
   "outputs": [],
   "source": [
    "memae_misclf_df = ids_misclf_per_label(y_pred, y_test_true, test_labels)\n",
    "memae_misclf_df = memae_misclf_df.sort_values(\"Misclassified ratio\", ascending=False)\n",
    "memae_misclf_df.to_csv(base_path + \"/memae/memae_misclassifications.csv\")\n",
    "memae_misclf_df"
   ],
   "metadata": {
    "collapsed": false,
    "pycharm": {
     "name": "#%%\n"
    }
   }
  },
  {
   "cell_type": "code",
   "execution_count": null,
   "outputs": [],
   "source": [
    "misclf_barplot(memae_misclf_df, base_path + \"/memae/memae_classifiation_rates\")"
   ],
   "metadata": {
    "collapsed": false,
    "pycharm": {
     "name": "#%%\n"
    }
   }
  },
  {
   "cell_type": "code",
   "execution_count": null,
   "outputs": [],
   "source": [
    "del memae_model\n",
    "del memae_trainer"
   ],
   "metadata": {
    "collapsed": false,
    "pycharm": {
     "name": "#%%\n"
    }
   }
  }
 ],
 "metadata": {
  "kernelspec": {
   "display_name": "Python 3",
   "language": "python",
   "name": "python3"
  },
  "language_info": {
   "codemirror_mode": {
    "name": "ipython",
    "version": 2
   },
   "file_extension": ".py",
   "mimetype": "text/x-python",
   "name": "python",
   "nbconvert_exporter": "python",
   "pygments_lexer": "ipython2",
   "version": "2.7.6"
  }
 },
 "nbformat": 4,
 "nbformat_minor": 0
}