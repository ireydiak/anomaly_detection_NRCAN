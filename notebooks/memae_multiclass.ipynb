{
 "cells": [
  {
   "cell_type": "code",
   "execution_count": 1,
   "metadata": {
    "collapsed": false,
    "pycharm": {
     "name": "#%%\n"
    }
   },
   "outputs": [],
   "source": [
    "import pandas as pd\n",
    "import numpy as np\n",
    "import os\n",
    "%load_ext autoreload\n",
    "%autoreload 2\n",
    "from src.model.reconstruction import MemAutoEncoder\n",
    "from src.trainer.ids import MemAEIDSTrainer, plot_metrics\n",
    "from src.utils import metrics\n",
    "from src.utils.utils import ids_misclf_per_label\n",
    "from src.datamanager.dataset import IDS2017Dataset\n",
    "from src.bootstrap import store_results\n",
    "import itertools as it"
   ]
  },
  {
   "cell_type": "code",
   "execution_count": 2,
   "metadata": {
    "collapsed": false,
    "pycharm": {
     "name": "#%%\n"
    }
   },
   "outputs": [
    {
     "name": "stdout",
     "output_type": "stream",
     "text": [
      "arguments set\n"
     ]
    }
   ],
   "source": [
    "# Setup base folder structure\n",
    "dataset_path = \"../data/IDS2017/ids2017.csv\"\n",
    "export_path = \"memae_experiments\"\n",
    "checkpoint_path = export_path + \"/checkpoints\"\n",
    "if not os.path.exists(export_path):\n",
    "    os.mkdir(export_path)\n",
    "    os.mkdir(checkpoint_path)\n",
    "\n",
    "# General arguments\n",
    "batch_size = 1024\n",
    "device = \"cuda\"\n",
    "lr = 1e-4\n",
    "n_epochs = 200\n",
    "\n",
    "# Model specific arguments\n",
    "mem_dim = 50\n",
    "latent_dim = 1\n",
    "shrink_thres = 0.0025\n",
    "n_layers = 4\n",
    "compression_factor = 2\n",
    "act_fn = \"relu\"\n",
    "alpha = 2e-4\n",
    "\n",
    "print(\"arguments set\")"
   ]
  },
  {
   "cell_type": "code",
   "execution_count": 3,
   "outputs": [
    {
     "name": "stdout",
     "output_type": "stream",
     "text": [
      "data loaded\n"
     ]
    }
   ],
   "source": [
    "dataset = IDS2017Dataset(path=dataset_path)\n",
    "columns = dataset.columns[:-2]\n",
    "partial_anomaly_labels = np.unique(dataset.labels)\n",
    "train_ldr, test_ldr = dataset.loaders(batch_size=batch_size, seed=42)\n",
    "print(\"data loaded\")"
   ],
   "metadata": {
    "collapsed": false,
    "pycharm": {
     "name": "#%%\n"
    }
   }
  },
  {
   "cell_type": "markdown",
   "source": [
    "## Hyperparameter search"
   ],
   "metadata": {
    "collapsed": false,
    "pycharm": {
     "name": "#%% md\n"
    }
   }
  },
  {
   "cell_type": "code",
   "execution_count": 10,
   "outputs": [
    {
     "name": "stdout",
     "output_type": "stream",
     "text": [
      "MemAE model and trainer ready\n",
      "MemAutoEncoder(\n",
      "  (act_fn): ReLU()\n",
      "  (encoder): Sequential(\n",
      "    (0): Linear(in_features=65, out_features=32, bias=True)\n",
      "    (1): ReLU()\n",
      "    (2): Linear(in_features=32, out_features=16, bias=True)\n",
      "    (3): ReLU()\n",
      "    (4): Linear(in_features=16, out_features=8, bias=True)\n",
      "    (5): ReLU()\n",
      "    (6): Linear(in_features=8, out_features=10, bias=True)\n",
      "  )\n",
      "  (decoder): Sequential(\n",
      "    (0): Linear(in_features=10, out_features=8, bias=True)\n",
      "    (1): ReLU()\n",
      "    (2): Linear(in_features=8, out_features=16, bias=True)\n",
      "    (3): ReLU()\n",
      "    (4): Linear(in_features=16, out_features=32, bias=True)\n",
      "    (5): ReLU()\n",
      "    (6): Linear(in_features=32, out_features=65, bias=True)\n",
      "  )\n",
      "  (mem_rep): MemoryUnit()\n",
      ")\n"
     ]
    }
   ],
   "source": [
    "batch_size = [64, 512, 1024]\n",
    "mem_dims = [50, 100, 150]\n",
    "latent_dim = [5, 10, dataset.in_features // 6]\n",
    "\n",
    "for bs, md, ld in it.product(batch_size, mem_dims, latent_dim):\n",
    "    n_layers = 4 if ld <= 10 else 3\n",
    "    model = MemAutoEncoder(\n",
    "        in_features=dataset.in_features,\n",
    "        n_instances=dataset.n_instances,\n",
    "        device=device,\n",
    "        mem_dim=md,\n",
    "        latent_dim=ld,\n",
    "        shrink_thres=shrink_thres,\n",
    "        n_layers=n_layers,\n",
    "        compression_factor=2,\n",
    "        alpha=2e-4,\n",
    "        act_fn=\"relu\",\n",
    "    )\n",
    "    trainer = MemAEIDSTrainer(\n",
    "        train_ldr=train_ldr,\n",
    "        test_ldr=test_ldr,\n",
    "        device=device,\n",
    "        model=model,\n",
    "        batch_size=batch_size,\n",
    "        lr=lr,\n",
    "        n_epochs=n_epochs,\n",
    "        ckpt_fname=os.path.join(checkpoint_path, \"memae\"),\n",
    "        run_test_validation=True\n",
    "\n",
    "    )\n",
    "print(\"MemAE model and trainer ready\")\n",
    "print(model)"
   ],
   "metadata": {
    "collapsed": false,
    "pycharm": {
     "name": "#%%\n"
    }
   }
  },
  {
   "cell_type": "markdown",
   "metadata": {
    "collapsed": false,
    "pycharm": {
     "name": "#%% md\n"
    }
   },
   "source": [
    "## MemAE Training"
   ]
  },
  {
   "cell_type": "code",
   "execution_count": 4,
   "metadata": {
    "collapsed": false,
    "pycharm": {
     "name": "#%%\n"
    }
   },
   "outputs": [
    {
     "name": "stdout",
     "output_type": "stream",
     "text": [
      "MemAE model and trainer ready\n",
      "MemAutoEncoder(\n",
      "  (act_fn): ReLU()\n",
      "  (encoder): Sequential(\n",
      "    (0): Linear(in_features=65, out_features=32, bias=True)\n",
      "    (1): ReLU()\n",
      "    (2): Linear(in_features=32, out_features=16, bias=True)\n",
      "    (3): ReLU()\n",
      "    (4): Linear(in_features=16, out_features=8, bias=True)\n",
      "    (5): ReLU()\n",
      "    (6): Linear(in_features=8, out_features=1, bias=True)\n",
      "  )\n",
      "  (decoder): Sequential(\n",
      "    (0): Linear(in_features=1, out_features=8, bias=True)\n",
      "    (1): ReLU()\n",
      "    (2): Linear(in_features=8, out_features=16, bias=True)\n",
      "    (3): ReLU()\n",
      "    (4): Linear(in_features=16, out_features=32, bias=True)\n",
      "    (5): ReLU()\n",
      "    (6): Linear(in_features=32, out_features=65, bias=True)\n",
      "  )\n",
      "  (mem_rep): MemoryUnit()\n",
      ")\n"
     ]
    }
   ],
   "source": [
    "model = MemAutoEncoder(\n",
    "    in_features=dataset.in_features,\n",
    "    n_instances=dataset.n_instances,\n",
    "    device=device,\n",
    "    mem_dim=mem_dim,\n",
    "    latent_dim=latent_dim,\n",
    "    shrink_thres=shrink_thres,\n",
    "    n_layers=n_layers,\n",
    "    compression_factor=compression_factor,\n",
    "    act_fn=\"relu\",\n",
    "    alpha=alpha\n",
    ")\n",
    "trainer = MemAEIDSTrainer(\n",
    "    train_ldr=train_ldr,\n",
    "    test_ldr=test_ldr,\n",
    "    device=device,\n",
    "    model=model,\n",
    "    batch_size=batch_size,\n",
    "    lr=lr,\n",
    "    n_epochs=n_epochs,\n",
    "    ckpt_fname=os.path.join(checkpoint_path, \"memae\"),\n",
    "    run_test_validation=True\n",
    ")\n",
    "print(\"MemAE model and trainer ready\")\n",
    "print(model)"
   ]
  },
  {
   "cell_type": "code",
   "execution_count": 25,
   "metadata": {
    "collapsed": false,
    "pycharm": {
     "name": "#%%\n"
    }
   },
   "outputs": [
    {
     "name": "stderr",
     "output_type": "stream",
     "text": [
      "  1%|          | 9/1110 [00:00<00:58, 18.90it/s, epoch=1, loss=0.141]"
     ]
    },
    {
     "name": "stdout",
     "output_type": "stream",
     "text": [
      "Started training\n"
     ]
    },
    {
     "name": "stderr",
     "output_type": "stream",
     "text": [
      "100%|██████████| 1110/1110 [00:13<00:00, 82.55it/s, epoch=1, loss=12.917]\n",
      "100%|██████████| 1110/1110 [00:13<00:00, 83.06it/s, epoch=2, loss=4.940]\n",
      "100%|██████████| 1110/1110 [00:13<00:00, 83.72it/s, epoch=3, loss=2.672]\n",
      "100%|██████████| 1110/1110 [00:13<00:00, 84.35it/s, epoch=4, loss=1.680]\n",
      "100%|██████████| 1110/1110 [00:13<00:00, 83.63it/s, epoch=5, loss=1.095]\n",
      "100%|██████████| 1110/1110 [00:13<00:00, 81.74it/s, epoch=6, loss=0.787]\n",
      "100%|██████████| 1110/1110 [00:13<00:00, 83.50it/s, epoch=7, loss=0.623]\n",
      "100%|██████████| 1110/1110 [00:13<00:00, 82.92it/s, epoch=8, loss=0.520]\n",
      "100%|██████████| 1110/1110 [00:13<00:00, 83.89it/s, epoch=9, loss=0.434]\n",
      "100%|██████████| 1110/1110 [00:13<00:00, 84.17it/s, epoch=10, loss=0.364]\n",
      "100%|██████████| 1110/1110 [00:13<00:00, 83.16it/s, epoch=11, loss=0.312]\n",
      "100%|██████████| 1110/1110 [00:13<00:00, 82.66it/s, epoch=12, loss=0.273]\n",
      "100%|██████████| 1110/1110 [00:13<00:00, 84.32it/s, epoch=13, loss=0.243]\n",
      "100%|██████████| 1110/1110 [00:13<00:00, 80.74it/s, epoch=14, loss=0.218]\n",
      "100%|██████████| 1110/1110 [00:13<00:00, 80.95it/s, epoch=15, loss=0.197]\n",
      "100%|██████████| 1110/1110 [00:13<00:00, 80.81it/s, epoch=16, loss=0.181]\n",
      "100%|██████████| 1110/1110 [00:13<00:00, 79.52it/s, epoch=17, loss=0.167]\n",
      "100%|██████████| 1110/1110 [00:14<00:00, 78.90it/s, epoch=18, loss=0.156]\n",
      "100%|██████████| 1110/1110 [00:13<00:00, 79.38it/s, epoch=19, loss=0.146]\n",
      "100%|██████████| 1110/1110 [00:13<00:00, 79.32it/s, epoch=20, loss=0.138]\n",
      "100%|██████████| 1110/1110 [00:13<00:00, 80.91it/s, epoch=21, loss=0.131]\n",
      "100%|██████████| 1110/1110 [00:13<00:00, 79.86it/s, epoch=22, loss=0.124]\n",
      "100%|██████████| 1110/1110 [00:14<00:00, 77.92it/s, epoch=23, loss=0.118]\n",
      "100%|██████████| 1110/1110 [00:14<00:00, 77.76it/s, epoch=24, loss=0.113]\n",
      "100%|██████████| 1110/1110 [00:13<00:00, 80.04it/s, epoch=25, loss=0.108]\n",
      "100%|██████████| 1110/1110 [00:13<00:00, 79.36it/s, epoch=26, loss=0.104]\n",
      "100%|██████████| 1110/1110 [00:14<00:00, 76.67it/s, epoch=27, loss=0.099]\n",
      "100%|██████████| 1110/1110 [00:14<00:00, 77.02it/s, epoch=28, loss=0.096]\n",
      "100%|██████████| 1110/1110 [00:14<00:00, 78.69it/s, epoch=29, loss=0.092]\n",
      "100%|██████████| 1110/1110 [00:13<00:00, 80.46it/s, epoch=30, loss=0.089]\n",
      "100%|██████████| 1110/1110 [00:14<00:00, 78.26it/s, epoch=31, loss=0.086]\n",
      "100%|██████████| 1110/1110 [00:14<00:00, 78.84it/s, epoch=32, loss=0.083]\n",
      "100%|██████████| 1110/1110 [00:14<00:00, 79.19it/s, epoch=33, loss=0.080]\n",
      "100%|██████████| 1110/1110 [00:13<00:00, 80.34it/s, epoch=34, loss=0.077]\n",
      "100%|██████████| 1110/1110 [00:14<00:00, 78.48it/s, epoch=35, loss=0.075]\n",
      "100%|██████████| 1110/1110 [00:14<00:00, 79.00it/s, epoch=36, loss=0.072]\n",
      "100%|██████████| 1110/1110 [00:14<00:00, 78.86it/s, epoch=37, loss=0.070]\n",
      "100%|██████████| 1110/1110 [00:13<00:00, 80.32it/s, epoch=38, loss=0.068]\n",
      "100%|██████████| 1110/1110 [00:13<00:00, 80.29it/s, epoch=39, loss=0.066]\n",
      "100%|██████████| 1110/1110 [00:14<00:00, 79.24it/s, epoch=40, loss=0.064]\n",
      "100%|██████████| 1110/1110 [00:14<00:00, 78.04it/s, epoch=41, loss=0.062]\n",
      "100%|██████████| 1110/1110 [00:13<00:00, 80.18it/s, epoch=42, loss=0.060]\n",
      "100%|██████████| 1110/1110 [00:14<00:00, 77.52it/s, epoch=43, loss=0.059]\n",
      "100%|██████████| 1110/1110 [00:14<00:00, 78.18it/s, epoch=44, loss=0.057]\n",
      "100%|██████████| 1110/1110 [00:13<00:00, 79.60it/s, epoch=45, loss=0.056]\n",
      "100%|██████████| 1110/1110 [00:13<00:00, 80.98it/s, epoch=46, loss=0.054]\n",
      "100%|██████████| 1110/1110 [00:13<00:00, 80.13it/s, epoch=47, loss=0.053]\n",
      "100%|██████████| 1110/1110 [00:14<00:00, 76.42it/s, epoch=48, loss=0.052]\n",
      "100%|██████████| 1110/1110 [00:14<00:00, 76.35it/s, epoch=49, loss=0.051]\n",
      "100%|██████████| 1110/1110 [00:14<00:00, 75.11it/s, epoch=50, loss=0.050]\n",
      "100%|██████████| 1110/1110 [00:15<00:00, 73.47it/s, epoch=51, loss=0.048]\n",
      "100%|██████████| 1110/1110 [00:14<00:00, 75.62it/s, epoch=52, loss=0.047]\n",
      "100%|██████████| 1110/1110 [00:14<00:00, 77.18it/s, epoch=53, loss=0.046]\n",
      "100%|██████████| 1110/1110 [00:14<00:00, 77.57it/s, epoch=54, loss=0.045]\n",
      "100%|██████████| 1110/1110 [00:15<00:00, 73.47it/s, epoch=55, loss=0.045]\n",
      "100%|██████████| 1110/1110 [00:14<00:00, 75.82it/s, epoch=56, loss=0.044]\n",
      "100%|██████████| 1110/1110 [00:15<00:00, 71.24it/s, epoch=57, loss=0.043]\n",
      "100%|██████████| 1110/1110 [00:15<00:00, 71.65it/s, epoch=58, loss=0.042]\n",
      "100%|██████████| 1110/1110 [00:15<00:00, 73.35it/s, epoch=59, loss=0.041]\n",
      "100%|██████████| 1110/1110 [00:15<00:00, 71.36it/s, epoch=60, loss=0.041]\n",
      "100%|██████████| 1110/1110 [00:15<00:00, 69.71it/s, epoch=61, loss=0.040]\n",
      "100%|██████████| 1110/1110 [00:14<00:00, 74.49it/s, epoch=62, loss=0.039]\n",
      "100%|██████████| 1110/1110 [00:15<00:00, 72.67it/s, epoch=63, loss=0.038]\n",
      "100%|██████████| 1110/1110 [00:15<00:00, 71.66it/s, epoch=64, loss=0.038]\n",
      "100%|██████████| 1110/1110 [00:15<00:00, 73.65it/s, epoch=65, loss=0.037]\n",
      "100%|██████████| 1110/1110 [00:15<00:00, 72.97it/s, epoch=66, loss=0.036]\n",
      "100%|██████████| 1110/1110 [00:13<00:00, 80.79it/s, epoch=67, loss=0.036]\n",
      "100%|██████████| 1110/1110 [00:14<00:00, 78.74it/s, epoch=68, loss=0.035]\n",
      "100%|██████████| 1110/1110 [00:13<00:00, 80.60it/s, epoch=69, loss=0.035]\n",
      "100%|██████████| 1110/1110 [00:14<00:00, 77.37it/s, epoch=70, loss=0.034]\n",
      "100%|██████████| 1110/1110 [00:13<00:00, 80.09it/s, epoch=71, loss=0.034]\n",
      "100%|██████████| 1110/1110 [00:14<00:00, 76.96it/s, epoch=72, loss=0.033]\n",
      "100%|██████████| 1110/1110 [00:14<00:00, 76.59it/s, epoch=73, loss=0.033]\n",
      "100%|██████████| 1110/1110 [00:14<00:00, 74.69it/s, epoch=74, loss=0.032]\n",
      "100%|██████████| 1110/1110 [00:15<00:00, 72.64it/s, epoch=75, loss=0.032]\n",
      "100%|██████████| 1110/1110 [00:15<00:00, 71.46it/s, epoch=76, loss=0.031]\n",
      "100%|██████████| 1110/1110 [00:15<00:00, 71.65it/s, epoch=77, loss=0.031]\n",
      "100%|██████████| 1110/1110 [00:15<00:00, 71.01it/s, epoch=78, loss=0.030]\n",
      "100%|██████████| 1110/1110 [00:15<00:00, 71.49it/s, epoch=79, loss=0.030]\n",
      "100%|██████████| 1110/1110 [00:14<00:00, 74.08it/s, epoch=80, loss=0.030]\n",
      "100%|██████████| 1110/1110 [00:15<00:00, 70.00it/s, epoch=81, loss=0.029]\n",
      "100%|██████████| 1110/1110 [00:15<00:00, 73.02it/s, epoch=82, loss=0.029]\n",
      "100%|██████████| 1110/1110 [00:14<00:00, 74.37it/s, epoch=83, loss=0.028]\n",
      "100%|██████████| 1110/1110 [00:15<00:00, 72.57it/s, epoch=84, loss=0.028]\n",
      "100%|██████████| 1110/1110 [00:15<00:00, 73.60it/s, epoch=85, loss=0.028]\n",
      "100%|██████████| 1110/1110 [00:15<00:00, 73.42it/s, epoch=86, loss=0.027]\n",
      "100%|██████████| 1110/1110 [00:14<00:00, 78.19it/s, epoch=87, loss=0.027]\n",
      "100%|██████████| 1110/1110 [00:14<00:00, 78.60it/s, epoch=88, loss=0.027]\n",
      "100%|██████████| 1110/1110 [00:14<00:00, 77.52it/s, epoch=89, loss=0.026]\n",
      "100%|██████████| 1110/1110 [00:14<00:00, 76.12it/s, epoch=90, loss=0.026]\n",
      "100%|██████████| 1110/1110 [00:14<00:00, 75.75it/s, epoch=91, loss=0.026]\n",
      "100%|██████████| 1110/1110 [00:14<00:00, 77.82it/s, epoch=92, loss=0.025]\n",
      "100%|██████████| 1110/1110 [00:14<00:00, 75.68it/s, epoch=93, loss=0.025]\n",
      "100%|██████████| 1110/1110 [00:14<00:00, 75.39it/s, epoch=94, loss=0.025]\n",
      "100%|██████████| 1110/1110 [00:15<00:00, 73.96it/s, epoch=95, loss=0.024]\n",
      "100%|██████████| 1110/1110 [00:14<00:00, 74.60it/s, epoch=96, loss=0.024]\n",
      "100%|██████████| 1110/1110 [00:13<00:00, 80.64it/s, epoch=97, loss=0.024]\n",
      "100%|██████████| 1110/1110 [00:13<00:00, 80.35it/s, epoch=98, loss=0.024]\n",
      "100%|██████████| 1110/1110 [00:14<00:00, 79.03it/s, epoch=99, loss=0.023]\n",
      "100%|██████████| 1110/1110 [00:14<00:00, 77.47it/s, epoch=100, loss=0.023]\n",
      "100%|██████████| 1110/1110 [00:14<00:00, 76.06it/s, epoch=101, loss=0.023]\n",
      "100%|██████████| 1110/1110 [00:14<00:00, 74.38it/s, epoch=102, loss=0.023]\n",
      "100%|██████████| 1110/1110 [00:14<00:00, 74.63it/s, epoch=103, loss=0.022]\n",
      "100%|██████████| 1110/1110 [00:14<00:00, 74.61it/s, epoch=104, loss=0.022]\n",
      "100%|██████████| 1110/1110 [00:15<00:00, 73.26it/s, epoch=105, loss=0.022]\n",
      "100%|██████████| 1110/1110 [00:15<00:00, 73.91it/s, epoch=106, loss=0.022]\n",
      "100%|██████████| 1110/1110 [00:15<00:00, 73.51it/s, epoch=107, loss=0.021]\n",
      "100%|██████████| 1110/1110 [00:15<00:00, 73.14it/s, epoch=108, loss=0.021]\n",
      "100%|██████████| 1110/1110 [00:15<00:00, 73.91it/s, epoch=109, loss=0.021]\n",
      "100%|██████████| 1110/1110 [00:15<00:00, 73.68it/s, epoch=110, loss=0.021]\n",
      "100%|██████████| 1110/1110 [00:15<00:00, 73.95it/s, epoch=111, loss=0.021]\n",
      "100%|██████████| 1110/1110 [00:15<00:00, 73.37it/s, epoch=112, loss=0.020]\n",
      "100%|██████████| 1110/1110 [00:15<00:00, 73.76it/s, epoch=113, loss=0.020]\n",
      "100%|██████████| 1110/1110 [00:15<00:00, 73.55it/s, epoch=114, loss=0.020]\n",
      "100%|██████████| 1110/1110 [00:15<00:00, 73.72it/s, epoch=115, loss=0.020]\n",
      "100%|██████████| 1110/1110 [00:15<00:00, 73.35it/s, epoch=116, loss=0.020]\n",
      "100%|██████████| 1110/1110 [00:15<00:00, 73.51it/s, epoch=117, loss=0.019]\n",
      "100%|██████████| 1110/1110 [00:15<00:00, 73.39it/s, epoch=118, loss=0.019]\n",
      "100%|██████████| 1110/1110 [00:15<00:00, 73.69it/s, epoch=119, loss=0.019]\n",
      "100%|██████████| 1110/1110 [00:15<00:00, 73.01it/s, epoch=120, loss=0.019]\n",
      "100%|██████████| 1110/1110 [00:15<00:00, 72.74it/s, epoch=121, loss=0.019]\n",
      "100%|██████████| 1110/1110 [00:15<00:00, 71.74it/s, epoch=122, loss=0.019]\n",
      "100%|██████████| 1110/1110 [00:15<00:00, 72.71it/s, epoch=123, loss=0.018]\n",
      "100%|██████████| 1110/1110 [00:15<00:00, 72.06it/s, epoch=124, loss=0.018]\n",
      "100%|██████████| 1110/1110 [00:15<00:00, 72.01it/s, epoch=125, loss=0.018]\n",
      "100%|██████████| 1110/1110 [00:15<00:00, 71.83it/s, epoch=126, loss=0.018]\n",
      "100%|██████████| 1110/1110 [00:15<00:00, 71.20it/s, epoch=127, loss=0.018]\n",
      "100%|██████████| 1110/1110 [00:15<00:00, 72.23it/s, epoch=128, loss=0.018]\n",
      "100%|██████████| 1110/1110 [00:15<00:00, 71.17it/s, epoch=129, loss=0.017]\n",
      "100%|██████████| 1110/1110 [00:15<00:00, 71.25it/s, epoch=130, loss=0.017]\n",
      "100%|██████████| 1110/1110 [00:15<00:00, 71.43it/s, epoch=131, loss=0.017]\n",
      "100%|██████████| 1110/1110 [00:15<00:00, 71.06it/s, epoch=132, loss=0.017]\n",
      "100%|██████████| 1110/1110 [00:15<00:00, 70.66it/s, epoch=133, loss=0.017]\n",
      "100%|██████████| 1110/1110 [00:15<00:00, 71.08it/s, epoch=134, loss=0.017]\n",
      "100%|██████████| 1110/1110 [00:15<00:00, 70.48it/s, epoch=135, loss=0.017]\n",
      "100%|██████████| 1110/1110 [00:15<00:00, 69.98it/s, epoch=136, loss=0.016]\n",
      "100%|██████████| 1110/1110 [00:14<00:00, 77.06it/s, epoch=137, loss=0.016]\n",
      "100%|██████████| 1110/1110 [00:14<00:00, 75.52it/s, epoch=138, loss=0.016]\n",
      "100%|██████████| 1110/1110 [00:14<00:00, 77.66it/s, epoch=139, loss=0.016]\n",
      "100%|██████████| 1110/1110 [00:14<00:00, 75.82it/s, epoch=140, loss=0.016]\n",
      "100%|██████████| 1110/1110 [00:14<00:00, 76.53it/s, epoch=141, loss=0.016]\n",
      "100%|██████████| 1110/1110 [00:15<00:00, 73.06it/s, epoch=142, loss=0.016]\n",
      "100%|██████████| 1110/1110 [00:15<00:00, 72.90it/s, epoch=143, loss=0.016]\n",
      "100%|██████████| 1110/1110 [00:15<00:00, 72.66it/s, epoch=144, loss=0.015]\n",
      "100%|██████████| 1110/1110 [00:15<00:00, 70.69it/s, epoch=145, loss=0.015]\n",
      "100%|██████████| 1110/1110 [00:15<00:00, 70.30it/s, epoch=146, loss=0.015]\n",
      "100%|██████████| 1110/1110 [00:15<00:00, 71.47it/s, epoch=147, loss=0.015]\n",
      "100%|██████████| 1110/1110 [00:15<00:00, 71.11it/s, epoch=148, loss=0.015]\n",
      "100%|██████████| 1110/1110 [00:15<00:00, 71.93it/s, epoch=149, loss=0.015]\n",
      "100%|██████████| 1110/1110 [00:15<00:00, 72.45it/s, epoch=150, loss=0.015]\n",
      "100%|██████████| 1110/1110 [00:15<00:00, 73.56it/s, epoch=151, loss=0.015]\n",
      "100%|██████████| 1110/1110 [00:15<00:00, 72.14it/s, epoch=152, loss=0.015]\n",
      "100%|██████████| 1110/1110 [00:15<00:00, 71.91it/s, epoch=153, loss=0.014]\n",
      "100%|██████████| 1110/1110 [00:15<00:00, 73.14it/s, epoch=154, loss=0.014]\n",
      "100%|██████████| 1110/1110 [00:14<00:00, 75.31it/s, epoch=155, loss=0.014]\n",
      "100%|██████████| 1110/1110 [00:15<00:00, 73.66it/s, epoch=156, loss=0.014]\n",
      "100%|██████████| 1110/1110 [00:14<00:00, 75.11it/s, epoch=157, loss=0.014]\n",
      "100%|██████████| 1110/1110 [00:14<00:00, 75.48it/s, epoch=158, loss=0.014]\n",
      "100%|██████████| 1110/1110 [00:15<00:00, 73.28it/s, epoch=159, loss=0.014]\n",
      "100%|██████████| 1110/1110 [00:15<00:00, 73.30it/s, epoch=160, loss=0.014]\n",
      "100%|██████████| 1110/1110 [00:14<00:00, 74.78it/s, epoch=161, loss=0.014]\n",
      "100%|██████████| 1110/1110 [00:14<00:00, 76.36it/s, epoch=162, loss=0.014]\n",
      "100%|██████████| 1110/1110 [00:14<00:00, 74.97it/s, epoch=163, loss=0.014]\n",
      "100%|██████████| 1110/1110 [00:14<00:00, 76.79it/s, epoch=164, loss=0.013]\n",
      "100%|██████████| 1110/1110 [00:14<00:00, 76.12it/s, epoch=165, loss=0.013]\n",
      "100%|██████████| 1110/1110 [00:14<00:00, 75.78it/s, epoch=166, loss=0.013]\n",
      "100%|██████████| 1110/1110 [00:14<00:00, 77.03it/s, epoch=167, loss=0.013]\n",
      "100%|██████████| 1110/1110 [00:14<00:00, 77.39it/s, epoch=168, loss=0.013]\n",
      "100%|██████████| 1110/1110 [00:14<00:00, 76.43it/s, epoch=169, loss=0.013]\n",
      "100%|██████████| 1110/1110 [00:14<00:00, 76.92it/s, epoch=170, loss=0.013]\n",
      "100%|██████████| 1110/1110 [00:14<00:00, 76.55it/s, epoch=171, loss=0.013]\n",
      "100%|██████████| 1110/1110 [00:14<00:00, 76.39it/s, epoch=172, loss=0.013]\n",
      "100%|██████████| 1110/1110 [00:14<00:00, 75.56it/s, epoch=173, loss=0.013]\n",
      "100%|██████████| 1110/1110 [00:14<00:00, 77.05it/s, epoch=174, loss=0.013]\n",
      "100%|██████████| 1110/1110 [00:14<00:00, 77.51it/s, epoch=175, loss=0.013]\n",
      "100%|██████████| 1110/1110 [00:14<00:00, 76.71it/s, epoch=176, loss=0.012]\n",
      "100%|██████████| 1110/1110 [00:14<00:00, 76.22it/s, epoch=177, loss=0.012]\n",
      "100%|██████████| 1110/1110 [00:14<00:00, 77.50it/s, epoch=178, loss=0.012]\n",
      "100%|██████████| 1110/1110 [00:14<00:00, 77.93it/s, epoch=179, loss=0.012]\n",
      "100%|██████████| 1110/1110 [00:14<00:00, 77.46it/s, epoch=180, loss=0.012]\n",
      "100%|██████████| 1110/1110 [00:14<00:00, 77.82it/s, epoch=181, loss=0.012]\n",
      "100%|██████████| 1110/1110 [00:14<00:00, 78.24it/s, epoch=182, loss=0.012]\n",
      "100%|██████████| 1110/1110 [00:14<00:00, 76.67it/s, epoch=183, loss=0.012]\n",
      "100%|██████████| 1110/1110 [00:14<00:00, 78.09it/s, epoch=184, loss=0.012]\n",
      "100%|██████████| 1110/1110 [00:14<00:00, 77.61it/s, epoch=185, loss=0.012]\n",
      "100%|██████████| 1110/1110 [00:14<00:00, 77.43it/s, epoch=186, loss=0.012]\n",
      "100%|██████████| 1110/1110 [00:14<00:00, 77.23it/s, epoch=187, loss=0.012]\n",
      "100%|██████████| 1110/1110 [00:14<00:00, 78.30it/s, epoch=188, loss=0.012]\n",
      "100%|██████████| 1110/1110 [00:14<00:00, 77.27it/s, epoch=189, loss=0.012]\n",
      "100%|██████████| 1110/1110 [00:14<00:00, 76.41it/s, epoch=190, loss=0.011]\n",
      "100%|██████████| 1110/1110 [00:14<00:00, 76.66it/s, epoch=191, loss=0.011]\n",
      "100%|██████████| 1110/1110 [00:14<00:00, 77.37it/s, epoch=192, loss=0.011]\n",
      "100%|██████████| 1110/1110 [00:14<00:00, 75.37it/s, epoch=193, loss=0.011]\n",
      "100%|██████████| 1110/1110 [00:14<00:00, 76.71it/s, epoch=194, loss=0.011]\n",
      "100%|██████████| 1110/1110 [00:14<00:00, 77.29it/s, epoch=195, loss=0.011]\n",
      "100%|██████████| 1110/1110 [00:14<00:00, 75.25it/s, epoch=196, loss=0.011]\n",
      "100%|██████████| 1110/1110 [00:14<00:00, 76.59it/s, epoch=197, loss=0.011]\n",
      "100%|██████████| 1110/1110 [00:14<00:00, 76.00it/s, epoch=198, loss=0.011]\n",
      "100%|██████████| 1110/1110 [00:14<00:00, 76.09it/s, epoch=199, loss=0.011]\n",
      "100%|██████████| 1110/1110 [00:14<00:00, 76.45it/s, epoch=200, loss=0.011]\n"
     ]
    },
    {
     "data": {
      "text/plain": "<Figure size 720x360 with 1 Axes>",
      "image/png": "[encoded data removed]"
     },
     "metadata": {
      "needs_background": "light"
     },
     "output_type": "display_data"
    }
   ],
   "source": [
    "train_ldr, test_ldr = dataset.loaders(batch_size=batch_size, seed=42)\n",
    "trainer.train(train_ldr)\n",
    "plot_metrics(export_path, trainer.metric_values[\"test_precision\"], trainer.metric_values[\"test_recall\"])"
   ]
  },
  {
   "cell_type": "code",
   "execution_count": 27,
   "outputs": [
    {
     "data": {
      "text/plain": "(1, 0.6525377899279073)"
     },
     "execution_count": 27,
     "metadata": {},
     "output_type": "execute_result"
    }
   ],
   "source": [
    "test_precision = trainer.metric_values['test_precision']\n",
    "np.argmax(test_precision), np.max(test_precision)"
   ],
   "metadata": {
    "collapsed": false,
    "pycharm": {
     "name": "#%%\n"
    }
   }
  },
  {
   "cell_type": "code",
   "execution_count": 5,
   "metadata": {
    "collapsed": false,
    "pycharm": {
     "name": "#%%\n"
    }
   },
   "outputs": [
    {
     "data": {
      "text/plain": "{'Precision': 0.6230154594676991,\n 'Recall': 0.718274953689009,\n 'F1-Score': 0.6672625046853525,\n 'AUPR': 0.720567635795567,\n 'AUROC': 0.8472783048251309,\n 'Thresh_star': 0.03125389665365219,\n 'Quantile_star': 62.081617244691174}"
     },
     "execution_count": 5,
     "metadata": {},
     "output_type": "execute_result"
    }
   ],
   "source": [
    "best_epoch = 7 * 5 + 1\n",
    "best = export_path + \"/checkpoints/memae_epoch={}.pt\".format(best_epoch)\n",
    "trainer, model = MemAEIDSTrainer.load_from_file(best, trainer, model)\n",
    "trainer.n_epochs = best_epoch\n",
    "y_test_true, test_scores, test_labels = trainer.test(test_ldr)\n",
    "results = metrics.estimate_optimal_threshold(test_scores, y_test_true)\n",
    "y_pred = (test_scores >= results[\"Thresh_star\"]).astype(int)\n",
    "store_results(\n",
    "    results=results,\n",
    "    params=dict(batch_size=batch_size, lr=lr, n_epochs=best_epoch, **model.get_params()),\n",
    "    model_name=\"MemAE\",\n",
    "    dataset=\"IDS2017\",\n",
    "    dataset_path=dataset_path,\n",
    "    results_path=\"./\"\n",
    ")\n",
    "results"
   ]
  },
  {
   "cell_type": "code",
   "execution_count": 6,
   "metadata": {
    "collapsed": false,
    "pycharm": {
     "name": "#%%\n"
    }
   },
   "outputs": [
    {
     "data": {
      "text/plain": "              # Instances test set  Misclassified count  Misclassified ratio\nWeb Attack                    2180                 2082             0.955046\nBot                           1966                 1852             0.942014\nPortScan                    158930                82059             0.516322\nSSH-Patator                   5897                 2949             0.500085\nFTP-Patator                   7938                 3824             0.481733\nBENIGN                     1136374               242366             0.213280\nDDoS                        128027                26747             0.208917\nDoS                         252658                37586             0.148762\nInfiltration                    36                    3             0.083333\nHeartbleed                      11                    0             0.000000",
      "text/html": "<div>\n<style scoped>\n    .dataframe tbody tr th:only-of-type {\n        vertical-align: middle;\n    }\n\n    .dataframe tbody tr th {\n        vertical-align: top;\n    }\n\n    .dataframe thead th {\n        text-align: right;\n    }\n</style>\n<table border=\"1\" class=\"dataframe\">\n  <thead>\n    <tr style=\"text-align: right;\">\n      <th></th>\n      <th># Instances test set</th>\n      <th>Misclassified count</th>\n      <th>Misclassified ratio</th>\n    </tr>\n  </thead>\n  <tbody>\n    <tr>\n      <th>Web Attack</th>\n      <td>2180</td>\n      <td>2082</td>\n      <td>0.955046</td>\n    </tr>\n    <tr>\n      <th>Bot</th>\n      <td>1966</td>\n      <td>1852</td>\n      <td>0.942014</td>\n    </tr>\n    <tr>\n      <th>PortScan</th>\n      <td>158930</td>\n      <td>82059</td>\n      <td>0.516322</td>\n    </tr>\n    <tr>\n      <th>SSH-Patator</th>\n      <td>5897</td>\n      <td>2949</td>\n      <td>0.500085</td>\n    </tr>\n    <tr>\n      <th>FTP-Patator</th>\n      <td>7938</td>\n      <td>3824</td>\n      <td>0.481733</td>\n    </tr>\n    <tr>\n      <th>BENIGN</th>\n      <td>1136374</td>\n      <td>242366</td>\n      <td>0.213280</td>\n    </tr>\n    <tr>\n      <th>DDoS</th>\n      <td>128027</td>\n      <td>26747</td>\n      <td>0.208917</td>\n    </tr>\n    <tr>\n      <th>DoS</th>\n      <td>252658</td>\n      <td>37586</td>\n      <td>0.148762</td>\n    </tr>\n    <tr>\n      <th>Infiltration</th>\n      <td>36</td>\n      <td>3</td>\n      <td>0.083333</td>\n    </tr>\n    <tr>\n      <th>Heartbleed</th>\n      <td>11</td>\n      <td>0</td>\n      <td>0.000000</td>\n    </tr>\n  </tbody>\n</table>\n</div>"
     },
     "execution_count": 6,
     "metadata": {},
     "output_type": "execute_result"
    }
   ],
   "source": [
    "misclf_df = ids_misclf_per_label(y_pred, y_test_true, test_labels)\n",
    "misclf_df = misclf_df.sort_values(\"Misclassified ratio\", ascending=False)\n",
    "misclf_df.to_csv(export_path + \"/memae_misclassifications.csv\")\n",
    "misclf_df"
   ]
  },
  {
   "cell_type": "code",
   "execution_count": 7,
   "outputs": [
    {
     "data": {
      "text/plain": "<Figure size 1152x1080 with 2 Axes>",
      "image/png": "[encoded data removed]"
     },
     "metadata": {},
     "output_type": "display_data"
    }
   ],
   "source": [
    "import seaborn as sns\n",
    "import matplotlib.pyplot as plt\n",
    "sns.set_theme(style=\"whitegrid\")\n",
    "\n",
    "# Initialize the matplotlib figure\n",
    "f, axs = plt.subplots(figsize=(16, 15), ncols=2)\n",
    "\n",
    "# Plot misclassification rates\n",
    "sns.set_color_codes(\"pastel\")\n",
    "sns.barplot(\n",
    "    x=misclf_df[\"Misclassified ratio\"] * 100,\n",
    "    y=misclf_df.index,\n",
    "    data=misclf_df,\n",
    "    label=\"Misclassification ratio\",\n",
    "    color=\"b\",\n",
    "    ax=axs[0]\n",
    ")\n",
    "\n",
    "# Plot correct classification rate\n",
    "sns.set_color_codes(\"muted\")\n",
    "sns.barplot(\n",
    "    x=(1-misclf_df[\"Misclassified ratio\"]) * 100,\n",
    "    y=misclf_df.index,\n",
    "    data=misclf_df,\n",
    "    label=\"Correctly classified ratio\",\n",
    "    color=\"b\",\n",
    "    ax=axs[1]\n",
    ")\n",
    "\n",
    "# Add a legend and informative axis label\n",
    "for ax in axs:\n",
    "    ax.legend(ncol=2, loc=\"lower right\", frameon=True)\n",
    "    ax.set(xlim=(0, 100), ylabel=\"\", xlabel=\"Classification rate per attack category\")\n",
    "sns.despine(left=True, bottom=True)"
   ],
   "metadata": {
    "collapsed": false,
    "pycharm": {
     "name": "#%%\n"
    }
   }
  }
 ],
 "metadata": {
  "kernelspec": {
   "display_name": "Python 3",
   "language": "python",
   "name": "python3"
  },
  "language_info": {
   "codemirror_mode": {
    "name": "ipython",
    "version": 3
   },
   "file_extension": ".py",
   "mimetype": "text/x-python",
   "name": "python",
   "nbconvert_exporter": "python",
   "pygments_lexer": "ipython3",
   "version": "3.8.13"
  }
 },
 "nbformat": 4,
 "nbformat_minor": 0
}