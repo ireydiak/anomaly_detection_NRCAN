{
 "cells": [
  {
   "cell_type": "code",
   "execution_count": 1,
   "metadata": {
    "collapsed": true,
    "pycharm": {
     "name": "#%%\n"
    }
   },
   "outputs": [],
   "source": [
    "import pandas as pd\n",
    "import numpy as np\n",
    "import os\n",
    "%load_ext autoreload\n",
    "%autoreload 2\n",
    "from src.model.one_class import DeepSVDD\n",
    "from src.model.reconstruction import DAGMM, MemAutoEncoder\n",
    "from src.trainer.ids import DeepSVDDIDSTrainer, MemAEIDSTrainer, DAGMMIDSTrainer\n",
    "from src.utils import metrics\n",
    "from src.utils.utils import ids_misclf_per_label\n",
    "from src.datamanager.dataset import IDS2017Dataset\n",
    "from src.bootstrap import store_results\n",
    "from pathlib import Path"
   ]
  },
  {
   "cell_type": "code",
   "execution_count": null,
   "outputs": [],
   "source": [
    "# Setup base folder structure\n",
    "dataset_path = \"../../data/IDS2017/ids2017.csv\"\n",
    "\n",
    "# General arguments\n",
    "batch_size = 1024\n",
    "device = \"cuda\"\n",
    "act_fn = \"relu\"\n",
    "n_layers = 4\n",
    "compression_factor = 2\n",
    "lr = 1e-4\n",
    "n_epochs = 200\n",
    "n_runs = 20\n",
    "\n",
    "models_params = {\n",
    "    \"deepsvdd\": {\n",
    "        \"model_cls\": DeepSVDD,\n",
    "        \"trainer_cls\": DeepSVDDIDSTrainer,\n",
    "        \"compression_factor\": 2,\n",
    "        \"n_layers\": 4,\n",
    "        \"act_fn\": \"relu\",\n",
    "        \"keep_ckpt\": False,\n",
    "    },\n",
    "    \"dagmm\": {\n",
    "        \"model_cls\": DAGMM,\n",
    "        \"trainer_cls\": DAGMMIDSTrainer,\n",
    "        \"n_mixtures\": 4,\n",
    "        \"latent_dim\": 1,\n",
    "        \"lambda_1\": 0.005,\n",
    "        \"lambda_2\": 0.1,\n",
    "        \"reg_covar\": 1e-6,\n",
    "        \"compression_factor\": 2,\n",
    "        \"act_fn\": \"relu\",\n",
    "        \"n_layers\": 4,\n",
    "        \"keep_ckpt\": False,\n",
    "    },\n",
    "    \"memae\": {\n",
    "        \"model_cls\": MemAutoEncoder,\n",
    "        \"trainer_cls\": MemAEIDSTrainer,\n",
    "        \"mem_dim\": 50,\n",
    "        \"latent_dim\": 1,\n",
    "        \"shrink_thres\": 0.0025,\n",
    "        \"n_layers\": 4,\n",
    "        \"compression_factor\": 2,\n",
    "        \"act_fn\": \"relu\",\n",
    "        \"alpha\": 2e-4,\n",
    "        \"keep_ckpt\": False,\n",
    "    }\n",
    "}\n",
    "\n",
    "print(\"arguments set\")"
   ],
   "metadata": {
    "collapsed": false,
    "pycharm": {
     "name": "#%%\n"
    }
   }
  },
  {
   "cell_type": "code",
   "execution_count": null,
   "outputs": [],
   "source": [
    "# Load data\n",
    "dataset = IDS2017Dataset(path=dataset_path)\n",
    "attack_types = np.unique(dataset.labels)\n",
    "# Store label-wise performance\n",
    "performance_hist = {model_name: {attack_label: [] for attack_label in attack_types} for model_name in models_params.keys()}"
   ],
   "metadata": {
    "collapsed": false,
    "pycharm": {
     "name": "#%%\n"
    }
   }
  },
  {
   "cell_type": "code",
   "execution_count": null,
   "outputs": [],
   "source": [
    "for model_name, params in models_params.items():\n",
    "    f1_hist = []\n",
    "    print(\"Training model {} for {} runs of {} epochs each\".format(model_name, n_runs, n_epochs))\n",
    "    model_cls, trainer_cls = params.pop(\"model_cls\"), params.pop(\"trainer_cls\")\n",
    "    model_params = dict(\n",
    "        **params, in_features=dataset.in_features, n_instances=dataset.n_instances, device=device\n",
    "    )\n",
    "    for run_i in range(n_runs):\n",
    "        # Create directories\n",
    "        ckpt_root = Path(model_name + \"/train/run_{}\".format(run_i + 1))\n",
    "        ckpt_root.mkdir(parents=True, exist_ok=True)\n",
    "        ckpt_best_root = Path(model_name + \"/best\")\n",
    "        ckpt_best_root.mkdir(parents=True, exist_ok=True)\n",
    "        # Set data loaders\n",
    "        train_ldr, test_ldr = dataset.loaders(test_pct=0.5, batch_size=batch_size)\n",
    "        # Set model and trainer\n",
    "        model = model_cls(**model_params)\n",
    "        trainer = trainer_cls(\n",
    "            model=model,\n",
    "            batch_size=batch_size,\n",
    "            validation_ldr=test_ldr,\n",
    "            device=device,\n",
    "            lr=lr,\n",
    "            n_epochs=n_epochs,\n",
    "            run_test_validation=True,\n",
    "            ckpt_root=str(ckpt_root.absolute()),\n",
    "            keep_ckpt=True,\n",
    "        )\n",
    "        # Train\n",
    "        trainer.train(train_ldr)\n",
    "        # Print best F1-Score\n",
    "        idx = np.argmax(trainer.metric_values[\"f1-score\"])\n",
    "        precision = trainer.metric_values[\"precision\"][idx]\n",
    "        recall = trainer.metric_values[\"recall\"][idx]\n",
    "        f1 = trainer.metric_values[\"f1-score\"][idx]\n",
    "        best_epoch = idx * 5 + 1\n",
    "        print(\"Best epoch={}\\tPrecision={:2.4f}\\tRecall={:2.4f}\\tBest F1-Score={:2.4f}\".format(best_epoch, precision, recall, f1))\n",
    "        # Print figure\n",
    "        figname = str(ckpt_root.absolute()) + \"/ids2017_thresh-auto.png\"\n",
    "        trainer.plot_metrics(figname=figname)\n",
    "        # Load best model based on f1-score\n",
    "        best_ckpt = str(ckpt_root.absolute()) + \"/{}_epoch={}.pt\".format(model_name, best_epoch)\n",
    "        trainer, model = trainer_cls.load_from_file(best_ckpt, trainer, model, device)\n",
    "        trainer.n_epochs = best_epoch\n",
    "        best_epoch = 7 * 5 + 1\n",
    "        # Evaluate best model on binary targets\n",
    "        y_test_true, test_scores, test_labels = trainer.test(test_ldr)\n",
    "        results = metrics.estimate_optimal_threshold(test_scores, y_test_true)\n",
    "        y_pred = (test_scores >= results[\"Thresh_star\"]).astype(int)\n",
    "        store_results(\n",
    "            results=results,\n",
    "            params=dict(batch_size=batch_size, lr=lr, n_epochs=best_epoch, **model.get_params()),\n",
    "            model_name=model_name,\n",
    "            dataset=\"IDS2017\",\n",
    "            dataset_path=dataset_path,\n",
    "            results_path=\"./\"\n",
    "        )\n",
    "        # Save best model\n",
    "        trainer.save_ckpt(str(ckpt_best_root.absolute()) + \"/best_run_{}_{}.pt\".format(run_i + 1, model_name))\n",
    "        # Evaluate best model on every attack targets\n",
    "        misclf_df = ids_misclf_per_label(y_pred, y_test_true, test_labels)\n",
    "        misclf_df = misclf_df.sort_values(\"Misclassified ratio\", ascending=False)\n",
    "        misclf_df.to_csv(str(ckpt_root.absolute()) + \"/{}_misclassifications.csv\".format(model_name))\n",
    "        for attack_label in attack_types:\n",
    "            performance_hist[model_name][attack_label].append(misclf_df.loc[attack_label, \"Misclassified ratio\"])"
   ],
   "metadata": {
    "collapsed": false,
    "pycharm": {
     "name": "#%%\n"
    }
   }
  },
  {
   "cell_type": "code",
   "execution_count": null,
   "outputs": [],
   "source": [
    "hist_fname = \"./performance_hist.npy\"\n",
    "np.save(hist_fname, performance_hist)"
   ],
   "metadata": {
    "collapsed": false,
    "pycharm": {
     "name": "#%%\n"
    }
   }
  },
  {
   "cell_type": "code",
   "execution_count": null,
   "outputs": [],
   "source": [
    "performance_hist = np.load(hist_fname, allow_pickle=True)"
   ],
   "metadata": {
    "collapsed": false,
    "pycharm": {
     "name": "#%%\n"
    }
   }
  },
  {
   "cell_type": "code",
   "execution_count": null,
   "outputs": [],
   "source": [
    "performance_hist"
   ],
   "metadata": {
    "collapsed": false,
    "pycharm": {
     "name": "#%%\n"
    }
   }
  },
  {
   "cell_type": "code",
   "execution_count": 9,
   "outputs": [],
   "source": [
    "performance_hist = np.load(hist_fname, allow_pickle=True)"
   ],
   "metadata": {
    "collapsed": false,
    "pycharm": {
     "name": "#%%\n"
    }
   }
  },
  {
   "cell_type": "code",
   "execution_count": 11,
   "outputs": [],
   "source": [
    "performance_hist"
   ],
   "metadata": {
    "collapsed": false,
    "pycharm": {
     "name": "#%%\n"
    }
   }
  }
 ],
 "metadata": {
  "kernelspec": {
   "display_name": "Python 3",
   "language": "python",
   "name": "python3"
  },
  "language_info": {
   "codemirror_mode": {
    "name": "ipython",
    "version": 3
   },
   "file_extension": ".py",
   "mimetype": "text/x-python",
   "name": "python",
   "nbconvert_exporter": "python",
   "pygments_lexer": "ipython3",
   "version": "3.8.13"
  }
 },
 "nbformat": 4,
 "nbformat_minor": 0
}