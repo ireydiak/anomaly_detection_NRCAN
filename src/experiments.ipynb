{
 "cells": [
  {
   "cell_type": "code",
   "execution_count": null,
   "outputs": [],
   "source": [
    "import itertools as it\n",
    "from bootstrap import available_datasets, available_models, train\n"
   ],
   "metadata": {
    "collapsed": false,
    "pycharm": {
     "name": "#%%\n"
    }
   }
  },
  {
   "cell_type": "code",
   "execution_count": 1,
   "outputs": [
    {
     "name": "stdout",
     "output_type": "stream",
     "text": [
      "ALAD Arrhythmia\n"
     ]
    },
    {
     "name": "stderr",
     "output_type": "stream",
     "text": [
      "  0%|          | 0/7 [00:00<?, ?it/s]"
     ]
    },
    {
     "name": "stdout",
     "output_type": "stream",
     "text": [
      "Run 1 of 1\n"
     ]
    },
    {
     "name": "stderr",
     "output_type": "stream",
     "text": [
      " 86%|████████▌ | 6/7 [00:01<00:00,  3.13it/s, loss_d=4.1535, loss_ge=4.1635]\n"
     ]
    },
    {
     "name": "stdout",
     "output_type": "stream",
     "text": [
      "Finished learning process\n",
      "Evaluating model on test set\n",
      "Evaluating model\n",
      "{'Precision': 0.24609375, 'Recall': 1.0, 'F1-Score': 0.3949843260188088, 'AUROC': 0.5309647174932148, 'AUPR': 0.3931762281229848, 'Thresh_star': 1.0400362014770508}\n",
      "Averaging results ...\n",
      "defaultdict(None, {'Precision': '0.2461(0.0000)', 'Recall': '1.0000(0.0000)', 'F1-Score': '0.3950(0.0000)', 'AUROC': '0.5310(0.0000)', 'AUPR': '0.3932(0.0000)', 'Thresh_star': '1.0400(0.0000)'})\n",
      "Results stored in ../results/Arrhythmia/ALAD_results.txt\n",
      "ALAD KDD10\n"
     ]
    },
    {
     "name": "stderr",
     "output_type": "stream",
     "text": [
      "  0%|          | 0/194 [00:00<?, ?it/s]"
     ]
    },
    {
     "name": "stdout",
     "output_type": "stream",
     "text": [
      "Run 1 of 1\n"
     ]
    },
    {
     "name": "stderr",
     "output_type": "stream",
     "text": [
      " 99%|█████████▉| 193/194 [00:42<00:00,  4.51it/s, loss_d=4.1591, loss_ge=4.1587]\n"
     ]
    },
    {
     "name": "stdout",
     "output_type": "stream",
     "text": [
      "Finished learning process\n",
      "Evaluating model on test set\n",
      "Evaluating model\n",
      "{'Precision': 0.3273552788628472, 'Recall': 1.0, 'F1-Score': 0.4932443997108209, 'AUROC': 0.006567233500501695, 'AUPR': 0.18562753238050092, 'Thresh_star': 0.3450015187263489}\n",
      "Averaging results ...\n",
      "defaultdict(None, {'Precision': '0.3274(0.0000)', 'Recall': '1.0000(0.0000)', 'F1-Score': '0.4932(0.0000)', 'AUROC': '0.0066(0.0000)', 'AUPR': '0.1856(0.0000)', 'Thresh_star': '0.3450(0.0000)'})\n",
      "Results stored in ../results/KDD10/ALAD_results.txt\n",
      "ALAD NSLKDD\n",
      "Run 1 of 1"
     ]
    },
    {
     "name": "stderr",
     "output_type": "stream",
     "text": [
      "  0%|          | 0/38 [00:00<?, ?it/s]"
     ]
    },
    {
     "name": "stdout",
     "output_type": "stream",
     "text": [
      "\n"
     ]
    },
    {
     "name": "stderr",
     "output_type": "stream",
     "text": [
      " 97%|█████████▋| 37/38 [00:08<00:00,  4.29it/s, loss_d=4.1592, loss_ge=4.1581]\n"
     ]
    },
    {
     "name": "stdout",
     "output_type": "stream",
     "text": [
      "Finished learning process\n",
      "Evaluating model on test set\n",
      "Evaluating model\n"
     ]
    },
    {
     "name": "stderr",
     "output_type": "stream",
     "text": [
      "  0%|          | 0/29 [00:00<?, ?it/s]"
     ]
    },
    {
     "name": "stdout",
     "output_type": "stream",
     "text": [
      "{'Precision': 0.6672182836551643, 'Recall': 0.959150349798004, 'F1-Score': 0.7869835128345798, 'AUROC': 0.7015485954893623, 'AUPR': 0.8216877220874452, 'Thresh_star': 0.4752453863620758}\n",
      "Averaging results ...\n",
      "defaultdict(None, {'Precision': '0.6672(0.0000)', 'Recall': '0.9592(0.0000)', 'F1-Score': '0.7870(0.0000)', 'AUROC': '0.7015(0.0000)', 'AUPR': '0.8217(0.0000)', 'Thresh_star': '0.4752(0.0000)'})\n",
      "Results stored in ../results/NSLKDD/ALAD_results.txt\n",
      "ALAD Thyroid\n",
      "Run 1 of 1\n"
     ]
    },
    {
     "name": "stderr",
     "output_type": "stream",
     "text": [
      " 97%|█████████▋| 28/29 [00:05<00:00,  5.09it/s, loss_d=4.1585, loss_ge=4.1595]\n"
     ]
    },
    {
     "name": "stdout",
     "output_type": "stream",
     "text": [
      "Finished learning process\n",
      "Evaluating model on test set\n",
      "Evaluating model\n",
      "{'Precision': 0.0524822695035461, 'Recall': 0.4567901234567901, 'F1-Score': 0.09414758269720101, 'AUROC': 0.5164911150048, 'AUPR': 0.055357853940525725, 'Thresh_star': 0.11801004461944102}\n",
      "Averaging results ...\n",
      "defaultdict(None, {'Precision': '0.0525(0.0000)', 'Recall': '0.4568(0.0000)', 'F1-Score': '0.0941(0.0000)', 'AUROC': '0.5165(0.0000)', 'AUPR': '0.0554(0.0000)', 'Thresh_star': '0.1180(0.0000)'})\n",
      "Results stored in ../results/Thyroid/ALAD_results.txt\n"
     ]
    }
   ],
   "source": [
    "import itertools as it\n",
    "from bootstrap import available_datasets, available_models, train\n",
    "\n",
    "available_datasets = list(set(available_datasets) - {\"IDS2018\", \"USBIDS\"})\n",
    "available_models = set([\"NeuTraLAD\"]) - {\"DUAD\"}\n",
    "couples = it.product(available_models, available_datasets)\n",
    "total = 0\n",
    "dataset_root = \"C:/Users/verdi/Documents/Datasets\"\n",
    "path_to_datasets_map = {\n",
    "    \"Arrhythmia\": dataset_root + \"/Arrhythmia/3_minified/arrhythmia_normalized.npz\",\n",
    "    \"KDD10\": dataset_root + \"/KDD/3_minified/KDD10percent_minified.npz\",\n",
    "    \"Thyroid\": dataset_root + \"/Thyroid/0_raw/thyroid.mat\",\n",
    "    \"NSLKDD\": dataset_root + \"/NSL-KDD/3_minified/NSL-KDD_minified.npz\",\n",
    "    \"USBIDS\": None,\n",
    "    \"IDS2018\": dataset_root + \"/IDS2018/3_minified/feature_group_5_50percent.npz\"\n",
    "}\n",
    "batch_sizes_map = {\n",
    "    \"Arrhythmia\": 32,\n",
    "    \"KDD10\": 1024,\n",
    "    \"IDS2018\": 1024,\n",
    "    \"NSLKDD\": 1024,\n",
    "    \"USBIDS\": 1024,\n",
    "    \"Thyroid\": 64\n",
    "}\n",
    "params = {\n",
    "    \"model_name\": None,\n",
    "    \"dataset_name\": None,\n",
    "    \"dataset_path\": None,\n",
    "    \"batch_size\": None,\n",
    "    \"pct\": 1.,\n",
    "    \"corruption_ratio\": 0.,\n",
    "    \"n_runs\": 1,\n",
    "    \"n_epochs\": 1,\n",
    "    \"learning_rate\": 1e-4,\n",
    "    \"results_path\": \"../results\",\n",
    "    \"models_path\": \"../models\",\n",
    "    \"test_mode\": False\n",
    "}\n",
    "\n",
    "for model_name, dataset_name in couples:\n",
    "    print(model_name, dataset_name)\n",
    "    params[\"model_name\"] = model_name\n",
    "    params[\"dataset_name\"] = dataset_name\n",
    "    params[\"dataset_path\"] = path_to_datasets_map[dataset_name]\n",
    "    params[\"batch_size\"] = batch_sizes_map[dataset_name]\n",
    "    train(**params)"
   ],
   "metadata": {
    "collapsed": false,
    "pycharm": {
     "name": "#%%\n"
    }
   }
  },
  {
   "cell_type": "code",
   "execution_count": null,
   "outputs": [],
   "source": [
    "!python main.py -m DAGMM -e 1 -d Arrhythmia --n-runs 1"
   ],
   "metadata": {
    "collapsed": false,
    "pycharm": {
     "name": "#%%\n"
    }
   }
  }
 ],
 "metadata": {
  "kernelspec": {
   "display_name": "Python 3",
   "language": "python",
   "name": "python3"
  },
  "language_info": {
   "codemirror_mode": {
    "name": "ipython",
    "version": 2
   },
   "file_extension": ".py",
   "mimetype": "text/x-python",
   "name": "python",
   "nbconvert_exporter": "python",
   "pygments_lexer": "ipython2",
   "version": "2.7.6"
  }
 },
 "nbformat": 4,
 "nbformat_minor": 0
}