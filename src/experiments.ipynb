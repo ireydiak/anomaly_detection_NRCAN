{
 "cells": [
  {
   "cell_type": "code",
   "execution_count": null,
   "outputs": [],
   "source": [
    "import itertools as it\n",
    "from bootstrap import available_datasets, available_models, train\n"
   ],
   "metadata": {
    "collapsed": false,
    "pycharm": {
     "name": "#%%\n"
    }
   }
  },
  {
   "cell_type": "code",
   "execution_count": 1,
   "outputs": [
    {
     "name": "stdout",
     "output_type": "stream",
     "text": [
      "NeuTraLAD Thyroid\n"
     ]
    },
    {
     "name": "stderr",
     "output_type": "stream",
     "text": [
      "  0%|          | 0/29 [00:00<?, ?it/s]"
     ]
    },
    {
     "name": "stdout",
     "output_type": "stream",
     "text": [
      "Run 1 of 1\n",
      "Started training\n"
     ]
    },
    {
     "name": "stderr",
     "output_type": "stream",
     "text": [
      " 97%|█████████▋| 28/29 [00:02<00:00, 11.27it/s, epoch=1, loss=162.401]\n"
     ]
    },
    {
     "name": "stdout",
     "output_type": "stream",
     "text": [
      "Finished learning process\n",
      "Evaluating model on test set\n",
      "Evaluating model\n",
      "{'Precision': 0.21649484536082475, 'Recall': 0.25925925925925924, 'F1-Score': 0.2359550561797753, 'AUROC': 0.6760081633201083, 'AUPR': 0.13853806440135158, 'Thresh_star': 5.60358145236969}\n"
     ]
    },
    {
     "name": "stderr",
     "output_type": "stream",
     "text": [
      "  0%|          | 0/7 [00:00<?, ?it/s]"
     ]
    },
    {
     "name": "stdout",
     "output_type": "stream",
     "text": [
      "Averaging results ...\n",
      "defaultdict(None, {'Precision': '0.2165(0.0000)', 'Recall': '0.2593(0.0000)', 'F1-Score': '0.2360(0.0000)', 'AUROC': '0.6760(0.0000)', 'AUPR': '0.1385(0.0000)', 'Thresh_star': '5.6036(0.0000)'})\n",
      "Results stored in ../results/Thyroid/NeuTraLAD_results.txt\n",
      "NeuTraLAD Arrhythmia\n",
      "Run 1 of 1\n",
      "Started training\n"
     ]
    },
    {
     "name": "stderr",
     "output_type": "stream",
     "text": [
      " 86%|████████▌ | 6/7 [00:00<00:00,  6.54it/s, epoch=1, loss=158.669]\n"
     ]
    },
    {
     "name": "stdout",
     "output_type": "stream",
     "text": [
      "Finished learning process\n",
      "Evaluating model on test set\n",
      "Evaluating model\n",
      "{'Precision': 0.24609375, 'Recall': 1.0, 'F1-Score': 0.3949843260188088, 'AUROC': 0.4951887490747594, 'AUPR': 0.2774765453123964, 'Thresh_star': 26.36956214904785}\n",
      "Averaging results ...\n",
      "defaultdict(None, {'Precision': '0.2461(0.0000)', 'Recall': '1.0000(0.0000)', 'F1-Score': '0.3950(0.0000)', 'AUROC': '0.4952(0.0000)', 'AUPR': '0.2775(0.0000)', 'Thresh_star': '26.3696(0.0000)'})\n",
      "Results stored in ../results/Arrhythmia/NeuTraLAD_results.txt\n",
      "NeuTraLAD KDD10\n"
     ]
    },
    {
     "name": "stderr",
     "output_type": "stream",
     "text": [
      "  0%|          | 0/194 [00:00<?, ?it/s]"
     ]
    },
    {
     "name": "stdout",
     "output_type": "stream",
     "text": [
      "Run 1 of 1\n",
      "Started training\n"
     ]
    },
    {
     "name": "stderr",
     "output_type": "stream",
     "text": [
      " 99%|█████████▉| 193/194 [00:26<00:00,  7.21it/s, epoch=1, loss=2643.761]\n"
     ]
    },
    {
     "name": "stdout",
     "output_type": "stream",
     "text": [
      "Finished learning process\n",
      "Evaluating model on test set\n",
      "Evaluating model\n",
      "{'Precision': 0.9387142941164938, 'Recall': 0.9919308894666514, 'F1-Score': 0.9645891566568456, 'AUROC': 0.9882928411128039, 'AUPR': 0.9632107418097721, 'Thresh_star': 13.626623153686523}\n",
      "Averaging results ...\n",
      "defaultdict(None, {'Precision': '0.9387(0.0000)', 'Recall': '0.9919(0.0000)', 'F1-Score': '0.9646(0.0000)', 'AUROC': '0.9883(0.0000)', 'AUPR': '0.9632(0.0000)', 'Thresh_star': '13.6266(0.0000)'})\n",
      "Results stored in ../results/KDD10/NeuTraLAD_results.txt\n",
      "NeuTraLAD NSLKDD\n"
     ]
    },
    {
     "name": "stderr",
     "output_type": "stream",
     "text": [
      "  0%|          | 0/38 [00:00<?, ?it/s]"
     ]
    },
    {
     "name": "stdout",
     "output_type": "stream",
     "text": [
      "Run 1 of 1\n",
      "Started training\n"
     ]
    },
    {
     "name": "stderr",
     "output_type": "stream",
     "text": [
      " 97%|█████████▋| 37/38 [00:05<00:00,  7.07it/s, epoch=1, loss=511.869]\n"
     ]
    },
    {
     "name": "stdout",
     "output_type": "stream",
     "text": [
      "Finished learning process\n",
      "Evaluating model on test set\n",
      "Evaluating model\n",
      "{'Precision': 0.8848626201717958, 'Recall': 0.8758322658746358, 'F1-Score': 0.8803242853201468, 'AUROC': 0.9253289014033477, 'AUPR': 0.9619778773523048, 'Thresh_star': 13.63869938850403}\n",
      "Averaging results ...\n",
      "defaultdict(None, {'Precision': '0.8849(0.0000)', 'Recall': '0.8758(0.0000)', 'F1-Score': '0.8803(0.0000)', 'AUROC': '0.9253(0.0000)', 'AUPR': '0.9620(0.0000)', 'Thresh_star': '13.6387(0.0000)'})\n",
      "Results stored in ../results/NSLKDD/NeuTraLAD_results.txt\n"
     ]
    }
   ],
   "source": [
    "import itertools as it\n",
    "from bootstrap import available_datasets, available_models, train\n",
    "\n",
    "available_datasets = list(set(available_datasets) - {\"IDS2018\", \"USBIDS\"})\n",
    "available_models = [\"DUAD\"]\n",
    "couples = it.product(available_models, available_datasets)\n",
    "total = 0\n",
    "dataset_root = \"C:/Users/verdi/Documents/Datasets\"\n",
    "path_to_datasets_map = {\n",
    "    \"Arrhythmia\": dataset_root + \"/Arrhythmia/3_minified/arrhythmia_normalized.npz\",\n",
    "    \"KDD10\": dataset_root + \"/KDD/3_minified/KDD10percent_minified.npz\",\n",
    "    \"Thyroid\": dataset_root + \"/Thyroid/0_raw/thyroid.mat\",\n",
    "    \"NSLKDD\": dataset_root + \"/NSL-KDD/3_minified/NSL-KDD_minified.npz\",\n",
    "    \"USBIDS\": None,\n",
    "    \"IDS2018\": dataset_root + \"/IDS2018/3_minified/feature_group_5_50percent.npz\"\n",
    "}\n",
    "batch_sizes_map = {\n",
    "    \"Arrhythmia\": 32,\n",
    "    \"KDD10\": 1024,\n",
    "    \"IDS2018\": 1024,\n",
    "    \"NSLKDD\": 1024,\n",
    "    \"USBIDS\": 1024,\n",
    "    \"Thyroid\": 64\n",
    "}\n",
    "params = {\n",
    "    \"model_name\": None,\n",
    "    \"dataset_name\": None,\n",
    "    \"dataset_path\": None,\n",
    "    \"batch_size\": None,\n",
    "    \"pct\": 1.,\n",
    "    \"corruption_ratio\": 0.,\n",
    "    \"n_runs\": 1,\n",
    "    \"n_epochs\": 1,\n",
    "    \"learning_rate\": 1e-4,\n",
    "    \"results_path\": \"../results\",\n",
    "    \"models_path\": \"../models\",\n",
    "    \"test_mode\": False\n",
    "}\n",
    "\n",
    "for model_name, dataset_name in couples:\n",
    "    print(model_name, dataset_name)\n",
    "    params[\"model_name\"] = model_name\n",
    "    params[\"dataset_name\"] = dataset_name\n",
    "    params[\"dataset_path\"] = path_to_datasets_map[dataset_name]\n",
    "    params[\"batch_size\"] = batch_sizes_map[dataset_name]\n",
    "    train(**params)"
   ],
   "metadata": {
    "collapsed": false,
    "pycharm": {
     "name": "#%%\n"
    }
   }
  },
  {
   "cell_type": "code",
   "execution_count": null,
   "outputs": [],
   "source": [
    "!python main.py -m DAGMM -e 1 -d Arrhythmia --n-runs 1"
   ],
   "metadata": {
    "collapsed": false,
    "pycharm": {
     "name": "#%%\n"
    }
   }
  }
 ],
 "metadata": {
  "kernelspec": {
   "display_name": "Python 3",
   "language": "python",
   "name": "python3"
  },
  "language_info": {
   "codemirror_mode": {
    "name": "ipython",
    "version": 2
   },
   "file_extension": ".py",
   "mimetype": "text/x-python",
   "name": "python",
   "nbconvert_exporter": "python",
   "pygments_lexer": "ipython2",
   "version": "2.7.6"
  }
 },
 "nbformat": 4,
 "nbformat_minor": 0
}