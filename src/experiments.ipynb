{
 "cells": [
  {
   "cell_type": "code",
   "execution_count": null,
   "outputs": [],
   "source": [
    "import itertools as it\n",
    "from bootstrap import available_datasets, available_models, train\n"
   ],
   "metadata": {
    "collapsed": false,
    "pycharm": {
     "name": "#%%\n"
    }
   }
  },
  {
   "cell_type": "code",
   "execution_count": 3,
   "outputs": [
    {
     "name": "stdout",
     "output_type": "stream",
     "text": [
      "RecForest Arrhythmia\n",
      "Run 1 of 1\n"
     ]
    },
    {
     "ename": "AttributeError",
     "evalue": "'RecForest' object has no attribute 'name'",
     "output_type": "error",
     "traceback": [
      "\u001B[1;31m---------------------------------------------------------------------------\u001B[0m",
      "\u001B[1;31mAttributeError\u001B[0m                            Traceback (most recent call last)",
      "\u001B[1;32m<ipython-input-3-0099f8397602>\u001B[0m in \u001B[0;36m<module>\u001B[1;34m\u001B[0m\n\u001B[0;32m     44\u001B[0m     \u001B[0mparams\u001B[0m\u001B[1;33m[\u001B[0m\u001B[1;34m\"dataset_path\"\u001B[0m\u001B[1;33m]\u001B[0m \u001B[1;33m=\u001B[0m \u001B[0mpath_to_datasets_map\u001B[0m\u001B[1;33m[\u001B[0m\u001B[0mdataset_name\u001B[0m\u001B[1;33m]\u001B[0m\u001B[1;33m\u001B[0m\u001B[1;33m\u001B[0m\u001B[0m\n\u001B[0;32m     45\u001B[0m     \u001B[0mparams\u001B[0m\u001B[1;33m[\u001B[0m\u001B[1;34m\"batch_size\"\u001B[0m\u001B[1;33m]\u001B[0m \u001B[1;33m=\u001B[0m \u001B[0mbatch_sizes_map\u001B[0m\u001B[1;33m[\u001B[0m\u001B[0mdataset_name\u001B[0m\u001B[1;33m]\u001B[0m\u001B[1;33m\u001B[0m\u001B[1;33m\u001B[0m\u001B[0m\n\u001B[1;32m---> 46\u001B[1;33m     \u001B[0mtrain\u001B[0m\u001B[1;33m(\u001B[0m\u001B[1;33m**\u001B[0m\u001B[0mparams\u001B[0m\u001B[1;33m)\u001B[0m\u001B[1;33m\u001B[0m\u001B[1;33m\u001B[0m\u001B[0m\n\u001B[0m",
      "\u001B[1;32m~\\NRCAN\\git\\dagmm\\src\\bootstrap.py\u001B[0m in \u001B[0;36mtrain\u001B[1;34m(model_name, dataset_name, dataset_path, batch_size, pct, corruption_ratio, n_runs, n_epochs, learning_rate, results_path, models_path, test_mode)\u001B[0m\n\u001B[0;32m    253\u001B[0m         \u001B[0mdatamanager\u001B[0m\u001B[1;33m=\u001B[0m\u001B[0mdm\u001B[0m\u001B[1;33m\u001B[0m\u001B[1;33m\u001B[0m\u001B[0m\n\u001B[0;32m    254\u001B[0m     )\n\u001B[1;32m--> 255\u001B[1;33m     res = train_model(\n\u001B[0m\u001B[0;32m    256\u001B[0m         \u001B[0mmodel\u001B[0m\u001B[1;33m=\u001B[0m\u001B[0mmodel\u001B[0m\u001B[1;33m,\u001B[0m\u001B[1;33m\u001B[0m\u001B[1;33m\u001B[0m\u001B[0m\n\u001B[0;32m    257\u001B[0m         \u001B[0mmodel_trainer\u001B[0m\u001B[1;33m=\u001B[0m\u001B[0mmodel_trainer\u001B[0m\u001B[1;33m,\u001B[0m\u001B[1;33m\u001B[0m\u001B[1;33m\u001B[0m\u001B[0m\n",
      "\u001B[1;32m~\\NRCAN\\git\\dagmm\\src\\bootstrap.py\u001B[0m in \u001B[0;36mtrain_model\u001B[1;34m(model, model_trainer, train_ldr, test_ldr, dataset_name, n_runs, thresh, device, model_path, test_mode)\u001B[0m\n\u001B[0;32m    180\u001B[0m         \u001B[1;32mfor\u001B[0m \u001B[0mi\u001B[0m \u001B[1;32min\u001B[0m \u001B[0mrange\u001B[0m\u001B[1;33m(\u001B[0m\u001B[0mn_runs\u001B[0m\u001B[1;33m)\u001B[0m\u001B[1;33m:\u001B[0m\u001B[1;33m\u001B[0m\u001B[1;33m\u001B[0m\u001B[0m\n\u001B[0;32m    181\u001B[0m             \u001B[0mprint\u001B[0m\u001B[1;33m(\u001B[0m\u001B[1;34mf\"Run {i + 1} of {n_runs}\"\u001B[0m\u001B[1;33m)\u001B[0m\u001B[1;33m\u001B[0m\u001B[1;33m\u001B[0m\u001B[0m\n\u001B[1;32m--> 182\u001B[1;33m             \u001B[1;32mif\u001B[0m \u001B[0mmodel\u001B[0m\u001B[1;33m.\u001B[0m\u001B[0mname\u001B[0m \u001B[1;33m==\u001B[0m \u001B[1;34m\"DUAD\"\u001B[0m\u001B[1;33m:\u001B[0m\u001B[1;33m\u001B[0m\u001B[1;33m\u001B[0m\u001B[0m\n\u001B[0m\u001B[0;32m    183\u001B[0m                 \u001B[0mmodel_trainer\u001B[0m\u001B[1;33m.\u001B[0m\u001B[0mtrain\u001B[0m\u001B[1;33m(\u001B[0m\u001B[1;33m)\u001B[0m\u001B[1;33m\u001B[0m\u001B[1;33m\u001B[0m\u001B[0m\n\u001B[0;32m    184\u001B[0m             \u001B[1;32melse\u001B[0m\u001B[1;33m:\u001B[0m\u001B[1;33m\u001B[0m\u001B[1;33m\u001B[0m\u001B[0m\n",
      "\u001B[1;31mAttributeError\u001B[0m: 'RecForest' object has no attribute 'name'"
     ]
    }
   ],
   "source": [
    "import itertools as it\n",
    "from bootstrap import available_datasets, available_models, train\n",
    "\n",
    "available_datasets = list(set(available_datasets) - {\"IDS2018\", \"USBIDS\"})\n",
    "available_models = [\"RecForest\"]\n",
    "couples = it.product(available_models, available_datasets)\n",
    "total = 0\n",
    "dataset_root = \"C:/Users/verdi/Documents/Datasets\"\n",
    "path_to_datasets_map = {\n",
    "    \"Arrhythmia\": dataset_root + \"/Arrhythmia/3_minified/arrhythmia_normalized.npz\",\n",
    "    \"KDD10\": dataset_root + \"/KDD/3_minified/KDD10percent_minified.npz\",\n",
    "    \"Thyroid\": dataset_root + \"/Thyroid/0_raw/thyroid.mat\",\n",
    "    \"NSLKDD\": dataset_root + \"/NSL-KDD/3_minified/NSL-KDD_minified.npz\",\n",
    "    \"USBIDS\": None,\n",
    "    \"IDS2018\": dataset_root + \"/IDS2018/3_minified/feature_group_5_50percent.npz\"\n",
    "}\n",
    "batch_sizes_map = {\n",
    "    \"Arrhythmia\": 32,\n",
    "    \"KDD10\": 1024,\n",
    "    \"IDS2018\": 1024,\n",
    "    \"NSLKDD\": 1024,\n",
    "    \"USBIDS\": 1024,\n",
    "    \"Thyroid\": 64\n",
    "}\n",
    "params = {\n",
    "    \"model_name\": None,\n",
    "    \"dataset_name\": None,\n",
    "    \"dataset_path\": None,\n",
    "    \"batch_size\": None,\n",
    "    \"pct\": 1.,\n",
    "    \"corruption_ratio\": 0.,\n",
    "    \"n_runs\": 1,\n",
    "    \"n_epochs\": 1,\n",
    "    \"learning_rate\": 1e-4,\n",
    "    \"results_path\": \"../results\",\n",
    "    \"models_path\": \"../models\",\n",
    "    \"test_mode\": False\n",
    "}\n",
    "\n",
    "for model_name, dataset_name in couples:\n",
    "    print(model_name, dataset_name)\n",
    "    params[\"model_name\"] = model_name\n",
    "    params[\"dataset_name\"] = dataset_name\n",
    "    params[\"dataset_path\"] = path_to_datasets_map[dataset_name]\n",
    "    params[\"batch_size\"] = batch_sizes_map[dataset_name]\n",
    "    train(**params)"
   ],
   "metadata": {
    "collapsed": false,
    "pycharm": {
     "name": "#%%\n"
    }
   }
  },
  {
   "cell_type": "code",
   "execution_count": null,
   "outputs": [],
   "source": [
    "!python main.py -m DAGMM -e 1 -d Arrhythmia --n-runs 1"
   ],
   "metadata": {
    "collapsed": false,
    "pycharm": {
     "name": "#%%\n"
    }
   }
  }
 ],
 "metadata": {
  "kernelspec": {
   "display_name": "Python 3",
   "language": "python",
   "name": "python3"
  },
  "language_info": {
   "codemirror_mode": {
    "name": "ipython",
    "version": 2
   },
   "file_extension": ".py",
   "mimetype": "text/x-python",
   "name": "python",
   "nbconvert_exporter": "python",
   "pygments_lexer": "ipython2",
   "version": "2.7.6"
  }
 },
 "nbformat": 4,
 "nbformat_minor": 0
}