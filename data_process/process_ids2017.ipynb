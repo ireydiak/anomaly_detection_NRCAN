{
 "cells": [
  {
   "cell_type": "code",
   "execution_count": 1,
   "metadata": {
    "collapsed": true
   },
   "outputs": [],
   "source": [
    "import os\n",
    "import numpy as np\n",
    "import pandas as pd\n",
    "from sklearn.preprocessing import MinMaxScaler\n",
    "from collections import defaultdict\n",
    "\n",
    "# Base path where to find the dataset\n",
    "base_path = \"../data/IDS2017/original\"\n",
    "# Base path where processed dataset will be stored\n",
    "export_path = \"../data/IDS2017\"\n",
    "# Name of the file summarizing the preprocessing\n",
    "info_fname = \"ids2017_info.csv\"\n",
    "# File name of the cleaned/processed dataset\n",
    "export_fname = \"ids2017.csv\"\n",
    "# Used to track preprocessing steps\n",
    "stats = defaultdict()"
   ]
  },
  {
   "cell_type": "code",
   "execution_count": 2,
   "outputs": [
    {
     "name": "stdout",
     "output_type": "stream",
     "text": [
      "Wednesday-workingHours.pcap_ISCX.csv\n",
      "Tuesday-WorkingHours.pcap_ISCX.csv\n",
      "Monday-WorkingHours.pcap_ISCX.csv\n",
      "Thursday-WorkingHours-Afternoon-Infilteration.pcap_ISCX.csv\n",
      "Friday-WorkingHours-Afternoon-DDos.pcap_ISCX.csv\n",
      "Friday-WorkingHours-Morning.pcap_ISCX.csv\n",
      "Thursday-WorkingHours-Morning-WebAttacks.pcap_ISCX.csv\n",
      "Friday-WorkingHours-Afternoon-PortScan.pcap_ISCX.csv\n"
     ]
    },
    {
     "data": {
      "text/plain": "   Destination Port  Flow Duration  Total Fwd Packets  Total Backward Packets  \\\n0                80          38308                  1                       1   \n1               389            479                 11                       5   \n2                88           1095                 10                       6   \n3               389          15206                 17                      12   \n4                88           1092                  9                       6   \n\n   Total Length of Fwd Packets  Total Length of Bwd Packets  \\\n0                            6                            6   \n1                          172                          326   \n2                         3150                         3150   \n3                         3452                         6660   \n4                         3150                         3152   \n\n   Fwd Packet Length Max  Fwd Packet Length Min  Fwd Packet Length Mean  \\\n0                      6                      6                6.000000   \n1                     79                      0               15.636364   \n2                   1575                      0              315.000000   \n3                   1313                      0              203.058823   \n4                   1575                      0              350.000000   \n\n   Fwd Packet Length Std  ...  min_seg_size_forward  Active Mean  Active Std  \\\n0               0.000000  ...                    20          0.0         0.0   \n1              31.449238  ...                    32          0.0         0.0   \n2             632.561635  ...                    32          0.0         0.0   \n3             425.778474  ...                    32          0.0         0.0   \n4             694.509719  ...                    32          0.0         0.0   \n\n   Active Max  Active Min  Idle Mean  Idle Std  Idle Max  Idle Min   Label  \n0           0           0        0.0       0.0         0         0  BENIGN  \n1           0           0        0.0       0.0         0         0  BENIGN  \n2           0           0        0.0       0.0         0         0  BENIGN  \n3           0           0        0.0       0.0         0         0  BENIGN  \n4           0           0        0.0       0.0         0         0  BENIGN  \n\n[5 rows x 79 columns]",
      "text/html": "<div>\n<style scoped>\n    .dataframe tbody tr th:only-of-type {\n        vertical-align: middle;\n    }\n\n    .dataframe tbody tr th {\n        vertical-align: top;\n    }\n\n    .dataframe thead th {\n        text-align: right;\n    }\n</style>\n<table border=\"1\" class=\"dataframe\">\n  <thead>\n    <tr style=\"text-align: right;\">\n      <th></th>\n      <th>Destination Port</th>\n      <th>Flow Duration</th>\n      <th>Total Fwd Packets</th>\n      <th>Total Backward Packets</th>\n      <th>Total Length of Fwd Packets</th>\n      <th>Total Length of Bwd Packets</th>\n      <th>Fwd Packet Length Max</th>\n      <th>Fwd Packet Length Min</th>\n      <th>Fwd Packet Length Mean</th>\n      <th>Fwd Packet Length Std</th>\n      <th>...</th>\n      <th>min_seg_size_forward</th>\n      <th>Active Mean</th>\n      <th>Active Std</th>\n      <th>Active Max</th>\n      <th>Active Min</th>\n      <th>Idle Mean</th>\n      <th>Idle Std</th>\n      <th>Idle Max</th>\n      <th>Idle Min</th>\n      <th>Label</th>\n    </tr>\n  </thead>\n  <tbody>\n    <tr>\n      <th>0</th>\n      <td>80</td>\n      <td>38308</td>\n      <td>1</td>\n      <td>1</td>\n      <td>6</td>\n      <td>6</td>\n      <td>6</td>\n      <td>6</td>\n      <td>6.000000</td>\n      <td>0.000000</td>\n      <td>...</td>\n      <td>20</td>\n      <td>0.0</td>\n      <td>0.0</td>\n      <td>0</td>\n      <td>0</td>\n      <td>0.0</td>\n      <td>0.0</td>\n      <td>0</td>\n      <td>0</td>\n      <td>BENIGN</td>\n    </tr>\n    <tr>\n      <th>1</th>\n      <td>389</td>\n      <td>479</td>\n      <td>11</td>\n      <td>5</td>\n      <td>172</td>\n      <td>326</td>\n      <td>79</td>\n      <td>0</td>\n      <td>15.636364</td>\n      <td>31.449238</td>\n      <td>...</td>\n      <td>32</td>\n      <td>0.0</td>\n      <td>0.0</td>\n      <td>0</td>\n      <td>0</td>\n      <td>0.0</td>\n      <td>0.0</td>\n      <td>0</td>\n      <td>0</td>\n      <td>BENIGN</td>\n    </tr>\n    <tr>\n      <th>2</th>\n      <td>88</td>\n      <td>1095</td>\n      <td>10</td>\n      <td>6</td>\n      <td>3150</td>\n      <td>3150</td>\n      <td>1575</td>\n      <td>0</td>\n      <td>315.000000</td>\n      <td>632.561635</td>\n      <td>...</td>\n      <td>32</td>\n      <td>0.0</td>\n      <td>0.0</td>\n      <td>0</td>\n      <td>0</td>\n      <td>0.0</td>\n      <td>0.0</td>\n      <td>0</td>\n      <td>0</td>\n      <td>BENIGN</td>\n    </tr>\n    <tr>\n      <th>3</th>\n      <td>389</td>\n      <td>15206</td>\n      <td>17</td>\n      <td>12</td>\n      <td>3452</td>\n      <td>6660</td>\n      <td>1313</td>\n      <td>0</td>\n      <td>203.058823</td>\n      <td>425.778474</td>\n      <td>...</td>\n      <td>32</td>\n      <td>0.0</td>\n      <td>0.0</td>\n      <td>0</td>\n      <td>0</td>\n      <td>0.0</td>\n      <td>0.0</td>\n      <td>0</td>\n      <td>0</td>\n      <td>BENIGN</td>\n    </tr>\n    <tr>\n      <th>4</th>\n      <td>88</td>\n      <td>1092</td>\n      <td>9</td>\n      <td>6</td>\n      <td>3150</td>\n      <td>3152</td>\n      <td>1575</td>\n      <td>0</td>\n      <td>350.000000</td>\n      <td>694.509719</td>\n      <td>...</td>\n      <td>32</td>\n      <td>0.0</td>\n      <td>0.0</td>\n      <td>0</td>\n      <td>0</td>\n      <td>0.0</td>\n      <td>0.0</td>\n      <td>0</td>\n      <td>0</td>\n      <td>BENIGN</td>\n    </tr>\n  </tbody>\n</table>\n<p>5 rows × 79 columns</p>\n</div>"
     },
     "execution_count": 2,
     "metadata": {},
     "output_type": "execute_result"
    }
   ],
   "source": [
    "df = pd.DataFrame()\n",
    "for f in os.listdir(base_path):\n",
    "    chunk = pd.read_csv(os.path.join(base_path, f))\n",
    "    chunk.columns = chunk.columns.str.strip()\n",
    "    df = pd.concat((df, chunk))\n",
    "    print(f)\n",
    "stats[\"dropped_cols\"] = \"\"\n",
    "stats[\"n_dropped_cols\"] = 0\n",
    "stats[\"n_dropped_rows\"] = 0\n",
    "stats[\"n_instances\"] = len(df)\n",
    "stats[\"n_features\"] = df.shape[1] - 1\n",
    "stats[\"anomaly_ratio\"] = \"{:2.4f}\".format((df[\"Label\"] != \"BENIGN\").sum() / len(df))\n",
    "df.head(5)"
   ],
   "metadata": {
    "collapsed": false,
    "pycharm": {
     "name": "#%%\n"
    }
   }
  },
  {
   "cell_type": "markdown",
   "source": [
    "## Inner class imbalance\n",
    "Between anomalies, there is a strong class imbalance"
   ],
   "metadata": {
    "collapsed": false,
    "pycharm": {
     "name": "#%% md\n"
    }
   }
  },
  {
   "cell_type": "code",
   "execution_count": 3,
   "outputs": [
    {
     "data": {
      "text/plain": "                             Count     Ratio\nDoS Hulk                    231073  0.414372\nPortScan                    158930  0.285002\nDDoS                        128027  0.229585\nDoS GoldenEye                10293  0.018458\nFTP-Patator                   7938  0.014235\nSSH-Patator                   5897  0.010575\nDoS slowloris                 5796  0.010394\nDoS Slowhttptest              5499  0.009861\nBot                           1966  0.003526\nWeb Attack � Brute Force      1507  0.002702\nWeb Attack � XSS               652  0.001169\nInfiltration                    36  0.000065\nWeb Attack � Sql Injection      21  0.000038\nHeartbleed                      11  0.000020",
      "text/html": "<div>\n<style scoped>\n    .dataframe tbody tr th:only-of-type {\n        vertical-align: middle;\n    }\n\n    .dataframe tbody tr th {\n        vertical-align: top;\n    }\n\n    .dataframe thead th {\n        text-align: right;\n    }\n</style>\n<table border=\"1\" class=\"dataframe\">\n  <thead>\n    <tr style=\"text-align: right;\">\n      <th></th>\n      <th>Count</th>\n      <th>Ratio</th>\n    </tr>\n  </thead>\n  <tbody>\n    <tr>\n      <th>DoS Hulk</th>\n      <td>231073</td>\n      <td>0.414372</td>\n    </tr>\n    <tr>\n      <th>PortScan</th>\n      <td>158930</td>\n      <td>0.285002</td>\n    </tr>\n    <tr>\n      <th>DDoS</th>\n      <td>128027</td>\n      <td>0.229585</td>\n    </tr>\n    <tr>\n      <th>DoS GoldenEye</th>\n      <td>10293</td>\n      <td>0.018458</td>\n    </tr>\n    <tr>\n      <th>FTP-Patator</th>\n      <td>7938</td>\n      <td>0.014235</td>\n    </tr>\n    <tr>\n      <th>SSH-Patator</th>\n      <td>5897</td>\n      <td>0.010575</td>\n    </tr>\n    <tr>\n      <th>DoS slowloris</th>\n      <td>5796</td>\n      <td>0.010394</td>\n    </tr>\n    <tr>\n      <th>DoS Slowhttptest</th>\n      <td>5499</td>\n      <td>0.009861</td>\n    </tr>\n    <tr>\n      <th>Bot</th>\n      <td>1966</td>\n      <td>0.003526</td>\n    </tr>\n    <tr>\n      <th>Web Attack � Brute Force</th>\n      <td>1507</td>\n      <td>0.002702</td>\n    </tr>\n    <tr>\n      <th>Web Attack � XSS</th>\n      <td>652</td>\n      <td>0.001169</td>\n    </tr>\n    <tr>\n      <th>Infiltration</th>\n      <td>36</td>\n      <td>0.000065</td>\n    </tr>\n    <tr>\n      <th>Web Attack � Sql Injection</th>\n      <td>21</td>\n      <td>0.000038</td>\n    </tr>\n    <tr>\n      <th>Heartbleed</th>\n      <td>11</td>\n      <td>0.000020</td>\n    </tr>\n  </tbody>\n</table>\n</div>"
     },
     "execution_count": 3,
     "metadata": {},
     "output_type": "execute_result"
    }
   ],
   "source": [
    "# Original class imbalance within attacks themselves\n",
    "mask = df[\"Label\"] != \"BENIGN\"\n",
    "original_ad_ratios = pd.DataFrame(\n",
    "    pd.concat(\n",
    "        (df[mask][\"Label\"].value_counts(),\n",
    "        df[mask][\"Label\"].value_counts() / len(df[mask])), axis=1),\n",
    ")\n",
    "original_ad_ratios.columns = [\"Count\", \"Ratio\"]\n",
    "original_ad_ratios"
   ],
   "metadata": {
    "collapsed": false,
    "pycharm": {
     "name": "#%%\n"
    }
   }
  },
  {
   "cell_type": "markdown",
   "source": [
    "We regroup similar attacks under the same label"
   ],
   "metadata": {
    "collapsed": false,
    "pycharm": {
     "name": "#%% md\n"
    }
   }
  },
  {
   "cell_type": "code",
   "execution_count": 4,
   "outputs": [],
   "source": [
    "# Group DoS attacks\n",
    "mask = df[\"Label\"].str.startswith(\"DoS\")\n",
    "df.loc[mask, \"Label\"] = \"DoS\"\n",
    "\n",
    "# Group Web attacks\n",
    "mask = df[\"Label\"].str.startswith(\"Web Attack\")\n",
    "df.loc[mask, \"Label\"] = \"Web Attack\""
   ],
   "metadata": {
    "collapsed": false,
    "pycharm": {
     "name": "#%%\n"
    }
   }
  },
  {
   "cell_type": "code",
   "execution_count": 5,
   "outputs": [
    {
     "data": {
      "text/plain": "               Count     Ratio\nDoS           252661  0.453085\nPortScan      158930  0.285002\nDDoS          128027  0.229585\nFTP-Patator     7938  0.014235\nSSH-Patator     5897  0.010575\nWeb Attack      2180  0.003909\nBot             1966  0.003526\nInfiltration      36  0.000065\nHeartbleed        11  0.000020",
      "text/html": "<div>\n<style scoped>\n    .dataframe tbody tr th:only-of-type {\n        vertical-align: middle;\n    }\n\n    .dataframe tbody tr th {\n        vertical-align: top;\n    }\n\n    .dataframe thead th {\n        text-align: right;\n    }\n</style>\n<table border=\"1\" class=\"dataframe\">\n  <thead>\n    <tr style=\"text-align: right;\">\n      <th></th>\n      <th>Count</th>\n      <th>Ratio</th>\n    </tr>\n  </thead>\n  <tbody>\n    <tr>\n      <th>DoS</th>\n      <td>252661</td>\n      <td>0.453085</td>\n    </tr>\n    <tr>\n      <th>PortScan</th>\n      <td>158930</td>\n      <td>0.285002</td>\n    </tr>\n    <tr>\n      <th>DDoS</th>\n      <td>128027</td>\n      <td>0.229585</td>\n    </tr>\n    <tr>\n      <th>FTP-Patator</th>\n      <td>7938</td>\n      <td>0.014235</td>\n    </tr>\n    <tr>\n      <th>SSH-Patator</th>\n      <td>5897</td>\n      <td>0.010575</td>\n    </tr>\n    <tr>\n      <th>Web Attack</th>\n      <td>2180</td>\n      <td>0.003909</td>\n    </tr>\n    <tr>\n      <th>Bot</th>\n      <td>1966</td>\n      <td>0.003526</td>\n    </tr>\n    <tr>\n      <th>Infiltration</th>\n      <td>36</td>\n      <td>0.000065</td>\n    </tr>\n    <tr>\n      <th>Heartbleed</th>\n      <td>11</td>\n      <td>0.000020</td>\n    </tr>\n  </tbody>\n</table>\n</div>"
     },
     "execution_count": 5,
     "metadata": {},
     "output_type": "execute_result"
    }
   ],
   "source": [
    "# Updated class imbalance\n",
    "mask = df[\"Label\"] != \"BENIGN\"\n",
    "mod_ad_ratios = pd.DataFrame(\n",
    "    pd.concat(\n",
    "        (df[mask][\"Label\"].value_counts(),\n",
    "        df[mask][\"Label\"].value_counts() / len(df[mask])), axis=1),\n",
    ")\n",
    "mod_ad_ratios.columns = [\"Count\", \"Ratio\"]\n",
    "mod_ad_ratios"
   ],
   "metadata": {
    "collapsed": false,
    "pycharm": {
     "name": "#%%\n"
    }
   }
  },
  {
   "cell_type": "markdown",
   "source": [
    "## Check unique values\n",
    "Drop columns with unique values"
   ],
   "metadata": {
    "collapsed": false,
    "pycharm": {
     "name": "#%% md\n"
    }
   }
  },
  {
   "cell_type": "code",
   "execution_count": 6,
   "outputs": [
    {
     "name": "stdout",
     "output_type": "stream",
     "text": [
      "Found 8 columns with unique values: ['Bwd PSH Flags', 'Bwd URG Flags', 'Fwd Avg Bytes/Bulk', 'Fwd Avg Packets/Bulk', 'Fwd Avg Bulk Rate', 'Bwd Avg Bytes/Bulk', 'Bwd Avg Packets/Bulk', 'Bwd Avg Bulk Rate']\n",
      "Columns are valid with more than one distinct value\n"
     ]
    }
   ],
   "source": [
    "uniq_cols = df.columns[df.nunique() <= 1].tolist()\n",
    "stats[\"n_unique_cols\"] = len(uniq_cols)\n",
    "if uniq_cols:\n",
    "    print(\"Found {} columns with unique values: {}\".format(len(uniq_cols), uniq_cols))\n",
    "    stats[\"unique_cols\"] = \", \".join([str(col) for col in uniq_cols])\n",
    "    df.drop(uniq_cols, axis=1, inplace=True)\n",
    "    stats[\"n_dropped_cols\"] += len(uniq_cols)\n",
    "    uniq_cols = df.columns[df.nunique() <= 1].tolist()\n",
    "assert len(uniq_cols) == 0, \"Found {} columns with unique values: {}\".format(len(uniq_cols), uniq_cols)\n",
    "print(\"Columns are valid with more than one distinct value\")"
   ],
   "metadata": {
    "collapsed": false,
    "pycharm": {
     "name": "#%%\n"
    }
   }
  },
  {
   "cell_type": "markdown",
   "source": [
    "## Check for NaN/invalid values\n",
    "First, find the columns with NaN values. Further processing will be required if we find any."
   ],
   "metadata": {
    "collapsed": false,
    "pycharm": {
     "name": "#%% md\n"
    }
   }
  },
  {
   "cell_type": "code",
   "execution_count": 7,
   "outputs": [
    {
     "name": "stdout",
     "output_type": "stream",
     "text": [
      "Found NaN columns: ['Flow Bytes/s', 'Flow Packets/s']\n"
     ]
    }
   ],
   "source": [
    "# Replacing INF values with NaN\n",
    "df = df.replace([-np.inf, np.inf], np.nan)\n",
    "nan_cols = df.columns[df.isna().sum() > 0].tolist()\n",
    "stats[\"n_nan_cols\"] = len(nan_cols)\n",
    "if nan_cols:\n",
    "    stats[\"nan_cols\"] = \", \".join([str(col) for col in nan_cols])\n",
    "print(\"Found NaN columns: {}\".format(nan_cols))"
   ],
   "metadata": {
    "collapsed": false,
    "pycharm": {
     "name": "#%%\n"
    }
   }
  },
  {
   "cell_type": "markdown",
   "source": [
    "Having found two columns with NaN values, we must investigate further before taking any decision."
   ],
   "metadata": {
    "collapsed": false,
    "pycharm": {
     "name": "#%% md\n"
    }
   }
  },
  {
   "cell_type": "code",
   "execution_count": 8,
   "outputs": [
    {
     "data": {
      "text/plain": "Flow Bytes/s      2867\nFlow Packets/s    2867\ndtype: int64"
     },
     "execution_count": 8,
     "metadata": {},
     "output_type": "execute_result"
    }
   ],
   "source": [
    "df[nan_cols].isna().sum()"
   ],
   "metadata": {
    "collapsed": false,
    "pycharm": {
     "name": "#%%\n"
    }
   }
  },
  {
   "cell_type": "markdown",
   "source": [
    "Are the nan instances associated with anomalies?"
   ],
   "metadata": {
    "collapsed": false,
    "pycharm": {
     "name": "#%% md\n"
    }
   }
  },
  {
   "cell_type": "code",
   "execution_count": 9,
   "outputs": [
    {
     "data": {
      "text/plain": "BENIGN         1777\nDoS             949\nPortScan        126\nBot              10\nFTP-Patator       3\nDDoS              2\nName: Label, dtype: int64"
     },
     "execution_count": 9,
     "metadata": {},
     "output_type": "execute_result"
    }
   ],
   "source": [
    "df[df.isna().any(axis=1)][\"Label\"].value_counts()"
   ],
   "metadata": {
    "collapsed": false,
    "pycharm": {
     "name": "#%%\n"
    }
   }
  },
  {
   "cell_type": "markdown",
   "source": [
    "Dropping them seems risky since we also drop anomalies which are already scarce"
   ],
   "metadata": {
    "collapsed": false,
    "pycharm": {
     "name": "#%% md\n"
    }
   }
  },
  {
   "cell_type": "code",
   "execution_count": 10,
   "outputs": [
    {
     "name": "stdout",
     "output_type": "stream",
     "text": [
      "[0]\n"
     ]
    },
    {
     "data": {
      "text/plain": "0"
     },
     "execution_count": 10,
     "metadata": {},
     "output_type": "execute_result"
    }
   ],
   "source": [
    "# Check different values in Flow Duration\n",
    "print(df[df.isna().any(axis=1)][\"Flow Duration\"].unique())\n",
    "# Count number of nan instances when `Flow Duration` > 0\n",
    "df[df[\"Flow Duration\"] > 0].isna().sum().sum()"
   ],
   "metadata": {
    "collapsed": false,
    "pycharm": {
     "name": "#%%\n"
    }
   }
  },
  {
   "cell_type": "markdown",
   "source": [
    "`Flow Bytes/s` and `Flow Packets/s` must be computed from `Flow Duration`. When the latter columns is zero, a division by zero occurs and the first two columns have NaN values. Zero values in `Flow Duration` are probably due to a lack of precision in the data type used. They must be associated with flows that lasted nanoseconds. Hence, we can convert the NaN rows to zeros."
   ],
   "metadata": {
    "collapsed": false,
    "pycharm": {
     "name": "#%% md\n"
    }
   }
  },
  {
   "cell_type": "code",
   "execution_count": 11,
   "outputs": [
    {
     "name": "stdout",
     "output_type": "stream",
     "text": [
      "Replaced 0.0010% of original data\n"
     ]
    }
   ],
   "source": [
    "ratio = df[nan_cols].isna().sum()[0] / len(df)\n",
    "df = df.fillna(0)\n",
    "print(\"Replaced {:2.4f}% of original data\".format(ratio))\n",
    "remaining_nans = df.isna().sum().sum()\n",
    "assert remaining_nans == 0, \"There are still {} NaN values\".format(remaining_nans)"
   ],
   "metadata": {
    "collapsed": false,
    "pycharm": {
     "name": "#%%\n"
    }
   }
  },
  {
   "cell_type": "markdown",
   "source": [
    "## Check for negative values\n",
    "Most of the features should be strictly positive. For instance, a packet with a negative number of bytes makes no sense."
   ],
   "metadata": {
    "collapsed": false,
    "pycharm": {
     "name": "#%% md\n"
    }
   }
  },
  {
   "cell_type": "code",
   "execution_count": 12,
   "outputs": [
    {
     "name": "stdout",
     "output_type": "stream",
     "text": [
      "Found 13 columns with negative values: Index(['Flow Duration', 'Flow Bytes/s', 'Flow Packets/s', 'Flow IAT Mean',\n",
      "       'Flow IAT Max', 'Flow IAT Min', 'Fwd IAT Min', 'Fwd Header Length',\n",
      "       'Bwd Header Length', 'Fwd Header Length.1', 'Init_Win_bytes_forward',\n",
      "       'Init_Win_bytes_backward', 'min_seg_size_forward'],\n",
      "      dtype='object')\n"
     ]
    }
   ],
   "source": [
    "num_cols = df.select_dtypes(exclude=\"object\").columns\n",
    "mask = (df[num_cols] < 0).sum() > 0\n",
    "neg_cols = df[num_cols].columns[mask]\n",
    "stats[\"n_negative_cols\"] = len(neg_cols)\n",
    "stats[\"negative_cols\"] = \", \".join(neg_cols)\n",
    "print(\"Found {} columns with negative values: {}\".format(len(neg_cols), neg_cols))"
   ],
   "metadata": {
    "collapsed": false,
    "pycharm": {
     "name": "#%%\n"
    }
   }
  },
  {
   "cell_type": "code",
   "execution_count": 13,
   "outputs": [
    {
     "data": {
      "text/plain": "                           Count     Ratio\nInit_Win_bytes_backward  1441552  0.509249\nInit_Win_bytes_forward   1001189  0.353684\nFlow IAT Min                2891  0.001021\nFlow Duration                115  0.000041\nFlow Packets/s               115  0.000041\nFlow IAT Mean                115  0.000041\nFlow IAT Max                 115  0.000041\nFlow Bytes/s                  85  0.000030\nFwd Header Length             35  0.000012\nFwd Header Length.1           35  0.000012\nmin_seg_size_forward          35  0.000012\nBwd Header Length             22  0.000008\nFwd IAT Min                   17  0.000006",
      "text/html": "<div>\n<style scoped>\n    .dataframe tbody tr th:only-of-type {\n        vertical-align: middle;\n    }\n\n    .dataframe tbody tr th {\n        vertical-align: top;\n    }\n\n    .dataframe thead th {\n        text-align: right;\n    }\n</style>\n<table border=\"1\" class=\"dataframe\">\n  <thead>\n    <tr style=\"text-align: right;\">\n      <th></th>\n      <th>Count</th>\n      <th>Ratio</th>\n    </tr>\n  </thead>\n  <tbody>\n    <tr>\n      <th>Init_Win_bytes_backward</th>\n      <td>1441552</td>\n      <td>0.509249</td>\n    </tr>\n    <tr>\n      <th>Init_Win_bytes_forward</th>\n      <td>1001189</td>\n      <td>0.353684</td>\n    </tr>\n    <tr>\n      <th>Flow IAT Min</th>\n      <td>2891</td>\n      <td>0.001021</td>\n    </tr>\n    <tr>\n      <th>Flow Duration</th>\n      <td>115</td>\n      <td>0.000041</td>\n    </tr>\n    <tr>\n      <th>Flow Packets/s</th>\n      <td>115</td>\n      <td>0.000041</td>\n    </tr>\n    <tr>\n      <th>Flow IAT Mean</th>\n      <td>115</td>\n      <td>0.000041</td>\n    </tr>\n    <tr>\n      <th>Flow IAT Max</th>\n      <td>115</td>\n      <td>0.000041</td>\n    </tr>\n    <tr>\n      <th>Flow Bytes/s</th>\n      <td>85</td>\n      <td>0.000030</td>\n    </tr>\n    <tr>\n      <th>Fwd Header Length</th>\n      <td>35</td>\n      <td>0.000012</td>\n    </tr>\n    <tr>\n      <th>Fwd Header Length.1</th>\n      <td>35</td>\n      <td>0.000012</td>\n    </tr>\n    <tr>\n      <th>min_seg_size_forward</th>\n      <td>35</td>\n      <td>0.000012</td>\n    </tr>\n    <tr>\n      <th>Bwd Header Length</th>\n      <td>22</td>\n      <td>0.000008</td>\n    </tr>\n    <tr>\n      <th>Fwd IAT Min</th>\n      <td>17</td>\n      <td>0.000006</td>\n    </tr>\n  </tbody>\n</table>\n</div>"
     },
     "execution_count": 13,
     "metadata": {},
     "output_type": "execute_result"
    }
   ],
   "source": [
    "neg_df = pd.DataFrame(\n",
    "    pd.concat((\n",
    "        (df[neg_cols] < 0).sum(),\n",
    "        (df[neg_cols] < 0).sum() / len(df)\n",
    "    ), axis=1)\n",
    ")\n",
    "neg_df.columns = [\"Count\", \"Ratio\"]\n",
    "neg_df = neg_df.sort_values(\"Count\", ascending=False)\n",
    "neg_df"
   ],
   "metadata": {
    "collapsed": false,
    "pycharm": {
     "name": "#%%\n"
    }
   }
  },
  {
   "cell_type": "code",
   "execution_count": 14,
   "outputs": [
    {
     "name": "stdout",
     "output_type": "stream",
     "text": [
      "[-1]\n",
      "[-1]\n"
     ]
    },
    {
     "data": {
      "text/plain": "        Destination Port  Flow Duration  Total Fwd Packets  \\\n8                  49666              3                  2   \n9                  49413              4                  3   \n14                   443              4                  2   \n23                   443             76                  3   \n34                   465            384                  3   \n...                  ...            ...                ...   \n286453                53            203                  2   \n286455                53          60066                  1   \n286456                53            202                  2   \n286458                53          60567                  2   \n286459                53            270                  2   \n\n        Total Backward Packets  Total Length of Fwd Packets  \\\n8                            0                           12   \n9                            0                           18   \n14                           0                           91   \n23                           0                           97   \n34                           0                           49   \n...                        ...                          ...   \n286453                       2                           90   \n286455                       1                           52   \n286456                       2                           82   \n286458                       2                           62   \n286459                       2                           62   \n\n        Total Length of Bwd Packets  Fwd Packet Length Max  \\\n8                                 0                      6   \n9                                 0                      6   \n14                                0                     85   \n23                                0                     85   \n34                                0                     37   \n...                             ...                    ...   \n286453                          122                     45   \n286455                          116                     52   \n286456                          210                     41   \n286458                          264                     31   \n286459                          264                     31   \n\n        Fwd Packet Length Min  Fwd Packet Length Mean  Fwd Packet Length Std  \\\n8                           6                6.000000               0.000000   \n9                           6                6.000000               0.000000   \n14                          6               45.500000              55.861436   \n23                          6               32.333333              45.610671   \n34                          6               16.333333              17.897858   \n...                       ...                     ...                    ...   \n286453                     45               45.000000               0.000000   \n286455                     52               52.000000               0.000000   \n286456                     41               41.000000               0.000000   \n286458                     31               31.000000               0.000000   \n286459                     31               31.000000               0.000000   \n\n        ...  min_seg_size_forward  Active Mean  Active Std  Active Max  \\\n8       ...                    20          0.0         0.0           0   \n9       ...                    20          0.0         0.0           0   \n14      ...                    20          0.0         0.0           0   \n23      ...                    20          0.0         0.0           0   \n34      ...                    20          0.0         0.0           0   \n...     ...                   ...          ...         ...         ...   \n286453  ...                    32          0.0         0.0           0   \n286455  ...                    20          0.0         0.0           0   \n286456  ...                    20          0.0         0.0           0   \n286458  ...                    20          0.0         0.0           0   \n286459  ...                    20          0.0         0.0           0   \n\n        Active Min  Idle Mean  Idle Std  Idle Max  Idle Min   Label  \n8                0        0.0       0.0         0         0  BENIGN  \n9                0        0.0       0.0         0         0  BENIGN  \n14               0        0.0       0.0         0         0  BENIGN  \n23               0        0.0       0.0         0         0  BENIGN  \n34               0        0.0       0.0         0         0  BENIGN  \n...            ...        ...       ...       ...       ...     ...  \n286453           0        0.0       0.0         0         0  BENIGN  \n286455           0        0.0       0.0         0         0  BENIGN  \n286456           0        0.0       0.0         0         0  BENIGN  \n286458           0        0.0       0.0         0         0  BENIGN  \n286459           0        0.0       0.0         0         0  BENIGN  \n\n[1441552 rows x 71 columns]",
      "text/html": "<div>\n<style scoped>\n    .dataframe tbody tr th:only-of-type {\n        vertical-align: middle;\n    }\n\n    .dataframe tbody tr th {\n        vertical-align: top;\n    }\n\n    .dataframe thead th {\n        text-align: right;\n    }\n</style>\n<table border=\"1\" class=\"dataframe\">\n  <thead>\n    <tr style=\"text-align: right;\">\n      <th></th>\n      <th>Destination Port</th>\n      <th>Flow Duration</th>\n      <th>Total Fwd Packets</th>\n      <th>Total Backward Packets</th>\n      <th>Total Length of Fwd Packets</th>\n      <th>Total Length of Bwd Packets</th>\n      <th>Fwd Packet Length Max</th>\n      <th>Fwd Packet Length Min</th>\n      <th>Fwd Packet Length Mean</th>\n      <th>Fwd Packet Length Std</th>\n      <th>...</th>\n      <th>min_seg_size_forward</th>\n      <th>Active Mean</th>\n      <th>Active Std</th>\n      <th>Active Max</th>\n      <th>Active Min</th>\n      <th>Idle Mean</th>\n      <th>Idle Std</th>\n      <th>Idle Max</th>\n      <th>Idle Min</th>\n      <th>Label</th>\n    </tr>\n  </thead>\n  <tbody>\n    <tr>\n      <th>8</th>\n      <td>49666</td>\n      <td>3</td>\n      <td>2</td>\n      <td>0</td>\n      <td>12</td>\n      <td>0</td>\n      <td>6</td>\n      <td>6</td>\n      <td>6.000000</td>\n      <td>0.000000</td>\n      <td>...</td>\n      <td>20</td>\n      <td>0.0</td>\n      <td>0.0</td>\n      <td>0</td>\n      <td>0</td>\n      <td>0.0</td>\n      <td>0.0</td>\n      <td>0</td>\n      <td>0</td>\n      <td>BENIGN</td>\n    </tr>\n    <tr>\n      <th>9</th>\n      <td>49413</td>\n      <td>4</td>\n      <td>3</td>\n      <td>0</td>\n      <td>18</td>\n      <td>0</td>\n      <td>6</td>\n      <td>6</td>\n      <td>6.000000</td>\n      <td>0.000000</td>\n      <td>...</td>\n      <td>20</td>\n      <td>0.0</td>\n      <td>0.0</td>\n      <td>0</td>\n      <td>0</td>\n      <td>0.0</td>\n      <td>0.0</td>\n      <td>0</td>\n      <td>0</td>\n      <td>BENIGN</td>\n    </tr>\n    <tr>\n      <th>14</th>\n      <td>443</td>\n      <td>4</td>\n      <td>2</td>\n      <td>0</td>\n      <td>91</td>\n      <td>0</td>\n      <td>85</td>\n      <td>6</td>\n      <td>45.500000</td>\n      <td>55.861436</td>\n      <td>...</td>\n      <td>20</td>\n      <td>0.0</td>\n      <td>0.0</td>\n      <td>0</td>\n      <td>0</td>\n      <td>0.0</td>\n      <td>0.0</td>\n      <td>0</td>\n      <td>0</td>\n      <td>BENIGN</td>\n    </tr>\n    <tr>\n      <th>23</th>\n      <td>443</td>\n      <td>76</td>\n      <td>3</td>\n      <td>0</td>\n      <td>97</td>\n      <td>0</td>\n      <td>85</td>\n      <td>6</td>\n      <td>32.333333</td>\n      <td>45.610671</td>\n      <td>...</td>\n      <td>20</td>\n      <td>0.0</td>\n      <td>0.0</td>\n      <td>0</td>\n      <td>0</td>\n      <td>0.0</td>\n      <td>0.0</td>\n      <td>0</td>\n      <td>0</td>\n      <td>BENIGN</td>\n    </tr>\n    <tr>\n      <th>34</th>\n      <td>465</td>\n      <td>384</td>\n      <td>3</td>\n      <td>0</td>\n      <td>49</td>\n      <td>0</td>\n      <td>37</td>\n      <td>6</td>\n      <td>16.333333</td>\n      <td>17.897858</td>\n      <td>...</td>\n      <td>20</td>\n      <td>0.0</td>\n      <td>0.0</td>\n      <td>0</td>\n      <td>0</td>\n      <td>0.0</td>\n      <td>0.0</td>\n      <td>0</td>\n      <td>0</td>\n      <td>BENIGN</td>\n    </tr>\n    <tr>\n      <th>...</th>\n      <td>...</td>\n      <td>...</td>\n      <td>...</td>\n      <td>...</td>\n      <td>...</td>\n      <td>...</td>\n      <td>...</td>\n      <td>...</td>\n      <td>...</td>\n      <td>...</td>\n      <td>...</td>\n      <td>...</td>\n      <td>...</td>\n      <td>...</td>\n      <td>...</td>\n      <td>...</td>\n      <td>...</td>\n      <td>...</td>\n      <td>...</td>\n      <td>...</td>\n      <td>...</td>\n    </tr>\n    <tr>\n      <th>286453</th>\n      <td>53</td>\n      <td>203</td>\n      <td>2</td>\n      <td>2</td>\n      <td>90</td>\n      <td>122</td>\n      <td>45</td>\n      <td>45</td>\n      <td>45.000000</td>\n      <td>0.000000</td>\n      <td>...</td>\n      <td>32</td>\n      <td>0.0</td>\n      <td>0.0</td>\n      <td>0</td>\n      <td>0</td>\n      <td>0.0</td>\n      <td>0.0</td>\n      <td>0</td>\n      <td>0</td>\n      <td>BENIGN</td>\n    </tr>\n    <tr>\n      <th>286455</th>\n      <td>53</td>\n      <td>60066</td>\n      <td>1</td>\n      <td>1</td>\n      <td>52</td>\n      <td>116</td>\n      <td>52</td>\n      <td>52</td>\n      <td>52.000000</td>\n      <td>0.000000</td>\n      <td>...</td>\n      <td>20</td>\n      <td>0.0</td>\n      <td>0.0</td>\n      <td>0</td>\n      <td>0</td>\n      <td>0.0</td>\n      <td>0.0</td>\n      <td>0</td>\n      <td>0</td>\n      <td>BENIGN</td>\n    </tr>\n    <tr>\n      <th>286456</th>\n      <td>53</td>\n      <td>202</td>\n      <td>2</td>\n      <td>2</td>\n      <td>82</td>\n      <td>210</td>\n      <td>41</td>\n      <td>41</td>\n      <td>41.000000</td>\n      <td>0.000000</td>\n      <td>...</td>\n      <td>20</td>\n      <td>0.0</td>\n      <td>0.0</td>\n      <td>0</td>\n      <td>0</td>\n      <td>0.0</td>\n      <td>0.0</td>\n      <td>0</td>\n      <td>0</td>\n      <td>BENIGN</td>\n    </tr>\n    <tr>\n      <th>286458</th>\n      <td>53</td>\n      <td>60567</td>\n      <td>2</td>\n      <td>2</td>\n      <td>62</td>\n      <td>264</td>\n      <td>31</td>\n      <td>31</td>\n      <td>31.000000</td>\n      <td>0.000000</td>\n      <td>...</td>\n      <td>20</td>\n      <td>0.0</td>\n      <td>0.0</td>\n      <td>0</td>\n      <td>0</td>\n      <td>0.0</td>\n      <td>0.0</td>\n      <td>0</td>\n      <td>0</td>\n      <td>BENIGN</td>\n    </tr>\n    <tr>\n      <th>286459</th>\n      <td>53</td>\n      <td>270</td>\n      <td>2</td>\n      <td>2</td>\n      <td>62</td>\n      <td>264</td>\n      <td>31</td>\n      <td>31</td>\n      <td>31.000000</td>\n      <td>0.000000</td>\n      <td>...</td>\n      <td>20</td>\n      <td>0.0</td>\n      <td>0.0</td>\n      <td>0</td>\n      <td>0</td>\n      <td>0.0</td>\n      <td>0.0</td>\n      <td>0</td>\n      <td>0</td>\n      <td>BENIGN</td>\n    </tr>\n  </tbody>\n</table>\n<p>1441552 rows × 71 columns</p>\n</div>"
     },
     "execution_count": 14,
     "metadata": {},
     "output_type": "execute_result"
    }
   ],
   "source": [
    "print((df[\"Init_Win_bytes_backward\"][df[\"Init_Win_bytes_backward\"] < 0]).unique())\n",
    "print((df[\"Init_Win_bytes_forward\"][df[\"Init_Win_bytes_forward\"] < 0]).unique())\n",
    "df[df[\"Init_Win_bytes_backward\"] < 0]"
   ],
   "metadata": {
    "collapsed": false,
    "pycharm": {
     "name": "#%%\n"
    }
   }
  },
  {
   "cell_type": "code",
   "execution_count": 15,
   "outputs": [
    {
     "name": "stdout",
     "output_type": "stream",
     "text": [
      "Dropped 2 columns: ['Init_Win_bytes_backward', 'Init_Win_bytes_forward']\n"
     ]
    }
   ],
   "source": [
    "# Drop `Init_Win_bytes_forward` and `Init_Win_bytes_backward` because too many of their values are equal to -1 which makes no sense.\n",
    "to_drop = neg_df[neg_df[\"Ratio\"] > 0.01].index.tolist()\n",
    "df = df.drop(to_drop, axis=1)\n",
    "neg_df = neg_df.drop(to_drop)\n",
    "stats[\"n_dropped_cols\"] += len(to_drop)\n",
    "stats[\"dropped_cols\"] = stats[\"dropped_cols\"] + \", \".join(to_drop)\n",
    "num_cols = df.select_dtypes(include=np.number).columns\n",
    "print(\"Dropped {} columns: {}\".format(len(to_drop), to_drop))"
   ],
   "metadata": {
    "collapsed": false,
    "pycharm": {
     "name": "#%%\n"
    }
   }
  },
  {
   "cell_type": "code",
   "execution_count": 16,
   "outputs": [
    {
     "data": {
      "text/plain": "BENIGN          2732\nDoS              164\nDDoS              19\nHeartbleed         4\nFTP-Patator        4\nSSH-Patator        2\nInfiltration       1\nName: Label, dtype: int64"
     },
     "execution_count": 16,
     "metadata": {},
     "output_type": "execute_result"
    }
   ],
   "source": [
    "df[(df[num_cols] < 0).any(1)][\"Label\"].value_counts()"
   ],
   "metadata": {
    "collapsed": false,
    "pycharm": {
     "name": "#%%\n"
    }
   }
  },
  {
   "cell_type": "code",
   "execution_count": 17,
   "outputs": [
    {
     "data": {
      "text/plain": "        Destination Port  Flow Duration  Total Fwd Packets  \\\n321                   80      119843186             180892   \n387                   88            512                  7   \n721                   80      119999933             203943   \n728                   80      117107216               3356   \n1041                  80       12221158               5682   \n...                  ...            ...                ...   \n284001               443             -1                  1   \n284149               443       43855854                151   \n284151               443       44442302                476   \n284852                80       49152804                 68   \n286466               443         186928                 46   \n\n        Total Backward Packets  Total Length of Fwd Packets  \\\n321                     230419                      1080532   \n387                          5                          476   \n721                     263412                      1224076   \n728                       4277                        15800   \n1041                      4527                        12887   \n...                        ...                          ...   \n284001                       1                            6   \n284149                     188                        16804   \n284151                     710                        17892   \n284852                      81                         1125   \n286466                      57                         1319   \n\n        Total Length of Bwd Packets  Fwd Packet Length Max  \\\n321                       516000000                    365   \n387                             376                    229   \n721                       584000000                    367   \n728                        10700000                    344   \n1041                       10500000                    763   \n...                             ...                    ...   \n284001                            6                      6   \n284149                       207299                    613   \n284151                      1134483                    709   \n284852                       111640                    390   \n286466                       100049                    570   \n\n        Fwd Packet Length Min  Fwd Packet Length Mean  Fwd Packet Length Std  \\\n321                         0                5.973354               8.769721   \n387                         0               68.000000             110.016665   \n721                         0                6.002050               8.603629   \n728                         0                4.707986               6.382862   \n1041                        0                2.268039              15.995691   \n...                       ...                     ...                    ...   \n284001                      6                6.000000               0.000000   \n284149                      0              111.284768             217.478194   \n284151                      0               37.588235             129.848181   \n284852                      0               16.544118              62.173670   \n286466                      0               28.673913             111.438085   \n\n        ...  min_seg_size_forward   Active Mean    Active Std  Active Max  \\\n321     ...                    20  1.102950e+05  0.000000e+00      110295   \n387     ...                    20  0.000000e+00  0.000000e+00           0   \n721     ...                    20  0.000000e+00  0.000000e+00           0   \n728     ...                    20  1.390695e+05  4.101874e+05     1375830   \n1041    ...                    20  0.000000e+00  0.000000e+00           0   \n...     ...                   ...           ...           ...         ...   \n284001  ...                    20  0.000000e+00  0.000000e+00           0   \n284149  ...                    20  1.430000e+07  0.000000e+00    14300000   \n284151  ...                    20  1.530000e+07  0.000000e+00    15300000   \n284852  ...                    20  8.006892e+05  1.571138e+06     3157396   \n286466  ...                    20  0.000000e+00  0.000000e+00           0   \n\n        Active Min   Idle Mean      Idle Std  Idle Max  Idle Min   Label  \n321         110295   5953633.0      0.000000   5953633   5953633  BENIGN  \n387              0         0.0      0.000000         0         0  BENIGN  \n721              0         0.0      0.000000         0         0  BENIGN  \n728          14956  10000000.0   7762.637596  10000000  10000000  BENIGN  \n1041             0         0.0      0.000000         0         0  BENIGN  \n...            ...         ...           ...       ...       ...     ...  \n284001           0         0.0      0.000000         0         0  BENIGN  \n284149    14300000  29500000.0      0.000000  29500000  29500000  BENIGN  \n284151    15300000  29100000.0      0.000000  29100000  29100000  BENIGN  \n284852       14989  10200000.0  65926.064590  10200000  10100000  BENIGN  \n286466           0         0.0      0.000000         0         0  BENIGN  \n\n[2926 rows x 69 columns]",
      "text/html": "<div>\n<style scoped>\n    .dataframe tbody tr th:only-of-type {\n        vertical-align: middle;\n    }\n\n    .dataframe tbody tr th {\n        vertical-align: top;\n    }\n\n    .dataframe thead th {\n        text-align: right;\n    }\n</style>\n<table border=\"1\" class=\"dataframe\">\n  <thead>\n    <tr style=\"text-align: right;\">\n      <th></th>\n      <th>Destination Port</th>\n      <th>Flow Duration</th>\n      <th>Total Fwd Packets</th>\n      <th>Total Backward Packets</th>\n      <th>Total Length of Fwd Packets</th>\n      <th>Total Length of Bwd Packets</th>\n      <th>Fwd Packet Length Max</th>\n      <th>Fwd Packet Length Min</th>\n      <th>Fwd Packet Length Mean</th>\n      <th>Fwd Packet Length Std</th>\n      <th>...</th>\n      <th>min_seg_size_forward</th>\n      <th>Active Mean</th>\n      <th>Active Std</th>\n      <th>Active Max</th>\n      <th>Active Min</th>\n      <th>Idle Mean</th>\n      <th>Idle Std</th>\n      <th>Idle Max</th>\n      <th>Idle Min</th>\n      <th>Label</th>\n    </tr>\n  </thead>\n  <tbody>\n    <tr>\n      <th>321</th>\n      <td>80</td>\n      <td>119843186</td>\n      <td>180892</td>\n      <td>230419</td>\n      <td>1080532</td>\n      <td>516000000</td>\n      <td>365</td>\n      <td>0</td>\n      <td>5.973354</td>\n      <td>8.769721</td>\n      <td>...</td>\n      <td>20</td>\n      <td>1.102950e+05</td>\n      <td>0.000000e+00</td>\n      <td>110295</td>\n      <td>110295</td>\n      <td>5953633.0</td>\n      <td>0.000000</td>\n      <td>5953633</td>\n      <td>5953633</td>\n      <td>BENIGN</td>\n    </tr>\n    <tr>\n      <th>387</th>\n      <td>88</td>\n      <td>512</td>\n      <td>7</td>\n      <td>5</td>\n      <td>476</td>\n      <td>376</td>\n      <td>229</td>\n      <td>0</td>\n      <td>68.000000</td>\n      <td>110.016665</td>\n      <td>...</td>\n      <td>20</td>\n      <td>0.000000e+00</td>\n      <td>0.000000e+00</td>\n      <td>0</td>\n      <td>0</td>\n      <td>0.0</td>\n      <td>0.000000</td>\n      <td>0</td>\n      <td>0</td>\n      <td>BENIGN</td>\n    </tr>\n    <tr>\n      <th>721</th>\n      <td>80</td>\n      <td>119999933</td>\n      <td>203943</td>\n      <td>263412</td>\n      <td>1224076</td>\n      <td>584000000</td>\n      <td>367</td>\n      <td>0</td>\n      <td>6.002050</td>\n      <td>8.603629</td>\n      <td>...</td>\n      <td>20</td>\n      <td>0.000000e+00</td>\n      <td>0.000000e+00</td>\n      <td>0</td>\n      <td>0</td>\n      <td>0.0</td>\n      <td>0.000000</td>\n      <td>0</td>\n      <td>0</td>\n      <td>BENIGN</td>\n    </tr>\n    <tr>\n      <th>728</th>\n      <td>80</td>\n      <td>117107216</td>\n      <td>3356</td>\n      <td>4277</td>\n      <td>15800</td>\n      <td>10700000</td>\n      <td>344</td>\n      <td>0</td>\n      <td>4.707986</td>\n      <td>6.382862</td>\n      <td>...</td>\n      <td>20</td>\n      <td>1.390695e+05</td>\n      <td>4.101874e+05</td>\n      <td>1375830</td>\n      <td>14956</td>\n      <td>10000000.0</td>\n      <td>7762.637596</td>\n      <td>10000000</td>\n      <td>10000000</td>\n      <td>BENIGN</td>\n    </tr>\n    <tr>\n      <th>1041</th>\n      <td>80</td>\n      <td>12221158</td>\n      <td>5682</td>\n      <td>4527</td>\n      <td>12887</td>\n      <td>10500000</td>\n      <td>763</td>\n      <td>0</td>\n      <td>2.268039</td>\n      <td>15.995691</td>\n      <td>...</td>\n      <td>20</td>\n      <td>0.000000e+00</td>\n      <td>0.000000e+00</td>\n      <td>0</td>\n      <td>0</td>\n      <td>0.0</td>\n      <td>0.000000</td>\n      <td>0</td>\n      <td>0</td>\n      <td>BENIGN</td>\n    </tr>\n    <tr>\n      <th>...</th>\n      <td>...</td>\n      <td>...</td>\n      <td>...</td>\n      <td>...</td>\n      <td>...</td>\n      <td>...</td>\n      <td>...</td>\n      <td>...</td>\n      <td>...</td>\n      <td>...</td>\n      <td>...</td>\n      <td>...</td>\n      <td>...</td>\n      <td>...</td>\n      <td>...</td>\n      <td>...</td>\n      <td>...</td>\n      <td>...</td>\n      <td>...</td>\n      <td>...</td>\n      <td>...</td>\n    </tr>\n    <tr>\n      <th>284001</th>\n      <td>443</td>\n      <td>-1</td>\n      <td>1</td>\n      <td>1</td>\n      <td>6</td>\n      <td>6</td>\n      <td>6</td>\n      <td>6</td>\n      <td>6.000000</td>\n      <td>0.000000</td>\n      <td>...</td>\n      <td>20</td>\n      <td>0.000000e+00</td>\n      <td>0.000000e+00</td>\n      <td>0</td>\n      <td>0</td>\n      <td>0.0</td>\n      <td>0.000000</td>\n      <td>0</td>\n      <td>0</td>\n      <td>BENIGN</td>\n    </tr>\n    <tr>\n      <th>284149</th>\n      <td>443</td>\n      <td>43855854</td>\n      <td>151</td>\n      <td>188</td>\n      <td>16804</td>\n      <td>207299</td>\n      <td>613</td>\n      <td>0</td>\n      <td>111.284768</td>\n      <td>217.478194</td>\n      <td>...</td>\n      <td>20</td>\n      <td>1.430000e+07</td>\n      <td>0.000000e+00</td>\n      <td>14300000</td>\n      <td>14300000</td>\n      <td>29500000.0</td>\n      <td>0.000000</td>\n      <td>29500000</td>\n      <td>29500000</td>\n      <td>BENIGN</td>\n    </tr>\n    <tr>\n      <th>284151</th>\n      <td>443</td>\n      <td>44442302</td>\n      <td>476</td>\n      <td>710</td>\n      <td>17892</td>\n      <td>1134483</td>\n      <td>709</td>\n      <td>0</td>\n      <td>37.588235</td>\n      <td>129.848181</td>\n      <td>...</td>\n      <td>20</td>\n      <td>1.530000e+07</td>\n      <td>0.000000e+00</td>\n      <td>15300000</td>\n      <td>15300000</td>\n      <td>29100000.0</td>\n      <td>0.000000</td>\n      <td>29100000</td>\n      <td>29100000</td>\n      <td>BENIGN</td>\n    </tr>\n    <tr>\n      <th>284852</th>\n      <td>80</td>\n      <td>49152804</td>\n      <td>68</td>\n      <td>81</td>\n      <td>1125</td>\n      <td>111640</td>\n      <td>390</td>\n      <td>0</td>\n      <td>16.544118</td>\n      <td>62.173670</td>\n      <td>...</td>\n      <td>20</td>\n      <td>8.006892e+05</td>\n      <td>1.571138e+06</td>\n      <td>3157396</td>\n      <td>14989</td>\n      <td>10200000.0</td>\n      <td>65926.064590</td>\n      <td>10200000</td>\n      <td>10100000</td>\n      <td>BENIGN</td>\n    </tr>\n    <tr>\n      <th>286466</th>\n      <td>443</td>\n      <td>186928</td>\n      <td>46</td>\n      <td>57</td>\n      <td>1319</td>\n      <td>100049</td>\n      <td>570</td>\n      <td>0</td>\n      <td>28.673913</td>\n      <td>111.438085</td>\n      <td>...</td>\n      <td>20</td>\n      <td>0.000000e+00</td>\n      <td>0.000000e+00</td>\n      <td>0</td>\n      <td>0</td>\n      <td>0.0</td>\n      <td>0.000000</td>\n      <td>0</td>\n      <td>0</td>\n      <td>BENIGN</td>\n    </tr>\n  </tbody>\n</table>\n<p>2926 rows × 69 columns</p>\n</div>"
     },
     "execution_count": 17,
     "metadata": {},
     "output_type": "execute_result"
    }
   ],
   "source": [
    "df[(df[num_cols] < 0).any(1)]"
   ],
   "metadata": {
    "collapsed": false,
    "pycharm": {
     "name": "#%%\n"
    }
   }
  },
  {
   "cell_type": "markdown",
   "source": [
    "When Flow Duration < 0, multiple columns are negative. Since these rows are only associated with BENIGN flows, we can drop them."
   ],
   "metadata": {
    "collapsed": false,
    "pycharm": {
     "name": "#%% md\n"
    }
   }
  },
  {
   "cell_type": "code",
   "execution_count": 18,
   "outputs": [
    {
     "name": "stdout",
     "output_type": "stream",
     "text": [
      "Dropped 115 rows\n"
     ]
    }
   ],
   "source": [
    "n_dropped = (df[\"Flow Duration\"] < 0).sum()\n",
    "stats[\"n_dropped_rows\"] += n_dropped\n",
    "df = df[df[\"Flow Duration\"] >= 0]\n",
    "print(\"Dropped {} rows\".format(n_dropped))"
   ],
   "metadata": {
    "collapsed": false,
    "pycharm": {
     "name": "#%%\n"
    }
   }
  },
  {
   "cell_type": "code",
   "execution_count": 19,
   "outputs": [
    {
     "data": {
      "text/plain": "Index(['Flow IAT Min', 'Fwd IAT Min'], dtype='object')"
     },
     "execution_count": 19,
     "metadata": {},
     "output_type": "execute_result"
    }
   ],
   "source": [
    "neg_cols_when_anomalies = df[num_cols].columns[(df[num_cols][((df[num_cols]).any(1)) & (df[\"Label\"] != \"BENIGN\")] < 0).sum() > 0]\n",
    "neg_cols_when_anomalies"
   ],
   "metadata": {
    "collapsed": false,
    "pycharm": {
     "name": "#%%\n"
    }
   }
  },
  {
   "cell_type": "code",
   "execution_count": 20,
   "outputs": [
    {
     "data": {
      "text/plain": "        Destination Port  Flow Duration  Total Fwd Packets  \\\n321                   80      119843186             180892   \n387                   88            512                  7   \n721                   80      119999933             203943   \n728                   80      117107216               3356   \n1041                  80       12221158               5682   \n...                  ...            ...                ...   \n282068               443         976619                 62   \n284149               443       43855854                151   \n284151               443       44442302                476   \n284852                80       49152804                 68   \n286466               443         186928                 46   \n\n        Total Backward Packets  Total Length of Fwd Packets  \\\n321                     230419                      1080532   \n387                          5                          476   \n721                     263412                      1224076   \n728                       4277                        15800   \n1041                      4527                        12887   \n...                        ...                          ...   \n282068                      61                          822   \n284149                     188                        16804   \n284151                     710                        17892   \n284852                      81                         1125   \n286466                      57                         1319   \n\n        Total Length of Bwd Packets  Fwd Packet Length Max  \\\n321                       516000000                    365   \n387                             376                    229   \n721                       584000000                    367   \n728                        10700000                    344   \n1041                       10500000                    763   \n...                             ...                    ...   \n282068                        87201                    481   \n284149                       207299                    613   \n284151                      1134483                    709   \n284852                       111640                    390   \n286466                       100049                    570   \n\n        Fwd Packet Length Min  Fwd Packet Length Mean  Fwd Packet Length Std  \\\n321                         0                5.973354               8.769721   \n387                         0               68.000000             110.016665   \n721                         0                6.002050               8.603629   \n728                         0                4.707986               6.382862   \n1041                        0                2.268039              15.995691   \n...                       ...                     ...                    ...   \n282068                      0               13.258065              66.672170   \n284149                      0              111.284768             217.478194   \n284151                      0               37.588235             129.848181   \n284852                      0               16.544118              62.173670   \n286466                      0               28.673913             111.438085   \n\n        ...  min_seg_size_forward   Active Mean    Active Std  Active Max  \\\n321     ...                    20  1.102950e+05  0.000000e+00      110295   \n387     ...                    20  0.000000e+00  0.000000e+00           0   \n721     ...                    20  0.000000e+00  0.000000e+00           0   \n728     ...                    20  1.390695e+05  4.101874e+05     1375830   \n1041    ...                    20  0.000000e+00  0.000000e+00           0   \n...     ...                   ...           ...           ...         ...   \n282068  ...                    32  0.000000e+00  0.000000e+00           0   \n284149  ...                    20  1.430000e+07  0.000000e+00    14300000   \n284151  ...                    20  1.530000e+07  0.000000e+00    15300000   \n284852  ...                    20  8.006892e+05  1.571138e+06     3157396   \n286466  ...                    20  0.000000e+00  0.000000e+00           0   \n\n        Active Min   Idle Mean      Idle Std  Idle Max  Idle Min   Label  \n321         110295   5953633.0      0.000000   5953633   5953633  BENIGN  \n387              0         0.0      0.000000         0         0  BENIGN  \n721              0         0.0      0.000000         0         0  BENIGN  \n728          14956  10000000.0   7762.637596  10000000  10000000  BENIGN  \n1041             0         0.0      0.000000         0         0  BENIGN  \n...            ...         ...           ...       ...       ...     ...  \n282068           0         0.0      0.000000         0         0  BENIGN  \n284149    14300000  29500000.0      0.000000  29500000  29500000  BENIGN  \n284151    15300000  29100000.0      0.000000  29100000  29100000  BENIGN  \n284852       14989  10200000.0  65926.064590  10200000  10100000  BENIGN  \n286466           0         0.0      0.000000         0         0  BENIGN  \n\n[2776 rows x 69 columns]",
      "text/html": "<div>\n<style scoped>\n    .dataframe tbody tr th:only-of-type {\n        vertical-align: middle;\n    }\n\n    .dataframe tbody tr th {\n        vertical-align: top;\n    }\n\n    .dataframe thead th {\n        text-align: right;\n    }\n</style>\n<table border=\"1\" class=\"dataframe\">\n  <thead>\n    <tr style=\"text-align: right;\">\n      <th></th>\n      <th>Destination Port</th>\n      <th>Flow Duration</th>\n      <th>Total Fwd Packets</th>\n      <th>Total Backward Packets</th>\n      <th>Total Length of Fwd Packets</th>\n      <th>Total Length of Bwd Packets</th>\n      <th>Fwd Packet Length Max</th>\n      <th>Fwd Packet Length Min</th>\n      <th>Fwd Packet Length Mean</th>\n      <th>Fwd Packet Length Std</th>\n      <th>...</th>\n      <th>min_seg_size_forward</th>\n      <th>Active Mean</th>\n      <th>Active Std</th>\n      <th>Active Max</th>\n      <th>Active Min</th>\n      <th>Idle Mean</th>\n      <th>Idle Std</th>\n      <th>Idle Max</th>\n      <th>Idle Min</th>\n      <th>Label</th>\n    </tr>\n  </thead>\n  <tbody>\n    <tr>\n      <th>321</th>\n      <td>80</td>\n      <td>119843186</td>\n      <td>180892</td>\n      <td>230419</td>\n      <td>1080532</td>\n      <td>516000000</td>\n      <td>365</td>\n      <td>0</td>\n      <td>5.973354</td>\n      <td>8.769721</td>\n      <td>...</td>\n      <td>20</td>\n      <td>1.102950e+05</td>\n      <td>0.000000e+00</td>\n      <td>110295</td>\n      <td>110295</td>\n      <td>5953633.0</td>\n      <td>0.000000</td>\n      <td>5953633</td>\n      <td>5953633</td>\n      <td>BENIGN</td>\n    </tr>\n    <tr>\n      <th>387</th>\n      <td>88</td>\n      <td>512</td>\n      <td>7</td>\n      <td>5</td>\n      <td>476</td>\n      <td>376</td>\n      <td>229</td>\n      <td>0</td>\n      <td>68.000000</td>\n      <td>110.016665</td>\n      <td>...</td>\n      <td>20</td>\n      <td>0.000000e+00</td>\n      <td>0.000000e+00</td>\n      <td>0</td>\n      <td>0</td>\n      <td>0.0</td>\n      <td>0.000000</td>\n      <td>0</td>\n      <td>0</td>\n      <td>BENIGN</td>\n    </tr>\n    <tr>\n      <th>721</th>\n      <td>80</td>\n      <td>119999933</td>\n      <td>203943</td>\n      <td>263412</td>\n      <td>1224076</td>\n      <td>584000000</td>\n      <td>367</td>\n      <td>0</td>\n      <td>6.002050</td>\n      <td>8.603629</td>\n      <td>...</td>\n      <td>20</td>\n      <td>0.000000e+00</td>\n      <td>0.000000e+00</td>\n      <td>0</td>\n      <td>0</td>\n      <td>0.0</td>\n      <td>0.000000</td>\n      <td>0</td>\n      <td>0</td>\n      <td>BENIGN</td>\n    </tr>\n    <tr>\n      <th>728</th>\n      <td>80</td>\n      <td>117107216</td>\n      <td>3356</td>\n      <td>4277</td>\n      <td>15800</td>\n      <td>10700000</td>\n      <td>344</td>\n      <td>0</td>\n      <td>4.707986</td>\n      <td>6.382862</td>\n      <td>...</td>\n      <td>20</td>\n      <td>1.390695e+05</td>\n      <td>4.101874e+05</td>\n      <td>1375830</td>\n      <td>14956</td>\n      <td>10000000.0</td>\n      <td>7762.637596</td>\n      <td>10000000</td>\n      <td>10000000</td>\n      <td>BENIGN</td>\n    </tr>\n    <tr>\n      <th>1041</th>\n      <td>80</td>\n      <td>12221158</td>\n      <td>5682</td>\n      <td>4527</td>\n      <td>12887</td>\n      <td>10500000</td>\n      <td>763</td>\n      <td>0</td>\n      <td>2.268039</td>\n      <td>15.995691</td>\n      <td>...</td>\n      <td>20</td>\n      <td>0.000000e+00</td>\n      <td>0.000000e+00</td>\n      <td>0</td>\n      <td>0</td>\n      <td>0.0</td>\n      <td>0.000000</td>\n      <td>0</td>\n      <td>0</td>\n      <td>BENIGN</td>\n    </tr>\n    <tr>\n      <th>...</th>\n      <td>...</td>\n      <td>...</td>\n      <td>...</td>\n      <td>...</td>\n      <td>...</td>\n      <td>...</td>\n      <td>...</td>\n      <td>...</td>\n      <td>...</td>\n      <td>...</td>\n      <td>...</td>\n      <td>...</td>\n      <td>...</td>\n      <td>...</td>\n      <td>...</td>\n      <td>...</td>\n      <td>...</td>\n      <td>...</td>\n      <td>...</td>\n      <td>...</td>\n      <td>...</td>\n    </tr>\n    <tr>\n      <th>282068</th>\n      <td>443</td>\n      <td>976619</td>\n      <td>62</td>\n      <td>61</td>\n      <td>822</td>\n      <td>87201</td>\n      <td>481</td>\n      <td>0</td>\n      <td>13.258065</td>\n      <td>66.672170</td>\n      <td>...</td>\n      <td>32</td>\n      <td>0.000000e+00</td>\n      <td>0.000000e+00</td>\n      <td>0</td>\n      <td>0</td>\n      <td>0.0</td>\n      <td>0.000000</td>\n      <td>0</td>\n      <td>0</td>\n      <td>BENIGN</td>\n    </tr>\n    <tr>\n      <th>284149</th>\n      <td>443</td>\n      <td>43855854</td>\n      <td>151</td>\n      <td>188</td>\n      <td>16804</td>\n      <td>207299</td>\n      <td>613</td>\n      <td>0</td>\n      <td>111.284768</td>\n      <td>217.478194</td>\n      <td>...</td>\n      <td>20</td>\n      <td>1.430000e+07</td>\n      <td>0.000000e+00</td>\n      <td>14300000</td>\n      <td>14300000</td>\n      <td>29500000.0</td>\n      <td>0.000000</td>\n      <td>29500000</td>\n      <td>29500000</td>\n      <td>BENIGN</td>\n    </tr>\n    <tr>\n      <th>284151</th>\n      <td>443</td>\n      <td>44442302</td>\n      <td>476</td>\n      <td>710</td>\n      <td>17892</td>\n      <td>1134483</td>\n      <td>709</td>\n      <td>0</td>\n      <td>37.588235</td>\n      <td>129.848181</td>\n      <td>...</td>\n      <td>20</td>\n      <td>1.530000e+07</td>\n      <td>0.000000e+00</td>\n      <td>15300000</td>\n      <td>15300000</td>\n      <td>29100000.0</td>\n      <td>0.000000</td>\n      <td>29100000</td>\n      <td>29100000</td>\n      <td>BENIGN</td>\n    </tr>\n    <tr>\n      <th>284852</th>\n      <td>80</td>\n      <td>49152804</td>\n      <td>68</td>\n      <td>81</td>\n      <td>1125</td>\n      <td>111640</td>\n      <td>390</td>\n      <td>0</td>\n      <td>16.544118</td>\n      <td>62.173670</td>\n      <td>...</td>\n      <td>20</td>\n      <td>8.006892e+05</td>\n      <td>1.571138e+06</td>\n      <td>3157396</td>\n      <td>14989</td>\n      <td>10200000.0</td>\n      <td>65926.064590</td>\n      <td>10200000</td>\n      <td>10100000</td>\n      <td>BENIGN</td>\n    </tr>\n    <tr>\n      <th>286466</th>\n      <td>443</td>\n      <td>186928</td>\n      <td>46</td>\n      <td>57</td>\n      <td>1319</td>\n      <td>100049</td>\n      <td>570</td>\n      <td>0</td>\n      <td>28.673913</td>\n      <td>111.438085</td>\n      <td>...</td>\n      <td>20</td>\n      <td>0.000000e+00</td>\n      <td>0.000000e+00</td>\n      <td>0</td>\n      <td>0</td>\n      <td>0.0</td>\n      <td>0.000000</td>\n      <td>0</td>\n      <td>0</td>\n      <td>BENIGN</td>\n    </tr>\n  </tbody>\n</table>\n<p>2776 rows × 69 columns</p>\n</div>"
     },
     "execution_count": 20,
     "metadata": {},
     "output_type": "execute_result"
    }
   ],
   "source": [
    "t = neg_cols_when_anomalies\n",
    "df[(df[t] < 0).any(1)]"
   ],
   "metadata": {
    "collapsed": false,
    "pycharm": {
     "name": "#%%\n"
    }
   }
  },
  {
   "cell_type": "code",
   "execution_count": 21,
   "outputs": [
    {
     "name": "stdout",
     "output_type": "stream",
     "text": [
      "Dropped 2 columns ['Flow IAT Min', 'Fwd IAT Min']\n"
     ]
    }
   ],
   "source": [
    "to_drop = list(neg_cols_when_anomalies)\n",
    "stats[\"n_dropped_cols\"] += len(neg_cols_when_anomalies)\n",
    "stats[\"dropped_cols\"] = stats[\"dropped_cols\"] + \", \".join(to_drop)\n",
    "df = df.drop(to_drop, axis=1)\n",
    "print(\"Dropped {} columns {}\".format(len(to_drop), to_drop))"
   ],
   "metadata": {
    "collapsed": false,
    "pycharm": {
     "name": "#%%\n"
    }
   }
  },
  {
   "cell_type": "code",
   "execution_count": 22,
   "outputs": [
    {
     "name": "stdout",
     "output_type": "stream",
     "text": [
      "Dropped 35 rows\n",
      "There are no more negative values\n"
     ]
    }
   ],
   "source": [
    "num_cols = df.select_dtypes(include=np.number).columns\n",
    "neg_cols_labels = df[(df[num_cols] < 0).any(1)][\"Label\"].unique()\n",
    "assert len(neg_cols_labels) == 1 and neg_cols_labels[0] == \"BENIGN\"\n",
    "idx_to_drop = df[(df[num_cols] < 0).any(1)].index\n",
    "n_dropped = len(idx_to_drop)\n",
    "stats[\"n_dropped_rows\"] += n_dropped\n",
    "df = df.drop(idx_to_drop, axis=0)\n",
    "print(\"Dropped {} rows\".format(n_dropped))\n",
    "assert (df[num_cols] < 0).any(1).sum() == 0, \"There are still negative values\"\n",
    "print(\"There are no more negative values\")"
   ],
   "metadata": {
    "collapsed": false,
    "pycharm": {
     "name": "#%%\n"
    }
   }
  },
  {
   "cell_type": "code",
   "execution_count": 23,
   "outputs": [],
   "source": [
    "df = df.drop([\"Destination Port\"], axis=1)\n",
    "df[\"Category\"] = df[\"Label\"]\n",
    "df.loc[df[\"Label\"] == \"BENIGN\", \"Label\"] = 0\n",
    "df.loc[df[\"Label\"] != 0, \"Label\"] = 1"
   ],
   "metadata": {
    "collapsed": false,
    "pycharm": {
     "name": "#%%\n"
    }
   }
  },
  {
   "cell_type": "markdown",
   "source": [
    "## Normalize attributes"
   ],
   "metadata": {
    "collapsed": false,
    "pycharm": {
     "name": "#%% md\n"
    }
   }
  },
  {
   "cell_type": "code",
   "execution_count": 24,
   "outputs": [
    {
     "name": "stdout",
     "output_type": "stream",
     "text": [
      "Data is scaled between 0 and 1\n"
     ]
    }
   ],
   "source": [
    "num_cols = df.select_dtypes(include=[np.number]).columns\n",
    "scaler = MinMaxScaler()\n",
    "df[num_cols] = scaler.fit_transform(df[num_cols])\n",
    "assert np.allclose(df[num_cols].max(axis=0).to_numpy(), 1.), \"Found values different than 1.\"\n",
    "assert np.allclose(df[num_cols].min(axis=0).to_numpy(), 0.), \"Found values lesser than 0.\"\n",
    "print(\"Data is scaled between 0 and 1\")"
   ],
   "metadata": {
    "collapsed": false,
    "pycharm": {
     "name": "#%%\n"
    }
   }
  },
  {
   "cell_type": "code",
   "execution_count": 25,
   "outputs": [],
   "source": [
    "stats[\"n_final_features\"] = df.shape[1] - 2\n",
    "stats[\"n_final_rows\"] = df.shape[0]\n",
    "stats[\"final_anomaly_ratio\"] = (df[\"Label\"] != 0).sum() / len(df)"
   ],
   "metadata": {
    "collapsed": false,
    "pycharm": {
     "name": "#%%\n"
    }
   }
  },
  {
   "cell_type": "markdown",
   "source": [
    "## Store processed dataset to CSV"
   ],
   "metadata": {
    "collapsed": false,
    "pycharm": {
     "name": "#%% md\n"
    }
   }
  },
  {
   "cell_type": "code",
   "execution_count": 27,
   "outputs": [
    {
     "name": "stdout",
     "output_type": "stream",
     "text": [
      "Processed data saved under: ../data/IDS2017/original/ids2017.csv\n",
      "Processed data saved under: ../data/IDS2017/original/ids2017.csv\n"
     ]
    }
   ],
   "source": [
    "df.to_csv(export_path + \"/\" + export_fname, index=False)\n",
    "print(\"Processed data saved under: {}\".format(base_path + \"/\" + export_fname))"
   ],
   "metadata": {
    "collapsed": false,
    "pycharm": {
     "name": "#%%\n"
    }
   }
  },
  {
   "cell_type": "markdown",
   "source": [
    "## Store basic information"
   ],
   "metadata": {
    "collapsed": false,
    "pycharm": {
     "name": "#%% md\n"
    }
   }
  },
  {
   "cell_type": "code",
   "execution_count": 28,
   "outputs": [
    {
     "name": "stdout",
     "output_type": "stream",
     "text": [
      "Processing summary saved under: ../data/IDS2017/original/ids2017_info.csv\n"
     ]
    },
    {
     "data": {
      "text/plain": "                                        dropped_cols  n_dropped_cols  \\\n0  Init_Win_bytes_backward, Init_Win_bytes_forwar...              12   \n\n   n_dropped_rows  n_instances  n_features anomaly_ratio  n_unique_cols  \\\n0             150      2830743          78        0.1970              8   \n\n                                         unique_cols  n_nan_cols  \\\n0  Bwd PSH Flags, Bwd URG Flags, Fwd Avg Bytes/Bu...           2   \n\n                       nan_cols  n_negative_cols  \\\n0  Flow Bytes/s, Flow Packets/s               13   \n\n                                       negative_cols  n_final_features  \\\n0  Flow Duration, Flow Bytes/s, Flow Packets/s, F...                65   \n\n   n_final_rows  final_anomaly_ratio  \n0       2830392              0.19702  ",
      "text/html": "<div>\n<style scoped>\n    .dataframe tbody tr th:only-of-type {\n        vertical-align: middle;\n    }\n\n    .dataframe tbody tr th {\n        vertical-align: top;\n    }\n\n    .dataframe thead th {\n        text-align: right;\n    }\n</style>\n<table border=\"1\" class=\"dataframe\">\n  <thead>\n    <tr style=\"text-align: right;\">\n      <th></th>\n      <th>dropped_cols</th>\n      <th>n_dropped_cols</th>\n      <th>n_dropped_rows</th>\n      <th>n_instances</th>\n      <th>n_features</th>\n      <th>anomaly_ratio</th>\n      <th>n_unique_cols</th>\n      <th>unique_cols</th>\n      <th>n_nan_cols</th>\n      <th>nan_cols</th>\n      <th>n_negative_cols</th>\n      <th>negative_cols</th>\n      <th>n_final_features</th>\n      <th>n_final_rows</th>\n      <th>final_anomaly_ratio</th>\n    </tr>\n  </thead>\n  <tbody>\n    <tr>\n      <th>0</th>\n      <td>Init_Win_bytes_backward, Init_Win_bytes_forwar...</td>\n      <td>12</td>\n      <td>150</td>\n      <td>2830743</td>\n      <td>78</td>\n      <td>0.1970</td>\n      <td>8</td>\n      <td>Bwd PSH Flags, Bwd URG Flags, Fwd Avg Bytes/Bu...</td>\n      <td>2</td>\n      <td>Flow Bytes/s, Flow Packets/s</td>\n      <td>13</td>\n      <td>Flow Duration, Flow Bytes/s, Flow Packets/s, F...</td>\n      <td>65</td>\n      <td>2830392</td>\n      <td>0.19702</td>\n    </tr>\n  </tbody>\n</table>\n</div>"
     },
     "execution_count": 28,
     "metadata": {},
     "output_type": "execute_result"
    }
   ],
   "source": [
    "stats_df = pd.DataFrame(stats, index=[0])\n",
    "stats_df.to_csv(export_path + \"/\" + info_fname, index=False)\n",
    "print(\"Processing summary saved under: {}\".format(base_path + \"/\" + info_fname))\n",
    "stats_df"
   ],
   "metadata": {
    "collapsed": false,
    "pycharm": {
     "name": "#%%\n"
    }
   }
  }
 ],
 "metadata": {
  "kernelspec": {
   "display_name": "Python 3",
   "language": "python",
   "name": "python3"
  },
  "language_info": {
   "codemirror_mode": {
    "name": "ipython",
    "version": 2
   },
   "file_extension": ".py",
   "mimetype": "text/x-python",
   "name": "python",
   "nbconvert_exporter": "python",
   "pygments_lexer": "ipython2",
   "version": "2.7.6"
  }
 },
 "nbformat": 4,
 "nbformat_minor": 0
}