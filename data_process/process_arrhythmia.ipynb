{
 "cells": [
  {
   "cell_type": "code",
   "execution_count": 40,
   "metadata": {
    "collapsed": true,
    "pycharm": {
     "name": "#%%\n"
    }
   },
   "outputs": [],
   "source": [
    "import numpy as np\n",
    "import pandas as pd\n",
    "import scipy.io as sio\n",
    "from sklearn.preprocessing import MinMaxScaler\n",
    "from collections import defaultdict\n",
    "\n",
    "# Base path where to find the dataset\n",
    "base_path = \"../data/Arrhythmia\"\n",
    "# Base path where processed dataset will be stored\n",
    "export_path = \"../data/Arrhythmia\"\n",
    "# Name of the file summarizing the preprocessing\n",
    "info_fname = \"arrhythmia_info.csv\"\n",
    "# File name of the original dataset\n",
    "fname = \"arrhythmia.mat\"\n",
    "# File name of the cleaned/processed dataset\n",
    "export_fname = \"arrhythmia.npy\"\n",
    "# Used to track preprocessing steps\n",
    "stats = defaultdict()"
   ]
  },
  {
   "cell_type": "code",
   "execution_count": 41,
   "outputs": [
    {
     "data": {
      "text/plain": "array([[ 75. ,   0. , 190. , ...,  23.3,  49.4,   1. ],\n       [ 56. ,   1. , 165. , ...,  20.4,  38.8,   0. ],\n       [ 54. ,   0. , 172. , ...,  12.3,  49. ,   0. ],\n       ...,\n       [ 36. ,   0. , 166. , ..., -44.2, -33.2,   0. ],\n       [ 32. ,   1. , 155. , ...,  25. ,  46.6,   0. ],\n       [ 78. ,   1. , 160. , ...,  21.3,  32.8,   0. ]])"
     },
     "execution_count": 41,
     "metadata": {},
     "output_type": "execute_result"
    }
   ],
   "source": [
    "data = sio.loadmat(base_path + \"/\" + fname)\n",
    "X = np.concatenate((data['X'], data['y']), axis=1)\n",
    "stats[\"n_dropped_cols\"] = 0\n",
    "stats[\"n_instances\"] = X.shape[0]\n",
    "stats[\"n_features\"] = X.shape[1] - 1\n",
    "stats[\"anomaly_ratio\"] = \"{:2.4f}\".format((X == 1).sum() / len(X))\n",
    "X"
   ],
   "metadata": {
    "collapsed": false,
    "pycharm": {
     "name": "#%%\n"
    }
   }
  },
  {
   "cell_type": "markdown",
   "source": [
    "## Check unique values"
   ],
   "metadata": {
    "collapsed": false,
    "pycharm": {
     "name": "#%% md\n"
    }
   }
  },
  {
   "cell_type": "code",
   "execution_count": 42,
   "outputs": [
    {
     "name": "stdout",
     "output_type": "stream",
     "text": [
      "Found 17 columns with unique values: [14, 62, 64, 78, 126, 127, 134, 136, 138, 140, 146, 151, 152, 159, 199, 259, 269]\n",
      "Columns are valid with more than one distinct value\n"
     ]
    }
   ],
   "source": [
    "df = pd.DataFrame(X)\n",
    "uniq_cols = df.columns[df.nunique() <= 1].tolist()\n",
    "stats[\"n_unique_cols\"] = len(uniq_cols)\n",
    "if uniq_cols:\n",
    "    print(\"Found {} columns with unique values: {}\".format(len(uniq_cols), uniq_cols))\n",
    "    stats[\"unique_cols\"] = \", \".join([str(col) for col in uniq_cols])\n",
    "    df.drop(uniq_cols, axis=1, inplace=True)\n",
    "    stats[\"n_dropped_cols\"] += len(uniq_cols)\n",
    "    uniq_cols = df.columns[df.nunique() <= 1].tolist()\n",
    "assert len(uniq_cols) == 0, \"Found columns with unique values: {}\".format(uniq_cols)\n",
    "print(\"Columns are valid with more than one distinct value\")"
   ],
   "metadata": {
    "collapsed": false,
    "pycharm": {
     "name": "#%%\n"
    }
   }
  },
  {
   "cell_type": "markdown",
   "source": [
    "## Check for NaN/invalid values"
   ],
   "metadata": {
    "collapsed": false,
    "pycharm": {
     "name": "#%% md\n"
    }
   }
  },
  {
   "cell_type": "code",
   "execution_count": 43,
   "outputs": [
    {
     "name": "stdout",
     "output_type": "stream",
     "text": [
      "Dataset has no NaN or +- INF values\n"
     ]
    }
   ],
   "source": [
    "df.replace([-np.inf, np.inf], np.nan, inplace=True)\n",
    "nan_cols = df.columns[df.isna().sum() > 0].tolist()\n",
    "stats[\"n_nan_cols\"] = len(nan_cols)\n",
    "if nan_cols:\n",
    "    print(\"Found {} columns with NaN values: {}\".format(len(nan_cols), nan_cols))\n",
    "    stats[\"nan_cols\"] = \", \".join([str(col) for col in nan_cols])\n",
    "assert len(nan_cols) == 0, \"Found NaN columns: {}\".format(nan_cols)\n",
    "print(\"Dataset has no NaN or +- INF values\")"
   ],
   "metadata": {
    "collapsed": false,
    "pycharm": {
     "name": "#%%\n"
    }
   }
  },
  {
   "cell_type": "markdown",
   "source": [
    "## Store processed dataset in a compressed file"
   ],
   "metadata": {
    "collapsed": false,
    "pycharm": {
     "name": "#%% md\n"
    }
   }
  },
  {
   "cell_type": "code",
   "execution_count": 45,
   "outputs": [
    {
     "name": "stdout",
     "output_type": "stream",
     "text": [
      "Processed data saved under: ../data/Arrhythmia/arrhythmia.npy\n"
     ]
    }
   ],
   "source": [
    "np.save(base_path + \"/\" + export_fname, df.to_numpy())\n",
    "print(\"Processed data saved under: {}\".format(base_path + \"/\" + export_fname))"
   ],
   "metadata": {
    "collapsed": false,
    "pycharm": {
     "name": "#%%\n"
    }
   }
  },
  {
   "cell_type": "markdown",
   "source": [
    "## Store basic information"
   ],
   "metadata": {
    "collapsed": false,
    "pycharm": {
     "name": "#%% md\n"
    }
   }
  },
  {
   "cell_type": "code",
   "execution_count": 46,
   "outputs": [
    {
     "name": "stdout",
     "output_type": "stream",
     "text": [
      "Processing summary saved under: ../data/Arrhythmia/arrhythmia_info.csv\n"
     ]
    },
    {
     "data": {
      "text/plain": "   n_dropped_cols  n_instances  n_features anomaly_ratio  n_unique_cols  \\\n0              17          452         274        2.3916             17   \n\n                                         unique_cols  n_nan_cols  \n0  14, 62, 64, 78, 126, 127, 134, 136, 138, 140, ...           0  ",
      "text/html": "<div>\n<style scoped>\n    .dataframe tbody tr th:only-of-type {\n        vertical-align: middle;\n    }\n\n    .dataframe tbody tr th {\n        vertical-align: top;\n    }\n\n    .dataframe thead th {\n        text-align: right;\n    }\n</style>\n<table border=\"1\" class=\"dataframe\">\n  <thead>\n    <tr style=\"text-align: right;\">\n      <th></th>\n      <th>n_dropped_cols</th>\n      <th>n_instances</th>\n      <th>n_features</th>\n      <th>anomaly_ratio</th>\n      <th>n_unique_cols</th>\n      <th>unique_cols</th>\n      <th>n_nan_cols</th>\n    </tr>\n  </thead>\n  <tbody>\n    <tr>\n      <th>0</th>\n      <td>17</td>\n      <td>452</td>\n      <td>274</td>\n      <td>2.3916</td>\n      <td>17</td>\n      <td>14, 62, 64, 78, 126, 127, 134, 136, 138, 140, ...</td>\n      <td>0</td>\n    </tr>\n  </tbody>\n</table>\n</div>"
     },
     "execution_count": 46,
     "metadata": {},
     "output_type": "execute_result"
    }
   ],
   "source": [
    "stats_df = pd.DataFrame(stats, index=[0])\n",
    "stats_df.to_csv(export_path + \"/\" + info_fname, index=False)\n",
    "print(\"Processing summary saved under: {}\".format(base_path + \"/\" + info_fname))\n",
    "stats_df"
   ],
   "metadata": {
    "collapsed": false,
    "pycharm": {
     "name": "#%%\n"
    }
   }
  }
 ],
 "metadata": {
  "kernelspec": {
   "display_name": "Python 3",
   "language": "python",
   "name": "python3"
  },
  "language_info": {
   "codemirror_mode": {
    "name": "ipython",
    "version": 2
   },
   "file_extension": ".py",
   "mimetype": "text/x-python",
   "name": "python",
   "nbconvert_exporter": "python",
   "pygments_lexer": "ipython2",
   "version": "2.7.6"
  }
 },
 "nbformat": 4,
 "nbformat_minor": 0
}