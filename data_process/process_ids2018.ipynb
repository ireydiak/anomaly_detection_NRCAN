{
 "cells": [
  {
   "cell_type": "code",
   "execution_count": 1,
   "metadata": {
    "collapsed": true,
    "pycharm": {
     "name": "#%%\n"
    }
   },
   "outputs": [],
   "source": [
    "import os\n",
    "import numpy as np\n",
    "import pandas as pd\n",
    "from sklearn.preprocessing import MinMaxScaler\n",
    "from collections import defaultdict\n",
    "\n",
    "# Normal label\n",
    "normal_label = \"Benign\"\n",
    "# Base path where to find the dataset\n",
    "base_path = \"../data/IDS2018/original\"\n",
    "# Base path where processed dataset will be stored\n",
    "export_path = \"../data/IDS2018\"\n",
    "# Name of the file summarizing the preprocessing\n",
    "info_fname = \"ids2018_info.csv\"\n",
    "# File name of the cleaned/processed dataset\n",
    "export_fname = \"ids2018.csv\"\n",
    "# Used to track preprocessing steps\n",
    "stats = defaultdict()\n",
    "stats[\"n_dropped_cols\"] = 0\n",
    "stats[\"n_dropped_rows\"] = 0\n",
    "# Columns to drop before any analysis\n",
    "cols_to_drop = [\n",
    "    'Flow ID',\n",
    "    'Src IP',\n",
    "    'Dst IP',\n",
    "    'Src Port',\n",
    "    'Dst Port'\n",
    "    'Protocol',\n",
    "    'Timestamp',\n",
    "]\n",
    "num_cols = [\n",
    "    'Tot Fwd Pkts',\n",
    "    'Tot Bwd Pkts',\n",
    "    'TotLen Fwd Pkts',\n",
    "    'TotLen Bwd Pkts',\n",
    "    'Fwd Pkt Len Max',\n",
    "    'Fwd Pkt Len Min',\n",
    "    'Fwd Pkt Len Mean',\n",
    "    'Fwd Pkt Len Std',\n",
    "    'Bwd Pkt Len Max',\n",
    "    'Bwd Pkt Len Min',\n",
    "    'Bwd Pkt Len Mean',\n",
    "    'Bwd Pkt Len Std',\n",
    "    'Flow Byts/s',\n",
    "    'Flow Pkts/s',\n",
    "    'Flow IAT Mean',\n",
    "    'Flow IAT Std',\n",
    "    'Flow IAT Max',\n",
    "    'Flow IAT Min',\n",
    "    'Fwd IAT Tot',\n",
    "    'Fwd IAT Mean',\n",
    "    'Fwd IAT Std',\n",
    "    'Fwd IAT Max',\n",
    "    'Fwd IAT Min',\n",
    "    'Bwd IAT Tot',\n",
    "    'Bwd IAT Mean',\n",
    "    'Bwd IAT Std',\n",
    "    'Bwd IAT Max',\n",
    "    'Bwd IAT Min',\n",
    "    'Fwd PSH Flags',\n",
    "    'Fwd URG Flags',\n",
    "    'Fwd Header Len',\n",
    "    'Bwd Header Len',\n",
    "    'Fwd Pkts/s',\n",
    "    'Bwd Pkts/s',\n",
    "    'Pkt Len Min',\n",
    "    'Pkt Len Max',\n",
    "    'Pkt Len Mean',\n",
    "    'Pkt Len Std',\n",
    "    'Pkt Len Var',\n",
    "    'FIN Flag Cnt',\n",
    "    'SYN Flag Cnt',\n",
    "    'RST Flag Cnt',\n",
    "    'PSH Flag Cnt',\n",
    "    'ACK Flag Cnt',\n",
    "    'URG Flag Cnt',\n",
    "    'CWE Flag Count',\n",
    "    'ECE Flag Cnt',\n",
    "    'Down/Up Ratio',\n",
    "    'Pkt Size Avg',\n",
    "    'Fwd Seg Size Avg',\n",
    "    'Bwd Seg Size Avg',\n",
    "    'Subflow Fwd Pkts',\n",
    "    'Subflow Fwd Byts',\n",
    "    'Subflow Bwd Pkts',\n",
    "    'Subflow Bwd Byts',\n",
    "    'Fwd Act Data Pkts',\n",
    "    'Fwd Seg Size Min',\n",
    "    'Active Mean',\n",
    "    'Active Std',\n",
    "    'Active Max',\n",
    "    'Active Min',\n",
    "    'Idle Mean',\n",
    "    'Idle Std',\n",
    "    'Idle Max',\n",
    "    'Idle Min'\n",
    "]"
   ]
  },
  {
   "cell_type": "code",
   "execution_count": 4,
   "metadata": {
    "collapsed": false,
    "pycharm": {
     "name": "#%%\n"
    }
   },
   "outputs": [
    {
     "name": "stdout",
     "output_type": "stream",
     "text": [
      "Friday-02-03-2018_TrafficForML_CICFlowMeter.csv\n"
     ]
    },
    {
     "name": "stderr",
     "output_type": "stream",
     "text": [
      "C:\\Users\\verdi\\anaconda3\\envs\\anomaly_detection\\lib\\site-packages\\IPython\\core\\interactiveshell.py:3444: DtypeWarning: Columns (0,1,3,4,5,6,7,8,9,10,11,12,13,14,15,16,17,18,19,20,21,22,23,24,25,26,27,28,29,30,31,32,33,34,35,36,37,38,39,40,41,42,43,44,45,46,47,48,49,50,51,52,53,54,55,56,57,58,59,60,61,62,63,64,65,66,67,68,69,70,71,72,73,74,75,76,77,78) have mixed types.Specify dtype option on import or set low_memory=False.\n",
      "  exec(code_obj, self.user_global_ns, self.user_ns)\n"
     ]
    },
    {
     "name": "stdout",
     "output_type": "stream",
     "text": [
      "Friday-16-02-2018_TrafficForML_CICFlowMeter.csv\n",
      "Friday-23-02-2018_TrafficForML_CICFlowMeter.csv\n",
      "Thuesday-20-02-2018_TrafficForML_CICFlowMeter.csv\n",
      "Thursday-01-03-2018_TrafficForML_CICFlowMeter.csv\n",
      "Thursday-15-02-2018_TrafficForML_CICFlowMeter.csv\n",
      "Thursday-22-02-2018_TrafficForML_CICFlowMeter.csv\n",
      "Wednesday-14-02-2018_TrafficForML_CICFlowMeter.csv\n",
      "Wednesday-21-02-2018_TrafficForML_CICFlowMeter.csv\n",
      "Wednesday-28-02-2018_TrafficForML_CICFlowMeter.csv\n",
      "defaultdict(None, {'n_dropped_cols': 0, 'n_dropped_rows': 0, 'dropped_cols': '', 'n_instances': 16233002, 'n_features': 83, 'anomaly_ratio': '0.1693'})\n"
     ]
    },
    {
     "data": {
      "text/html": [
       "<div>\n",
       "<style scoped>\n",
       "    .dataframe tbody tr th:only-of-type {\n",
       "        vertical-align: middle;\n",
       "    }\n",
       "\n",
       "    .dataframe tbody tr th {\n",
       "        vertical-align: top;\n",
       "    }\n",
       "\n",
       "    .dataframe thead th {\n",
       "        text-align: right;\n",
       "    }\n",
       "</style>\n",
       "<table border=\"1\" class=\"dataframe\">\n",
       "  <thead>\n",
       "    <tr style=\"text-align: right;\">\n",
       "      <th></th>\n",
       "      <th>Dst Port</th>\n",
       "      <th>Protocol</th>\n",
       "      <th>Timestamp</th>\n",
       "      <th>Flow Duration</th>\n",
       "      <th>Tot Fwd Pkts</th>\n",
       "      <th>Tot Bwd Pkts</th>\n",
       "      <th>TotLen Fwd Pkts</th>\n",
       "      <th>TotLen Bwd Pkts</th>\n",
       "      <th>Fwd Pkt Len Max</th>\n",
       "      <th>Fwd Pkt Len Min</th>\n",
       "      <th>...</th>\n",
       "      <th>Active Min</th>\n",
       "      <th>Idle Mean</th>\n",
       "      <th>Idle Std</th>\n",
       "      <th>Idle Max</th>\n",
       "      <th>Idle Min</th>\n",
       "      <th>Label</th>\n",
       "      <th>Flow ID</th>\n",
       "      <th>Src IP</th>\n",
       "      <th>Src Port</th>\n",
       "      <th>Dst IP</th>\n",
       "    </tr>\n",
       "  </thead>\n",
       "  <tbody>\n",
       "    <tr>\n",
       "      <th>0</th>\n",
       "      <td>443</td>\n",
       "      <td>6</td>\n",
       "      <td>NaN</td>\n",
       "      <td>141385</td>\n",
       "      <td>9</td>\n",
       "      <td>7</td>\n",
       "      <td>553</td>\n",
       "      <td>3773.0</td>\n",
       "      <td>202</td>\n",
       "      <td>0</td>\n",
       "      <td>...</td>\n",
       "      <td>0.0</td>\n",
       "      <td>0.0</td>\n",
       "      <td>0.0</td>\n",
       "      <td>0.0</td>\n",
       "      <td>0.0</td>\n",
       "      <td>Benign</td>\n",
       "      <td>NaN</td>\n",
       "      <td>NaN</td>\n",
       "      <td>NaN</td>\n",
       "      <td>NaN</td>\n",
       "    </tr>\n",
       "    <tr>\n",
       "      <th>1</th>\n",
       "      <td>49684</td>\n",
       "      <td>6</td>\n",
       "      <td>NaN</td>\n",
       "      <td>281</td>\n",
       "      <td>2</td>\n",
       "      <td>1</td>\n",
       "      <td>38</td>\n",
       "      <td>0.0</td>\n",
       "      <td>38</td>\n",
       "      <td>0</td>\n",
       "      <td>...</td>\n",
       "      <td>0.0</td>\n",
       "      <td>0.0</td>\n",
       "      <td>0.0</td>\n",
       "      <td>0.0</td>\n",
       "      <td>0.0</td>\n",
       "      <td>Benign</td>\n",
       "      <td>NaN</td>\n",
       "      <td>NaN</td>\n",
       "      <td>NaN</td>\n",
       "      <td>NaN</td>\n",
       "    </tr>\n",
       "    <tr>\n",
       "      <th>2</th>\n",
       "      <td>443</td>\n",
       "      <td>6</td>\n",
       "      <td>NaN</td>\n",
       "      <td>279824</td>\n",
       "      <td>11</td>\n",
       "      <td>15</td>\n",
       "      <td>1086</td>\n",
       "      <td>10527.0</td>\n",
       "      <td>385</td>\n",
       "      <td>0</td>\n",
       "      <td>...</td>\n",
       "      <td>0.0</td>\n",
       "      <td>0.0</td>\n",
       "      <td>0.0</td>\n",
       "      <td>0.0</td>\n",
       "      <td>0.0</td>\n",
       "      <td>Benign</td>\n",
       "      <td>NaN</td>\n",
       "      <td>NaN</td>\n",
       "      <td>NaN</td>\n",
       "      <td>NaN</td>\n",
       "    </tr>\n",
       "    <tr>\n",
       "      <th>3</th>\n",
       "      <td>443</td>\n",
       "      <td>6</td>\n",
       "      <td>NaN</td>\n",
       "      <td>132</td>\n",
       "      <td>2</td>\n",
       "      <td>0</td>\n",
       "      <td>0</td>\n",
       "      <td>0.0</td>\n",
       "      <td>0</td>\n",
       "      <td>0</td>\n",
       "      <td>...</td>\n",
       "      <td>0.0</td>\n",
       "      <td>0.0</td>\n",
       "      <td>0.0</td>\n",
       "      <td>0.0</td>\n",
       "      <td>0.0</td>\n",
       "      <td>Benign</td>\n",
       "      <td>NaN</td>\n",
       "      <td>NaN</td>\n",
       "      <td>NaN</td>\n",
       "      <td>NaN</td>\n",
       "    </tr>\n",
       "    <tr>\n",
       "      <th>4</th>\n",
       "      <td>443</td>\n",
       "      <td>6</td>\n",
       "      <td>NaN</td>\n",
       "      <td>274016</td>\n",
       "      <td>9</td>\n",
       "      <td>13</td>\n",
       "      <td>1285</td>\n",
       "      <td>6141.0</td>\n",
       "      <td>517</td>\n",
       "      <td>0</td>\n",
       "      <td>...</td>\n",
       "      <td>0.0</td>\n",
       "      <td>0.0</td>\n",
       "      <td>0.0</td>\n",
       "      <td>0.0</td>\n",
       "      <td>0.0</td>\n",
       "      <td>Benign</td>\n",
       "      <td>NaN</td>\n",
       "      <td>NaN</td>\n",
       "      <td>NaN</td>\n",
       "      <td>NaN</td>\n",
       "    </tr>\n",
       "  </tbody>\n",
       "</table>\n",
       "<p>5 rows × 84 columns</p>\n",
       "</div>"
      ],
      "text/plain": [
       "  Dst Port Protocol Timestamp Flow Duration Tot Fwd Pkts Tot Bwd Pkts  \\\n",
       "0      443        6       NaN        141385            9            7   \n",
       "1    49684        6       NaN           281            2            1   \n",
       "2      443        6       NaN        279824           11           15   \n",
       "3      443        6       NaN           132            2            0   \n",
       "4      443        6       NaN        274016            9           13   \n",
       "\n",
       "  TotLen Fwd Pkts TotLen Bwd Pkts Fwd Pkt Len Max Fwd Pkt Len Min  ...  \\\n",
       "0             553          3773.0             202               0  ...   \n",
       "1              38             0.0              38               0  ...   \n",
       "2            1086         10527.0             385               0  ...   \n",
       "3               0             0.0               0               0  ...   \n",
       "4            1285          6141.0             517               0  ...   \n",
       "\n",
       "  Active Min Idle Mean Idle Std Idle Max Idle Min   Label Flow ID Src IP  \\\n",
       "0        0.0       0.0      0.0      0.0      0.0  Benign     NaN    NaN   \n",
       "1        0.0       0.0      0.0      0.0      0.0  Benign     NaN    NaN   \n",
       "2        0.0       0.0      0.0      0.0      0.0  Benign     NaN    NaN   \n",
       "3        0.0       0.0      0.0      0.0      0.0  Benign     NaN    NaN   \n",
       "4        0.0       0.0      0.0      0.0      0.0  Benign     NaN    NaN   \n",
       "\n",
       "  Src Port Dst IP  \n",
       "0      NaN    NaN  \n",
       "1      NaN    NaN  \n",
       "2      NaN    NaN  \n",
       "3      NaN    NaN  \n",
       "4      NaN    NaN  \n",
       "\n",
       "[5 rows x 84 columns]"
      ]
     },
     "execution_count": 4,
     "metadata": {},
     "output_type": "execute_result"
    }
   ],
   "source": [
    "df = pd.DataFrame()\n",
    "for f in os.listdir(base_path):\n",
    "    chunk = pd.read_csv(os.path.join(base_path, f))\n",
    "    chunk.columns = chunk.columns.str.strip()\n",
    "    chunk.loc[:, chunk.columns != \"Label\"] = chunk.loc[:, chunk.columns != \"Label\"].apply(pd.to_numeric, errors=\"coerce\")   \n",
    "    chunk.drop(cols_to_drop, axis=1, errors=\"ignore\")\n",
    "    df = pd.concat((df, chunk))\n",
    "    print(f)\n",
    "print(stats)\n",
    "df.to_csv(export_path + \"/ids2018_merged.csv\", index=False)\n",
    "df.head(5)"
   ]
  },
  {
   "cell_type": "code",
   "execution_count": 2,
   "metadata": {
    "collapsed": false,
    "pycharm": {
     "name": "#%%\n"
    }
   },
   "outputs": [
    {
     "ename": "NameError",
     "evalue": "name 'df' is not defined",
     "output_type": "error",
     "traceback": [
      "\u001b[1;31m---------------------------------------------------------------------------\u001b[0m",
      "\u001b[1;31mNameError\u001b[0m                                 Traceback (most recent call last)",
      "\u001b[1;32m~\\AppData\\Local\\Temp\\ipykernel_4264\\1483393585.py\u001b[0m in \u001b[0;36m<module>\u001b[1;34m\u001b[0m\n\u001b[1;32m----> 1\u001b[1;33m \u001b[0mdf\u001b[0m \u001b[1;33m=\u001b[0m \u001b[0mdf\u001b[0m\u001b[1;33m.\u001b[0m\u001b[0mdrop\u001b[0m\u001b[1;33m(\u001b[0m\u001b[1;33m[\u001b[0m\u001b[1;34m\"Flow ID\"\u001b[0m\u001b[1;33m,\u001b[0m \u001b[1;34m\"Src IP\"\u001b[0m\u001b[1;33m,\u001b[0m \u001b[1;34m\"Src Port\"\u001b[0m\u001b[1;33m,\u001b[0m \u001b[1;34m\"Dst IP\"\u001b[0m\u001b[1;33m,\u001b[0m \u001b[1;34m\"Dst Port\"\u001b[0m\u001b[1;33m,\u001b[0m \u001b[1;34m\"Protocol\"\u001b[0m\u001b[1;33m,\u001b[0m \u001b[1;34m\"Timestamp\"\u001b[0m\u001b[1;33m]\u001b[0m\u001b[1;33m,\u001b[0m \u001b[0maxis\u001b[0m\u001b[1;33m=\u001b[0m\u001b[1;36m1\u001b[0m\u001b[1;33m)\u001b[0m\u001b[1;33m\u001b[0m\u001b[1;33m\u001b[0m\u001b[0m\n\u001b[0m\u001b[0;32m      2\u001b[0m \u001b[0mdf\u001b[0m\u001b[1;33m.\u001b[0m\u001b[0mto_csv\u001b[0m\u001b[1;33m(\u001b[0m\u001b[0mexport_path\u001b[0m \u001b[1;33m+\u001b[0m \u001b[1;34m\"/ids2018_merged.csv\"\u001b[0m\u001b[1;33m,\u001b[0m \u001b[0mindex\u001b[0m\u001b[1;33m=\u001b[0m\u001b[1;32mFalse\u001b[0m\u001b[1;33m)\u001b[0m\u001b[1;33m\u001b[0m\u001b[1;33m\u001b[0m\u001b[0m\n\u001b[0;32m      3\u001b[0m \u001b[0mdf\u001b[0m\u001b[1;33m.\u001b[0m\u001b[0mcolumns\u001b[0m\u001b[1;33m\u001b[0m\u001b[1;33m\u001b[0m\u001b[0m\n",
      "\u001b[1;31mNameError\u001b[0m: name 'df' is not defined"
     ]
    }
   ],
   "source": [
    "df = df.drop([\"Flow ID\", \"Src IP\", \"Src Port\", \"Dst IP\", \"Dst Port\", \"Protocol\", \"Timestamp\"], axis=1)\n",
    "df.to_csv(export_path + \"/ids2018_merged.csv\", index=False)\n",
    "df.columns"
   ]
  },
  {
   "cell_type": "code",
   "execution_count": 2,
   "metadata": {
    "collapsed": false,
    "pycharm": {
     "name": "#%%\n"
    }
   },
   "outputs": [
    {
     "data": {
      "text/html": [
       "<div>\n",
       "<style scoped>\n",
       "    .dataframe tbody tr th:only-of-type {\n",
       "        vertical-align: middle;\n",
       "    }\n",
       "\n",
       "    .dataframe tbody tr th {\n",
       "        vertical-align: top;\n",
       "    }\n",
       "\n",
       "    .dataframe thead th {\n",
       "        text-align: right;\n",
       "    }\n",
       "</style>\n",
       "<table border=\"1\" class=\"dataframe\">\n",
       "  <thead>\n",
       "    <tr style=\"text-align: right;\">\n",
       "      <th></th>\n",
       "      <th>Flow Duration</th>\n",
       "      <th>Tot Fwd Pkts</th>\n",
       "      <th>Tot Bwd Pkts</th>\n",
       "      <th>TotLen Fwd Pkts</th>\n",
       "      <th>TotLen Bwd Pkts</th>\n",
       "      <th>Fwd Pkt Len Max</th>\n",
       "      <th>Fwd Pkt Len Min</th>\n",
       "      <th>Fwd Pkt Len Mean</th>\n",
       "      <th>Fwd Pkt Len Std</th>\n",
       "      <th>Bwd Pkt Len Max</th>\n",
       "      <th>...</th>\n",
       "      <th>Fwd Seg Size Min</th>\n",
       "      <th>Active Mean</th>\n",
       "      <th>Active Std</th>\n",
       "      <th>Active Max</th>\n",
       "      <th>Active Min</th>\n",
       "      <th>Idle Mean</th>\n",
       "      <th>Idle Std</th>\n",
       "      <th>Idle Max</th>\n",
       "      <th>Idle Min</th>\n",
       "      <th>Label</th>\n",
       "    </tr>\n",
       "  </thead>\n",
       "  <tbody>\n",
       "    <tr>\n",
       "      <th>0</th>\n",
       "      <td>141385.0</td>\n",
       "      <td>9.0</td>\n",
       "      <td>7.0</td>\n",
       "      <td>553.0</td>\n",
       "      <td>3773.0</td>\n",
       "      <td>202.0</td>\n",
       "      <td>0.0</td>\n",
       "      <td>61.444444</td>\n",
       "      <td>87.534438</td>\n",
       "      <td>1460.0</td>\n",
       "      <td>...</td>\n",
       "      <td>20.0</td>\n",
       "      <td>0.0</td>\n",
       "      <td>0.0</td>\n",
       "      <td>0.0</td>\n",
       "      <td>0.0</td>\n",
       "      <td>0.0</td>\n",
       "      <td>0.0</td>\n",
       "      <td>0.0</td>\n",
       "      <td>0.0</td>\n",
       "      <td>Benign</td>\n",
       "    </tr>\n",
       "    <tr>\n",
       "      <th>1</th>\n",
       "      <td>281.0</td>\n",
       "      <td>2.0</td>\n",
       "      <td>1.0</td>\n",
       "      <td>38.0</td>\n",
       "      <td>0.0</td>\n",
       "      <td>38.0</td>\n",
       "      <td>0.0</td>\n",
       "      <td>19.000000</td>\n",
       "      <td>26.870058</td>\n",
       "      <td>0.0</td>\n",
       "      <td>...</td>\n",
       "      <td>20.0</td>\n",
       "      <td>0.0</td>\n",
       "      <td>0.0</td>\n",
       "      <td>0.0</td>\n",
       "      <td>0.0</td>\n",
       "      <td>0.0</td>\n",
       "      <td>0.0</td>\n",
       "      <td>0.0</td>\n",
       "      <td>0.0</td>\n",
       "      <td>Benign</td>\n",
       "    </tr>\n",
       "    <tr>\n",
       "      <th>2</th>\n",
       "      <td>279824.0</td>\n",
       "      <td>11.0</td>\n",
       "      <td>15.0</td>\n",
       "      <td>1086.0</td>\n",
       "      <td>10527.0</td>\n",
       "      <td>385.0</td>\n",
       "      <td>0.0</td>\n",
       "      <td>98.727273</td>\n",
       "      <td>129.392497</td>\n",
       "      <td>1460.0</td>\n",
       "      <td>...</td>\n",
       "      <td>20.0</td>\n",
       "      <td>0.0</td>\n",
       "      <td>0.0</td>\n",
       "      <td>0.0</td>\n",
       "      <td>0.0</td>\n",
       "      <td>0.0</td>\n",
       "      <td>0.0</td>\n",
       "      <td>0.0</td>\n",
       "      <td>0.0</td>\n",
       "      <td>Benign</td>\n",
       "    </tr>\n",
       "    <tr>\n",
       "      <th>3</th>\n",
       "      <td>132.0</td>\n",
       "      <td>2.0</td>\n",
       "      <td>0.0</td>\n",
       "      <td>0.0</td>\n",
       "      <td>0.0</td>\n",
       "      <td>0.0</td>\n",
       "      <td>0.0</td>\n",
       "      <td>0.000000</td>\n",
       "      <td>0.000000</td>\n",
       "      <td>0.0</td>\n",
       "      <td>...</td>\n",
       "      <td>20.0</td>\n",
       "      <td>0.0</td>\n",
       "      <td>0.0</td>\n",
       "      <td>0.0</td>\n",
       "      <td>0.0</td>\n",
       "      <td>0.0</td>\n",
       "      <td>0.0</td>\n",
       "      <td>0.0</td>\n",
       "      <td>0.0</td>\n",
       "      <td>Benign</td>\n",
       "    </tr>\n",
       "    <tr>\n",
       "      <th>4</th>\n",
       "      <td>274016.0</td>\n",
       "      <td>9.0</td>\n",
       "      <td>13.0</td>\n",
       "      <td>1285.0</td>\n",
       "      <td>6141.0</td>\n",
       "      <td>517.0</td>\n",
       "      <td>0.0</td>\n",
       "      <td>142.777778</td>\n",
       "      <td>183.887722</td>\n",
       "      <td>1460.0</td>\n",
       "      <td>...</td>\n",
       "      <td>20.0</td>\n",
       "      <td>0.0</td>\n",
       "      <td>0.0</td>\n",
       "      <td>0.0</td>\n",
       "      <td>0.0</td>\n",
       "      <td>0.0</td>\n",
       "      <td>0.0</td>\n",
       "      <td>0.0</td>\n",
       "      <td>0.0</td>\n",
       "      <td>Benign</td>\n",
       "    </tr>\n",
       "  </tbody>\n",
       "</table>\n",
       "<p>5 rows × 77 columns</p>\n",
       "</div>"
      ],
      "text/plain": [
       "   Flow Duration  Tot Fwd Pkts  Tot Bwd Pkts  TotLen Fwd Pkts  \\\n",
       "0       141385.0           9.0           7.0            553.0   \n",
       "1          281.0           2.0           1.0             38.0   \n",
       "2       279824.0          11.0          15.0           1086.0   \n",
       "3          132.0           2.0           0.0              0.0   \n",
       "4       274016.0           9.0          13.0           1285.0   \n",
       "\n",
       "   TotLen Bwd Pkts  Fwd Pkt Len Max  Fwd Pkt Len Min  Fwd Pkt Len Mean  \\\n",
       "0           3773.0            202.0              0.0         61.444444   \n",
       "1              0.0             38.0              0.0         19.000000   \n",
       "2          10527.0            385.0              0.0         98.727273   \n",
       "3              0.0              0.0              0.0          0.000000   \n",
       "4           6141.0            517.0              0.0        142.777778   \n",
       "\n",
       "   Fwd Pkt Len Std  Bwd Pkt Len Max  ...  Fwd Seg Size Min  Active Mean  \\\n",
       "0        87.534438           1460.0  ...              20.0          0.0   \n",
       "1        26.870058              0.0  ...              20.0          0.0   \n",
       "2       129.392497           1460.0  ...              20.0          0.0   \n",
       "3         0.000000              0.0  ...              20.0          0.0   \n",
       "4       183.887722           1460.0  ...              20.0          0.0   \n",
       "\n",
       "   Active Std  Active Max  Active Min  Idle Mean  Idle Std  Idle Max  \\\n",
       "0         0.0         0.0         0.0        0.0       0.0       0.0   \n",
       "1         0.0         0.0         0.0        0.0       0.0       0.0   \n",
       "2         0.0         0.0         0.0        0.0       0.0       0.0   \n",
       "3         0.0         0.0         0.0        0.0       0.0       0.0   \n",
       "4         0.0         0.0         0.0        0.0       0.0       0.0   \n",
       "\n",
       "   Idle Min   Label  \n",
       "0       0.0  Benign  \n",
       "1       0.0  Benign  \n",
       "2       0.0  Benign  \n",
       "3       0.0  Benign  \n",
       "4       0.0  Benign  \n",
       "\n",
       "[5 rows x 77 columns]"
      ]
     },
     "execution_count": 2,
     "metadata": {},
     "output_type": "execute_result"
    }
   ],
   "source": [
    "df = pd.read_csv(export_path + \"/ids2018_merged.csv\")\n",
    "stats[\"dropped_cols\"] = \"\"\n",
    "stats[\"n_dropped_cols\"] = 0\n",
    "stats[\"n_dropped_rows\"] = 0\n",
    "stats[\"n_instances\"] = len(df)\n",
    "stats[\"n_features\"] = df.shape[1] - 1\n",
    "stats[\"anomaly_ratio\"] = \"{:2.4f}\".format((df[\"Label\"] != normal_label).sum() / len(df))\n",
    "df.head(5)"
   ]
  },
  {
   "cell_type": "code",
   "execution_count": 3,
   "metadata": {},
   "outputs": [
    {
     "data": {
      "text/plain": [
       "Flow Duration      float64\n",
       "Tot Fwd Pkts       float64\n",
       "Tot Bwd Pkts       float64\n",
       "TotLen Fwd Pkts    float64\n",
       "TotLen Bwd Pkts    float64\n",
       "                    ...   \n",
       "Idle Mean          float64\n",
       "Idle Std           float64\n",
       "Idle Max           float64\n",
       "Idle Min           float64\n",
       "Label               object\n",
       "Length: 77, dtype: object"
      ]
     },
     "execution_count": 3,
     "metadata": {},
     "output_type": "execute_result"
    }
   ],
   "source": [
    "df.dtypes"
   ]
  },
  {
   "cell_type": "markdown",
   "metadata": {
    "collapsed": false,
    "pycharm": {
     "name": "#%% md\n"
    }
   },
   "source": [
    "## Inner class imbalance\n",
    "Between anomalies, there is a strong class imbalance"
   ]
  },
  {
   "cell_type": "code",
   "execution_count": 4,
   "metadata": {
    "pycharm": {
     "name": "#%%\n"
    }
   },
   "outputs": [
    {
     "data": {
      "text/html": [
       "<div>\n",
       "<style scoped>\n",
       "    .dataframe tbody tr th:only-of-type {\n",
       "        vertical-align: middle;\n",
       "    }\n",
       "\n",
       "    .dataframe tbody tr th {\n",
       "        vertical-align: top;\n",
       "    }\n",
       "\n",
       "    .dataframe thead th {\n",
       "        text-align: right;\n",
       "    }\n",
       "</style>\n",
       "<table border=\"1\" class=\"dataframe\">\n",
       "  <thead>\n",
       "    <tr style=\"text-align: right;\">\n",
       "      <th></th>\n",
       "      <th>Count</th>\n",
       "      <th>Ratio</th>\n",
       "    </tr>\n",
       "  </thead>\n",
       "  <tbody>\n",
       "    <tr>\n",
       "      <th>DDOS attack-HOIC</th>\n",
       "      <td>686012</td>\n",
       "      <td>0.249614</td>\n",
       "    </tr>\n",
       "    <tr>\n",
       "      <th>DDoS attacks-LOIC-HTTP</th>\n",
       "      <td>576191</td>\n",
       "      <td>0.209654</td>\n",
       "    </tr>\n",
       "    <tr>\n",
       "      <th>DoS attacks-Hulk</th>\n",
       "      <td>461912</td>\n",
       "      <td>0.168072</td>\n",
       "    </tr>\n",
       "    <tr>\n",
       "      <th>Bot</th>\n",
       "      <td>286191</td>\n",
       "      <td>0.104134</td>\n",
       "    </tr>\n",
       "    <tr>\n",
       "      <th>FTP-BruteForce</th>\n",
       "      <td>193360</td>\n",
       "      <td>0.070356</td>\n",
       "    </tr>\n",
       "    <tr>\n",
       "      <th>SSH-Bruteforce</th>\n",
       "      <td>187589</td>\n",
       "      <td>0.068257</td>\n",
       "    </tr>\n",
       "    <tr>\n",
       "      <th>Infilteration</th>\n",
       "      <td>161934</td>\n",
       "      <td>0.058922</td>\n",
       "    </tr>\n",
       "    <tr>\n",
       "      <th>DoS attacks-SlowHTTPTest</th>\n",
       "      <td>139890</td>\n",
       "      <td>0.050901</td>\n",
       "    </tr>\n",
       "    <tr>\n",
       "      <th>DoS attacks-GoldenEye</th>\n",
       "      <td>41508</td>\n",
       "      <td>0.015103</td>\n",
       "    </tr>\n",
       "    <tr>\n",
       "      <th>DoS attacks-Slowloris</th>\n",
       "      <td>10990</td>\n",
       "      <td>0.003999</td>\n",
       "    </tr>\n",
       "    <tr>\n",
       "      <th>DDOS attack-LOIC-UDP</th>\n",
       "      <td>1730</td>\n",
       "      <td>0.000629</td>\n",
       "    </tr>\n",
       "    <tr>\n",
       "      <th>Brute Force -Web</th>\n",
       "      <td>611</td>\n",
       "      <td>0.000222</td>\n",
       "    </tr>\n",
       "    <tr>\n",
       "      <th>Brute Force -XSS</th>\n",
       "      <td>230</td>\n",
       "      <td>0.000084</td>\n",
       "    </tr>\n",
       "    <tr>\n",
       "      <th>SQL Injection</th>\n",
       "      <td>87</td>\n",
       "      <td>0.000032</td>\n",
       "    </tr>\n",
       "    <tr>\n",
       "      <th>Label</th>\n",
       "      <td>59</td>\n",
       "      <td>0.000021</td>\n",
       "    </tr>\n",
       "  </tbody>\n",
       "</table>\n",
       "</div>"
      ],
      "text/plain": [
       "                           Count     Ratio\n",
       "DDOS attack-HOIC          686012  0.249614\n",
       "DDoS attacks-LOIC-HTTP    576191  0.209654\n",
       "DoS attacks-Hulk          461912  0.168072\n",
       "Bot                       286191  0.104134\n",
       "FTP-BruteForce            193360  0.070356\n",
       "SSH-Bruteforce            187589  0.068257\n",
       "Infilteration             161934  0.058922\n",
       "DoS attacks-SlowHTTPTest  139890  0.050901\n",
       "DoS attacks-GoldenEye      41508  0.015103\n",
       "DoS attacks-Slowloris      10990  0.003999\n",
       "DDOS attack-LOIC-UDP        1730  0.000629\n",
       "Brute Force -Web             611  0.000222\n",
       "Brute Force -XSS             230  0.000084\n",
       "SQL Injection                 87  0.000032\n",
       "Label                         59  0.000021"
      ]
     },
     "execution_count": 4,
     "metadata": {},
     "output_type": "execute_result"
    }
   ],
   "source": [
    "# Original class imbalance within attacks themselves\n",
    "mask = df[\"Label\"] != normal_label\n",
    "original_ad_ratios = pd.DataFrame(\n",
    "    pd.concat(\n",
    "        (df[mask][\"Label\"].value_counts(),\n",
    "        df[mask][\"Label\"].value_counts() / len(df[mask])), axis=1),\n",
    ")\n",
    "original_ad_ratios.to_csv(export_path + \"/ids2018_anomaly_labels_ratio.csv\")\n",
    "original_ad_ratios.columns = [\"Count\", \"Ratio\"]\n",
    "original_ad_ratios"
   ]
  },
  {
   "cell_type": "code",
   "execution_count": 5,
   "metadata": {},
   "outputs": [],
   "source": [
    "# Group DoS attacks\n",
    "mask = df[\"Label\"].str.startswith(\"DoS\")\n",
    "df.loc[mask, \"Label\"] = \"DoS\"\n",
    "\n",
    "# Group DDoS attacks\n",
    "mask = df[\"Label\"].str.startswith(\"DDoS\")\n",
    "df.loc[mask, \"Label\"] = \"DDoS\"\n",
    "mask = df[\"Label\"].str.startswith(\"DDOS\")\n",
    "df.loc[mask, \"Label\"] = \"DDoS\"\n",
    "\n",
    "# Group Web attacks\n",
    "mask = df[\"Label\"].str.startswith(\"Brute Force\")\n",
    "df.loc[mask, \"Label\"] = \"Web Attack\"\n",
    "mask = df[\"Label\"].str.startswith(\"SQL\")\n",
    "df.loc[mask, \"Label\"] = \"Web Attack\""
   ]
  },
  {
   "cell_type": "markdown",
   "metadata": {},
   "source": [
    "Found 49 rows that are duplicates of the header row"
   ]
  },
  {
   "cell_type": "code",
   "execution_count": 29,
   "metadata": {},
   "outputs": [
    {
     "data": {
      "text/plain": [
       "0"
      ]
     },
     "execution_count": 29,
     "metadata": {},
     "output_type": "execute_result"
    }
   ],
   "source": [
    "df[df[\"Label\"] == \"Label\"]"
   ]
  },
  {
   "cell_type": "code",
   "execution_count": 8,
   "metadata": {
    "collapsed": false,
    "pycharm": {
     "is_executing": true,
     "name": "#%%\n"
    }
   },
   "outputs": [
    {
     "data": {
      "text/html": [
       "<div>\n",
       "<style scoped>\n",
       "    .dataframe tbody tr th:only-of-type {\n",
       "        vertical-align: middle;\n",
       "    }\n",
       "\n",
       "    .dataframe tbody tr th {\n",
       "        vertical-align: top;\n",
       "    }\n",
       "\n",
       "    .dataframe thead th {\n",
       "        text-align: right;\n",
       "    }\n",
       "</style>\n",
       "<table border=\"1\" class=\"dataframe\">\n",
       "  <thead>\n",
       "    <tr style=\"text-align: right;\">\n",
       "      <th></th>\n",
       "      <th>Count</th>\n",
       "      <th>Ratio</th>\n",
       "    </tr>\n",
       "  </thead>\n",
       "  <tbody>\n",
       "    <tr>\n",
       "      <th>DDoS</th>\n",
       "      <td>1263933</td>\n",
       "      <td>0.459897</td>\n",
       "    </tr>\n",
       "    <tr>\n",
       "      <th>DoS</th>\n",
       "      <td>654300</td>\n",
       "      <td>0.238075</td>\n",
       "    </tr>\n",
       "    <tr>\n",
       "      <th>Bot</th>\n",
       "      <td>286191</td>\n",
       "      <td>0.104134</td>\n",
       "    </tr>\n",
       "    <tr>\n",
       "      <th>FTP-BruteForce</th>\n",
       "      <td>193360</td>\n",
       "      <td>0.070356</td>\n",
       "    </tr>\n",
       "    <tr>\n",
       "      <th>SSH-Bruteforce</th>\n",
       "      <td>187589</td>\n",
       "      <td>0.068257</td>\n",
       "    </tr>\n",
       "    <tr>\n",
       "      <th>Infilteration</th>\n",
       "      <td>161934</td>\n",
       "      <td>0.058922</td>\n",
       "    </tr>\n",
       "    <tr>\n",
       "      <th>Web Attack</th>\n",
       "      <td>928</td>\n",
       "      <td>0.000338</td>\n",
       "    </tr>\n",
       "    <tr>\n",
       "      <th>Label</th>\n",
       "      <td>59</td>\n",
       "      <td>0.000021</td>\n",
       "    </tr>\n",
       "  </tbody>\n",
       "</table>\n",
       "</div>"
      ],
      "text/plain": [
       "                  Count     Ratio\n",
       "DDoS            1263933  0.459897\n",
       "DoS              654300  0.238075\n",
       "Bot              286191  0.104134\n",
       "FTP-BruteForce   193360  0.070356\n",
       "SSH-Bruteforce   187589  0.068257\n",
       "Infilteration    161934  0.058922\n",
       "Web Attack          928  0.000338\n",
       "Label                59  0.000021"
      ]
     },
     "execution_count": 8,
     "metadata": {},
     "output_type": "execute_result"
    }
   ],
   "source": [
    "# Updated class imbalance\n",
    "mask = df[\"Label\"] != normal_label\n",
    "mod_ad_ratios = pd.DataFrame(\n",
    "    pd.concat(\n",
    "        (df[mask][\"Label\"].value_counts(),\n",
    "        df[mask][\"Label\"].value_counts() / len(df[mask])), axis=1),\n",
    ")\n",
    "mod_ad_ratios.columns = [\"Count\", \"Ratio\"]\n",
    "mod_ad_ratios"
   ]
  },
  {
   "cell_type": "code",
   "execution_count": 9,
   "metadata": {
    "collapsed": false,
    "pycharm": {
     "name": "#%%\n"
    }
   },
   "outputs": [],
   "source": [
    "# Group DoS attacks\n",
    "mask = df[\"Label\"].str.startswith(\"DoS\")\n",
    "df.loc[mask, \"Label\"] = \"DoS\"\n",
    "\n",
    "# Group DDoS attacks\n",
    "mask = df[\"Label\"].str.lower().str.startswith(\"ddos\")\n",
    "df.loc[mask, \"Label\"] = \"DDoS\"\n",
    "\n",
    "# Group Web attacks\n",
    "mask = df[\"Label\"].str.startswith(\"Web Attack\")\n",
    "df.loc[mask, \"Label\"] = \"Web Attack\""
   ]
  },
  {
   "cell_type": "code",
   "execution_count": 7,
   "metadata": {
    "collapsed": false,
    "pycharm": {
     "name": "#%%\n"
    }
   },
   "outputs": [
    {
     "data": {
      "text/html": [
       "<div>\n",
       "<style scoped>\n",
       "    .dataframe tbody tr th:only-of-type {\n",
       "        vertical-align: middle;\n",
       "    }\n",
       "\n",
       "    .dataframe tbody tr th {\n",
       "        vertical-align: top;\n",
       "    }\n",
       "\n",
       "    .dataframe thead th {\n",
       "        text-align: right;\n",
       "    }\n",
       "</style>\n",
       "<table border=\"1\" class=\"dataframe\">\n",
       "  <thead>\n",
       "    <tr style=\"text-align: right;\">\n",
       "      <th></th>\n",
       "      <th>Count</th>\n",
       "      <th>Ratio</th>\n",
       "    </tr>\n",
       "  </thead>\n",
       "  <tbody>\n",
       "    <tr>\n",
       "      <th>DDoS</th>\n",
       "      <td>1263933</td>\n",
       "      <td>0.459897</td>\n",
       "    </tr>\n",
       "    <tr>\n",
       "      <th>DoS</th>\n",
       "      <td>654300</td>\n",
       "      <td>0.238075</td>\n",
       "    </tr>\n",
       "    <tr>\n",
       "      <th>Bot</th>\n",
       "      <td>286191</td>\n",
       "      <td>0.104134</td>\n",
       "    </tr>\n",
       "    <tr>\n",
       "      <th>FTP-BruteForce</th>\n",
       "      <td>193360</td>\n",
       "      <td>0.070356</td>\n",
       "    </tr>\n",
       "    <tr>\n",
       "      <th>SSH-Bruteforce</th>\n",
       "      <td>187589</td>\n",
       "      <td>0.068257</td>\n",
       "    </tr>\n",
       "    <tr>\n",
       "      <th>Infilteration</th>\n",
       "      <td>161934</td>\n",
       "      <td>0.058922</td>\n",
       "    </tr>\n",
       "    <tr>\n",
       "      <th>Web Attack</th>\n",
       "      <td>928</td>\n",
       "      <td>0.000338</td>\n",
       "    </tr>\n",
       "    <tr>\n",
       "      <th>Label</th>\n",
       "      <td>59</td>\n",
       "      <td>0.000021</td>\n",
       "    </tr>\n",
       "  </tbody>\n",
       "</table>\n",
       "</div>"
      ],
      "text/plain": [
       "                  Count     Ratio\n",
       "DDoS            1263933  0.459897\n",
       "DoS              654300  0.238075\n",
       "Bot              286191  0.104134\n",
       "FTP-BruteForce   193360  0.070356\n",
       "SSH-Bruteforce   187589  0.068257\n",
       "Infilteration    161934  0.058922\n",
       "Web Attack          928  0.000338\n",
       "Label                59  0.000021"
      ]
     },
     "execution_count": 7,
     "metadata": {},
     "output_type": "execute_result"
    }
   ],
   "source": [
    "# Updated class imbalance\n",
    "mask = df[\"Label\"] != normal_label\n",
    "mod_ad_ratios = pd.DataFrame(\n",
    "    pd.concat(\n",
    "        (df[mask][\"Label\"].value_counts(),\n",
    "        df[mask][\"Label\"].value_counts() / len(df[mask])), axis=1),\n",
    ")\n",
    "mod_ad_ratios.columns = [\"Count\", \"Ratio\"]\n",
    "mod_ad_ratios"
   ]
  },
  {
   "cell_type": "markdown",
   "metadata": {
    "collapsed": false,
    "pycharm": {
     "name": "#%% md\n"
    }
   },
   "source": [
    "## Check unique values\n",
    "Drop columns with unique values"
   ]
  },
  {
   "cell_type": "code",
   "execution_count": 8,
   "metadata": {
    "collapsed": false,
    "pycharm": {
     "is_executing": true,
     "name": "#%%\n"
    }
   },
   "outputs": [
    {
     "name": "stdout",
     "output_type": "stream",
     "text": [
      "Found 8 columns with unique values: ['Bwd PSH Flags', 'Bwd URG Flags', 'Fwd Byts/b Avg', 'Fwd Pkts/b Avg', 'Fwd Blk Rate Avg', 'Bwd Byts/b Avg', 'Bwd Pkts/b Avg', 'Bwd Blk Rate Avg']\n",
      "Columns are valid with more than one distinct value\n"
     ]
    }
   ],
   "source": [
    "uniq_cols = df.columns[df.nunique() <= 1].tolist()\n",
    "stats[\"n_unique_cols\"] = len(uniq_cols)\n",
    "if uniq_cols:\n",
    "    print(\"Found {} columns with unique values: {}\".format(len(uniq_cols), uniq_cols))\n",
    "    stats[\"unique_cols\"] = \", \".join([str(col) for col in uniq_cols])\n",
    "    df.drop(uniq_cols, axis=1, inplace=True)\n",
    "    stats[\"n_dropped_cols\"] += len(uniq_cols)\n",
    "    uniq_cols = df.columns[df.nunique() <= 1].tolist()\n",
    "assert len(uniq_cols) == 0, \"Found {} columns with unique values: {}\".format(len(uniq_cols), uniq_cols)\n",
    "print(\"Columns are valid with more than one distinct value\")"
   ]
  },
  {
   "cell_type": "markdown",
   "metadata": {
    "collapsed": false,
    "pycharm": {
     "name": "#%% md\n"
    }
   },
   "source": [
    "## Check for NaN/invalid values\n",
    "First, find the columns with NaN values. Further processing will be required if we find any."
   ]
  },
  {
   "cell_type": "code",
   "execution_count": 9,
   "metadata": {},
   "outputs": [
    {
     "name": "stdout",
     "output_type": "stream",
     "text": [
      "Dropped 59 rows\n"
     ]
    }
   ],
   "source": [
    "#n_dropped = len(df[df[\"Flow Duration\"].isna()])\n",
    "#df = df[df[\"Flow Duration\"].isna()].dropna()\n",
    "n_dropped = len(df[df[\"Flow Duration\"].isna()])\n",
    "stats[\"n_dropped_rows\"] += n_dropped\n",
    "df = df.drop(index=df[df[\"Flow Duration\"].isna()].index)\n",
    "print(\"Dropped {} rows\".format(n_dropped))"
   ]
  },
  {
   "cell_type": "code",
   "execution_count": 10,
   "metadata": {
    "collapsed": false,
    "pycharm": {
     "is_executing": true,
     "name": "#%%\n"
    }
   },
   "outputs": [
    {
     "name": "stdout",
     "output_type": "stream",
     "text": [
      "Found NaN columns: ['Flow Byts/s', 'Flow Pkts/s']\n"
     ]
    }
   ],
   "source": [
    "# Replacing INF values with NaN\n",
    "df = df.replace([-np.inf, np.inf], np.nan)\n",
    "nan_cols = df.columns[df.isna().sum() > 0].tolist()\n",
    "stats[\"n_nan_cols\"] = len(nan_cols)\n",
    "if nan_cols:\n",
    "    stats[\"nan_cols\"] = \", \".join([str(col) for col in nan_cols])\n",
    "print(\"Found NaN columns: {}\".format(nan_cols))"
   ]
  },
  {
   "cell_type": "markdown",
   "metadata": {
    "collapsed": false,
    "pycharm": {
     "name": "#%% md\n"
    }
   },
   "source": [
    "Having found two columns with NaN values, we must investigate further before taking any decision."
   ]
  },
  {
   "cell_type": "markdown",
   "metadata": {
    "collapsed": false,
    "pycharm": {
     "name": "#%% md\n"
    }
   },
   "source": [
    "Dropping them seems risky because we would also lose anomalies which are already scarce and important for evaluation."
   ]
  },
  {
   "cell_type": "code",
   "execution_count": 11,
   "metadata": {
    "collapsed": false,
    "pycharm": {
     "is_executing": true,
     "name": "#%%\n"
    }
   },
   "outputs": [
    {
     "data": {
      "text/plain": [
       "Benign            94459\n",
       "Infilteration      1295\n",
       "FTP-BruteForce        6\n",
       "Name: Label, dtype: int64"
      ]
     },
     "execution_count": 11,
     "metadata": {},
     "output_type": "execute_result"
    }
   ],
   "source": [
    "df[df.isna().any(axis=1)][\"Label\"].value_counts()"
   ]
  },
  {
   "cell_type": "markdown",
   "metadata": {
    "collapsed": false,
    "pycharm": {
     "name": "#%% md\n"
    }
   },
   "source": [
    "Dropping them seems risky since we also drop anomalies which are already scarce"
   ]
  },
  {
   "cell_type": "code",
   "execution_count": 12,
   "metadata": {
    "collapsed": false,
    "pycharm": {
     "name": "#%%\n"
    }
   },
   "outputs": [
    {
     "name": "stdout",
     "output_type": "stream",
     "text": [
      "[0.]\n"
     ]
    },
    {
     "data": {
      "text/plain": [
       "0"
      ]
     },
     "execution_count": 12,
     "metadata": {},
     "output_type": "execute_result"
    }
   ],
   "source": [
    "# Check different values in Flow Duration\n",
    "print(df[df.isna().any(axis=1)][\"Flow Duration\"].unique())\n",
    "# Count number of nan instances when `Flow Duration` > 0\n",
    "df[df[\"Flow Duration\"] > 0].isna().sum().sum()"
   ]
  },
  {
   "cell_type": "markdown",
   "metadata": {
    "collapsed": false,
    "pycharm": {
     "name": "#%% md\n"
    }
   },
   "source": [
    "`Flow Bytes/s` and `Flow Packets/s` must be computed from `Flow Duration`. When the latter columns is zero, a division by zero occurs and the first two columns have NaN values. Zero values in `Flow Duration` are probably due to a lack of precision in the data type used. They must be associated with flows that lasted nanoseconds. Hence, we can convert the NaN rows to zeros."
   ]
  },
  {
   "cell_type": "code",
   "execution_count": 13,
   "metadata": {
    "collapsed": false,
    "pycharm": {
     "name": "#%%\n"
    }
   },
   "outputs": [
    {
     "name": "stdout",
     "output_type": "stream",
     "text": [
      "Replaced 95760 rows or 0.0059% of original data\n"
     ]
    }
   ],
   "source": [
    "n_dropped = df[nan_cols].isna().sum()[0]\n",
    "df = df.fillna(0)\n",
    "print(\"Replaced {} rows or {:2.4f}% of original data\".format(n_dropped, n_dropped / len(df)))\n",
    "remaining_nans = df.isna().sum().sum()\n",
    "assert remaining_nans == 0, \"There are still {} NaN values\".format(remaining_nans)"
   ]
  },
  {
   "cell_type": "markdown",
   "metadata": {
    "collapsed": false,
    "pycharm": {
     "name": "#%% md\n"
    }
   },
   "source": [
    "## Check for negative values\n",
    "Most of the features should be strictly positive. For instance, a packet with a negative number of bytes makes no sense."
   ]
  },
  {
   "cell_type": "code",
   "execution_count": 14,
   "metadata": {
    "collapsed": false,
    "pycharm": {
     "name": "#%%\n"
    }
   },
   "outputs": [
    {
     "name": "stdout",
     "output_type": "stream",
     "text": [
      "Found 11 columns with negative values: Index(['Flow Duration', 'Flow Pkts/s', 'Flow IAT Mean', 'Flow IAT Max',\n",
      "       'Flow IAT Min', 'Fwd IAT Tot', 'Fwd IAT Mean', 'Fwd IAT Max',\n",
      "       'Fwd IAT Min', 'Init Fwd Win Byts', 'Init Bwd Win Byts'],\n",
      "      dtype='object')\n"
     ]
    }
   ],
   "source": [
    "num_cols = df.select_dtypes(exclude=\"object\").columns\n",
    "mask = (df[num_cols] < 0).sum() > 0\n",
    "neg_cols = df[num_cols].columns[mask]\n",
    "stats[\"n_negative_cols\"] = len(neg_cols)\n",
    "stats[\"negative_cols\"] = \", \".join(neg_cols)\n",
    "print(\"Found {} columns with negative values: {}\".format(len(neg_cols), neg_cols))"
   ]
  },
  {
   "cell_type": "code",
   "execution_count": 15,
   "metadata": {
    "collapsed": false,
    "pycharm": {
     "name": "#%%\n"
    }
   },
   "outputs": [
    {
     "data": {
      "text/html": [
       "<div>\n",
       "<style scoped>\n",
       "    .dataframe tbody tr th:only-of-type {\n",
       "        vertical-align: middle;\n",
       "    }\n",
       "\n",
       "    .dataframe tbody tr th {\n",
       "        vertical-align: top;\n",
       "    }\n",
       "\n",
       "    .dataframe thead th {\n",
       "        text-align: right;\n",
       "    }\n",
       "</style>\n",
       "<table border=\"1\" class=\"dataframe\">\n",
       "  <thead>\n",
       "    <tr style=\"text-align: right;\">\n",
       "      <th></th>\n",
       "      <th>Count</th>\n",
       "      <th>Ratio</th>\n",
       "    </tr>\n",
       "  </thead>\n",
       "  <tbody>\n",
       "    <tr>\n",
       "      <th>Init Bwd Win Byts</th>\n",
       "      <td>8255549</td>\n",
       "      <td>5.085676e-01</td>\n",
       "    </tr>\n",
       "    <tr>\n",
       "      <th>Init Fwd Win Byts</th>\n",
       "      <td>4432608</td>\n",
       "      <td>2.730625e-01</td>\n",
       "    </tr>\n",
       "    <tr>\n",
       "      <th>Flow IAT Min</th>\n",
       "      <td>15</td>\n",
       "      <td>9.240469e-07</td>\n",
       "    </tr>\n",
       "    <tr>\n",
       "      <th>Fwd IAT Min</th>\n",
       "      <td>15</td>\n",
       "      <td>9.240469e-07</td>\n",
       "    </tr>\n",
       "    <tr>\n",
       "      <th>Flow Duration</th>\n",
       "      <td>14</td>\n",
       "      <td>8.624437e-07</td>\n",
       "    </tr>\n",
       "    <tr>\n",
       "      <th>Flow Pkts/s</th>\n",
       "      <td>14</td>\n",
       "      <td>8.624437e-07</td>\n",
       "    </tr>\n",
       "    <tr>\n",
       "      <th>Flow IAT Mean</th>\n",
       "      <td>14</td>\n",
       "      <td>8.624437e-07</td>\n",
       "    </tr>\n",
       "    <tr>\n",
       "      <th>Fwd IAT Tot</th>\n",
       "      <td>14</td>\n",
       "      <td>8.624437e-07</td>\n",
       "    </tr>\n",
       "    <tr>\n",
       "      <th>Fwd IAT Mean</th>\n",
       "      <td>14</td>\n",
       "      <td>8.624437e-07</td>\n",
       "    </tr>\n",
       "    <tr>\n",
       "      <th>Flow IAT Max</th>\n",
       "      <td>3</td>\n",
       "      <td>1.848094e-07</td>\n",
       "    </tr>\n",
       "    <tr>\n",
       "      <th>Fwd IAT Max</th>\n",
       "      <td>3</td>\n",
       "      <td>1.848094e-07</td>\n",
       "    </tr>\n",
       "  </tbody>\n",
       "</table>\n",
       "</div>"
      ],
      "text/plain": [
       "                     Count         Ratio\n",
       "Init Bwd Win Byts  8255549  5.085676e-01\n",
       "Init Fwd Win Byts  4432608  2.730625e-01\n",
       "Flow IAT Min            15  9.240469e-07\n",
       "Fwd IAT Min             15  9.240469e-07\n",
       "Flow Duration           14  8.624437e-07\n",
       "Flow Pkts/s             14  8.624437e-07\n",
       "Flow IAT Mean           14  8.624437e-07\n",
       "Fwd IAT Tot             14  8.624437e-07\n",
       "Fwd IAT Mean            14  8.624437e-07\n",
       "Flow IAT Max             3  1.848094e-07\n",
       "Fwd IAT Max              3  1.848094e-07"
      ]
     },
     "execution_count": 15,
     "metadata": {},
     "output_type": "execute_result"
    }
   ],
   "source": [
    "neg_df = pd.DataFrame(\n",
    "    pd.concat((\n",
    "        (df[neg_cols] < 0).sum(),\n",
    "        (df[neg_cols] < 0).sum() / len(df)\n",
    "    ), axis=1)\n",
    ")\n",
    "neg_df.columns = [\"Count\", \"Ratio\"]\n",
    "neg_df = neg_df.sort_values(\"Count\", ascending=False)\n",
    "neg_df"
   ]
  },
  {
   "cell_type": "code",
   "execution_count": 16,
   "metadata": {
    "collapsed": false,
    "pycharm": {
     "name": "#%%\n"
    }
   },
   "outputs": [
    {
     "name": "stdout",
     "output_type": "stream",
     "text": [
      "[-1.]\n",
      "[-1.]\n"
     ]
    }
   ],
   "source": [
    "print((df[\"Init Bwd Win Byts\"][df[\"Init Bwd Win Byts\"] < 0]).unique())\n",
    "print((df[\"Init Fwd Win Byts\"][df[\"Init Fwd Win Byts\"] < 0]).unique())\n",
    "#df[df[\"Init_Win_bytes_backward\"] < 0]"
   ]
  },
  {
   "cell_type": "code",
   "execution_count": 17,
   "metadata": {
    "collapsed": false,
    "pycharm": {
     "name": "#%%\n"
    }
   },
   "outputs": [
    {
     "name": "stdout",
     "output_type": "stream",
     "text": [
      "Dropped 2 columns: ['Init Bwd Win Byts', 'Init Fwd Win Byts']\n"
     ]
    }
   ],
   "source": [
    "# Drop `Init_Win_bytes_forward` and `Init_Win_bytes_backward` because too many of their values are equal to -1 which makes no sense.\n",
    "to_drop = neg_df[neg_df[\"Ratio\"] > 0.01].index.tolist()\n",
    "df = df.drop(to_drop, axis=1)\n",
    "neg_df = neg_df.drop(to_drop)\n",
    "stats[\"n_dropped_cols\"] += len(to_drop)\n",
    "stats[\"dropped_cols\"] = stats[\"dropped_cols\"] + \", \".join(to_drop)\n",
    "num_cols = df.select_dtypes(include=np.number).columns\n",
    "print(\"Dropped {} columns: {}\".format(len(to_drop), to_drop))"
   ]
  },
  {
   "cell_type": "code",
   "execution_count": 18,
   "metadata": {
    "collapsed": false,
    "pycharm": {
     "name": "#%%\n"
    }
   },
   "outputs": [
    {
     "data": {
      "text/plain": [
       "Benign    15\n",
       "Name: Label, dtype: int64"
      ]
     },
     "execution_count": 18,
     "metadata": {},
     "output_type": "execute_result"
    }
   ],
   "source": [
    "df[(df[num_cols] < 0).any(1)][\"Label\"].value_counts()"
   ]
  },
  {
   "cell_type": "markdown",
   "metadata": {},
   "source": [
    "The remaining invalid values are associated only to 15 benign rows. Removing them is probably the safest solution here."
   ]
  },
  {
   "cell_type": "code",
   "execution_count": 19,
   "metadata": {
    "collapsed": false,
    "pycharm": {
     "name": "#%%\n"
    }
   },
   "outputs": [
    {
     "data": {
      "text/html": [
       "<div>\n",
       "<style scoped>\n",
       "    .dataframe tbody tr th:only-of-type {\n",
       "        vertical-align: middle;\n",
       "    }\n",
       "\n",
       "    .dataframe tbody tr th {\n",
       "        vertical-align: top;\n",
       "    }\n",
       "\n",
       "    .dataframe thead th {\n",
       "        text-align: right;\n",
       "    }\n",
       "</style>\n",
       "<table border=\"1\" class=\"dataframe\">\n",
       "  <thead>\n",
       "    <tr style=\"text-align: right;\">\n",
       "      <th></th>\n",
       "      <th>Flow Duration</th>\n",
       "      <th>Tot Fwd Pkts</th>\n",
       "      <th>Tot Bwd Pkts</th>\n",
       "      <th>TotLen Fwd Pkts</th>\n",
       "      <th>TotLen Bwd Pkts</th>\n",
       "      <th>Fwd Pkt Len Max</th>\n",
       "      <th>Fwd Pkt Len Min</th>\n",
       "      <th>Fwd Pkt Len Mean</th>\n",
       "      <th>Fwd Pkt Len Std</th>\n",
       "      <th>Bwd Pkt Len Max</th>\n",
       "      <th>...</th>\n",
       "      <th>Fwd Seg Size Min</th>\n",
       "      <th>Active Mean</th>\n",
       "      <th>Active Std</th>\n",
       "      <th>Active Max</th>\n",
       "      <th>Active Min</th>\n",
       "      <th>Idle Mean</th>\n",
       "      <th>Idle Std</th>\n",
       "      <th>Idle Max</th>\n",
       "      <th>Idle Min</th>\n",
       "      <th>Label</th>\n",
       "    </tr>\n",
       "  </thead>\n",
       "  <tbody>\n",
       "    <tr>\n",
       "      <th>3030242</th>\n",
       "      <td>5.132268e+06</td>\n",
       "      <td>10.0</td>\n",
       "      <td>8.0</td>\n",
       "      <td>577.0</td>\n",
       "      <td>1440.0</td>\n",
       "      <td>109.0</td>\n",
       "      <td>0.0</td>\n",
       "      <td>57.7</td>\n",
       "      <td>49.888877</td>\n",
       "      <td>248.0</td>\n",
       "      <td>...</td>\n",
       "      <td>20.0</td>\n",
       "      <td>0.0</td>\n",
       "      <td>0.0</td>\n",
       "      <td>0.0</td>\n",
       "      <td>0.0</td>\n",
       "      <td>0.000000e+00</td>\n",
       "      <td>0.000000e+00</td>\n",
       "      <td>0.000000e+00</td>\n",
       "      <td>0.000000e+00</td>\n",
       "      <td>Benign</td>\n",
       "    </tr>\n",
       "    <tr>\n",
       "      <th>12720606</th>\n",
       "      <td>-1.885050e+11</td>\n",
       "      <td>9.0</td>\n",
       "      <td>0.0</td>\n",
       "      <td>0.0</td>\n",
       "      <td>0.0</td>\n",
       "      <td>0.0</td>\n",
       "      <td>0.0</td>\n",
       "      <td>0.0</td>\n",
       "      <td>0.000000</td>\n",
       "      <td>0.0</td>\n",
       "      <td>...</td>\n",
       "      <td>0.0</td>\n",
       "      <td>0.0</td>\n",
       "      <td>0.0</td>\n",
       "      <td>0.0</td>\n",
       "      <td>0.0</td>\n",
       "      <td>1.974748e+11</td>\n",
       "      <td>1.412517e+11</td>\n",
       "      <td>3.248070e+11</td>\n",
       "      <td>2.175600e+10</td>\n",
       "      <td>Benign</td>\n",
       "    </tr>\n",
       "    <tr>\n",
       "      <th>12720607</th>\n",
       "      <td>-7.487700e+10</td>\n",
       "      <td>8.0</td>\n",
       "      <td>0.0</td>\n",
       "      <td>0.0</td>\n",
       "      <td>0.0</td>\n",
       "      <td>0.0</td>\n",
       "      <td>0.0</td>\n",
       "      <td>0.0</td>\n",
       "      <td>0.000000</td>\n",
       "      <td>0.0</td>\n",
       "      <td>...</td>\n",
       "      <td>0.0</td>\n",
       "      <td>0.0</td>\n",
       "      <td>0.0</td>\n",
       "      <td>0.0</td>\n",
       "      <td>0.0</td>\n",
       "      <td>3.056785e+11</td>\n",
       "      <td>9.931048e+10</td>\n",
       "      <td>4.508620e+11</td>\n",
       "      <td>2.399340e+11</td>\n",
       "      <td>Benign</td>\n",
       "    </tr>\n",
       "    <tr>\n",
       "      <th>12720608</th>\n",
       "      <td>-4.834000e+09</td>\n",
       "      <td>43.0</td>\n",
       "      <td>0.0</td>\n",
       "      <td>0.0</td>\n",
       "      <td>0.0</td>\n",
       "      <td>0.0</td>\n",
       "      <td>0.0</td>\n",
       "      <td>0.0</td>\n",
       "      <td>0.000000</td>\n",
       "      <td>0.0</td>\n",
       "      <td>...</td>\n",
       "      <td>0.0</td>\n",
       "      <td>0.0</td>\n",
       "      <td>0.0</td>\n",
       "      <td>0.0</td>\n",
       "      <td>0.0</td>\n",
       "      <td>3.759760e+11</td>\n",
       "      <td>2.622479e+11</td>\n",
       "      <td>8.464580e+11</td>\n",
       "      <td>2.129100e+10</td>\n",
       "      <td>Benign</td>\n",
       "    </tr>\n",
       "    <tr>\n",
       "      <th>12720609</th>\n",
       "      <td>-8.282200e+11</td>\n",
       "      <td>2.0</td>\n",
       "      <td>0.0</td>\n",
       "      <td>0.0</td>\n",
       "      <td>0.0</td>\n",
       "      <td>0.0</td>\n",
       "      <td>0.0</td>\n",
       "      <td>0.0</td>\n",
       "      <td>0.000000</td>\n",
       "      <td>0.0</td>\n",
       "      <td>...</td>\n",
       "      <td>0.0</td>\n",
       "      <td>0.0</td>\n",
       "      <td>0.0</td>\n",
       "      <td>0.0</td>\n",
       "      <td>0.0</td>\n",
       "      <td>0.000000e+00</td>\n",
       "      <td>0.000000e+00</td>\n",
       "      <td>0.000000e+00</td>\n",
       "      <td>0.000000e+00</td>\n",
       "      <td>Benign</td>\n",
       "    </tr>\n",
       "    <tr>\n",
       "      <th>12720610</th>\n",
       "      <td>-5.787680e+11</td>\n",
       "      <td>48.0</td>\n",
       "      <td>0.0</td>\n",
       "      <td>0.0</td>\n",
       "      <td>0.0</td>\n",
       "      <td>0.0</td>\n",
       "      <td>0.0</td>\n",
       "      <td>0.0</td>\n",
       "      <td>0.000000</td>\n",
       "      <td>0.0</td>\n",
       "      <td>...</td>\n",
       "      <td>0.0</td>\n",
       "      <td>0.0</td>\n",
       "      <td>0.0</td>\n",
       "      <td>0.0</td>\n",
       "      <td>0.0</td>\n",
       "      <td>3.955714e+11</td>\n",
       "      <td>1.897622e+11</td>\n",
       "      <td>7.228210e+11</td>\n",
       "      <td>6.352000e+09</td>\n",
       "      <td>Benign</td>\n",
       "    </tr>\n",
       "    <tr>\n",
       "      <th>12720611</th>\n",
       "      <td>-6.990560e+11</td>\n",
       "      <td>38.0</td>\n",
       "      <td>0.0</td>\n",
       "      <td>0.0</td>\n",
       "      <td>0.0</td>\n",
       "      <td>0.0</td>\n",
       "      <td>0.0</td>\n",
       "      <td>0.0</td>\n",
       "      <td>0.000000</td>\n",
       "      <td>0.0</td>\n",
       "      <td>...</td>\n",
       "      <td>0.0</td>\n",
       "      <td>0.0</td>\n",
       "      <td>0.0</td>\n",
       "      <td>0.0</td>\n",
       "      <td>0.0</td>\n",
       "      <td>2.593934e+11</td>\n",
       "      <td>1.760081e+11</td>\n",
       "      <td>6.060520e+11</td>\n",
       "      <td>5.196000e+10</td>\n",
       "      <td>Benign</td>\n",
       "    </tr>\n",
       "    <tr>\n",
       "      <th>12720612</th>\n",
       "      <td>-5.533120e+11</td>\n",
       "      <td>34.0</td>\n",
       "      <td>0.0</td>\n",
       "      <td>0.0</td>\n",
       "      <td>0.0</td>\n",
       "      <td>0.0</td>\n",
       "      <td>0.0</td>\n",
       "      <td>0.0</td>\n",
       "      <td>0.000000</td>\n",
       "      <td>0.0</td>\n",
       "      <td>...</td>\n",
       "      <td>0.0</td>\n",
       "      <td>0.0</td>\n",
       "      <td>0.0</td>\n",
       "      <td>0.0</td>\n",
       "      <td>0.0</td>\n",
       "      <td>2.520679e+11</td>\n",
       "      <td>1.613787e+11</td>\n",
       "      <td>5.622340e+11</td>\n",
       "      <td>4.375000e+09</td>\n",
       "      <td>Benign</td>\n",
       "    </tr>\n",
       "    <tr>\n",
       "      <th>12720888</th>\n",
       "      <td>-1.101160e+11</td>\n",
       "      <td>79.0</td>\n",
       "      <td>0.0</td>\n",
       "      <td>0.0</td>\n",
       "      <td>0.0</td>\n",
       "      <td>0.0</td>\n",
       "      <td>0.0</td>\n",
       "      <td>0.0</td>\n",
       "      <td>0.000000</td>\n",
       "      <td>0.0</td>\n",
       "      <td>...</td>\n",
       "      <td>0.0</td>\n",
       "      <td>0.0</td>\n",
       "      <td>0.0</td>\n",
       "      <td>0.0</td>\n",
       "      <td>0.0</td>\n",
       "      <td>3.553386e+11</td>\n",
       "      <td>2.547013e+11</td>\n",
       "      <td>8.637480e+11</td>\n",
       "      <td>1.506900e+10</td>\n",
       "      <td>Benign</td>\n",
       "    </tr>\n",
       "    <tr>\n",
       "      <th>12722487</th>\n",
       "      <td>-6.420520e+11</td>\n",
       "      <td>163.0</td>\n",
       "      <td>0.0</td>\n",
       "      <td>0.0</td>\n",
       "      <td>0.0</td>\n",
       "      <td>0.0</td>\n",
       "      <td>0.0</td>\n",
       "      <td>0.0</td>\n",
       "      <td>0.000000</td>\n",
       "      <td>0.0</td>\n",
       "      <td>...</td>\n",
       "      <td>0.0</td>\n",
       "      <td>0.0</td>\n",
       "      <td>0.0</td>\n",
       "      <td>0.0</td>\n",
       "      <td>0.0</td>\n",
       "      <td>3.560329e+11</td>\n",
       "      <td>2.347642e+11</td>\n",
       "      <td>9.684340e+11</td>\n",
       "      <td>2.054000e+09</td>\n",
       "      <td>Benign</td>\n",
       "    </tr>\n",
       "    <tr>\n",
       "      <th>13933704</th>\n",
       "      <td>-1.187300e+10</td>\n",
       "      <td>2.0</td>\n",
       "      <td>0.0</td>\n",
       "      <td>0.0</td>\n",
       "      <td>0.0</td>\n",
       "      <td>0.0</td>\n",
       "      <td>0.0</td>\n",
       "      <td>0.0</td>\n",
       "      <td>0.000000</td>\n",
       "      <td>0.0</td>\n",
       "      <td>...</td>\n",
       "      <td>0.0</td>\n",
       "      <td>0.0</td>\n",
       "      <td>0.0</td>\n",
       "      <td>0.0</td>\n",
       "      <td>0.0</td>\n",
       "      <td>0.000000e+00</td>\n",
       "      <td>0.000000e+00</td>\n",
       "      <td>0.000000e+00</td>\n",
       "      <td>0.000000e+00</td>\n",
       "      <td>Benign</td>\n",
       "    </tr>\n",
       "    <tr>\n",
       "      <th>13933705</th>\n",
       "      <td>-6.814020e+11</td>\n",
       "      <td>3.0</td>\n",
       "      <td>0.0</td>\n",
       "      <td>0.0</td>\n",
       "      <td>0.0</td>\n",
       "      <td>0.0</td>\n",
       "      <td>0.0</td>\n",
       "      <td>0.0</td>\n",
       "      <td>0.000000</td>\n",
       "      <td>0.0</td>\n",
       "      <td>...</td>\n",
       "      <td>0.0</td>\n",
       "      <td>0.0</td>\n",
       "      <td>0.0</td>\n",
       "      <td>0.0</td>\n",
       "      <td>0.0</td>\n",
       "      <td>0.000000e+00</td>\n",
       "      <td>0.000000e+00</td>\n",
       "      <td>0.000000e+00</td>\n",
       "      <td>0.000000e+00</td>\n",
       "      <td>Benign</td>\n",
       "    </tr>\n",
       "    <tr>\n",
       "      <th>13933706</th>\n",
       "      <td>-9.190110e+11</td>\n",
       "      <td>81.0</td>\n",
       "      <td>0.0</td>\n",
       "      <td>0.0</td>\n",
       "      <td>0.0</td>\n",
       "      <td>0.0</td>\n",
       "      <td>0.0</td>\n",
       "      <td>0.0</td>\n",
       "      <td>0.000000</td>\n",
       "      <td>0.0</td>\n",
       "      <td>...</td>\n",
       "      <td>0.0</td>\n",
       "      <td>0.0</td>\n",
       "      <td>0.0</td>\n",
       "      <td>0.0</td>\n",
       "      <td>0.0</td>\n",
       "      <td>2.841125e+11</td>\n",
       "      <td>1.931524e+11</td>\n",
       "      <td>7.548470e+11</td>\n",
       "      <td>1.260300e+10</td>\n",
       "      <td>Benign</td>\n",
       "    </tr>\n",
       "    <tr>\n",
       "      <th>13933707</th>\n",
       "      <td>-2.738500e+11</td>\n",
       "      <td>282.0</td>\n",
       "      <td>0.0</td>\n",
       "      <td>0.0</td>\n",
       "      <td>0.0</td>\n",
       "      <td>0.0</td>\n",
       "      <td>0.0</td>\n",
       "      <td>0.0</td>\n",
       "      <td>0.000000</td>\n",
       "      <td>0.0</td>\n",
       "      <td>...</td>\n",
       "      <td>0.0</td>\n",
       "      <td>0.0</td>\n",
       "      <td>0.0</td>\n",
       "      <td>0.0</td>\n",
       "      <td>0.0</td>\n",
       "      <td>3.394503e+11</td>\n",
       "      <td>2.432682e+11</td>\n",
       "      <td>9.797810e+11</td>\n",
       "      <td>7.758000e+09</td>\n",
       "      <td>Benign</td>\n",
       "    </tr>\n",
       "    <tr>\n",
       "      <th>13934932</th>\n",
       "      <td>-5.298010e+11</td>\n",
       "      <td>505.0</td>\n",
       "      <td>0.0</td>\n",
       "      <td>0.0</td>\n",
       "      <td>0.0</td>\n",
       "      <td>0.0</td>\n",
       "      <td>0.0</td>\n",
       "      <td>0.0</td>\n",
       "      <td>0.000000</td>\n",
       "      <td>0.0</td>\n",
       "      <td>...</td>\n",
       "      <td>0.0</td>\n",
       "      <td>0.0</td>\n",
       "      <td>0.0</td>\n",
       "      <td>0.0</td>\n",
       "      <td>0.0</td>\n",
       "      <td>3.337556e+11</td>\n",
       "      <td>2.377517e+11</td>\n",
       "      <td>9.484310e+11</td>\n",
       "      <td>4.908000e+09</td>\n",
       "      <td>Benign</td>\n",
       "    </tr>\n",
       "  </tbody>\n",
       "</table>\n",
       "<p>15 rows × 67 columns</p>\n",
       "</div>"
      ],
      "text/plain": [
       "          Flow Duration  Tot Fwd Pkts  Tot Bwd Pkts  TotLen Fwd Pkts  \\\n",
       "3030242    5.132268e+06          10.0           8.0            577.0   \n",
       "12720606  -1.885050e+11           9.0           0.0              0.0   \n",
       "12720607  -7.487700e+10           8.0           0.0              0.0   \n",
       "12720608  -4.834000e+09          43.0           0.0              0.0   \n",
       "12720609  -8.282200e+11           2.0           0.0              0.0   \n",
       "12720610  -5.787680e+11          48.0           0.0              0.0   \n",
       "12720611  -6.990560e+11          38.0           0.0              0.0   \n",
       "12720612  -5.533120e+11          34.0           0.0              0.0   \n",
       "12720888  -1.101160e+11          79.0           0.0              0.0   \n",
       "12722487  -6.420520e+11         163.0           0.0              0.0   \n",
       "13933704  -1.187300e+10           2.0           0.0              0.0   \n",
       "13933705  -6.814020e+11           3.0           0.0              0.0   \n",
       "13933706  -9.190110e+11          81.0           0.0              0.0   \n",
       "13933707  -2.738500e+11         282.0           0.0              0.0   \n",
       "13934932  -5.298010e+11         505.0           0.0              0.0   \n",
       "\n",
       "          TotLen Bwd Pkts  Fwd Pkt Len Max  Fwd Pkt Len Min  Fwd Pkt Len Mean  \\\n",
       "3030242            1440.0            109.0              0.0              57.7   \n",
       "12720606              0.0              0.0              0.0               0.0   \n",
       "12720607              0.0              0.0              0.0               0.0   \n",
       "12720608              0.0              0.0              0.0               0.0   \n",
       "12720609              0.0              0.0              0.0               0.0   \n",
       "12720610              0.0              0.0              0.0               0.0   \n",
       "12720611              0.0              0.0              0.0               0.0   \n",
       "12720612              0.0              0.0              0.0               0.0   \n",
       "12720888              0.0              0.0              0.0               0.0   \n",
       "12722487              0.0              0.0              0.0               0.0   \n",
       "13933704              0.0              0.0              0.0               0.0   \n",
       "13933705              0.0              0.0              0.0               0.0   \n",
       "13933706              0.0              0.0              0.0               0.0   \n",
       "13933707              0.0              0.0              0.0               0.0   \n",
       "13934932              0.0              0.0              0.0               0.0   \n",
       "\n",
       "          Fwd Pkt Len Std  Bwd Pkt Len Max  ...  Fwd Seg Size Min  \\\n",
       "3030242         49.888877            248.0  ...              20.0   \n",
       "12720606         0.000000              0.0  ...               0.0   \n",
       "12720607         0.000000              0.0  ...               0.0   \n",
       "12720608         0.000000              0.0  ...               0.0   \n",
       "12720609         0.000000              0.0  ...               0.0   \n",
       "12720610         0.000000              0.0  ...               0.0   \n",
       "12720611         0.000000              0.0  ...               0.0   \n",
       "12720612         0.000000              0.0  ...               0.0   \n",
       "12720888         0.000000              0.0  ...               0.0   \n",
       "12722487         0.000000              0.0  ...               0.0   \n",
       "13933704         0.000000              0.0  ...               0.0   \n",
       "13933705         0.000000              0.0  ...               0.0   \n",
       "13933706         0.000000              0.0  ...               0.0   \n",
       "13933707         0.000000              0.0  ...               0.0   \n",
       "13934932         0.000000              0.0  ...               0.0   \n",
       "\n",
       "          Active Mean  Active Std  Active Max  Active Min     Idle Mean  \\\n",
       "3030242           0.0         0.0         0.0         0.0  0.000000e+00   \n",
       "12720606          0.0         0.0         0.0         0.0  1.974748e+11   \n",
       "12720607          0.0         0.0         0.0         0.0  3.056785e+11   \n",
       "12720608          0.0         0.0         0.0         0.0  3.759760e+11   \n",
       "12720609          0.0         0.0         0.0         0.0  0.000000e+00   \n",
       "12720610          0.0         0.0         0.0         0.0  3.955714e+11   \n",
       "12720611          0.0         0.0         0.0         0.0  2.593934e+11   \n",
       "12720612          0.0         0.0         0.0         0.0  2.520679e+11   \n",
       "12720888          0.0         0.0         0.0         0.0  3.553386e+11   \n",
       "12722487          0.0         0.0         0.0         0.0  3.560329e+11   \n",
       "13933704          0.0         0.0         0.0         0.0  0.000000e+00   \n",
       "13933705          0.0         0.0         0.0         0.0  0.000000e+00   \n",
       "13933706          0.0         0.0         0.0         0.0  2.841125e+11   \n",
       "13933707          0.0         0.0         0.0         0.0  3.394503e+11   \n",
       "13934932          0.0         0.0         0.0         0.0  3.337556e+11   \n",
       "\n",
       "              Idle Std      Idle Max      Idle Min   Label  \n",
       "3030242   0.000000e+00  0.000000e+00  0.000000e+00  Benign  \n",
       "12720606  1.412517e+11  3.248070e+11  2.175600e+10  Benign  \n",
       "12720607  9.931048e+10  4.508620e+11  2.399340e+11  Benign  \n",
       "12720608  2.622479e+11  8.464580e+11  2.129100e+10  Benign  \n",
       "12720609  0.000000e+00  0.000000e+00  0.000000e+00  Benign  \n",
       "12720610  1.897622e+11  7.228210e+11  6.352000e+09  Benign  \n",
       "12720611  1.760081e+11  6.060520e+11  5.196000e+10  Benign  \n",
       "12720612  1.613787e+11  5.622340e+11  4.375000e+09  Benign  \n",
       "12720888  2.547013e+11  8.637480e+11  1.506900e+10  Benign  \n",
       "12722487  2.347642e+11  9.684340e+11  2.054000e+09  Benign  \n",
       "13933704  0.000000e+00  0.000000e+00  0.000000e+00  Benign  \n",
       "13933705  0.000000e+00  0.000000e+00  0.000000e+00  Benign  \n",
       "13933706  1.931524e+11  7.548470e+11  1.260300e+10  Benign  \n",
       "13933707  2.432682e+11  9.797810e+11  7.758000e+09  Benign  \n",
       "13934932  2.377517e+11  9.484310e+11  4.908000e+09  Benign  \n",
       "\n",
       "[15 rows x 67 columns]"
      ]
     },
     "execution_count": 19,
     "metadata": {},
     "output_type": "execute_result"
    }
   ],
   "source": [
    "df[(df[num_cols] < 0).any(1)]"
   ]
  },
  {
   "cell_type": "markdown",
   "metadata": {
    "collapsed": false,
    "pycharm": {
     "name": "#%% md\n"
    }
   },
   "source": [
    "When Flow Duration < 0, multiple columns are negative. Since these rows are only associated with BENIGN flows, we can drop them."
   ]
  },
  {
   "cell_type": "code",
   "execution_count": 20,
   "metadata": {
    "collapsed": false,
    "pycharm": {
     "name": "#%%\n"
    }
   },
   "outputs": [
    {
     "name": "stdout",
     "output_type": "stream",
     "text": [
      "Dropped 14 rows\n"
     ]
    }
   ],
   "source": [
    "n_dropped = (df[\"Flow Duration\"] < 0).sum()\n",
    "stats[\"n_dropped_rows\"] += n_dropped\n",
    "df = df[df[\"Flow Duration\"] >= 0]\n",
    "print(\"Dropped {} rows\".format(n_dropped))\n",
    "# assert len(df[(df[num_cols] < 0).any(1)]) == 0, \"there are still negative rows\""
   ]
  },
  {
   "cell_type": "code",
   "execution_count": 21,
   "metadata": {},
   "outputs": [],
   "source": [
    "df = df.drop(index=df[(df[num_cols] < 0).any(1)].index)\n",
    "stats[\"n_dropped_rows\"] += 1\n",
    "assert len(df[(df[num_cols] < 0).any(1)]) == 0, \"there are still negative rows\""
   ]
  },
  {
   "cell_type": "code",
   "execution_count": 22,
   "metadata": {
    "collapsed": false,
    "pycharm": {
     "name": "#%%\n"
    }
   },
   "outputs": [],
   "source": [
    "df[\"Category\"] = df[\"Label\"]\n",
    "df[\"Label\"] = df[\"Label\"].apply(lambda x: 0 if x == normal_label else 1)\n",
    "df[\"Label\"] = df[\"Label\"].astype(np.uint8)"
   ]
  },
  {
   "cell_type": "markdown",
   "metadata": {
    "collapsed": false,
    "pycharm": {
     "name": "#%% md\n"
    }
   },
   "source": [
    "## Normalize attributes"
   ]
  },
  {
   "cell_type": "code",
   "execution_count": 23,
   "metadata": {
    "collapsed": false,
    "pycharm": {
     "name": "#%%\n"
    }
   },
   "outputs": [
    {
     "name": "stdout",
     "output_type": "stream",
     "text": [
      "Data is scaled between 0 and 1\n"
     ]
    }
   ],
   "source": [
    "num_cols = df.select_dtypes(include=[np.number]).columns\n",
    "scaler = MinMaxScaler()\n",
    "df[num_cols] = scaler.fit_transform(df[num_cols])\n",
    "assert np.allclose(df[num_cols].max(axis=0).to_numpy(), 1.), \"Found values different than 1.\"\n",
    "assert np.allclose(df[num_cols].min(axis=0).to_numpy(), 0.), \"Found values lesser than 0.\"\n",
    "print(\"Data is scaled between 0 and 1\")"
   ]
  },
  {
   "cell_type": "code",
   "execution_count": 24,
   "metadata": {
    "collapsed": false,
    "pycharm": {
     "name": "#%%\n"
    }
   },
   "outputs": [
    {
     "data": {
      "text/plain": [
       "defaultdict(None,\n",
       "            {'n_dropped_cols': 10,\n",
       "             'n_dropped_rows': 74,\n",
       "             'dropped_cols': 'Init Bwd Win Byts, Init Fwd Win Byts',\n",
       "             'n_instances': 16233002,\n",
       "             'n_features': 76,\n",
       "             'anomaly_ratio': '0.1693',\n",
       "             'n_unique_cols': 8,\n",
       "             'unique_cols': 'Bwd PSH Flags, Bwd URG Flags, Fwd Byts/b Avg, Fwd Pkts/b Avg, Fwd Blk Rate Avg, Bwd Byts/b Avg, Bwd Pkts/b Avg, Bwd Blk Rate Avg',\n",
       "             'n_nan_cols': 2,\n",
       "             'nan_cols': 'Flow Byts/s, Flow Pkts/s',\n",
       "             'n_negative_cols': 11,\n",
       "             'negative_cols': 'Flow Duration, Flow Pkts/s, Flow IAT Mean, Flow IAT Max, Flow IAT Min, Fwd IAT Tot, Fwd IAT Mean, Fwd IAT Max, Fwd IAT Min, Init Fwd Win Byts, Init Bwd Win Byts',\n",
       "             'n_final_features': 66,\n",
       "             'n_final_rows': 16232928,\n",
       "             'final_anomaly_ratio': 0.16930001784028118})"
      ]
     },
     "execution_count": 24,
     "metadata": {},
     "output_type": "execute_result"
    }
   ],
   "source": [
    "stats[\"n_final_features\"] = df.shape[1] - 2\n",
    "stats[\"n_final_rows\"] = df.shape[0]\n",
    "stats[\"final_anomaly_ratio\"] = (df[\"Label\"] != 0).sum() / len(df)\n",
    "stats"
   ]
  },
  {
   "cell_type": "markdown",
   "metadata": {
    "collapsed": false,
    "pycharm": {
     "name": "#%% md\n"
    }
   },
   "source": [
    "## Store processed dataset to CSV"
   ]
  },
  {
   "cell_type": "code",
   "execution_count": 25,
   "metadata": {
    "collapsed": false,
    "pycharm": {
     "name": "#%%\n"
    }
   },
   "outputs": [
    {
     "name": "stdout",
     "output_type": "stream",
     "text": [
      "Processed data saved under: ../data/IDS2018/original/ids2018.csv\n"
     ]
    }
   ],
   "source": [
    "df.to_csv(export_path + \"/\" + export_fname, index=False)\n",
    "print(\"Processed data saved under: {}\".format(export_path + \"/\" + export_fname))"
   ]
  },
  {
   "cell_type": "markdown",
   "metadata": {
    "collapsed": false,
    "pycharm": {
     "name": "#%% md\n"
    }
   },
   "source": [
    "## Store basic information"
   ]
  },
  {
   "cell_type": "code",
   "execution_count": 26,
   "metadata": {
    "collapsed": false,
    "pycharm": {
     "name": "#%%\n"
    }
   },
   "outputs": [
    {
     "name": "stdout",
     "output_type": "stream",
     "text": [
      "Processing summary saved under: ../data/IDS2018/original/ids2018_info.csv\n"
     ]
    },
    {
     "data": {
      "text/html": [
       "<div>\n",
       "<style scoped>\n",
       "    .dataframe tbody tr th:only-of-type {\n",
       "        vertical-align: middle;\n",
       "    }\n",
       "\n",
       "    .dataframe tbody tr th {\n",
       "        vertical-align: top;\n",
       "    }\n",
       "\n",
       "    .dataframe thead th {\n",
       "        text-align: right;\n",
       "    }\n",
       "</style>\n",
       "<table border=\"1\" class=\"dataframe\">\n",
       "  <thead>\n",
       "    <tr style=\"text-align: right;\">\n",
       "      <th></th>\n",
       "      <th>n_dropped_cols</th>\n",
       "      <th>n_dropped_rows</th>\n",
       "      <th>dropped_cols</th>\n",
       "      <th>n_instances</th>\n",
       "      <th>n_features</th>\n",
       "      <th>anomaly_ratio</th>\n",
       "      <th>n_unique_cols</th>\n",
       "      <th>unique_cols</th>\n",
       "      <th>n_nan_cols</th>\n",
       "      <th>nan_cols</th>\n",
       "      <th>n_negative_cols</th>\n",
       "      <th>negative_cols</th>\n",
       "      <th>n_final_features</th>\n",
       "      <th>n_final_rows</th>\n",
       "      <th>final_anomaly_ratio</th>\n",
       "    </tr>\n",
       "  </thead>\n",
       "  <tbody>\n",
       "    <tr>\n",
       "      <th>0</th>\n",
       "      <td>10</td>\n",
       "      <td>74</td>\n",
       "      <td>Init Bwd Win Byts, Init Fwd Win Byts</td>\n",
       "      <td>16233002</td>\n",
       "      <td>76</td>\n",
       "      <td>0.1693</td>\n",
       "      <td>8</td>\n",
       "      <td>Bwd PSH Flags, Bwd URG Flags, Fwd Byts/b Avg, ...</td>\n",
       "      <td>2</td>\n",
       "      <td>Flow Byts/s, Flow Pkts/s</td>\n",
       "      <td>11</td>\n",
       "      <td>Flow Duration, Flow Pkts/s, Flow IAT Mean, Flo...</td>\n",
       "      <td>66</td>\n",
       "      <td>16232928</td>\n",
       "      <td>0.1693</td>\n",
       "    </tr>\n",
       "  </tbody>\n",
       "</table>\n",
       "</div>"
      ],
      "text/plain": [
       "   n_dropped_cols  n_dropped_rows                          dropped_cols  \\\n",
       "0              10              74  Init Bwd Win Byts, Init Fwd Win Byts   \n",
       "\n",
       "   n_instances  n_features anomaly_ratio  n_unique_cols  \\\n",
       "0     16233002          76        0.1693              8   \n",
       "\n",
       "                                         unique_cols  n_nan_cols  \\\n",
       "0  Bwd PSH Flags, Bwd URG Flags, Fwd Byts/b Avg, ...           2   \n",
       "\n",
       "                   nan_cols  n_negative_cols  \\\n",
       "0  Flow Byts/s, Flow Pkts/s               11   \n",
       "\n",
       "                                       negative_cols  n_final_features  \\\n",
       "0  Flow Duration, Flow Pkts/s, Flow IAT Mean, Flo...                66   \n",
       "\n",
       "   n_final_rows  final_anomaly_ratio  \n",
       "0      16232928               0.1693  "
      ]
     },
     "execution_count": 26,
     "metadata": {},
     "output_type": "execute_result"
    }
   ],
   "source": [
    "stats_df = pd.DataFrame(stats, index=[0])\n",
    "stats_df.to_csv(export_path + \"/\" + info_fname, index=False)\n",
    "print(\"Processing summary saved under: {}\".format(base_path + \"/\" + info_fname))\n",
    "stats_df"
   ]
  }
 ],
 "metadata": {
  "kernelspec": {
   "display_name": "Python 3",
   "language": "python",
   "name": "python3"
  },
  "language_info": {
   "codemirror_mode": {
    "name": "ipython",
    "version": 3
   },
   "file_extension": ".py",
   "mimetype": "text/x-python",
   "name": "python",
   "nbconvert_exporter": "python",
   "pygments_lexer": "ipython3",
   "version": "3.8.12"
  }
 },
 "nbformat": 4,
 "nbformat_minor": 0
}
