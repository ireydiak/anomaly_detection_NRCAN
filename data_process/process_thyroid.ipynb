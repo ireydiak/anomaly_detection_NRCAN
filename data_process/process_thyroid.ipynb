{
 "cells": [
  {
   "cell_type": "code",
   "execution_count": 1,
   "metadata": {
    "collapsed": true
   },
   "outputs": [],
   "source": [
    "import numpy as np\n",
    "import pandas as pd\n",
    "import scipy.io as sio\n",
    "from collections import defaultdict\n",
    "\n",
    "# Base path where to find the dataset\n",
    "base_path = \"../data/Thyroid\"\n",
    "# Base path where processed dataset will be stored\n",
    "export_path = \"../data/Thyroid\"\n",
    "# Name of the file summarizing the preprocessing\n",
    "info_fname = \"thyroid_info.csv\"\n",
    "# File name of the original dataset\n",
    "fname = \"thyroid.mat\"\n",
    "# Used to track preprocessing steps\n",
    "stats = defaultdict()"
   ]
  },
  {
   "cell_type": "code",
   "execution_count": 2,
   "outputs": [
    {
     "data": {
      "text/plain": "array([[7.74193548e-01, 1.13207547e-03, 1.37571157e-01, ...,\n        2.95774648e-01, 2.36065574e-01, 0.00000000e+00],\n       [2.47311828e-01, 4.71698113e-04, 2.79886148e-01, ...,\n        5.35211268e-01, 1.73770492e-01, 0.00000000e+00],\n       [4.94623656e-01, 3.58490566e-03, 2.22960152e-01, ...,\n        5.25821596e-01, 1.24590164e-01, 0.00000000e+00],\n       ...,\n       [9.35483871e-01, 2.45283019e-02, 1.60341556e-01, ...,\n        3.75586854e-01, 2.00000000e-01, 0.00000000e+00],\n       [6.77419355e-01, 1.47169811e-03, 1.90702087e-01, ...,\n        3.23943662e-01, 1.95081967e-01, 0.00000000e+00],\n       [4.83870968e-01, 3.56603774e-03, 1.90702087e-01, ...,\n        3.38028169e-01, 1.63934426e-01, 0.00000000e+00]])"
     },
     "execution_count": 2,
     "metadata": {},
     "output_type": "execute_result"
    }
   ],
   "source": [
    "data = sio.loadmat(base_path + \"/\" + fname)\n",
    "X = np.concatenate((data['X'], data['y']), axis=1)\n",
    "stats[\"n_instances\"] = X.shape[0]\n",
    "stats[\"n_features\"] = X.shape[1] - 1\n",
    "stats[\"anomaly_ratio\"] = \"{:2.4f}\".format((X == 1).sum() / len(X))\n",
    "X"
   ],
   "metadata": {
    "collapsed": false,
    "pycharm": {
     "name": "#%%\n"
    }
   }
  },
  {
   "cell_type": "markdown",
   "source": [
    "## Check unique values"
   ],
   "metadata": {
    "collapsed": false,
    "pycharm": {
     "name": "#%% md\n"
    }
   }
  },
  {
   "cell_type": "code",
   "execution_count": 3,
   "outputs": [
    {
     "name": "stdout",
     "output_type": "stream",
     "text": [
      "Columns are valid with more than one distinct value\n"
     ]
    }
   ],
   "source": [
    "df = pd.DataFrame(X)\n",
    "uniq_cols = df.columns[df.nunique() <= 1].tolist()\n",
    "stats[\"n_unique_cols\"] = len(uniq_cols)\n",
    "if uniq_cols:\n",
    "    stats[\"unique_cols\"] = uniq_cols\n",
    "assert len(uniq_cols) == 0, \"Found columns with unique values: {}\".format(uniq_cols)\n",
    "print(\"Columns are valid with more than one distinct value\")"
   ],
   "metadata": {
    "collapsed": false,
    "pycharm": {
     "name": "#%%\n"
    }
   }
  },
  {
   "cell_type": "markdown",
   "source": [
    "## Check for NaN/invalid values"
   ],
   "metadata": {
    "collapsed": false,
    "pycharm": {
     "name": "#%% md\n"
    }
   }
  },
  {
   "cell_type": "code",
   "execution_count": 4,
   "outputs": [
    {
     "name": "stdout",
     "output_type": "stream",
     "text": [
      "Dataset has no NaN or +- INF values\n"
     ]
    }
   ],
   "source": [
    "df.replace([-np.inf, np.inf], np.nan, inplace=True)\n",
    "nan_cols = df.columns[df.isna().sum() > 0].tolist()\n",
    "stats[\"n_nan_cols\"] = len(nan_cols)\n",
    "if nan_cols:\n",
    "    stats[\"nan_cols\"] = nan_cols\n",
    "assert len(nan_cols) == 0, \"Found NaN columns: {}\".format(nan_cols)\n",
    "print(\"Dataset has no NaN or +- INF values\")"
   ],
   "metadata": {
    "collapsed": false,
    "pycharm": {
     "name": "#%%\n"
    }
   }
  },
  {
   "cell_type": "markdown",
   "source": [
    "## Check if scaling is required"
   ],
   "metadata": {
    "collapsed": false,
    "pycharm": {
     "name": "#%% md\n"
    }
   }
  },
  {
   "cell_type": "code",
   "execution_count": 5,
   "outputs": [
    {
     "name": "stdout",
     "output_type": "stream",
     "text": [
      "Data is already scaled between 0 and 1\n"
     ]
    }
   ],
   "source": [
    "assert np.allclose(df.max(axis=0).to_numpy(), 1.), \"Found values greater than 1.\"\n",
    "assert np.allclose(df.min(axis=0).to_numpy(), 0.), \"Found values lesser than 0.\"\n",
    "print(\"Data is already scaled between 0 and 1\")"
   ],
   "metadata": {
    "collapsed": false,
    "pycharm": {
     "name": "#%%\n"
    }
   }
  },
  {
   "cell_type": "markdown",
   "source": [
    "## Store basic information"
   ],
   "metadata": {
    "collapsed": false,
    "pycharm": {
     "name": "#%% md\n"
    }
   }
  },
  {
   "cell_type": "code",
   "execution_count": 6,
   "outputs": [
    {
     "name": "stdout",
     "output_type": "stream",
     "text": [
      "Processing summary saved under: ../data/Thyroid/thyroid_info.csv\n"
     ]
    },
    {
     "data": {
      "text/plain": "   n_instances  n_features anomaly_ratio  n_unique_cols  n_nan_cols\n0         3772           6        0.0268              0           0",
      "text/html": "<div>\n<style scoped>\n    .dataframe tbody tr th:only-of-type {\n        vertical-align: middle;\n    }\n\n    .dataframe tbody tr th {\n        vertical-align: top;\n    }\n\n    .dataframe thead th {\n        text-align: right;\n    }\n</style>\n<table border=\"1\" class=\"dataframe\">\n  <thead>\n    <tr style=\"text-align: right;\">\n      <th></th>\n      <th>n_instances</th>\n      <th>n_features</th>\n      <th>anomaly_ratio</th>\n      <th>n_unique_cols</th>\n      <th>n_nan_cols</th>\n    </tr>\n  </thead>\n  <tbody>\n    <tr>\n      <th>0</th>\n      <td>3772</td>\n      <td>6</td>\n      <td>0.0268</td>\n      <td>0</td>\n      <td>0</td>\n    </tr>\n  </tbody>\n</table>\n</div>"
     },
     "execution_count": 6,
     "metadata": {},
     "output_type": "execute_result"
    }
   ],
   "source": [
    "stats_df = pd.DataFrame(stats, index=[0])\n",
    "stats_df.to_csv(export_path + \"/\" + info_fname, index=False)\n",
    "print(\"Processing summary saved under: {}\".format(base_path + \"/\" + info_fname))\n",
    "stats_df"
   ],
   "metadata": {
    "collapsed": false,
    "pycharm": {
     "name": "#%%\n"
    }
   }
  }
 ],
 "metadata": {
  "kernelspec": {
   "display_name": "Python 3",
   "language": "python",
   "name": "python3"
  },
  "language_info": {
   "codemirror_mode": {
    "name": "ipython",
    "version": 2
   },
   "file_extension": ".py",
   "mimetype": "text/x-python",
   "name": "python",
   "nbconvert_exporter": "python",
   "pygments_lexer": "ipython2",
   "version": "2.7.6"
  }
 },
 "nbformat": 4,
 "nbformat_minor": 0
}